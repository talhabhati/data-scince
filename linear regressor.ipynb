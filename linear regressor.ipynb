{
 "cells": [
  {
   "cell_type": "code",
   "execution_count": null,
   "id": "02718861",
   "metadata": {},
   "outputs": [],
   "source": [
    "'''linear regression tab use karte ha jab koi conituous value detedt karni hu '''"
   ]
  },
  {
   "cell_type": "code",
   "execution_count": 3,
   "id": "f4da4d69",
   "metadata": {},
   "outputs": [],
   "source": [
    "import numpy as np\n",
    "import pandas as pd\n",
    "import matplotlib.pyplot as plt"
   ]
  },
  {
   "cell_type": "code",
   "execution_count": 6,
   "id": "2cb773ec",
   "metadata": {},
   "outputs": [],
   "source": [
    "dataset= pd.read_csv('Salary_Data.csv')"
   ]
  },
  {
   "cell_type": "code",
   "execution_count": 8,
   "id": "e15ad4d6",
   "metadata": {},
   "outputs": [
    {
     "data": {
      "text/html": [
       "<div>\n",
       "<style scoped>\n",
       "    .dataframe tbody tr th:only-of-type {\n",
       "        vertical-align: middle;\n",
       "    }\n",
       "\n",
       "    .dataframe tbody tr th {\n",
       "        vertical-align: top;\n",
       "    }\n",
       "\n",
       "    .dataframe thead th {\n",
       "        text-align: right;\n",
       "    }\n",
       "</style>\n",
       "<table border=\"1\" class=\"dataframe\">\n",
       "  <thead>\n",
       "    <tr style=\"text-align: right;\">\n",
       "      <th></th>\n",
       "      <th>YearsExperience</th>\n",
       "      <th>Salary</th>\n",
       "    </tr>\n",
       "  </thead>\n",
       "  <tbody>\n",
       "    <tr>\n",
       "      <th>0</th>\n",
       "      <td>1.1</td>\n",
       "      <td>39343.0</td>\n",
       "    </tr>\n",
       "    <tr>\n",
       "      <th>1</th>\n",
       "      <td>1.3</td>\n",
       "      <td>46205.0</td>\n",
       "    </tr>\n",
       "    <tr>\n",
       "      <th>2</th>\n",
       "      <td>1.5</td>\n",
       "      <td>37731.0</td>\n",
       "    </tr>\n",
       "    <tr>\n",
       "      <th>3</th>\n",
       "      <td>2.0</td>\n",
       "      <td>43525.0</td>\n",
       "    </tr>\n",
       "    <tr>\n",
       "      <th>4</th>\n",
       "      <td>2.2</td>\n",
       "      <td>39891.0</td>\n",
       "    </tr>\n",
       "  </tbody>\n",
       "</table>\n",
       "</div>"
      ],
      "text/plain": [
       "   YearsExperience   Salary\n",
       "0              1.1  39343.0\n",
       "1              1.3  46205.0\n",
       "2              1.5  37731.0\n",
       "3              2.0  43525.0\n",
       "4              2.2  39891.0"
      ]
     },
     "execution_count": 8,
     "metadata": {},
     "output_type": "execute_result"
    }
   ],
   "source": [
    "dataset.head()"
   ]
  },
  {
   "cell_type": "code",
   "execution_count": 10,
   "id": "d177c278",
   "metadata": {},
   "outputs": [],
   "source": [
    "#iloc index location k liye ha aur 1st : se sari rows ayegi aur 2nd :-1 last colummn nhi ayega bai sare ayega \n",
    "x=dataset.iloc[:,:-1].values\n",
    "\n",
    "#iloc index location k liye ha aur 1st : se sari rows ayegi aur phr -1 last colummn ayega\n",
    "y= dataset.iloc[:,-1].values"
   ]
  },
  {
   "cell_type": "code",
   "execution_count": 11,
   "id": "e410fade",
   "metadata": {},
   "outputs": [
    {
     "data": {
      "text/plain": [
       "array([[ 1.1],\n",
       "       [ 1.3],\n",
       "       [ 1.5],\n",
       "       [ 2. ],\n",
       "       [ 2.2],\n",
       "       [ 2.9],\n",
       "       [ 3. ],\n",
       "       [ 3.2],\n",
       "       [ 3.2],\n",
       "       [ 3.7],\n",
       "       [ 3.9],\n",
       "       [ 4. ],\n",
       "       [ 4. ],\n",
       "       [ 4.1],\n",
       "       [ 4.5],\n",
       "       [ 4.9],\n",
       "       [ 5.1],\n",
       "       [ 5.3],\n",
       "       [ 5.9],\n",
       "       [ 6. ],\n",
       "       [ 6.8],\n",
       "       [ 7.1],\n",
       "       [ 7.9],\n",
       "       [ 8.2],\n",
       "       [ 8.7],\n",
       "       [ 9. ],\n",
       "       [ 9.5],\n",
       "       [ 9.6],\n",
       "       [10.3],\n",
       "       [10.5]])"
      ]
     },
     "execution_count": 11,
     "metadata": {},
     "output_type": "execute_result"
    }
   ],
   "source": [
    "x"
   ]
  },
  {
   "cell_type": "code",
   "execution_count": 12,
   "id": "7ccf774c",
   "metadata": {},
   "outputs": [
    {
     "data": {
      "text/plain": [
       "array([ 39343.,  46205.,  37731.,  43525.,  39891.,  56642.,  60150.,\n",
       "        54445.,  64445.,  57189.,  63218.,  55794.,  56957.,  57081.,\n",
       "        61111.,  67938.,  66029.,  83088.,  81363.,  93940.,  91738.,\n",
       "        98273., 101302., 113812., 109431., 105582., 116969., 112635.,\n",
       "       122391., 121872.])"
      ]
     },
     "execution_count": 12,
     "metadata": {},
     "output_type": "execute_result"
    }
   ],
   "source": [
    "y"
   ]
  },
  {
   "cell_type": "code",
   "execution_count": 14,
   "id": "c82cee31",
   "metadata": {},
   "outputs": [],
   "source": [
    "from sklearn.model_selection import train_test_split\n",
    "\n",
    "# 0.3 th prt testing k liye ha bai 0.7 training k liye \n",
    "x_train,x_test,y_train,y_test= train_test_split(x,y,test_size=0.3,random_state=0)"
   ]
  },
  {
   "cell_type": "code",
   "execution_count": 17,
   "id": "a33e012b",
   "metadata": {},
   "outputs": [
    {
     "data": {
      "text/plain": [
       "<matplotlib.collections.PathCollection at 0x1db6063ba60>"
      ]
     },
     "execution_count": 17,
     "metadata": {},
     "output_type": "execute_result"
    },
    {
     "data": {
      "image/png": "[encoded data removed]",
      "text/plain": [
       "<Figure size 432x288 with 1 Axes>"
      ]
     },
     "metadata": {
      "needs_background": "light"
     },
     "output_type": "display_data"
    }
   ],
   "source": [
    "#   pehla graph bna k dekhlo k hmara data points kha kha pe lie karte ha \n",
    "#   is graph k according linear regression best ha\n",
    "\n",
    "plt.scatter(x,y)"
   ]
  },
  {
   "cell_type": "code",
   "execution_count": 18,
   "id": "cd88d6ed",
   "metadata": {},
   "outputs": [],
   "source": [
    "# linear_model module se class import ki LinearRegression\n",
    "from sklearn.linear_model import LinearRegression\n",
    "\n",
    "#phr us class ka obect bnaya reg\n",
    "reg=LinearRegression()"
   ]
  },
  {
   "cell_type": "code",
   "execution_count": 19,
   "id": "d4397373",
   "metadata": {},
   "outputs": [
    {
     "data": {
      "text/plain": [
       "LinearRegression()"
      ]
     },
     "execution_count": 19,
     "metadata": {},
     "output_type": "execute_result"
    }
   ],
   "source": [
    "# reg ko training data do fit k zariye \n",
    "reg.fit(x_train,y_train)"
   ]
  },
  {
   "cell_type": "code",
   "execution_count": 20,
   "id": "1d654a8a",
   "metadata": {},
   "outputs": [],
   "source": [
    "y_pred= reg.predict(x_test)"
   ]
  },
  {
   "cell_type": "code",
   "execution_count": 22,
   "id": "47e6f821",
   "metadata": {},
   "outputs": [
    {
     "data": {
      "text/plain": [
       "(array([ 40817.78327049, 123188.08258899,  65154.46261459,  63282.41035735,\n",
       "        115699.87356004, 108211.66453108, 116635.89968866,  64218.43648597,\n",
       "         76386.77615802]),\n",
       " array([ 37731., 122391.,  57081.,  63218., 116969., 109431., 112635.,\n",
       "         55794.,  83088.]))"
      ]
     },
     "execution_count": 22,
     "metadata": {},
     "output_type": "execute_result"
    }
   ],
   "source": [
    "y_pred , y_test"
   ]
  },
  {
   "cell_type": "code",
   "execution_count": 29,
   "id": "d3fb37db",
   "metadata": {},
   "outputs": [
    {
     "data": {
      "image/png": "[encoded data removed]",
      "text/plain": [
       "<Figure size 432x288 with 1 Axes>"
      ]
     },
     "metadata": {
      "needs_background": "light"
     },
     "output_type": "display_data"
    }
   ],
   "source": [
    "#sahi se dekhna k liye graph bnalo scatter wala\n",
    "#plt.scatter se points milega aur plt.plot se solid line milegi\n",
    "# predict method 2D array hi leta ha\n",
    "\n",
    "#yeh training dataset k liye ha\n",
    "plt.scatter(x_train,y_train,color='red')\n",
    "plt.plot(x_train, reg.predict(x_train),color='blue')   # yeh best fit line dega predict method lagaya ha \n",
    "plt.xlabel('experience')\n",
    "plt.ylabel('salary')\n",
    "plt.show()\n"
   ]
  },
  {
   "cell_type": "code",
   "execution_count": 34,
   "id": "b78afe9c",
   "metadata": {},
   "outputs": [
    {
     "data": {
      "text/plain": [
       "[<matplotlib.lines.Line2D at 0x1db6149f340>]"
      ]
     },
     "execution_count": 34,
     "metadata": {},
     "output_type": "execute_result"
    },
    {
     "data": {
      "image/png": "[encoded data removed]",
      "text/plain": [
       "<Figure size 432x288 with 1 Axes>"
      ]
     },
     "metadata": {
      "needs_background": "light"
     },
     "output_type": "display_data"
    }
   ],
   "source": [
    "# yeh testing data set k liye h a\n",
    "plt.scatter(x_test,y_test,color='red')\n",
    "plt.plot(x_train,reg.predict(x_train),color='blue')\n",
    "\n",
    "# grph ki line ka points k oper ana acha ha "
   ]
  },
  {
   "cell_type": "code",
   "execution_count": 35,
   "id": "86ec1a02",
   "metadata": {},
   "outputs": [
    {
     "name": "stdout",
     "output_type": "stream",
     "text": [
      "[139100.52677552]\n"
     ]
    }
   ],
   "source": [
    "# ager specific value pe result chahiye jaise 12 yr pe kitni salary hugi tu aise predict method lagao\n",
    "#yha predict ko [[]]  ma likhna ha \n",
    "\n",
    "print(reg.predict([[12]]))"
   ]
  },
  {
   "cell_type": "code",
   "execution_count": 36,
   "id": "062e4b16",
   "metadata": {},
   "outputs": [],
   "source": [
    "# slope aur intercept dekhn ak liye \n",
    "c= reg.intercept_\n",
    "m=reg.coef_"
   ]
  },
  {
   "cell_type": "code",
   "execution_count": 37,
   "id": "5768ca44",
   "metadata": {},
   "outputs": [
    {
     "data": {
      "text/plain": [
       "(26777.39134119764, array([9360.26128619]))"
      ]
     },
     "execution_count": 37,
     "metadata": {},
     "output_type": "execute_result"
    }
   ],
   "source": [
    "c , m"
   ]
  },
  {
   "cell_type": "code",
   "execution_count": 38,
   "id": "e56e52ee",
   "metadata": {},
   "outputs": [],
   "source": [
    "# in m aur c ki values se linear regressor ki euation yeh bna gi \n",
    "#salary= m*experience + c"
   ]
  },
  {
   "cell_type": "code",
   "execution_count": 39,
   "id": "1d690ac6",
   "metadata": {},
   "outputs": [
    {
     "data": {
      "text/plain": [
       "'\\n1. libraries import karo \\n2. data import karo file uski\\n3. train_test_split se usko categorize karo\\n4.graph bn aker data ko dekha aur select kiya regressor ko \\n6.LinearRegression per training data ko fit kiya \\n7.phr prediction ki ha x_test per\\n8.phr specific number k liye prediction karwai \\n9.equation bnai model ki\\n'"
      ]
     },
     "execution_count": 39,
     "metadata": {},
     "output_type": "execute_result"
    }
   ],
   "source": [
    "'''\n",
    "1. libraries import karo \n",
    "2. data import karo file uski\n",
    "3. train_test_split se usko categorize karo\n",
    "4.graph bn aker data ko dekha aur select kiya regressor ko \n",
    "6.LinearRegression per training data ko fit kiya \n",
    "7.phr prediction ki ha x_test per\n",
    "8.phr specific number k liye prediction karwai \n",
    "9.equation bnai model ki\n",
    "'''"
   ]
  },
  {
   "cell_type": "code",
   "execution_count": null,
   "id": "492ef81a",
   "metadata": {},
   "outputs": [],
   "source": []
  }
 ],
 "metadata": {
  "kernelspec": {
   "display_name": "Python 3 (ipykernel)",
   "language": "python",
   "name": "python3"
  },
  "language_info": {
   "codemirror_mode": {
    "name": "ipython",
    "version": 3
   },
   "file_extension": ".py",
   "mimetype": "text/x-python",
   "name": "python",
   "nbconvert_exporter": "python",
   "pygments_lexer": "ipython3",
   "version": "3.9.7"
  }
 },
 "nbformat": 4,
 "nbformat_minor": 5
}
