{
 "cells": [
  {
   "cell_type": "code",
   "execution_count": 10,
   "id": "58c90550",
   "metadata": {},
   "outputs": [],
   "source": [
    "import numpy as np"
   ]
  },
  {
   "cell_type": "code",
   "execution_count": 11,
   "id": "bbce0a75",
   "metadata": {},
   "outputs": [
    {
     "data": {
      "text/plain": [
       "array([[1, 2, 3],\n",
       "       [4, 5, 6],\n",
       "       [7, 8, 9]])"
      ]
     },
     "execution_count": 11,
     "metadata": {},
     "output_type": "execute_result"
    }
   ],
   "source": [
    "arr2d=np.array([[1,2,3],[4,5,6],[7,8,9]])   #list k ander 3 lists ha array() ne us list ko array bnaya\n",
    "arr2d                                      # wo bhi 3D ma\n"
   ]
  },
  {
   "cell_type": "code",
   "execution_count": 12,
   "id": "a48ad3cb",
   "metadata": {},
   "outputs": [
    {
     "data": {
      "text/plain": [
       "2"
      ]
     },
     "execution_count": 12,
     "metadata": {},
     "output_type": "execute_result"
    }
   ],
   "source": [
    "arr2d[0][1]   # 1st row aur 2nd column ka element dega"
   ]
  },
  {
   "cell_type": "code",
   "execution_count": 13,
   "id": "2b2cb938",
   "metadata": {},
   "outputs": [
    {
     "data": {
      "text/plain": [
       "5"
      ]
     },
     "execution_count": 13,
     "metadata": {},
     "output_type": "execute_result"
    }
   ],
   "source": [
    "arr2d[1,1]   # 2nd method"
   ]
  },
  {
   "cell_type": "code",
   "execution_count": 14,
   "id": "63d1f7bd",
   "metadata": {},
   "outputs": [
    {
     "data": {
      "text/plain": [
       "array([7, 8, 9])"
      ]
     },
     "execution_count": 14,
     "metadata": {},
     "output_type": "execute_result"
    }
   ],
   "source": [
    "arr2d[2]   # 3rd row sari ayegi"
   ]
  },
  {
   "cell_type": "code",
   "execution_count": 19,
   "id": "31c8248f",
   "metadata": {},
   "outputs": [
    {
     "data": {
      "text/plain": [
       "array([[2, 3],\n",
       "       [5, 6]])"
      ]
     },
     "execution_count": 19,
     "metadata": {},
     "output_type": "execute_result"
    }
   ],
   "source": [
    "#array ma se specific portion nikalna hu tu\n",
    "\n",
    "arr2d[:2,1:]    # pahla rows ka btaye phr columns ka btai\n",
    "#iska matlab ha rows shrow se do lo aur column pehla chor k baqi sare"
   ]
  },
  {
   "cell_type": "code",
   "execution_count": 23,
   "id": "e82ba6dc",
   "metadata": {},
   "outputs": [
    {
     "data": {
      "text/plain": [
       "array([0, 1, 2, 3, 4, 5, 6, 7, 8, 9])"
      ]
     },
     "execution_count": 23,
     "metadata": {},
     "output_type": "execute_result"
    }
   ],
   "source": [
    "arr=np.arange(0,10)  # 1D array bnagi 0 se 10 tak\n",
    "arr"
   ]
  },
  {
   "cell_type": "code",
   "execution_count": 28,
   "id": "a59a630a",
   "metadata": {},
   "outputs": [
    {
     "data": {
      "text/plain": [
       "array([False, False, False, False, False, False,  True,  True,  True,\n",
       "        True])"
      ]
     },
     "execution_count": 28,
     "metadata": {},
     "output_type": "execute_result"
    }
   ],
   "source": [
    "cond_arr=arr>5    #conditional array bnagi jo value >7 wo true ha baqi false\n",
    "cond_arr"
   ]
  },
  {
   "cell_type": "code",
   "execution_count": 29,
   "id": "a422abb8",
   "metadata": {},
   "outputs": [
    {
     "data": {
      "text/plain": [
       "array([6, 7, 8, 9])"
      ]
     },
     "execution_count": 29,
     "metadata": {},
     "output_type": "execute_result"
    }
   ],
   "source": [
    "arr[cond_arr]   # boolean ma convert ki gai array ko dobara usi array  ma wapis lana k liye sirf \n",
    "        # wo jo true value hogi"
   ]
  },
  {
   "cell_type": "code",
   "execution_count": 30,
   "id": "b4ad39c5",
   "metadata": {},
   "outputs": [
    {
     "data": {
      "text/plain": [
       "array([0, 1, 2, 3])"
      ]
     },
     "execution_count": 30,
     "metadata": {},
     "output_type": "execute_result"
    }
   ],
   "source": [
    "arr[arr<4]   # arr ma 4 se kam values ko nikal kar dega"
   ]
  },
  {
   "cell_type": "code",
   "execution_count": 36,
   "id": "ab03656e",
   "metadata": {},
   "outputs": [
    {
     "data": {
      "text/plain": [
       "array([[ 0,  1,  2,  3,  4,  5,  6,  7,  8,  9],\n",
       "       [10, 11, 12, 13, 14, 15, 16, 17, 18, 19],\n",
       "       [20, 21, 22, 23, 24, 25, 26, 27, 28, 29],\n",
       "       [30, 31, 32, 33, 34, 35, 36, 37, 38, 39],\n",
       "       [40, 41, 42, 43, 44, 45, 46, 47, 48, 49]])"
      ]
     },
     "execution_count": 36,
     "metadata": {},
     "output_type": "execute_result"
    }
   ],
   "source": [
    "arr2=np.arange(0,50).reshape(5,10)  # 5 rows aur 10 column ma 0 se 50 tal valus adjust karega\n",
    "arr2"
   ]
  },
  {
   "cell_type": "code",
   "execution_count": 38,
   "id": "cc5a5d56",
   "metadata": {},
   "outputs": [
    {
     "data": {
      "text/plain": [
       "array([[24, 25, 26, 27, 28, 29],\n",
       "       [34, 35, 36, 37, 38, 39],\n",
       "       [44, 45, 46, 47, 48, 49]])"
      ]
     },
     "execution_count": 38,
     "metadata": {},
     "output_type": "execute_result"
    }
   ],
   "source": [
    "arr2[2:,4:]   #rows pehli 2 aur column pehla 4 chorne ha aur baqi sari values deni ha"
   ]
  },
  {
   "cell_type": "code",
   "execution_count": 39,
   "id": "b74e323b",
   "metadata": {},
   "outputs": [
    {
     "data": {
      "text/plain": [
       "array([[22, 23, 24, 25, 26, 27],\n",
       "       [32, 33, 34, 35, 36, 37],\n",
       "       [42, 43, 44, 45, 46, 47]])"
      ]
     },
     "execution_count": 39,
     "metadata": {},
     "output_type": "execute_result"
    }
   ],
   "source": [
    "arr2[2:,2:8]  #pehli 2 rows chorega aur column bhi 2 pehla chorega baqi 7 tak rakhaga"
   ]
  },
  {
   "cell_type": "code",
   "execution_count": null,
   "id": "d40f2a3f",
   "metadata": {},
   "outputs": [],
   "source": []
  }
 ],
 "metadata": {
  "kernelspec": {
   "display_name": "Python 3 (ipykernel)",
   "language": "python",
   "name": "python3"
  },
  "language_info": {
   "codemirror_mode": {
    "name": "ipython",
    "version": 3
   },
   "file_extension": ".py",
   "mimetype": "text/x-python",
   "name": "python",
   "nbconvert_exporter": "python",
   "pygments_lexer": "ipython3",
   "version": "3.9.7"
  }
 },
 "nbformat": 4,
 "nbformat_minor": 5
}
