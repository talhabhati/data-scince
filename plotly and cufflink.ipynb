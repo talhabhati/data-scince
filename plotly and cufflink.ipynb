{
 "cells": [
  {
   "cell_type": "code",
   "execution_count": 39,
   "id": "cac09c5a",
   "metadata": {},
   "outputs": [],
   "source": [
    "# plotly java based library ha jo web based visualization bnana k liye istamal huti ha.\n",
    "#cufflink bhi aik library ha jo pandas aur plotly ko connect karti ha\n",
    "#"
   ]
  },
  {
   "cell_type": "code",
   "execution_count": 40,
   "id": "e2cf1ffa",
   "metadata": {},
   "outputs": [
    {
     "name": "stdout",
     "output_type": "stream",
     "text": [
      "Requirement already satisfied: plotly in c:\\users\\talha\\anaconda3\\lib\\site-packages (5.10.0)\n",
      "Requirement already satisfied: tenacity>=6.2.0 in c:\\users\\talha\\anaconda3\\lib\\site-packages (from plotly) (8.1.0)\n",
      "Note: you may need to restart the kernel to use updated packages.\n"
     ]
    }
   ],
   "source": [
    "pip install plotly"
   ]
  },
  {
   "cell_type": "code",
   "execution_count": 41,
   "id": "7cd2d692",
   "metadata": {},
   "outputs": [
    {
     "name": "stdout",
     "output_type": "stream",
     "text": [
      "Requirement already satisfied: cufflinks in c:\\users\\talha\\anaconda3\\lib\\site-packages (0.17.3)\n",
      "Requirement already satisfied: pandas>=0.19.2 in c:\\users\\talha\\anaconda3\\lib\\site-packages (from cufflinks) (1.3.4)\n",
      "Requirement already satisfied: numpy>=1.9.2 in c:\\users\\talha\\anaconda3\\lib\\site-packages (from cufflinks) (1.20.3)\n",
      "Requirement already satisfied: colorlover>=0.2.1 in c:\\users\\talha\\anaconda3\\lib\\site-packages (from cufflinks) (0.3.0)\n",
      "Requirement already satisfied: setuptools>=34.4.1 in c:\\users\\talha\\anaconda3\\lib\\site-packages (from cufflinks) (58.0.4)\n",
      "Requirement already satisfied: ipywidgets>=7.0.0 in c:\\users\\talha\\anaconda3\\lib\\site-packages (from cufflinks) (7.6.5)\n",
      "Requirement already satisfied: plotly>=4.1.1 in c:\\users\\talha\\anaconda3\\lib\\site-packages (from cufflinks) (5.10.0)\n",
      "Requirement already satisfied: six>=1.9.0 in c:\\users\\talha\\anaconda3\\lib\\site-packages (from cufflinks) (1.16.0)\n",
      "Requirement already satisfied: ipython>=5.3.0 in c:\\users\\talha\\anaconda3\\lib\\site-packages (from cufflinks) (7.29.0)\n",
      "Requirement already satisfied: jedi>=0.16 in c:\\users\\talha\\anaconda3\\lib\\site-packages (from ipython>=5.3.0->cufflinks) (0.18.0)\n",
      "Requirement already satisfied: backcall in c:\\users\\talha\\anaconda3\\lib\\site-packages (from ipython>=5.3.0->cufflinks) (0.2.0)\n",
      "Requirement already satisfied: matplotlib-inline in c:\\users\\talha\\anaconda3\\lib\\site-packages (from ipython>=5.3.0->cufflinks) (0.1.2)\n",
      "Requirement already satisfied: decorator in c:\\users\\talha\\anaconda3\\lib\\site-packages (from ipython>=5.3.0->cufflinks) (5.1.0)\n",
      "Requirement already satisfied: traitlets>=4.2 in c:\\users\\talha\\anaconda3\\lib\\site-packages (from ipython>=5.3.0->cufflinks) (5.1.0)\n",
      "Requirement already satisfied: pickleshare in c:\\users\\talha\\anaconda3\\lib\\site-packages (from ipython>=5.3.0->cufflinks) (0.7.5)\n",
      "Requirement already satisfied: prompt-toolkit!=3.0.0,!=3.0.1,<3.1.0,>=2.0.0 in c:\\users\\talha\\anaconda3\\lib\\site-packages (from ipython>=5.3.0->cufflinks) (3.0.20)\n",
      "Requirement already satisfied: colorama in c:\\users\\talha\\anaconda3\\lib\\site-packages (from ipython>=5.3.0->cufflinks) (0.4.4)\n",
      "Requirement already satisfied: pygments in c:\\users\\talha\\anaconda3\\lib\\site-packages (from ipython>=5.3.0->cufflinks) (2.10.0)\n",
      "Requirement already satisfied: jupyterlab-widgets>=1.0.0 in c:\\users\\talha\\anaconda3\\lib\\site-packages (from ipywidgets>=7.0.0->cufflinks) (1.0.0)\n",
      "Requirement already satisfied: widgetsnbextension~=3.5.0 in c:\\users\\talha\\anaconda3\\lib\\site-packages (from ipywidgets>=7.0.0->cufflinks) (3.5.1)\n",
      "Requirement already satisfied: nbformat>=4.2.0 in c:\\users\\talha\\anaconda3\\lib\\site-packages (from ipywidgets>=7.0.0->cufflinks) (5.1.3)\n",
      "Requirement already satisfied: ipython-genutils~=0.2.0 in c:\\users\\talha\\anaconda3\\lib\\site-packages (from ipywidgets>=7.0.0->cufflinks) (0.2.0)\n",
      "Requirement already satisfied: ipykernel>=4.5.1 in c:\\users\\talha\\anaconda3\\lib\\site-packages (from ipywidgets>=7.0.0->cufflinks) (6.4.1)\n",
      "Requirement already satisfied: debugpy<2.0,>=1.0.0 in c:\\users\\talha\\anaconda3\\lib\\site-packages (from ipykernel>=4.5.1->ipywidgets>=7.0.0->cufflinks) (1.4.1)\n",
      "Requirement already satisfied: tornado<7.0,>=4.2 in c:\\users\\talha\\anaconda3\\lib\\site-packages (from ipykernel>=4.5.1->ipywidgets>=7.0.0->cufflinks) (6.1)\n",
      "Requirement already satisfied: jupyter-client<8.0 in c:\\users\\talha\\anaconda3\\lib\\site-packages (from ipykernel>=4.5.1->ipywidgets>=7.0.0->cufflinks) (6.1.12)\n",
      "Requirement already satisfied: parso<0.9.0,>=0.8.0 in c:\\users\\talha\\anaconda3\\lib\\site-packages (from jedi>=0.16->ipython>=5.3.0->cufflinks) (0.8.2)\n",
      "Requirement already satisfied: jupyter-core>=4.6.0 in c:\\users\\talha\\anaconda3\\lib\\site-packages (from jupyter-client<8.0->ipykernel>=4.5.1->ipywidgets>=7.0.0->cufflinks) (4.8.1)\n",
      "Requirement already satisfied: python-dateutil>=2.1 in c:\\users\\talha\\anaconda3\\lib\\site-packages (from jupyter-client<8.0->ipykernel>=4.5.1->ipywidgets>=7.0.0->cufflinks) (2.8.2)\n",
      "Requirement already satisfied: pyzmq>=13 in c:\\users\\talha\\anaconda3\\lib\\site-packages (from jupyter-client<8.0->ipykernel>=4.5.1->ipywidgets>=7.0.0->cufflinks) (22.2.1)\n",
      "Requirement already satisfied: pywin32>=1.0 in c:\\users\\talha\\anaconda3\\lib\\site-packages (from jupyter-core>=4.6.0->jupyter-client<8.0->ipykernel>=4.5.1->ipywidgets>=7.0.0->cufflinks) (228)\n",
      "Requirement already satisfied: jsonschema!=2.5.0,>=2.4 in c:\\users\\talha\\anaconda3\\lib\\site-packages (from nbformat>=4.2.0->ipywidgets>=7.0.0->cufflinks) (3.2.0)\n",
      "Requirement already satisfied: pyrsistent>=0.14.0 in c:\\users\\talha\\anaconda3\\lib\\site-packages (from jsonschema!=2.5.0,>=2.4->nbformat>=4.2.0->ipywidgets>=7.0.0->cufflinks) (0.18.0)\n",
      "Requirement already satisfied: attrs>=17.4.0 in c:\\users\\talha\\anaconda3\\lib\\site-packages (from jsonschema!=2.5.0,>=2.4->nbformat>=4.2.0->ipywidgets>=7.0.0->cufflinks) (21.2.0)\n",
      "Requirement already satisfied: pytz>=2017.3 in c:\\users\\talha\\anaconda3\\lib\\site-packages (from pandas>=0.19.2->cufflinks) (2021.3)\n",
      "Requirement already satisfied: tenacity>=6.2.0 in c:\\users\\talha\\anaconda3\\lib\\site-packages (from plotly>=4.1.1->cufflinks) (8.1.0)\n",
      "Requirement already satisfied: wcwidth in c:\\users\\talha\\anaconda3\\lib\\site-packages (from prompt-toolkit!=3.0.0,!=3.0.1,<3.1.0,>=2.0.0->ipython>=5.3.0->cufflinks) (0.2.5)\n",
      "Requirement already satisfied: notebook>=4.4.1 in c:\\users\\talha\\anaconda3\\lib\\site-packages (from widgetsnbextension~=3.5.0->ipywidgets>=7.0.0->cufflinks) (6.4.5)\n",
      "Requirement already satisfied: Send2Trash>=1.5.0 in c:\\users\\talha\\anaconda3\\lib\\site-packages (from notebook>=4.4.1->widgetsnbextension~=3.5.0->ipywidgets>=7.0.0->cufflinks) (1.8.0)\n",
      "Requirement already satisfied: nbconvert in c:\\users\\talha\\anaconda3\\lib\\site-packages (from notebook>=4.4.1->widgetsnbextension~=3.5.0->ipywidgets>=7.0.0->cufflinks) (6.1.0)\n",
      "Requirement already satisfied: argon2-cffi in c:\\users\\talha\\anaconda3\\lib\\site-packages (from notebook>=4.4.1->widgetsnbextension~=3.5.0->ipywidgets>=7.0.0->cufflinks) (20.1.0)\n",
      "Requirement already satisfied: jinja2 in c:\\users\\talha\\anaconda3\\lib\\site-packages (from notebook>=4.4.1->widgetsnbextension~=3.5.0->ipywidgets>=7.0.0->cufflinks) (2.11.3)\n",
      "Requirement already satisfied: prometheus-client in c:\\users\\talha\\anaconda3\\lib\\site-packages (from notebook>=4.4.1->widgetsnbextension~=3.5.0->ipywidgets>=7.0.0->cufflinks) (0.11.0)\n",
      "Requirement already satisfied: terminado>=0.8.3 in c:\\users\\talha\\anaconda3\\lib\\site-packages (from notebook>=4.4.1->widgetsnbextension~=3.5.0->ipywidgets>=7.0.0->cufflinks) (0.9.4)\n",
      "Requirement already satisfied: pywinpty>=0.5 in c:\\users\\talha\\anaconda3\\lib\\site-packages (from terminado>=0.8.3->notebook>=4.4.1->widgetsnbextension~=3.5.0->ipywidgets>=7.0.0->cufflinks) (0.5.7)\n",
      "Requirement already satisfied: cffi>=1.0.0 in c:\\users\\talha\\anaconda3\\lib\\site-packages (from argon2-cffi->notebook>=4.4.1->widgetsnbextension~=3.5.0->ipywidgets>=7.0.0->cufflinks) (1.14.6)\n",
      "Requirement already satisfied: pycparser in c:\\users\\talha\\anaconda3\\lib\\site-packages (from cffi>=1.0.0->argon2-cffi->notebook>=4.4.1->widgetsnbextension~=3.5.0->ipywidgets>=7.0.0->cufflinks) (2.20)\n",
      "Requirement already satisfied: MarkupSafe>=0.23 in c:\\users\\talha\\anaconda3\\lib\\site-packages (from jinja2->notebook>=4.4.1->widgetsnbextension~=3.5.0->ipywidgets>=7.0.0->cufflinks) (1.1.1)\n",
      "Requirement already satisfied: bleach in c:\\users\\talha\\anaconda3\\lib\\site-packages (from nbconvert->notebook>=4.4.1->widgetsnbextension~=3.5.0->ipywidgets>=7.0.0->cufflinks) (4.0.0)\n",
      "Requirement already satisfied: nbclient<0.6.0,>=0.5.0 in c:\\users\\talha\\anaconda3\\lib\\site-packages (from nbconvert->notebook>=4.4.1->widgetsnbextension~=3.5.0->ipywidgets>=7.0.0->cufflinks) (0.5.3)\n",
      "Requirement already satisfied: jupyterlab-pygments in c:\\users\\talha\\anaconda3\\lib\\site-packages (from nbconvert->notebook>=4.4.1->widgetsnbextension~=3.5.0->ipywidgets>=7.0.0->cufflinks) (0.1.2)\n",
      "Requirement already satisfied: pandocfilters>=1.4.1 in c:\\users\\talha\\anaconda3\\lib\\site-packages (from nbconvert->notebook>=4.4.1->widgetsnbextension~=3.5.0->ipywidgets>=7.0.0->cufflinks) (1.4.3)\n",
      "Requirement already satisfied: mistune<2,>=0.8.1 in c:\\users\\talha\\anaconda3\\lib\\site-packages (from nbconvert->notebook>=4.4.1->widgetsnbextension~=3.5.0->ipywidgets>=7.0.0->cufflinks) (0.8.4)\n",
      "Requirement already satisfied: entrypoints>=0.2.2 in c:\\users\\talha\\anaconda3\\lib\\site-packages (from nbconvert->notebook>=4.4.1->widgetsnbextension~=3.5.0->ipywidgets>=7.0.0->cufflinks) (0.3)\n",
      "Requirement already satisfied: testpath in c:\\users\\talha\\anaconda3\\lib\\site-packages (from nbconvert->notebook>=4.4.1->widgetsnbextension~=3.5.0->ipywidgets>=7.0.0->cufflinks) (0.5.0)\n",
      "Requirement already satisfied: defusedxml in c:\\users\\talha\\anaconda3\\lib\\site-packages (from nbconvert->notebook>=4.4.1->widgetsnbextension~=3.5.0->ipywidgets>=7.0.0->cufflinks) (0.7.1)\n",
      "Requirement already satisfied: async-generator in c:\\users\\talha\\anaconda3\\lib\\site-packages (from nbclient<0.6.0,>=0.5.0->nbconvert->notebook>=4.4.1->widgetsnbextension~=3.5.0->ipywidgets>=7.0.0->cufflinks) (1.10)\n",
      "Requirement already satisfied: nest-asyncio in c:\\users\\talha\\anaconda3\\lib\\site-packages (from nbclient<0.6.0,>=0.5.0->nbconvert->notebook>=4.4.1->widgetsnbextension~=3.5.0->ipywidgets>=7.0.0->cufflinks) (1.5.1)\n",
      "Requirement already satisfied: webencodings in c:\\users\\talha\\anaconda3\\lib\\site-packages (from bleach->nbconvert->notebook>=4.4.1->widgetsnbextension~=3.5.0->ipywidgets>=7.0.0->cufflinks) (0.5.1)\n",
      "Requirement already satisfied: packaging in c:\\users\\talha\\anaconda3\\lib\\site-packages (from bleach->nbconvert->notebook>=4.4.1->widgetsnbextension~=3.5.0->ipywidgets>=7.0.0->cufflinks) (21.0)\n",
      "Requirement already satisfied: pyparsing>=2.0.2 in c:\\users\\talha\\anaconda3\\lib\\site-packages (from packaging->bleach->nbconvert->notebook>=4.4.1->widgetsnbextension~=3.5.0->ipywidgets>=7.0.0->cufflinks) (3.0.4)\n",
      "Note: you may need to restart the kernel to use updated packages.\n"
     ]
    }
   ],
   "source": [
    "pip install cufflinks"
   ]
  },
  {
   "cell_type": "code",
   "execution_count": 42,
   "id": "29c22962",
   "metadata": {},
   "outputs": [
    {
     "name": "stdout",
     "output_type": "stream",
     "text": [
      "Requirement already satisfied: pandas in c:\\users\\talha\\anaconda3\\lib\\site-packages (1.3.4)\n",
      "Requirement already satisfied: python-dateutil>=2.7.3 in c:\\users\\talha\\anaconda3\\lib\\site-packages (from pandas) (2.8.2)\n",
      "Requirement already satisfied: numpy>=1.17.3 in c:\\users\\talha\\anaconda3\\lib\\site-packages (from pandas) (1.20.3)\n",
      "Requirement already satisfied: pytz>=2017.3 in c:\\users\\talha\\anaconda3\\lib\\site-packages (from pandas) (2021.3)\n",
      "Requirement already satisfied: six>=1.5 in c:\\users\\talha\\anaconda3\\lib\\site-packages (from python-dateutil>=2.7.3->pandas) (1.16.0)\n",
      "Note: you may need to restart the kernel to use updated packages.\n"
     ]
    }
   ],
   "source": [
    "pip install pandas"
   ]
  },
  {
   "cell_type": "code",
   "execution_count": 43,
   "id": "52b9be8a",
   "metadata": {},
   "outputs": [
    {
     "name": "stdout",
     "output_type": "stream",
     "text": [
      "Requirement already satisfied: numpy in c:\\users\\talha\\anaconda3\\lib\\site-packages (1.20.3)\n",
      "Note: you may need to restart the kernel to use updated packages.\n"
     ]
    }
   ],
   "source": [
    "pip install numpy"
   ]
  },
  {
   "cell_type": "code",
   "execution_count": 44,
   "id": "be912649",
   "metadata": {},
   "outputs": [],
   "source": [
    "import pandas as pd \n",
    "import numpy as np \n",
    "%matplotlib inline"
   ]
  },
  {
   "cell_type": "code",
   "execution_count": 45,
   "id": "18c79fb6",
   "metadata": {},
   "outputs": [
    {
     "name": "stdout",
     "output_type": "stream",
     "text": [
      "5.10.0\n"
     ]
    }
   ],
   "source": [
    "from plotly import __version__\n",
    "print(__version__)"
   ]
  },
  {
   "cell_type": "code",
   "execution_count": 46,
   "id": "9aea336d",
   "metadata": {},
   "outputs": [],
   "source": [
    "from plotly.offline import download_plotlyjs, init_notebook_mode, plot , iplot"
   ]
  },
  {
   "cell_type": "code",
   "execution_count": 47,
   "id": "152a6f3a",
   "metadata": {},
   "outputs": [],
   "source": [
    "import cufflinks as cf"
   ]
  },
  {
   "cell_type": "code",
   "execution_count": 48,
   "id": "d143c7f4",
   "metadata": {},
   "outputs": [
    {
     "data": {
      "text/html": [
       "        <script type=\"text/javascript\">\n",
       "        window.PlotlyConfig = {MathJaxConfig: 'local'};\n",
       "        if (window.MathJax && window.MathJax.Hub && window.MathJax.Hub.Config) {window.MathJax.Hub.Config({SVG: {font: \"STIX-Web\"}});}\n",
       "        if (typeof require !== 'undefined') {\n",
       "        require.undef(\"plotly\");\n",
       "        requirejs.config({\n",
       "            paths: {\n",
       "                'plotly': ['https://cdn.plot.ly/plotly-2.14.0.min']\n",
       "            }\n",
       "        });\n",
       "        require(['plotly'], function(Plotly) {\n",
       "            window._Plotly = Plotly;\n",
       "        });\n",
       "        }\n",
       "        </script>\n",
       "        "
      ]
     },
     "metadata": {},
     "output_type": "display_data"
    }
   ],
   "source": [
    "#note book mode ma use karna k liye\n",
    "init_notebook_mode(connected=True)"
   ]
  },
  {
   "cell_type": "code",
   "execution_count": 49,
   "id": "0b5101bd",
   "metadata": {},
   "outputs": [
    {
     "data": {
      "text/html": [
       "        <script type=\"text/javascript\">\n",
       "        window.PlotlyConfig = {MathJaxConfig: 'local'};\n",
       "        if (window.MathJax && window.MathJax.Hub && window.MathJax.Hub.Config) {window.MathJax.Hub.Config({SVG: {font: \"STIX-Web\"}});}\n",
       "        if (typeof require !== 'undefined') {\n",
       "        require.undef(\"plotly\");\n",
       "        requirejs.config({\n",
       "            paths: {\n",
       "                'plotly': ['https://cdn.plot.ly/plotly-2.14.0.min']\n",
       "            }\n",
       "        });\n",
       "        require(['plotly'], function(Plotly) {\n",
       "            window._Plotly = Plotly;\n",
       "        });\n",
       "        }\n",
       "        </script>\n",
       "        "
      ]
     },
     "metadata": {},
     "output_type": "display_data"
    }
   ],
   "source": [
    "#offline use kar rha ha is liye \n",
    "cf.go_offline()"
   ]
  },
  {
   "cell_type": "code",
   "execution_count": 50,
   "id": "b6d31880",
   "metadata": {},
   "outputs": [],
   "source": [
    "#create data frame\n",
    "df=pd.DataFrame(np.random.randn(100,4), columns='A B C D'.split())"
   ]
  },
  {
   "cell_type": "code",
   "execution_count": 51,
   "id": "8743785c",
   "metadata": {},
   "outputs": [
    {
     "data": {
      "text/html": [
       "<div>\n",
       "<style scoped>\n",
       "    .dataframe tbody tr th:only-of-type {\n",
       "        vertical-align: middle;\n",
       "    }\n",
       "\n",
       "    .dataframe tbody tr th {\n",
       "        vertical-align: top;\n",
       "    }\n",
       "\n",
       "    .dataframe thead th {\n",
       "        text-align: right;\n",
       "    }\n",
       "</style>\n",
       "<table border=\"1\" class=\"dataframe\">\n",
       "  <thead>\n",
       "    <tr style=\"text-align: right;\">\n",
       "      <th></th>\n",
       "      <th>A</th>\n",
       "      <th>B</th>\n",
       "      <th>C</th>\n",
       "      <th>D</th>\n",
       "    </tr>\n",
       "  </thead>\n",
       "  <tbody>\n",
       "    <tr>\n",
       "      <th>0</th>\n",
       "      <td>-2.024899</td>\n",
       "      <td>1.244837</td>\n",
       "      <td>2.383787</td>\n",
       "      <td>-0.827307</td>\n",
       "    </tr>\n",
       "    <tr>\n",
       "      <th>1</th>\n",
       "      <td>1.120678</td>\n",
       "      <td>-0.911394</td>\n",
       "      <td>0.833745</td>\n",
       "      <td>0.273314</td>\n",
       "    </tr>\n",
       "    <tr>\n",
       "      <th>2</th>\n",
       "      <td>-0.147142</td>\n",
       "      <td>0.243949</td>\n",
       "      <td>-0.440351</td>\n",
       "      <td>2.856214</td>\n",
       "    </tr>\n",
       "    <tr>\n",
       "      <th>3</th>\n",
       "      <td>0.667083</td>\n",
       "      <td>-0.373708</td>\n",
       "      <td>0.367564</td>\n",
       "      <td>-0.969375</td>\n",
       "    </tr>\n",
       "    <tr>\n",
       "      <th>4</th>\n",
       "      <td>-0.023377</td>\n",
       "      <td>-1.015695</td>\n",
       "      <td>-1.468911</td>\n",
       "      <td>-0.079745</td>\n",
       "    </tr>\n",
       "  </tbody>\n",
       "</table>\n",
       "</div>"
      ],
      "text/plain": [
       "          A         B         C         D\n",
       "0 -2.024899  1.244837  2.383787 -0.827307\n",
       "1  1.120678 -0.911394  0.833745  0.273314\n",
       "2 -0.147142  0.243949 -0.440351  2.856214\n",
       "3  0.667083 -0.373708  0.367564 -0.969375\n",
       "4 -0.023377 -1.015695 -1.468911 -0.079745"
      ]
     },
     "execution_count": 51,
     "metadata": {},
     "output_type": "execute_result"
    }
   ],
   "source": [
    "df.head()"
   ]
  },
  {
   "cell_type": "code",
   "execution_count": 52,
   "id": "236061c9",
   "metadata": {},
   "outputs": [],
   "source": [
    "#two dictionaroes ko table ma dega \n",
    "df2=pd.DataFrame({'category':['A','B','C'], 'values':[32,43,50]})"
   ]
  },
  {
   "cell_type": "code",
   "execution_count": 53,
   "id": "695a06a7",
   "metadata": {},
   "outputs": [
    {
     "data": {
      "text/html": [
       "<div>\n",
       "<style scoped>\n",
       "    .dataframe tbody tr th:only-of-type {\n",
       "        vertical-align: middle;\n",
       "    }\n",
       "\n",
       "    .dataframe tbody tr th {\n",
       "        vertical-align: top;\n",
       "    }\n",
       "\n",
       "    .dataframe thead th {\n",
       "        text-align: right;\n",
       "    }\n",
       "</style>\n",
       "<table border=\"1\" class=\"dataframe\">\n",
       "  <thead>\n",
       "    <tr style=\"text-align: right;\">\n",
       "      <th></th>\n",
       "      <th>category</th>\n",
       "      <th>values</th>\n",
       "    </tr>\n",
       "  </thead>\n",
       "  <tbody>\n",
       "    <tr>\n",
       "      <th>0</th>\n",
       "      <td>A</td>\n",
       "      <td>32</td>\n",
       "    </tr>\n",
       "    <tr>\n",
       "      <th>1</th>\n",
       "      <td>B</td>\n",
       "      <td>43</td>\n",
       "    </tr>\n",
       "    <tr>\n",
       "      <th>2</th>\n",
       "      <td>C</td>\n",
       "      <td>50</td>\n",
       "    </tr>\n",
       "  </tbody>\n",
       "</table>\n",
       "</div>"
      ],
      "text/plain": [
       "  category  values\n",
       "0        A      32\n",
       "1        B      43\n",
       "2        C      50"
      ]
     },
     "execution_count": 53,
     "metadata": {},
     "output_type": "execute_result"
    }
   ],
   "source": [
    "df2"
   ]
  },
  {
   "cell_type": "code",
   "execution_count": 54,
   "id": "48d7c624",
   "metadata": {},
   "outputs": [
    {
     "data": {
      "application/vnd.plotly.v1+json": {
       "config": {
        "linkText": "Export to plot.ly",
        "plotlyServerURL": "https://plot.ly",
        "showLink": true
       },
       "data": [
        {
         "line": {
          "color": "rgba(255, 153, 51, 1.0)",
          "dash": "solid",
          "shape": "linear",
          "width": 1.3
         },
         "mode": "lines",
         "name": "A",
         "text": "",
         "type": "scatter",
         "x": [
          0,
          1,
          2,
          3,
          4,
          5,
          6,
          7,
          8,
          9,
          10,
          11,
          12,
          13,
          14,
          15,
          16,
          17,
          18,
          19,
          20,
          21,
          22,
          23,
          24,
          25,
          26,
          27,
          28,
          29,
          30,
          31,
          32,
          33,
          34,
          35,
          36,
          37,
          38,
          39,
          40,
          41,
          42,
          43,
          44,
          45,
          46,
          47,
          48,
          49,
          50,
          51,
          52,
          53,
          54,
          55,
          56,
          57,
          58,
          59,
          60,
          61,
          62,
          63,
          64,
          65,
          66,
          67,
          68,
          69,
          70,
          71,
          72,
          73,
          74,
          75,
          76,
          77,
          78,
          79,
          80,
          81,
          82,
          83,
          84,
          85,
          86,
          87,
          88,
          89,
          90,
          91,
          92,
          93,
          94,
          95,
          96,
          97,
          98,
          99
         ],
         "y": [
          -2.0248994302722,
          1.1206783216849459,
          -0.14714216901426908,
          0.6670829874275235,
          -0.023376648075685052,
          0.5060352952627416,
          -0.9478339706882272,
          2.7301806156870327,
          0.1500701083538797,
          -1.629253867207095,
          0.025633123118659527,
          -1.6180567997975985,
          -0.6201539883082475,
          0.6980153432116343,
          1.3457098806675134,
          -0.4733132068550389,
          1.218327984233927,
          1.0720706177131725,
          0.7266855883867765,
          -1.1328801679679639,
          1.285011116428947,
          -1.135743951530807,
          -1.0992156651659082,
          0.804292155497312,
          2.889420935902672,
          0.913650499514228,
          -1.2359684228301904,
          2.2394880583415873,
          1.0592166701930064,
          1.0330178731064599,
          1.0204782513370658,
          0.8787309750034229,
          0.6885987819603279,
          0.5437470084021745,
          -0.13455229775785477,
          -1.5005765916391522,
          0.4021446100381902,
          -1.2098195163672532,
          -0.397151218679385,
          0.14678399705766368,
          -0.41007694139382683,
          -0.8761747336518552,
          -0.03269185454668553,
          -0.832459749750178,
          -0.373553019196941,
          0.5976385942822937,
          -2.6303076986098883,
          0.49207673349323555,
          -0.24612515085494288,
          -1.1255327396654367,
          -0.48070458660037485,
          0.12895287721669293,
          -1.4090236036807335,
          -0.47182676530688755,
          0.23063424612448724,
          1.0277807157421683,
          0.9843342322642673,
          -0.09074566210834423,
          0.6472245732614761,
          -0.9203721156635134,
          -0.1257185498876959,
          -0.08710102389783692,
          -0.27268093799410975,
          -0.1414327108596726,
          -0.4611742525389193,
          0.8261375525274487,
          1.4565299222233419,
          -0.10042343837103451,
          -0.43689372589308856,
          -1.9981308411765657,
          -0.462754228780885,
          0.12754204376341816,
          -0.3433380435620271,
          -1.1692171929398942,
          0.782475324852804,
          -0.5319658940434484,
          2.225256725090445,
          1.089115482983619,
          -1.2430161750082012,
          1.2502312241220217,
          0.7905200967038304,
          2.734169374856847,
          -0.45361764475918365,
          -2.790893563542634,
          -0.9096538705796186,
          -0.7919999287925056,
          -0.38852093632309764,
          1.2568796152307298,
          -0.7385552048964777,
          -1.1615287328500985,
          0.5144036947754764,
          -0.9145163371493532,
          -0.38025656162124044,
          -1.0580205499766269,
          0.4825574966126437,
          -1.6269134861205365,
          -0.4224550151287948,
          -0.325133894910615,
          -0.8685891545573913,
          0.6256080741969859
         ]
        },
        {
         "line": {
          "color": "rgba(55, 128, 191, 1.0)",
          "dash": "solid",
          "shape": "linear",
          "width": 1.3
         },
         "mode": "lines",
         "name": "B",
         "text": "",
         "type": "scatter",
         "x": [
          0,
          1,
          2,
          3,
          4,
          5,
          6,
          7,
          8,
          9,
          10,
          11,
          12,
          13,
          14,
          15,
          16,
          17,
          18,
          19,
          20,
          21,
          22,
          23,
          24,
          25,
          26,
          27,
          28,
          29,
          30,
          31,
          32,
          33,
          34,
          35,
          36,
          37,
          38,
          39,
          40,
          41,
          42,
          43,
          44,
          45,
          46,
          47,
          48,
          49,
          50,
          51,
          52,
          53,
          54,
          55,
          56,
          57,
          58,
          59,
          60,
          61,
          62,
          63,
          64,
          65,
          66,
          67,
          68,
          69,
          70,
          71,
          72,
          73,
          74,
          75,
          76,
          77,
          78,
          79,
          80,
          81,
          82,
          83,
          84,
          85,
          86,
          87,
          88,
          89,
          90,
          91,
          92,
          93,
          94,
          95,
          96,
          97,
          98,
          99
         ],
         "y": [
          1.244836717788421,
          -0.9113941741042547,
          0.24394904664371372,
          -0.3737083895924538,
          -1.0156947705953163,
          -0.25182333626234465,
          0.8025286099024215,
          -0.20904853915624613,
          -0.30335425935993415,
          -0.26015079829732535,
          -1.1652126737952444,
          -0.11601906352932617,
          0.3807298858276337,
          1.94622992408519,
          0.6918761245098521,
          0.12092987307672229,
          -0.7023721643644166,
          1.3436373835210946,
          -0.6047922436199462,
          0.05834742392095939,
          0.28252996046243645,
          0.5807192890824402,
          0.9861845276129169,
          0.5742445414696716,
          -0.3491755041321152,
          -0.03338709450851653,
          -0.42860738129677367,
          0.2814274678037998,
          -0.570275107112393,
          -1.1115427162391993,
          0.18700072674060986,
          -1.9030952679536954,
          -0.7194428719098581,
          0.5403296720195768,
          -0.24680054080514882,
          -0.5048407548451164,
          0.2939101111553618,
          1.7639202744963427,
          0.8625832635466819,
          -0.7654995595177715,
          1.6888924720096499,
          0.7020255211661659,
          -0.606354316327178,
          1.5640243081651144,
          -1.2389559497992244,
          0.9790296693868923,
          -0.888416311377553,
          -1.271624020447485,
          -0.38683782815487255,
          -0.3112174727382689,
          -1.3958610845724706,
          -0.3646318727579516,
          2.6623586140809947,
          1.278239804030543,
          1.4641583069138344,
          0.5035983514007785,
          0.7702324318302155,
          -0.8562313655545203,
          -1.6274232509023714,
          0.2750944531996166,
          0.7008539862181999,
          -0.25594811836690123,
          -0.3870976188644197,
          0.5261006417232784,
          0.1964263707784994,
          -0.9263064271086378,
          -0.488261838841295,
          0.05042984968017874,
          -0.029025191398035843,
          -0.5086244551715492,
          1.5059084171875694,
          0.07076965496823794,
          -1.1942297964401056,
          0.4900120685919607,
          0.9003822829550003,
          1.5815275119640084,
          0.08230211481593441,
          -0.6789188575459397,
          -0.20955368830118065,
          1.915784863367201,
          -0.5414897639944265,
          -1.1397451918472243,
          0.06123316433440914,
          -1.5363584833492157,
          -0.44175740605136277,
          -0.4977024511722823,
          -0.8060386350670952,
          0.23217547665242766,
          0.1530029564153142,
          0.19916716055370187,
          0.9103802439546376,
          -1.1567876338494296,
          -0.4954203784646236,
          1.5395209073602434,
          0.7561972792026549,
          -0.40766834609463987,
          -1.015571750157025,
          -0.5462836010855642,
          -0.20695204841393358,
          0.5252490005255105
         ]
        },
        {
         "line": {
          "color": "rgba(50, 171, 96, 1.0)",
          "dash": "solid",
          "shape": "linear",
          "width": 1.3
         },
         "mode": "lines",
         "name": "C",
         "text": "",
         "type": "scatter",
         "x": [
          0,
          1,
          2,
          3,
          4,
          5,
          6,
          7,
          8,
          9,
          10,
          11,
          12,
          13,
          14,
          15,
          16,
          17,
          18,
          19,
          20,
          21,
          22,
          23,
          24,
          25,
          26,
          27,
          28,
          29,
          30,
          31,
          32,
          33,
          34,
          35,
          36,
          37,
          38,
          39,
          40,
          41,
          42,
          43,
          44,
          45,
          46,
          47,
          48,
          49,
          50,
          51,
          52,
          53,
          54,
          55,
          56,
          57,
          58,
          59,
          60,
          61,
          62,
          63,
          64,
          65,
          66,
          67,
          68,
          69,
          70,
          71,
          72,
          73,
          74,
          75,
          76,
          77,
          78,
          79,
          80,
          81,
          82,
          83,
          84,
          85,
          86,
          87,
          88,
          89,
          90,
          91,
          92,
          93,
          94,
          95,
          96,
          97,
          98,
          99
         ],
         "y": [
          2.3837865836348042,
          0.8337454629513709,
          -0.44035070497979484,
          0.3675640145013289,
          -1.4689105789596337,
          0.5919711719424133,
          1.1200824659503739,
          0.10709449183114861,
          -1.363205117051827,
          0.2802151197739775,
          0.22238681168946853,
          -1.3369883935832279,
          0.8795244078662957,
          -0.4682309574127068,
          2.154263439857636,
          0.5042543408665272,
          0.8380431803963164,
          2.0320004045327567,
          -0.4458730586188669,
          0.5720801773617187,
          0.5032501099442386,
          -0.04224715779108761,
          -0.5526566029076727,
          1.8765465233829777,
          0.48961407641982707,
          0.9249509675482437,
          0.5681082062181846,
          -0.17960641727452042,
          0.771128480871914,
          0.3350723329869273,
          -0.13585827442762177,
          0.005560655717367594,
          0.9820962360303911,
          0.10286779943902123,
          0.3615118069660571,
          0.4250557261317842,
          0.3477816419029761,
          -0.5219019677697857,
          0.0841551300710111,
          1.1561086796685336,
          1.4483073915162232,
          0.40737229684562326,
          0.6469833507006992,
          2.4202063822641486,
          -0.2644785558044118,
          1.9376106584922064,
          0.09665207271025082,
          -0.33423282228236395,
          -0.5305257354021574,
          0.130718683742174,
          0.46305393590723737,
          -0.4128376187788049,
          0.16217225699872154,
          0.09030729454393,
          0.8742108604957504,
          1.647032817150969,
          -0.7143668710181892,
          1.8385327810015186,
          -0.048191963038784674,
          0.5840118945787226,
          -2.688222641816865,
          -0.3553197894628702,
          -0.52404866228707,
          0.1341937465319343,
          0.3762970756553044,
          0.9934838329556147,
          0.7833557022459264,
          0.629109159974082,
          1.2276280265214414,
          -0.3495825148413494,
          0.4884121546400506,
          -2.000500517042181,
          -0.5283520269456001,
          -1.004126628466134,
          -2.584010933361183,
          0.5758503216393676,
          -0.36794037843087757,
          -0.09038686069550698,
          -0.035896792561200846,
          -0.27055291970669504,
          1.1810487492872002,
          1.329834716597255,
          0.6753533415919987,
          1.6466374430657869,
          -0.6440345419332062,
          -1.3546813179781783,
          0.6610326007324075,
          -0.7529469658037548,
          0.9108811752427859,
          0.3125883903206803,
          -0.266799345019069,
          -0.8701856397329435,
          0.22784583602906255,
          1.7901088134822656,
          -0.5651202795197222,
          -1.1550628847480657,
          0.5833194718209482,
          1.3887726399856906,
          0.16533850174549897,
          -1.3955953195610848
         ]
        },
        {
         "line": {
          "color": "rgba(128, 0, 128, 1.0)",
          "dash": "solid",
          "shape": "linear",
          "width": 1.3
         },
         "mode": "lines",
         "name": "D",
         "text": "",
         "type": "scatter",
         "x": [
          0,
          1,
          2,
          3,
          4,
          5,
          6,
          7,
          8,
          9,
          10,
          11,
          12,
          13,
          14,
          15,
          16,
          17,
          18,
          19,
          20,
          21,
          22,
          23,
          24,
          25,
          26,
          27,
          28,
          29,
          30,
          31,
          32,
          33,
          34,
          35,
          36,
          37,
          38,
          39,
          40,
          41,
          42,
          43,
          44,
          45,
          46,
          47,
          48,
          49,
          50,
          51,
          52,
          53,
          54,
          55,
          56,
          57,
          58,
          59,
          60,
          61,
          62,
          63,
          64,
          65,
          66,
          67,
          68,
          69,
          70,
          71,
          72,
          73,
          74,
          75,
          76,
          77,
          78,
          79,
          80,
          81,
          82,
          83,
          84,
          85,
          86,
          87,
          88,
          89,
          90,
          91,
          92,
          93,
          94,
          95,
          96,
          97,
          98,
          99
         ],
         "y": [
          -0.8273066630944598,
          0.27331422050012766,
          2.8562140049146745,
          -0.9693747265380284,
          -0.07974487152265997,
          0.034705546672934025,
          -0.8959673617961699,
          -0.021441187707182185,
          -0.7766654634301396,
          0.4805850173193006,
          -0.8492500635977759,
          -2.211224007918174,
          -2.250192154742491,
          -1.3741957777675389,
          -0.009093389815766564,
          2.23134516487357,
          0.8774530478783776,
          0.43450087429221995,
          -0.19812913142573804,
          0.3144369783707955,
          -0.926562871054008,
          -0.29629367882683416,
          -1.0782977138537333,
          -1.4784196401948362,
          -0.32645512090688056,
          -0.7663910567026927,
          -0.6222654249262285,
          0.7681465847596798,
          2.386706616239427,
          0.6808715117647883,
          -0.1774657419590166,
          1.218938963909932,
          -0.6134301604369194,
          0.3723545439058522,
          0.6410275817754367,
          -0.24665465091351202,
          -2.5309618098311057,
          0.7961530978475005,
          0.12923271984211596,
          1.2326280693628313,
          -0.36136774120302945,
          0.2340587782888746,
          0.6034248553535082,
          0.5066595596956776,
          -0.6925840786310593,
          -0.5003015225399018,
          0.3455475657267796,
          0.33365453981737236,
          -0.9205532192755903,
          -0.2626712170091331,
          0.45034477871932777,
          -0.041310383330957774,
          -1.1739558583460423,
          -1.0665281388804828,
          -2.1134175759655616,
          0.97188132055067,
          -0.6063522070313438,
          0.4172485067929127,
          -1.3216417994002818,
          1.3260867850521425,
          0.1832930959274856,
          0.638577123442529,
          -1.555749513295139,
          2.4281733076277385,
          0.4453425415951846,
          -1.0100675643737924,
          0.4404058004304574,
          -0.9904695340576503,
          -0.428282458149643,
          -1.3498954821167286,
          -1.478886381421938,
          0.23051706568145464,
          -0.05892182529786133,
          -0.9367016024788103,
          -0.7622085517162878,
          0.5937253381511041,
          1.1928433672473235,
          -1.7468899682777217,
          0.7171005120250424,
          0.38205912709379447,
          0.4749135262565678,
          -1.2285015929742902,
          -0.3518333442150796,
          -0.2962352378419485,
          -0.5750722232738468,
          0.2637340239710272,
          -0.8925797512777627,
          -0.2050063683956568,
          1.523407840026115,
          -1.2032613975901485,
          -0.8828685783254572,
          0.08019814530005213,
          -2.2708578569354883,
          0.20005633204668902,
          -0.09784207844466804,
          -0.3998155393024862,
          0.44365798604099627,
          -1.2507312929599415,
          -1.5205147486035204,
          1.1435873832313297
         ]
        }
       ],
       "layout": {
        "legend": {
         "bgcolor": "#F5F6F9",
         "font": {
          "color": "#4D5663"
         }
        },
        "paper_bgcolor": "#F5F6F9",
        "plot_bgcolor": "#F5F6F9",
        "template": {
         "data": {
          "bar": [
           {
            "error_x": {
             "color": "#2a3f5f"
            },
            "error_y": {
             "color": "#2a3f5f"
            },
            "marker": {
             "line": {
              "color": "#E5ECF6",
              "width": 0.5
             },
             "pattern": {
              "fillmode": "overlay",
              "size": 10,
              "solidity": 0.2
             }
            },
            "type": "bar"
           }
          ],
          "barpolar": [
           {
            "marker": {
             "line": {
              "color": "#E5ECF6",
              "width": 0.5
             },
             "pattern": {
              "fillmode": "overlay",
              "size": 10,
              "solidity": 0.2
             }
            },
            "type": "barpolar"
           }
          ],
          "carpet": [
           {
            "aaxis": {
             "endlinecolor": "#2a3f5f",
             "gridcolor": "white",
             "linecolor": "white",
             "minorgridcolor": "white",
             "startlinecolor": "#2a3f5f"
            },
            "baxis": {
             "endlinecolor": "#2a3f5f",
             "gridcolor": "white",
             "linecolor": "white",
             "minorgridcolor": "white",
             "startlinecolor": "#2a3f5f"
            },
            "type": "carpet"
           }
          ],
          "choropleth": [
           {
            "colorbar": {
             "outlinewidth": 0,
             "ticks": ""
            },
            "type": "choropleth"
           }
          ],
          "contour": [
           {
            "colorbar": {
             "outlinewidth": 0,
             "ticks": ""
            },
            "colorscale": [
             [
              0,
              "#0d0887"
             ],
             [
              0.1111111111111111,
              "#46039f"
             ],
             [
              0.2222222222222222,
              "#7201a8"
             ],
             [
              0.3333333333333333,
              "#9c179e"
             ],
             [
              0.4444444444444444,
              "#bd3786"
             ],
             [
              0.5555555555555556,
              "#d8576b"
             ],
             [
              0.6666666666666666,
              "#ed7953"
             ],
             [
              0.7777777777777778,
              "#fb9f3a"
             ],
             [
              0.8888888888888888,
              "#fdca26"
             ],
             [
              1,
              "#f0f921"
             ]
            ],
            "type": "contour"
           }
          ],
          "contourcarpet": [
           {
            "colorbar": {
             "outlinewidth": 0,
             "ticks": ""
            },
            "type": "contourcarpet"
           }
          ],
          "heatmap": [
           {
            "colorbar": {
             "outlinewidth": 0,
             "ticks": ""
            },
            "colorscale": [
             [
              0,
              "#0d0887"
             ],
             [
              0.1111111111111111,
              "#46039f"
             ],
             [
              0.2222222222222222,
              "#7201a8"
             ],
             [
              0.3333333333333333,
              "#9c179e"
             ],
             [
              0.4444444444444444,
              "#bd3786"
             ],
             [
              0.5555555555555556,
              "#d8576b"
             ],
             [
              0.6666666666666666,
              "#ed7953"
             ],
             [
              0.7777777777777778,
              "#fb9f3a"
             ],
             [
              0.8888888888888888,
              "#fdca26"
             ],
             [
              1,
              "#f0f921"
             ]
            ],
            "type": "heatmap"
           }
          ],
          "heatmapgl": [
           {
            "colorbar": {
             "outlinewidth": 0,
             "ticks": ""
            },
            "colorscale": [
             [
              0,
              "#0d0887"
             ],
             [
              0.1111111111111111,
              "#46039f"
             ],
             [
              0.2222222222222222,
              "#7201a8"
             ],
             [
              0.3333333333333333,
              "#9c179e"
             ],
             [
              0.4444444444444444,
              "#bd3786"
             ],
             [
              0.5555555555555556,
              "#d8576b"
             ],
             [
              0.6666666666666666,
              "#ed7953"
             ],
             [
              0.7777777777777778,
              "#fb9f3a"
             ],
             [
              0.8888888888888888,
              "#fdca26"
             ],
             [
              1,
              "#f0f921"
             ]
            ],
            "type": "heatmapgl"
           }
          ],
          "histogram": [
           {
            "marker": {
             "pattern": {
              "fillmode": "overlay",
              "size": 10,
              "solidity": 0.2
             }
            },
            "type": "histogram"
           }
          ],
          "histogram2d": [
           {
            "colorbar": {
             "outlinewidth": 0,
             "ticks": ""
            },
            "colorscale": [
             [
              0,
              "#0d0887"
             ],
             [
              0.1111111111111111,
              "#46039f"
             ],
             [
              0.2222222222222222,
              "#7201a8"
             ],
             [
              0.3333333333333333,
              "#9c179e"
             ],
             [
              0.4444444444444444,
              "#bd3786"
             ],
             [
              0.5555555555555556,
              "#d8576b"
             ],
             [
              0.6666666666666666,
              "#ed7953"
             ],
             [
              0.7777777777777778,
              "#fb9f3a"
             ],
             [
              0.8888888888888888,
              "#fdca26"
             ],
             [
              1,
              "#f0f921"
             ]
            ],
            "type": "histogram2d"
           }
          ],
          "histogram2dcontour": [
           {
            "colorbar": {
             "outlinewidth": 0,
             "ticks": ""
            },
            "colorscale": [
             [
              0,
              "#0d0887"
             ],
             [
              0.1111111111111111,
              "#46039f"
             ],
             [
              0.2222222222222222,
              "#7201a8"
             ],
             [
              0.3333333333333333,
              "#9c179e"
             ],
             [
              0.4444444444444444,
              "#bd3786"
             ],
             [
              0.5555555555555556,
              "#d8576b"
             ],
             [
              0.6666666666666666,
              "#ed7953"
             ],
             [
              0.7777777777777778,
              "#fb9f3a"
             ],
             [
              0.8888888888888888,
              "#fdca26"
             ],
             [
              1,
              "#f0f921"
             ]
            ],
            "type": "histogram2dcontour"
           }
          ],
          "mesh3d": [
           {
            "colorbar": {
             "outlinewidth": 0,
             "ticks": ""
            },
            "type": "mesh3d"
           }
          ],
          "parcoords": [
           {
            "line": {
             "colorbar": {
              "outlinewidth": 0,
              "ticks": ""
             }
            },
            "type": "parcoords"
           }
          ],
          "pie": [
           {
            "automargin": true,
            "type": "pie"
           }
          ],
          "scatter": [
           {
            "fillpattern": {
             "fillmode": "overlay",
             "size": 10,
             "solidity": 0.2
            },
            "type": "scatter"
           }
          ],
          "scatter3d": [
           {
            "line": {
             "colorbar": {
              "outlinewidth": 0,
              "ticks": ""
             }
            },
            "marker": {
             "colorbar": {
              "outlinewidth": 0,
              "ticks": ""
             }
            },
            "type": "scatter3d"
           }
          ],
          "scattercarpet": [
           {
            "marker": {
             "colorbar": {
              "outlinewidth": 0,
              "ticks": ""
             }
            },
            "type": "scattercarpet"
           }
          ],
          "scattergeo": [
           {
            "marker": {
             "colorbar": {
              "outlinewidth": 0,
              "ticks": ""
             }
            },
            "type": "scattergeo"
           }
          ],
          "scattergl": [
           {
            "marker": {
             "colorbar": {
              "outlinewidth": 0,
              "ticks": ""
             }
            },
            "type": "scattergl"
           }
          ],
          "scattermapbox": [
           {
            "marker": {
             "colorbar": {
              "outlinewidth": 0,
              "ticks": ""
             }
            },
            "type": "scattermapbox"
           }
          ],
          "scatterpolar": [
           {
            "marker": {
             "colorbar": {
              "outlinewidth": 0,
              "ticks": ""
             }
            },
            "type": "scatterpolar"
           }
          ],
          "scatterpolargl": [
           {
            "marker": {
             "colorbar": {
              "outlinewidth": 0,
              "ticks": ""
             }
            },
            "type": "scatterpolargl"
           }
          ],
          "scatterternary": [
           {
            "marker": {
             "colorbar": {
              "outlinewidth": 0,
              "ticks": ""
             }
            },
            "type": "scatterternary"
           }
          ],
          "surface": [
           {
            "colorbar": {
             "outlinewidth": 0,
             "ticks": ""
            },
            "colorscale": [
             [
              0,
              "#0d0887"
             ],
             [
              0.1111111111111111,
              "#46039f"
             ],
             [
              0.2222222222222222,
              "#7201a8"
             ],
             [
              0.3333333333333333,
              "#9c179e"
             ],
             [
              0.4444444444444444,
              "#bd3786"
             ],
             [
              0.5555555555555556,
              "#d8576b"
             ],
             [
              0.6666666666666666,
              "#ed7953"
             ],
             [
              0.7777777777777778,
              "#fb9f3a"
             ],
             [
              0.8888888888888888,
              "#fdca26"
             ],
             [
              1,
              "#f0f921"
             ]
            ],
            "type": "surface"
           }
          ],
          "table": [
           {
            "cells": {
             "fill": {
              "color": "#EBF0F8"
             },
             "line": {
              "color": "white"
             }
            },
            "header": {
             "fill": {
              "color": "#C8D4E3"
             },
             "line": {
              "color": "white"
             }
            },
            "type": "table"
           }
          ]
         },
         "layout": {
          "annotationdefaults": {
           "arrowcolor": "#2a3f5f",
           "arrowhead": 0,
           "arrowwidth": 1
          },
          "autotypenumbers": "strict",
          "coloraxis": {
           "colorbar": {
            "outlinewidth": 0,
            "ticks": ""
           }
          },
          "colorscale": {
           "diverging": [
            [
             0,
             "#8e0152"
            ],
            [
             0.1,
             "#c51b7d"
            ],
            [
             0.2,
             "#de77ae"
            ],
            [
             0.3,
             "#f1b6da"
            ],
            [
             0.4,
             "#fde0ef"
            ],
            [
             0.5,
             "#f7f7f7"
            ],
            [
             0.6,
             "#e6f5d0"
            ],
            [
             0.7,
             "#b8e186"
            ],
            [
             0.8,
             "#7fbc41"
            ],
            [
             0.9,
             "#4d9221"
            ],
            [
             1,
             "#276419"
            ]
           ],
           "sequential": [
            [
             0,
             "#0d0887"
            ],
            [
             0.1111111111111111,
             "#46039f"
            ],
            [
             0.2222222222222222,
             "#7201a8"
            ],
            [
             0.3333333333333333,
             "#9c179e"
            ],
            [
             0.4444444444444444,
             "#bd3786"
            ],
            [
             0.5555555555555556,
             "#d8576b"
            ],
            [
             0.6666666666666666,
             "#ed7953"
            ],
            [
             0.7777777777777778,
             "#fb9f3a"
            ],
            [
             0.8888888888888888,
             "#fdca26"
            ],
            [
             1,
             "#f0f921"
            ]
           ],
           "sequentialminus": [
            [
             0,
             "#0d0887"
            ],
            [
             0.1111111111111111,
             "#46039f"
            ],
            [
             0.2222222222222222,
             "#7201a8"
            ],
            [
             0.3333333333333333,
             "#9c179e"
            ],
            [
             0.4444444444444444,
             "#bd3786"
            ],
            [
             0.5555555555555556,
             "#d8576b"
            ],
            [
             0.6666666666666666,
             "#ed7953"
            ],
            [
             0.7777777777777778,
             "#fb9f3a"
            ],
            [
             0.8888888888888888,
             "#fdca26"
            ],
            [
             1,
             "#f0f921"
            ]
           ]
          },
          "colorway": [
           "#636efa",
           "#EF553B",
           "#00cc96",
           "#ab63fa",
           "#FFA15A",
           "#19d3f3",
           "#FF6692",
           "#B6E880",
           "#FF97FF",
           "#FECB52"
          ],
          "font": {
           "color": "#2a3f5f"
          },
          "geo": {
           "bgcolor": "white",
           "lakecolor": "white",
           "landcolor": "#E5ECF6",
           "showlakes": true,
           "showland": true,
           "subunitcolor": "white"
          },
          "hoverlabel": {
           "align": "left"
          },
          "hovermode": "closest",
          "mapbox": {
           "style": "light"
          },
          "paper_bgcolor": "white",
          "plot_bgcolor": "#E5ECF6",
          "polar": {
           "angularaxis": {
            "gridcolor": "white",
            "linecolor": "white",
            "ticks": ""
           },
           "bgcolor": "#E5ECF6",
           "radialaxis": {
            "gridcolor": "white",
            "linecolor": "white",
            "ticks": ""
           }
          },
          "scene": {
           "xaxis": {
            "backgroundcolor": "#E5ECF6",
            "gridcolor": "white",
            "gridwidth": 2,
            "linecolor": "white",
            "showbackground": true,
            "ticks": "",
            "zerolinecolor": "white"
           },
           "yaxis": {
            "backgroundcolor": "#E5ECF6",
            "gridcolor": "white",
            "gridwidth": 2,
            "linecolor": "white",
            "showbackground": true,
            "ticks": "",
            "zerolinecolor": "white"
           },
           "zaxis": {
            "backgroundcolor": "#E5ECF6",
            "gridcolor": "white",
            "gridwidth": 2,
            "linecolor": "white",
            "showbackground": true,
            "ticks": "",
            "zerolinecolor": "white"
           }
          },
          "shapedefaults": {
           "line": {
            "color": "#2a3f5f"
           }
          },
          "ternary": {
           "aaxis": {
            "gridcolor": "white",
            "linecolor": "white",
            "ticks": ""
           },
           "baxis": {
            "gridcolor": "white",
            "linecolor": "white",
            "ticks": ""
           },
           "bgcolor": "#E5ECF6",
           "caxis": {
            "gridcolor": "white",
            "linecolor": "white",
            "ticks": ""
           }
          },
          "title": {
           "x": 0.05
          },
          "xaxis": {
           "automargin": true,
           "gridcolor": "white",
           "linecolor": "white",
           "ticks": "",
           "title": {
            "standoff": 15
           },
           "zerolinecolor": "white",
           "zerolinewidth": 2
          },
          "yaxis": {
           "automargin": true,
           "gridcolor": "white",
           "linecolor": "white",
           "ticks": "",
           "title": {
            "standoff": 15
           },
           "zerolinecolor": "white",
           "zerolinewidth": 2
          }
         }
        },
        "title": {
         "font": {
          "color": "#4D5663"
         }
        },
        "xaxis": {
         "gridcolor": "#E1E5ED",
         "showgrid": true,
         "tickfont": {
          "color": "#4D5663"
         },
         "title": {
          "font": {
           "color": "#4D5663"
          },
          "text": ""
         },
         "zerolinecolor": "#E1E5ED"
        },
        "yaxis": {
         "gridcolor": "#E1E5ED",
         "showgrid": true,
         "tickfont": {
          "color": "#4D5663"
         },
         "title": {
          "font": {
           "color": "#4D5663"
          },
          "text": ""
         },
         "zerolinecolor": "#E1E5ED"
        }
       }
      },
      "text/html": [
       "<div>                            <div id=\"a2b0c61a-a559-49b7-836c-60e075999867\" class=\"plotly-graph-div\" style=\"height:525px; width:100%;\"></div>            <script type=\"text/javascript\">                require([\"plotly\"], function(Plotly) {                    window.PLOTLYENV=window.PLOTLYENV || {};\n",
       "                    window.PLOTLYENV.BASE_URL='https://plot.ly';                                    if (document.getElementById(\"a2b0c61a-a559-49b7-836c-60e075999867\")) {                    Plotly.newPlot(                        \"a2b0c61a-a559-49b7-836c-60e075999867\",                        [{\"line\":{\"color\":\"rgba(255, 153, 51, 1.0)\",\"dash\":\"solid\",\"shape\":\"linear\",\"width\":1.3},\"mode\":\"lines\",\"name\":\"A\",\"text\":\"\",\"x\":[0,1,2,3,4,5,6,7,8,9,10,11,12,13,14,15,16,17,18,19,20,21,22,23,24,25,26,27,28,29,30,31,32,33,34,35,36,37,38,39,40,41,42,43,44,45,46,47,48,49,50,51,52,53,54,55,56,57,58,59,60,61,62,63,64,65,66,67,68,69,70,71,72,73,74,75,76,77,78,79,80,81,82,83,84,85,86,87,88,89,90,91,92,93,94,95,96,97,98,99],\"y\":[-2.0248994302722,1.1206783216849459,-0.14714216901426908,0.6670829874275235,-0.023376648075685052,0.5060352952627416,-0.9478339706882272,2.7301806156870327,0.1500701083538797,-1.629253867207095,0.025633123118659527,-1.6180567997975985,-0.6201539883082475,0.6980153432116343,1.3457098806675134,-0.4733132068550389,1.218327984233927,1.0720706177131725,0.7266855883867765,-1.1328801679679639,1.285011116428947,-1.135743951530807,-1.0992156651659082,0.804292155497312,2.889420935902672,0.913650499514228,-1.2359684228301904,2.2394880583415873,1.0592166701930064,1.0330178731064599,1.0204782513370658,0.8787309750034229,0.6885987819603279,0.5437470084021745,-0.13455229775785477,-1.5005765916391522,0.4021446100381902,-1.2098195163672532,-0.397151218679385,0.14678399705766368,-0.41007694139382683,-0.8761747336518552,-0.03269185454668553,-0.832459749750178,-0.373553019196941,0.5976385942822937,-2.6303076986098883,0.49207673349323555,-0.24612515085494288,-1.1255327396654367,-0.48070458660037485,0.12895287721669293,-1.4090236036807335,-0.47182676530688755,0.23063424612448724,1.0277807157421683,0.9843342322642673,-0.09074566210834423,0.6472245732614761,-0.9203721156635134,-0.1257185498876959,-0.08710102389783692,-0.27268093799410975,-0.1414327108596726,-0.4611742525389193,0.8261375525274487,1.4565299222233419,-0.10042343837103451,-0.43689372589308856,-1.9981308411765657,-0.462754228780885,0.12754204376341816,-0.3433380435620271,-1.1692171929398942,0.782475324852804,-0.5319658940434484,2.225256725090445,1.089115482983619,-1.2430161750082012,1.2502312241220217,0.7905200967038304,2.734169374856847,-0.45361764475918365,-2.790893563542634,-0.9096538705796186,-0.7919999287925056,-0.38852093632309764,1.2568796152307298,-0.7385552048964777,-1.1615287328500985,0.5144036947754764,-0.9145163371493532,-0.38025656162124044,-1.0580205499766269,0.4825574966126437,-1.6269134861205365,-0.4224550151287948,-0.325133894910615,-0.8685891545573913,0.6256080741969859],\"type\":\"scatter\"},{\"line\":{\"color\":\"rgba(55, 128, 191, 1.0)\",\"dash\":\"solid\",\"shape\":\"linear\",\"width\":1.3},\"mode\":\"lines\",\"name\":\"B\",\"text\":\"\",\"x\":[0,1,2,3,4,5,6,7,8,9,10,11,12,13,14,15,16,17,18,19,20,21,22,23,24,25,26,27,28,29,30,31,32,33,34,35,36,37,38,39,40,41,42,43,44,45,46,47,48,49,50,51,52,53,54,55,56,57,58,59,60,61,62,63,64,65,66,67,68,69,70,71,72,73,74,75,76,77,78,79,80,81,82,83,84,85,86,87,88,89,90,91,92,93,94,95,96,97,98,99],\"y\":[1.244836717788421,-0.9113941741042547,0.24394904664371372,-0.3737083895924538,-1.0156947705953163,-0.25182333626234465,0.8025286099024215,-0.20904853915624613,-0.30335425935993415,-0.26015079829732535,-1.1652126737952444,-0.11601906352932617,0.3807298858276337,1.94622992408519,0.6918761245098521,0.12092987307672229,-0.7023721643644166,1.3436373835210946,-0.6047922436199462,0.05834742392095939,0.28252996046243645,0.5807192890824402,0.9861845276129169,0.5742445414696716,-0.3491755041321152,-0.03338709450851653,-0.42860738129677367,0.2814274678037998,-0.570275107112393,-1.1115427162391993,0.18700072674060986,-1.9030952679536954,-0.7194428719098581,0.5403296720195768,-0.24680054080514882,-0.5048407548451164,0.2939101111553618,1.7639202744963427,0.8625832635466819,-0.7654995595177715,1.6888924720096499,0.7020255211661659,-0.606354316327178,1.5640243081651144,-1.2389559497992244,0.9790296693868923,-0.888416311377553,-1.271624020447485,-0.38683782815487255,-0.3112174727382689,-1.3958610845724706,-0.3646318727579516,2.6623586140809947,1.278239804030543,1.4641583069138344,0.5035983514007785,0.7702324318302155,-0.8562313655545203,-1.6274232509023714,0.2750944531996166,0.7008539862181999,-0.25594811836690123,-0.3870976188644197,0.5261006417232784,0.1964263707784994,-0.9263064271086378,-0.488261838841295,0.05042984968017874,-0.029025191398035843,-0.5086244551715492,1.5059084171875694,0.07076965496823794,-1.1942297964401056,0.4900120685919607,0.9003822829550003,1.5815275119640084,0.08230211481593441,-0.6789188575459397,-0.20955368830118065,1.915784863367201,-0.5414897639944265,-1.1397451918472243,0.06123316433440914,-1.5363584833492157,-0.44175740605136277,-0.4977024511722823,-0.8060386350670952,0.23217547665242766,0.1530029564153142,0.19916716055370187,0.9103802439546376,-1.1567876338494296,-0.4954203784646236,1.5395209073602434,0.7561972792026549,-0.40766834609463987,-1.015571750157025,-0.5462836010855642,-0.20695204841393358,0.5252490005255105],\"type\":\"scatter\"},{\"line\":{\"color\":\"rgba(50, 171, 96, 1.0)\",\"dash\":\"solid\",\"shape\":\"linear\",\"width\":1.3},\"mode\":\"lines\",\"name\":\"C\",\"text\":\"\",\"x\":[0,1,2,3,4,5,6,7,8,9,10,11,12,13,14,15,16,17,18,19,20,21,22,23,24,25,26,27,28,29,30,31,32,33,34,35,36,37,38,39,40,41,42,43,44,45,46,47,48,49,50,51,52,53,54,55,56,57,58,59,60,61,62,63,64,65,66,67,68,69,70,71,72,73,74,75,76,77,78,79,80,81,82,83,84,85,86,87,88,89,90,91,92,93,94,95,96,97,98,99],\"y\":[2.3837865836348042,0.8337454629513709,-0.44035070497979484,0.3675640145013289,-1.4689105789596337,0.5919711719424133,1.1200824659503739,0.10709449183114861,-1.363205117051827,0.2802151197739775,0.22238681168946853,-1.3369883935832279,0.8795244078662957,-0.4682309574127068,2.154263439857636,0.5042543408665272,0.8380431803963164,2.0320004045327567,-0.4458730586188669,0.5720801773617187,0.5032501099442386,-0.04224715779108761,-0.5526566029076727,1.8765465233829777,0.48961407641982707,0.9249509675482437,0.5681082062181846,-0.17960641727452042,0.771128480871914,0.3350723329869273,-0.13585827442762177,0.005560655717367594,0.9820962360303911,0.10286779943902123,0.3615118069660571,0.4250557261317842,0.3477816419029761,-0.5219019677697857,0.0841551300710111,1.1561086796685336,1.4483073915162232,0.40737229684562326,0.6469833507006992,2.4202063822641486,-0.2644785558044118,1.9376106584922064,0.09665207271025082,-0.33423282228236395,-0.5305257354021574,0.130718683742174,0.46305393590723737,-0.4128376187788049,0.16217225699872154,0.09030729454393,0.8742108604957504,1.647032817150969,-0.7143668710181892,1.8385327810015186,-0.048191963038784674,0.5840118945787226,-2.688222641816865,-0.3553197894628702,-0.52404866228707,0.1341937465319343,0.3762970756553044,0.9934838329556147,0.7833557022459264,0.629109159974082,1.2276280265214414,-0.3495825148413494,0.4884121546400506,-2.000500517042181,-0.5283520269456001,-1.004126628466134,-2.584010933361183,0.5758503216393676,-0.36794037843087757,-0.09038686069550698,-0.035896792561200846,-0.27055291970669504,1.1810487492872002,1.329834716597255,0.6753533415919987,1.6466374430657869,-0.6440345419332062,-1.3546813179781783,0.6610326007324075,-0.7529469658037548,0.9108811752427859,0.3125883903206803,-0.266799345019069,-0.8701856397329435,0.22784583602906255,1.7901088134822656,-0.5651202795197222,-1.1550628847480657,0.5833194718209482,1.3887726399856906,0.16533850174549897,-1.3955953195610848],\"type\":\"scatter\"},{\"line\":{\"color\":\"rgba(128, 0, 128, 1.0)\",\"dash\":\"solid\",\"shape\":\"linear\",\"width\":1.3},\"mode\":\"lines\",\"name\":\"D\",\"text\":\"\",\"x\":[0,1,2,3,4,5,6,7,8,9,10,11,12,13,14,15,16,17,18,19,20,21,22,23,24,25,26,27,28,29,30,31,32,33,34,35,36,37,38,39,40,41,42,43,44,45,46,47,48,49,50,51,52,53,54,55,56,57,58,59,60,61,62,63,64,65,66,67,68,69,70,71,72,73,74,75,76,77,78,79,80,81,82,83,84,85,86,87,88,89,90,91,92,93,94,95,96,97,98,99],\"y\":[-0.8273066630944598,0.27331422050012766,2.8562140049146745,-0.9693747265380284,-0.07974487152265997,0.034705546672934025,-0.8959673617961699,-0.021441187707182185,-0.7766654634301396,0.4805850173193006,-0.8492500635977759,-2.211224007918174,-2.250192154742491,-1.3741957777675389,-0.009093389815766564,2.23134516487357,0.8774530478783776,0.43450087429221995,-0.19812913142573804,0.3144369783707955,-0.926562871054008,-0.29629367882683416,-1.0782977138537333,-1.4784196401948362,-0.32645512090688056,-0.7663910567026927,-0.6222654249262285,0.7681465847596798,2.386706616239427,0.6808715117647883,-0.1774657419590166,1.218938963909932,-0.6134301604369194,0.3723545439058522,0.6410275817754367,-0.24665465091351202,-2.5309618098311057,0.7961530978475005,0.12923271984211596,1.2326280693628313,-0.36136774120302945,0.2340587782888746,0.6034248553535082,0.5066595596956776,-0.6925840786310593,-0.5003015225399018,0.3455475657267796,0.33365453981737236,-0.9205532192755903,-0.2626712170091331,0.45034477871932777,-0.041310383330957774,-1.1739558583460423,-1.0665281388804828,-2.1134175759655616,0.97188132055067,-0.6063522070313438,0.4172485067929127,-1.3216417994002818,1.3260867850521425,0.1832930959274856,0.638577123442529,-1.555749513295139,2.4281733076277385,0.4453425415951846,-1.0100675643737924,0.4404058004304574,-0.9904695340576503,-0.428282458149643,-1.3498954821167286,-1.478886381421938,0.23051706568145464,-0.05892182529786133,-0.9367016024788103,-0.7622085517162878,0.5937253381511041,1.1928433672473235,-1.7468899682777217,0.7171005120250424,0.38205912709379447,0.4749135262565678,-1.2285015929742902,-0.3518333442150796,-0.2962352378419485,-0.5750722232738468,0.2637340239710272,-0.8925797512777627,-0.2050063683956568,1.523407840026115,-1.2032613975901485,-0.8828685783254572,0.08019814530005213,-2.2708578569354883,0.20005633204668902,-0.09784207844466804,-0.3998155393024862,0.44365798604099627,-1.2507312929599415,-1.5205147486035204,1.1435873832313297],\"type\":\"scatter\"}],                        {\"legend\":{\"bgcolor\":\"#F5F6F9\",\"font\":{\"color\":\"#4D5663\"}},\"paper_bgcolor\":\"#F5F6F9\",\"plot_bgcolor\":\"#F5F6F9\",\"template\":{\"data\":{\"barpolar\":[{\"marker\":{\"line\":{\"color\":\"#E5ECF6\",\"width\":0.5},\"pattern\":{\"fillmode\":\"overlay\",\"size\":10,\"solidity\":0.2}},\"type\":\"barpolar\"}],\"bar\":[{\"error_x\":{\"color\":\"#2a3f5f\"},\"error_y\":{\"color\":\"#2a3f5f\"},\"marker\":{\"line\":{\"color\":\"#E5ECF6\",\"width\":0.5},\"pattern\":{\"fillmode\":\"overlay\",\"size\":10,\"solidity\":0.2}},\"type\":\"bar\"}],\"carpet\":[{\"aaxis\":{\"endlinecolor\":\"#2a3f5f\",\"gridcolor\":\"white\",\"linecolor\":\"white\",\"minorgridcolor\":\"white\",\"startlinecolor\":\"#2a3f5f\"},\"baxis\":{\"endlinecolor\":\"#2a3f5f\",\"gridcolor\":\"white\",\"linecolor\":\"white\",\"minorgridcolor\":\"white\",\"startlinecolor\":\"#2a3f5f\"},\"type\":\"carpet\"}],\"choropleth\":[{\"colorbar\":{\"outlinewidth\":0,\"ticks\":\"\"},\"type\":\"choropleth\"}],\"contourcarpet\":[{\"colorbar\":{\"outlinewidth\":0,\"ticks\":\"\"},\"type\":\"contourcarpet\"}],\"contour\":[{\"colorbar\":{\"outlinewidth\":0,\"ticks\":\"\"},\"colorscale\":[[0.0,\"#0d0887\"],[0.1111111111111111,\"#46039f\"],[0.2222222222222222,\"#7201a8\"],[0.3333333333333333,\"#9c179e\"],[0.4444444444444444,\"#bd3786\"],[0.5555555555555556,\"#d8576b\"],[0.6666666666666666,\"#ed7953\"],[0.7777777777777778,\"#fb9f3a\"],[0.8888888888888888,\"#fdca26\"],[1.0,\"#f0f921\"]],\"type\":\"contour\"}],\"heatmapgl\":[{\"colorbar\":{\"outlinewidth\":0,\"ticks\":\"\"},\"colorscale\":[[0.0,\"#0d0887\"],[0.1111111111111111,\"#46039f\"],[0.2222222222222222,\"#7201a8\"],[0.3333333333333333,\"#9c179e\"],[0.4444444444444444,\"#bd3786\"],[0.5555555555555556,\"#d8576b\"],[0.6666666666666666,\"#ed7953\"],[0.7777777777777778,\"#fb9f3a\"],[0.8888888888888888,\"#fdca26\"],[1.0,\"#f0f921\"]],\"type\":\"heatmapgl\"}],\"heatmap\":[{\"colorbar\":{\"outlinewidth\":0,\"ticks\":\"\"},\"colorscale\":[[0.0,\"#0d0887\"],[0.1111111111111111,\"#46039f\"],[0.2222222222222222,\"#7201a8\"],[0.3333333333333333,\"#9c179e\"],[0.4444444444444444,\"#bd3786\"],[0.5555555555555556,\"#d8576b\"],[0.6666666666666666,\"#ed7953\"],[0.7777777777777778,\"#fb9f3a\"],[0.8888888888888888,\"#fdca26\"],[1.0,\"#f0f921\"]],\"type\":\"heatmap\"}],\"histogram2dcontour\":[{\"colorbar\":{\"outlinewidth\":0,\"ticks\":\"\"},\"colorscale\":[[0.0,\"#0d0887\"],[0.1111111111111111,\"#46039f\"],[0.2222222222222222,\"#7201a8\"],[0.3333333333333333,\"#9c179e\"],[0.4444444444444444,\"#bd3786\"],[0.5555555555555556,\"#d8576b\"],[0.6666666666666666,\"#ed7953\"],[0.7777777777777778,\"#fb9f3a\"],[0.8888888888888888,\"#fdca26\"],[1.0,\"#f0f921\"]],\"type\":\"histogram2dcontour\"}],\"histogram2d\":[{\"colorbar\":{\"outlinewidth\":0,\"ticks\":\"\"},\"colorscale\":[[0.0,\"#0d0887\"],[0.1111111111111111,\"#46039f\"],[0.2222222222222222,\"#7201a8\"],[0.3333333333333333,\"#9c179e\"],[0.4444444444444444,\"#bd3786\"],[0.5555555555555556,\"#d8576b\"],[0.6666666666666666,\"#ed7953\"],[0.7777777777777778,\"#fb9f3a\"],[0.8888888888888888,\"#fdca26\"],[1.0,\"#f0f921\"]],\"type\":\"histogram2d\"}],\"histogram\":[{\"marker\":{\"pattern\":{\"fillmode\":\"overlay\",\"size\":10,\"solidity\":0.2}},\"type\":\"histogram\"}],\"mesh3d\":[{\"colorbar\":{\"outlinewidth\":0,\"ticks\":\"\"},\"type\":\"mesh3d\"}],\"parcoords\":[{\"line\":{\"colorbar\":{\"outlinewidth\":0,\"ticks\":\"\"}},\"type\":\"parcoords\"}],\"pie\":[{\"automargin\":true,\"type\":\"pie\"}],\"scatter3d\":[{\"line\":{\"colorbar\":{\"outlinewidth\":0,\"ticks\":\"\"}},\"marker\":{\"colorbar\":{\"outlinewidth\":0,\"ticks\":\"\"}},\"type\":\"scatter3d\"}],\"scattercarpet\":[{\"marker\":{\"colorbar\":{\"outlinewidth\":0,\"ticks\":\"\"}},\"type\":\"scattercarpet\"}],\"scattergeo\":[{\"marker\":{\"colorbar\":{\"outlinewidth\":0,\"ticks\":\"\"}},\"type\":\"scattergeo\"}],\"scattergl\":[{\"marker\":{\"colorbar\":{\"outlinewidth\":0,\"ticks\":\"\"}},\"type\":\"scattergl\"}],\"scattermapbox\":[{\"marker\":{\"colorbar\":{\"outlinewidth\":0,\"ticks\":\"\"}},\"type\":\"scattermapbox\"}],\"scatterpolargl\":[{\"marker\":{\"colorbar\":{\"outlinewidth\":0,\"ticks\":\"\"}},\"type\":\"scatterpolargl\"}],\"scatterpolar\":[{\"marker\":{\"colorbar\":{\"outlinewidth\":0,\"ticks\":\"\"}},\"type\":\"scatterpolar\"}],\"scatter\":[{\"fillpattern\":{\"fillmode\":\"overlay\",\"size\":10,\"solidity\":0.2},\"type\":\"scatter\"}],\"scatterternary\":[{\"marker\":{\"colorbar\":{\"outlinewidth\":0,\"ticks\":\"\"}},\"type\":\"scatterternary\"}],\"surface\":[{\"colorbar\":{\"outlinewidth\":0,\"ticks\":\"\"},\"colorscale\":[[0.0,\"#0d0887\"],[0.1111111111111111,\"#46039f\"],[0.2222222222222222,\"#7201a8\"],[0.3333333333333333,\"#9c179e\"],[0.4444444444444444,\"#bd3786\"],[0.5555555555555556,\"#d8576b\"],[0.6666666666666666,\"#ed7953\"],[0.7777777777777778,\"#fb9f3a\"],[0.8888888888888888,\"#fdca26\"],[1.0,\"#f0f921\"]],\"type\":\"surface\"}],\"table\":[{\"cells\":{\"fill\":{\"color\":\"#EBF0F8\"},\"line\":{\"color\":\"white\"}},\"header\":{\"fill\":{\"color\":\"#C8D4E3\"},\"line\":{\"color\":\"white\"}},\"type\":\"table\"}]},\"layout\":{\"annotationdefaults\":{\"arrowcolor\":\"#2a3f5f\",\"arrowhead\":0,\"arrowwidth\":1},\"autotypenumbers\":\"strict\",\"coloraxis\":{\"colorbar\":{\"outlinewidth\":0,\"ticks\":\"\"}},\"colorscale\":{\"diverging\":[[0,\"#8e0152\"],[0.1,\"#c51b7d\"],[0.2,\"#de77ae\"],[0.3,\"#f1b6da\"],[0.4,\"#fde0ef\"],[0.5,\"#f7f7f7\"],[0.6,\"#e6f5d0\"],[0.7,\"#b8e186\"],[0.8,\"#7fbc41\"],[0.9,\"#4d9221\"],[1,\"#276419\"]],\"sequential\":[[0.0,\"#0d0887\"],[0.1111111111111111,\"#46039f\"],[0.2222222222222222,\"#7201a8\"],[0.3333333333333333,\"#9c179e\"],[0.4444444444444444,\"#bd3786\"],[0.5555555555555556,\"#d8576b\"],[0.6666666666666666,\"#ed7953\"],[0.7777777777777778,\"#fb9f3a\"],[0.8888888888888888,\"#fdca26\"],[1.0,\"#f0f921\"]],\"sequentialminus\":[[0.0,\"#0d0887\"],[0.1111111111111111,\"#46039f\"],[0.2222222222222222,\"#7201a8\"],[0.3333333333333333,\"#9c179e\"],[0.4444444444444444,\"#bd3786\"],[0.5555555555555556,\"#d8576b\"],[0.6666666666666666,\"#ed7953\"],[0.7777777777777778,\"#fb9f3a\"],[0.8888888888888888,\"#fdca26\"],[1.0,\"#f0f921\"]]},\"colorway\":[\"#636efa\",\"#EF553B\",\"#00cc96\",\"#ab63fa\",\"#FFA15A\",\"#19d3f3\",\"#FF6692\",\"#B6E880\",\"#FF97FF\",\"#FECB52\"],\"font\":{\"color\":\"#2a3f5f\"},\"geo\":{\"bgcolor\":\"white\",\"lakecolor\":\"white\",\"landcolor\":\"#E5ECF6\",\"showlakes\":true,\"showland\":true,\"subunitcolor\":\"white\"},\"hoverlabel\":{\"align\":\"left\"},\"hovermode\":\"closest\",\"mapbox\":{\"style\":\"light\"},\"paper_bgcolor\":\"white\",\"plot_bgcolor\":\"#E5ECF6\",\"polar\":{\"angularaxis\":{\"gridcolor\":\"white\",\"linecolor\":\"white\",\"ticks\":\"\"},\"bgcolor\":\"#E5ECF6\",\"radialaxis\":{\"gridcolor\":\"white\",\"linecolor\":\"white\",\"ticks\":\"\"}},\"scene\":{\"xaxis\":{\"backgroundcolor\":\"#E5ECF6\",\"gridcolor\":\"white\",\"gridwidth\":2,\"linecolor\":\"white\",\"showbackground\":true,\"ticks\":\"\",\"zerolinecolor\":\"white\"},\"yaxis\":{\"backgroundcolor\":\"#E5ECF6\",\"gridcolor\":\"white\",\"gridwidth\":2,\"linecolor\":\"white\",\"showbackground\":true,\"ticks\":\"\",\"zerolinecolor\":\"white\"},\"zaxis\":{\"backgroundcolor\":\"#E5ECF6\",\"gridcolor\":\"white\",\"gridwidth\":2,\"linecolor\":\"white\",\"showbackground\":true,\"ticks\":\"\",\"zerolinecolor\":\"white\"}},\"shapedefaults\":{\"line\":{\"color\":\"#2a3f5f\"}},\"ternary\":{\"aaxis\":{\"gridcolor\":\"white\",\"linecolor\":\"white\",\"ticks\":\"\"},\"baxis\":{\"gridcolor\":\"white\",\"linecolor\":\"white\",\"ticks\":\"\"},\"bgcolor\":\"#E5ECF6\",\"caxis\":{\"gridcolor\":\"white\",\"linecolor\":\"white\",\"ticks\":\"\"}},\"title\":{\"x\":0.05},\"xaxis\":{\"automargin\":true,\"gridcolor\":\"white\",\"linecolor\":\"white\",\"ticks\":\"\",\"title\":{\"standoff\":15},\"zerolinecolor\":\"white\",\"zerolinewidth\":2},\"yaxis\":{\"automargin\":true,\"gridcolor\":\"white\",\"linecolor\":\"white\",\"ticks\":\"\",\"title\":{\"standoff\":15},\"zerolinecolor\":\"white\",\"zerolinewidth\":2}}},\"title\":{\"font\":{\"color\":\"#4D5663\"}},\"xaxis\":{\"gridcolor\":\"#E1E5ED\",\"showgrid\":true,\"tickfont\":{\"color\":\"#4D5663\"},\"title\":{\"font\":{\"color\":\"#4D5663\"},\"text\":\"\"},\"zerolinecolor\":\"#E1E5ED\"},\"yaxis\":{\"gridcolor\":\"#E1E5ED\",\"showgrid\":true,\"tickfont\":{\"color\":\"#4D5663\"},\"title\":{\"font\":{\"color\":\"#4D5663\"},\"text\":\"\"},\"zerolinecolor\":\"#E1E5ED\"}},                        {\"showLink\": true, \"linkText\": \"Export to plot.ly\", \"plotlyServerURL\": \"https://plot.ly\", \"responsive\": true}                    ).then(function(){\n",
       "                            \n",
       "var gd = document.getElementById('a2b0c61a-a559-49b7-836c-60e075999867');\n",
       "var x = new MutationObserver(function (mutations, observer) {{\n",
       "        var display = window.getComputedStyle(gd).display;\n",
       "        if (!display || display === 'none') {{\n",
       "            console.log([gd, 'removed!']);\n",
       "            Plotly.purge(gd);\n",
       "            observer.disconnect();\n",
       "        }}\n",
       "}});\n",
       "\n",
       "// Listen for the removal of the full notebook cells\n",
       "var notebookContainer = gd.closest('#notebook-container');\n",
       "if (notebookContainer) {{\n",
       "    x.observe(notebookContainer, {childList: true});\n",
       "}}\n",
       "\n",
       "// Listen for the clearing of the current output cell\n",
       "var outputEl = gd.closest('.output');\n",
       "if (outputEl) {{\n",
       "    x.observe(outputEl, {childList: true});\n",
       "}}\n",
       "\n",
       "                        })                };                });            </script>        </div>"
      ]
     },
     "metadata": {},
     "output_type": "display_data"
    }
   ],
   "source": [
    "df.iplot()         #iplot interactive plot k liye ha jo different functions perform kar sakta ha "
   ]
  },
  {
   "cell_type": "code",
   "execution_count": 55,
   "id": "2513ad10",
   "metadata": {},
   "outputs": [
    {
     "data": {
      "application/vnd.plotly.v1+json": {
       "config": {
        "linkText": "Export to plot.ly",
        "plotlyServerURL": "https://plot.ly",
        "showLink": true
       },
       "data": [
        {
         "line": {
          "color": "rgba(255, 153, 51, 1.0)",
          "dash": "solid",
          "shape": "linear",
          "width": 1.3
         },
         "marker": {
          "size": 10,
          "symbol": "circle"
         },
         "mode": "markers",
         "name": "B",
         "text": "",
         "type": "scatter",
         "x": [
          -2.0248994302722,
          1.1206783216849459,
          -0.14714216901426908,
          0.6670829874275235,
          -0.023376648075685052,
          0.5060352952627416,
          -0.9478339706882272,
          2.7301806156870327,
          0.1500701083538797,
          -1.629253867207095,
          0.025633123118659527,
          -1.6180567997975985,
          -0.6201539883082475,
          0.6980153432116343,
          1.3457098806675134,
          -0.4733132068550389,
          1.218327984233927,
          1.0720706177131725,
          0.7266855883867765,
          -1.1328801679679639,
          1.285011116428947,
          -1.135743951530807,
          -1.0992156651659082,
          0.804292155497312,
          2.889420935902672,
          0.913650499514228,
          -1.2359684228301904,
          2.2394880583415873,
          1.0592166701930064,
          1.0330178731064599,
          1.0204782513370658,
          0.8787309750034229,
          0.6885987819603279,
          0.5437470084021745,
          -0.13455229775785477,
          -1.5005765916391522,
          0.4021446100381902,
          -1.2098195163672532,
          -0.397151218679385,
          0.14678399705766368,
          -0.41007694139382683,
          -0.8761747336518552,
          -0.03269185454668553,
          -0.832459749750178,
          -0.373553019196941,
          0.5976385942822937,
          -2.6303076986098883,
          0.49207673349323555,
          -0.24612515085494288,
          -1.1255327396654367,
          -0.48070458660037485,
          0.12895287721669293,
          -1.4090236036807335,
          -0.47182676530688755,
          0.23063424612448724,
          1.0277807157421683,
          0.9843342322642673,
          -0.09074566210834423,
          0.6472245732614761,
          -0.9203721156635134,
          -0.1257185498876959,
          -0.08710102389783692,
          -0.27268093799410975,
          -0.1414327108596726,
          -0.4611742525389193,
          0.8261375525274487,
          1.4565299222233419,
          -0.10042343837103451,
          -0.43689372589308856,
          -1.9981308411765657,
          -0.462754228780885,
          0.12754204376341816,
          -0.3433380435620271,
          -1.1692171929398942,
          0.782475324852804,
          -0.5319658940434484,
          2.225256725090445,
          1.089115482983619,
          -1.2430161750082012,
          1.2502312241220217,
          0.7905200967038304,
          2.734169374856847,
          -0.45361764475918365,
          -2.790893563542634,
          -0.9096538705796186,
          -0.7919999287925056,
          -0.38852093632309764,
          1.2568796152307298,
          -0.7385552048964777,
          -1.1615287328500985,
          0.5144036947754764,
          -0.9145163371493532,
          -0.38025656162124044,
          -1.0580205499766269,
          0.4825574966126437,
          -1.6269134861205365,
          -0.4224550151287948,
          -0.325133894910615,
          -0.8685891545573913,
          0.6256080741969859
         ],
         "y": [
          1.244836717788421,
          -0.9113941741042547,
          0.24394904664371372,
          -0.3737083895924538,
          -1.0156947705953163,
          -0.25182333626234465,
          0.8025286099024215,
          -0.20904853915624613,
          -0.30335425935993415,
          -0.26015079829732535,
          -1.1652126737952444,
          -0.11601906352932617,
          0.3807298858276337,
          1.94622992408519,
          0.6918761245098521,
          0.12092987307672229,
          -0.7023721643644166,
          1.3436373835210946,
          -0.6047922436199462,
          0.05834742392095939,
          0.28252996046243645,
          0.5807192890824402,
          0.9861845276129169,
          0.5742445414696716,
          -0.3491755041321152,
          -0.03338709450851653,
          -0.42860738129677367,
          0.2814274678037998,
          -0.570275107112393,
          -1.1115427162391993,
          0.18700072674060986,
          -1.9030952679536954,
          -0.7194428719098581,
          0.5403296720195768,
          -0.24680054080514882,
          -0.5048407548451164,
          0.2939101111553618,
          1.7639202744963427,
          0.8625832635466819,
          -0.7654995595177715,
          1.6888924720096499,
          0.7020255211661659,
          -0.606354316327178,
          1.5640243081651144,
          -1.2389559497992244,
          0.9790296693868923,
          -0.888416311377553,
          -1.271624020447485,
          -0.38683782815487255,
          -0.3112174727382689,
          -1.3958610845724706,
          -0.3646318727579516,
          2.6623586140809947,
          1.278239804030543,
          1.4641583069138344,
          0.5035983514007785,
          0.7702324318302155,
          -0.8562313655545203,
          -1.6274232509023714,
          0.2750944531996166,
          0.7008539862181999,
          -0.25594811836690123,
          -0.3870976188644197,
          0.5261006417232784,
          0.1964263707784994,
          -0.9263064271086378,
          -0.488261838841295,
          0.05042984968017874,
          -0.029025191398035843,
          -0.5086244551715492,
          1.5059084171875694,
          0.07076965496823794,
          -1.1942297964401056,
          0.4900120685919607,
          0.9003822829550003,
          1.5815275119640084,
          0.08230211481593441,
          -0.6789188575459397,
          -0.20955368830118065,
          1.915784863367201,
          -0.5414897639944265,
          -1.1397451918472243,
          0.06123316433440914,
          -1.5363584833492157,
          -0.44175740605136277,
          -0.4977024511722823,
          -0.8060386350670952,
          0.23217547665242766,
          0.1530029564153142,
          0.19916716055370187,
          0.9103802439546376,
          -1.1567876338494296,
          -0.4954203784646236,
          1.5395209073602434,
          0.7561972792026549,
          -0.40766834609463987,
          -1.015571750157025,
          -0.5462836010855642,
          -0.20695204841393358,
          0.5252490005255105
         ]
        }
       ],
       "layout": {
        "legend": {
         "bgcolor": "#F5F6F9",
         "font": {
          "color": "#4D5663"
         }
        },
        "paper_bgcolor": "#F5F6F9",
        "plot_bgcolor": "#F5F6F9",
        "template": {
         "data": {
          "bar": [
           {
            "error_x": {
             "color": "#2a3f5f"
            },
            "error_y": {
             "color": "#2a3f5f"
            },
            "marker": {
             "line": {
              "color": "#E5ECF6",
              "width": 0.5
             },
             "pattern": {
              "fillmode": "overlay",
              "size": 10,
              "solidity": 0.2
             }
            },
            "type": "bar"
           }
          ],
          "barpolar": [
           {
            "marker": {
             "line": {
              "color": "#E5ECF6",
              "width": 0.5
             },
             "pattern": {
              "fillmode": "overlay",
              "size": 10,
              "solidity": 0.2
             }
            },
            "type": "barpolar"
           }
          ],
          "carpet": [
           {
            "aaxis": {
             "endlinecolor": "#2a3f5f",
             "gridcolor": "white",
             "linecolor": "white",
             "minorgridcolor": "white",
             "startlinecolor": "#2a3f5f"
            },
            "baxis": {
             "endlinecolor": "#2a3f5f",
             "gridcolor": "white",
             "linecolor": "white",
             "minorgridcolor": "white",
             "startlinecolor": "#2a3f5f"
            },
            "type": "carpet"
           }
          ],
          "choropleth": [
           {
            "colorbar": {
             "outlinewidth": 0,
             "ticks": ""
            },
            "type": "choropleth"
           }
          ],
          "contour": [
           {
            "colorbar": {
             "outlinewidth": 0,
             "ticks": ""
            },
            "colorscale": [
             [
              0,
              "#0d0887"
             ],
             [
              0.1111111111111111,
              "#46039f"
             ],
             [
              0.2222222222222222,
              "#7201a8"
             ],
             [
              0.3333333333333333,
              "#9c179e"
             ],
             [
              0.4444444444444444,
              "#bd3786"
             ],
             [
              0.5555555555555556,
              "#d8576b"
             ],
             [
              0.6666666666666666,
              "#ed7953"
             ],
             [
              0.7777777777777778,
              "#fb9f3a"
             ],
             [
              0.8888888888888888,
              "#fdca26"
             ],
             [
              1,
              "#f0f921"
             ]
            ],
            "type": "contour"
           }
          ],
          "contourcarpet": [
           {
            "colorbar": {
             "outlinewidth": 0,
             "ticks": ""
            },
            "type": "contourcarpet"
           }
          ],
          "heatmap": [
           {
            "colorbar": {
             "outlinewidth": 0,
             "ticks": ""
            },
            "colorscale": [
             [
              0,
              "#0d0887"
             ],
             [
              0.1111111111111111,
              "#46039f"
             ],
             [
              0.2222222222222222,
              "#7201a8"
             ],
             [
              0.3333333333333333,
              "#9c179e"
             ],
             [
              0.4444444444444444,
              "#bd3786"
             ],
             [
              0.5555555555555556,
              "#d8576b"
             ],
             [
              0.6666666666666666,
              "#ed7953"
             ],
             [
              0.7777777777777778,
              "#fb9f3a"
             ],
             [
              0.8888888888888888,
              "#fdca26"
             ],
             [
              1,
              "#f0f921"
             ]
            ],
            "type": "heatmap"
           }
          ],
          "heatmapgl": [
           {
            "colorbar": {
             "outlinewidth": 0,
             "ticks": ""
            },
            "colorscale": [
             [
              0,
              "#0d0887"
             ],
             [
              0.1111111111111111,
              "#46039f"
             ],
             [
              0.2222222222222222,
              "#7201a8"
             ],
             [
              0.3333333333333333,
              "#9c179e"
             ],
             [
              0.4444444444444444,
              "#bd3786"
             ],
             [
              0.5555555555555556,
              "#d8576b"
             ],
             [
              0.6666666666666666,
              "#ed7953"
             ],
             [
              0.7777777777777778,
              "#fb9f3a"
             ],
             [
              0.8888888888888888,
              "#fdca26"
             ],
             [
              1,
              "#f0f921"
             ]
            ],
            "type": "heatmapgl"
           }
          ],
          "histogram": [
           {
            "marker": {
             "pattern": {
              "fillmode": "overlay",
              "size": 10,
              "solidity": 0.2
             }
            },
            "type": "histogram"
           }
          ],
          "histogram2d": [
           {
            "colorbar": {
             "outlinewidth": 0,
             "ticks": ""
            },
            "colorscale": [
             [
              0,
              "#0d0887"
             ],
             [
              0.1111111111111111,
              "#46039f"
             ],
             [
              0.2222222222222222,
              "#7201a8"
             ],
             [
              0.3333333333333333,
              "#9c179e"
             ],
             [
              0.4444444444444444,
              "#bd3786"
             ],
             [
              0.5555555555555556,
              "#d8576b"
             ],
             [
              0.6666666666666666,
              "#ed7953"
             ],
             [
              0.7777777777777778,
              "#fb9f3a"
             ],
             [
              0.8888888888888888,
              "#fdca26"
             ],
             [
              1,
              "#f0f921"
             ]
            ],
            "type": "histogram2d"
           }
          ],
          "histogram2dcontour": [
           {
            "colorbar": {
             "outlinewidth": 0,
             "ticks": ""
            },
            "colorscale": [
             [
              0,
              "#0d0887"
             ],
             [
              0.1111111111111111,
              "#46039f"
             ],
             [
              0.2222222222222222,
              "#7201a8"
             ],
             [
              0.3333333333333333,
              "#9c179e"
             ],
             [
              0.4444444444444444,
              "#bd3786"
             ],
             [
              0.5555555555555556,
              "#d8576b"
             ],
             [
              0.6666666666666666,
              "#ed7953"
             ],
             [
              0.7777777777777778,
              "#fb9f3a"
             ],
             [
              0.8888888888888888,
              "#fdca26"
             ],
             [
              1,
              "#f0f921"
             ]
            ],
            "type": "histogram2dcontour"
           }
          ],
          "mesh3d": [
           {
            "colorbar": {
             "outlinewidth": 0,
             "ticks": ""
            },
            "type": "mesh3d"
           }
          ],
          "parcoords": [
           {
            "line": {
             "colorbar": {
              "outlinewidth": 0,
              "ticks": ""
             }
            },
            "type": "parcoords"
           }
          ],
          "pie": [
           {
            "automargin": true,
            "type": "pie"
           }
          ],
          "scatter": [
           {
            "fillpattern": {
             "fillmode": "overlay",
             "size": 10,
             "solidity": 0.2
            },
            "type": "scatter"
           }
          ],
          "scatter3d": [
           {
            "line": {
             "colorbar": {
              "outlinewidth": 0,
              "ticks": ""
             }
            },
            "marker": {
             "colorbar": {
              "outlinewidth": 0,
              "ticks": ""
             }
            },
            "type": "scatter3d"
           }
          ],
          "scattercarpet": [
           {
            "marker": {
             "colorbar": {
              "outlinewidth": 0,
              "ticks": ""
             }
            },
            "type": "scattercarpet"
           }
          ],
          "scattergeo": [
           {
            "marker": {
             "colorbar": {
              "outlinewidth": 0,
              "ticks": ""
             }
            },
            "type": "scattergeo"
           }
          ],
          "scattergl": [
           {
            "marker": {
             "colorbar": {
              "outlinewidth": 0,
              "ticks": ""
             }
            },
            "type": "scattergl"
           }
          ],
          "scattermapbox": [
           {
            "marker": {
             "colorbar": {
              "outlinewidth": 0,
              "ticks": ""
             }
            },
            "type": "scattermapbox"
           }
          ],
          "scatterpolar": [
           {
            "marker": {
             "colorbar": {
              "outlinewidth": 0,
              "ticks": ""
             }
            },
            "type": "scatterpolar"
           }
          ],
          "scatterpolargl": [
           {
            "marker": {
             "colorbar": {
              "outlinewidth": 0,
              "ticks": ""
             }
            },
            "type": "scatterpolargl"
           }
          ],
          "scatterternary": [
           {
            "marker": {
             "colorbar": {
              "outlinewidth": 0,
              "ticks": ""
             }
            },
            "type": "scatterternary"
           }
          ],
          "surface": [
           {
            "colorbar": {
             "outlinewidth": 0,
             "ticks": ""
            },
            "colorscale": [
             [
              0,
              "#0d0887"
             ],
             [
              0.1111111111111111,
              "#46039f"
             ],
             [
              0.2222222222222222,
              "#7201a8"
             ],
             [
              0.3333333333333333,
              "#9c179e"
             ],
             [
              0.4444444444444444,
              "#bd3786"
             ],
             [
              0.5555555555555556,
              "#d8576b"
             ],
             [
              0.6666666666666666,
              "#ed7953"
             ],
             [
              0.7777777777777778,
              "#fb9f3a"
             ],
             [
              0.8888888888888888,
              "#fdca26"
             ],
             [
              1,
              "#f0f921"
             ]
            ],
            "type": "surface"
           }
          ],
          "table": [
           {
            "cells": {
             "fill": {
              "color": "#EBF0F8"
             },
             "line": {
              "color": "white"
             }
            },
            "header": {
             "fill": {
              "color": "#C8D4E3"
             },
             "line": {
              "color": "white"
             }
            },
            "type": "table"
           }
          ]
         },
         "layout": {
          "annotationdefaults": {
           "arrowcolor": "#2a3f5f",
           "arrowhead": 0,
           "arrowwidth": 1
          },
          "autotypenumbers": "strict",
          "coloraxis": {
           "colorbar": {
            "outlinewidth": 0,
            "ticks": ""
           }
          },
          "colorscale": {
           "diverging": [
            [
             0,
             "#8e0152"
            ],
            [
             0.1,
             "#c51b7d"
            ],
            [
             0.2,
             "#de77ae"
            ],
            [
             0.3,
             "#f1b6da"
            ],
            [
             0.4,
             "#fde0ef"
            ],
            [
             0.5,
             "#f7f7f7"
            ],
            [
             0.6,
             "#e6f5d0"
            ],
            [
             0.7,
             "#b8e186"
            ],
            [
             0.8,
             "#7fbc41"
            ],
            [
             0.9,
             "#4d9221"
            ],
            [
             1,
             "#276419"
            ]
           ],
           "sequential": [
            [
             0,
             "#0d0887"
            ],
            [
             0.1111111111111111,
             "#46039f"
            ],
            [
             0.2222222222222222,
             "#7201a8"
            ],
            [
             0.3333333333333333,
             "#9c179e"
            ],
            [
             0.4444444444444444,
             "#bd3786"
            ],
            [
             0.5555555555555556,
             "#d8576b"
            ],
            [
             0.6666666666666666,
             "#ed7953"
            ],
            [
             0.7777777777777778,
             "#fb9f3a"
            ],
            [
             0.8888888888888888,
             "#fdca26"
            ],
            [
             1,
             "#f0f921"
            ]
           ],
           "sequentialminus": [
            [
             0,
             "#0d0887"
            ],
            [
             0.1111111111111111,
             "#46039f"
            ],
            [
             0.2222222222222222,
             "#7201a8"
            ],
            [
             0.3333333333333333,
             "#9c179e"
            ],
            [
             0.4444444444444444,
             "#bd3786"
            ],
            [
             0.5555555555555556,
             "#d8576b"
            ],
            [
             0.6666666666666666,
             "#ed7953"
            ],
            [
             0.7777777777777778,
             "#fb9f3a"
            ],
            [
             0.8888888888888888,
             "#fdca26"
            ],
            [
             1,
             "#f0f921"
            ]
           ]
          },
          "colorway": [
           "#636efa",
           "#EF553B",
           "#00cc96",
           "#ab63fa",
           "#FFA15A",
           "#19d3f3",
           "#FF6692",
           "#B6E880",
           "#FF97FF",
           "#FECB52"
          ],
          "font": {
           "color": "#2a3f5f"
          },
          "geo": {
           "bgcolor": "white",
           "lakecolor": "white",
           "landcolor": "#E5ECF6",
           "showlakes": true,
           "showland": true,
           "subunitcolor": "white"
          },
          "hoverlabel": {
           "align": "left"
          },
          "hovermode": "closest",
          "mapbox": {
           "style": "light"
          },
          "paper_bgcolor": "white",
          "plot_bgcolor": "#E5ECF6",
          "polar": {
           "angularaxis": {
            "gridcolor": "white",
            "linecolor": "white",
            "ticks": ""
           },
           "bgcolor": "#E5ECF6",
           "radialaxis": {
            "gridcolor": "white",
            "linecolor": "white",
            "ticks": ""
           }
          },
          "scene": {
           "xaxis": {
            "backgroundcolor": "#E5ECF6",
            "gridcolor": "white",
            "gridwidth": 2,
            "linecolor": "white",
            "showbackground": true,
            "ticks": "",
            "zerolinecolor": "white"
           },
           "yaxis": {
            "backgroundcolor": "#E5ECF6",
            "gridcolor": "white",
            "gridwidth": 2,
            "linecolor": "white",
            "showbackground": true,
            "ticks": "",
            "zerolinecolor": "white"
           },
           "zaxis": {
            "backgroundcolor": "#E5ECF6",
            "gridcolor": "white",
            "gridwidth": 2,
            "linecolor": "white",
            "showbackground": true,
            "ticks": "",
            "zerolinecolor": "white"
           }
          },
          "shapedefaults": {
           "line": {
            "color": "#2a3f5f"
           }
          },
          "ternary": {
           "aaxis": {
            "gridcolor": "white",
            "linecolor": "white",
            "ticks": ""
           },
           "baxis": {
            "gridcolor": "white",
            "linecolor": "white",
            "ticks": ""
           },
           "bgcolor": "#E5ECF6",
           "caxis": {
            "gridcolor": "white",
            "linecolor": "white",
            "ticks": ""
           }
          },
          "title": {
           "x": 0.05
          },
          "xaxis": {
           "automargin": true,
           "gridcolor": "white",
           "linecolor": "white",
           "ticks": "",
           "title": {
            "standoff": 15
           },
           "zerolinecolor": "white",
           "zerolinewidth": 2
          },
          "yaxis": {
           "automargin": true,
           "gridcolor": "white",
           "linecolor": "white",
           "ticks": "",
           "title": {
            "standoff": 15
           },
           "zerolinecolor": "white",
           "zerolinewidth": 2
          }
         }
        },
        "title": {
         "font": {
          "color": "#4D5663"
         }
        },
        "xaxis": {
         "gridcolor": "#E1E5ED",
         "showgrid": true,
         "tickfont": {
          "color": "#4D5663"
         },
         "title": {
          "font": {
           "color": "#4D5663"
          },
          "text": ""
         },
         "zerolinecolor": "#E1E5ED"
        },
        "yaxis": {
         "gridcolor": "#E1E5ED",
         "showgrid": true,
         "tickfont": {
          "color": "#4D5663"
         },
         "title": {
          "font": {
           "color": "#4D5663"
          },
          "text": ""
         },
         "zerolinecolor": "#E1E5ED"
        }
       }
      },
      "text/html": [
       "<div>                            <div id=\"785cc3b2-1534-47b4-aa7f-0b42febf623f\" class=\"plotly-graph-div\" style=\"height:525px; width:100%;\"></div>            <script type=\"text/javascript\">                require([\"plotly\"], function(Plotly) {                    window.PLOTLYENV=window.PLOTLYENV || {};\n",
       "                    window.PLOTLYENV.BASE_URL='https://plot.ly';                                    if (document.getElementById(\"785cc3b2-1534-47b4-aa7f-0b42febf623f\")) {                    Plotly.newPlot(                        \"785cc3b2-1534-47b4-aa7f-0b42febf623f\",                        [{\"line\":{\"color\":\"rgba(255, 153, 51, 1.0)\",\"dash\":\"solid\",\"shape\":\"linear\",\"width\":1.3},\"marker\":{\"size\":10,\"symbol\":\"circle\"},\"mode\":\"markers\",\"name\":\"B\",\"text\":\"\",\"x\":[-2.0248994302722,1.1206783216849459,-0.14714216901426908,0.6670829874275235,-0.023376648075685052,0.5060352952627416,-0.9478339706882272,2.7301806156870327,0.1500701083538797,-1.629253867207095,0.025633123118659527,-1.6180567997975985,-0.6201539883082475,0.6980153432116343,1.3457098806675134,-0.4733132068550389,1.218327984233927,1.0720706177131725,0.7266855883867765,-1.1328801679679639,1.285011116428947,-1.135743951530807,-1.0992156651659082,0.804292155497312,2.889420935902672,0.913650499514228,-1.2359684228301904,2.2394880583415873,1.0592166701930064,1.0330178731064599,1.0204782513370658,0.8787309750034229,0.6885987819603279,0.5437470084021745,-0.13455229775785477,-1.5005765916391522,0.4021446100381902,-1.2098195163672532,-0.397151218679385,0.14678399705766368,-0.41007694139382683,-0.8761747336518552,-0.03269185454668553,-0.832459749750178,-0.373553019196941,0.5976385942822937,-2.6303076986098883,0.49207673349323555,-0.24612515085494288,-1.1255327396654367,-0.48070458660037485,0.12895287721669293,-1.4090236036807335,-0.47182676530688755,0.23063424612448724,1.0277807157421683,0.9843342322642673,-0.09074566210834423,0.6472245732614761,-0.9203721156635134,-0.1257185498876959,-0.08710102389783692,-0.27268093799410975,-0.1414327108596726,-0.4611742525389193,0.8261375525274487,1.4565299222233419,-0.10042343837103451,-0.43689372589308856,-1.9981308411765657,-0.462754228780885,0.12754204376341816,-0.3433380435620271,-1.1692171929398942,0.782475324852804,-0.5319658940434484,2.225256725090445,1.089115482983619,-1.2430161750082012,1.2502312241220217,0.7905200967038304,2.734169374856847,-0.45361764475918365,-2.790893563542634,-0.9096538705796186,-0.7919999287925056,-0.38852093632309764,1.2568796152307298,-0.7385552048964777,-1.1615287328500985,0.5144036947754764,-0.9145163371493532,-0.38025656162124044,-1.0580205499766269,0.4825574966126437,-1.6269134861205365,-0.4224550151287948,-0.325133894910615,-0.8685891545573913,0.6256080741969859],\"y\":[1.244836717788421,-0.9113941741042547,0.24394904664371372,-0.3737083895924538,-1.0156947705953163,-0.25182333626234465,0.8025286099024215,-0.20904853915624613,-0.30335425935993415,-0.26015079829732535,-1.1652126737952444,-0.11601906352932617,0.3807298858276337,1.94622992408519,0.6918761245098521,0.12092987307672229,-0.7023721643644166,1.3436373835210946,-0.6047922436199462,0.05834742392095939,0.28252996046243645,0.5807192890824402,0.9861845276129169,0.5742445414696716,-0.3491755041321152,-0.03338709450851653,-0.42860738129677367,0.2814274678037998,-0.570275107112393,-1.1115427162391993,0.18700072674060986,-1.9030952679536954,-0.7194428719098581,0.5403296720195768,-0.24680054080514882,-0.5048407548451164,0.2939101111553618,1.7639202744963427,0.8625832635466819,-0.7654995595177715,1.6888924720096499,0.7020255211661659,-0.606354316327178,1.5640243081651144,-1.2389559497992244,0.9790296693868923,-0.888416311377553,-1.271624020447485,-0.38683782815487255,-0.3112174727382689,-1.3958610845724706,-0.3646318727579516,2.6623586140809947,1.278239804030543,1.4641583069138344,0.5035983514007785,0.7702324318302155,-0.8562313655545203,-1.6274232509023714,0.2750944531996166,0.7008539862181999,-0.25594811836690123,-0.3870976188644197,0.5261006417232784,0.1964263707784994,-0.9263064271086378,-0.488261838841295,0.05042984968017874,-0.029025191398035843,-0.5086244551715492,1.5059084171875694,0.07076965496823794,-1.1942297964401056,0.4900120685919607,0.9003822829550003,1.5815275119640084,0.08230211481593441,-0.6789188575459397,-0.20955368830118065,1.915784863367201,-0.5414897639944265,-1.1397451918472243,0.06123316433440914,-1.5363584833492157,-0.44175740605136277,-0.4977024511722823,-0.8060386350670952,0.23217547665242766,0.1530029564153142,0.19916716055370187,0.9103802439546376,-1.1567876338494296,-0.4954203784646236,1.5395209073602434,0.7561972792026549,-0.40766834609463987,-1.015571750157025,-0.5462836010855642,-0.20695204841393358,0.5252490005255105],\"type\":\"scatter\"}],                        {\"legend\":{\"bgcolor\":\"#F5F6F9\",\"font\":{\"color\":\"#4D5663\"}},\"paper_bgcolor\":\"#F5F6F9\",\"plot_bgcolor\":\"#F5F6F9\",\"template\":{\"data\":{\"barpolar\":[{\"marker\":{\"line\":{\"color\":\"#E5ECF6\",\"width\":0.5},\"pattern\":{\"fillmode\":\"overlay\",\"size\":10,\"solidity\":0.2}},\"type\":\"barpolar\"}],\"bar\":[{\"error_x\":{\"color\":\"#2a3f5f\"},\"error_y\":{\"color\":\"#2a3f5f\"},\"marker\":{\"line\":{\"color\":\"#E5ECF6\",\"width\":0.5},\"pattern\":{\"fillmode\":\"overlay\",\"size\":10,\"solidity\":0.2}},\"type\":\"bar\"}],\"carpet\":[{\"aaxis\":{\"endlinecolor\":\"#2a3f5f\",\"gridcolor\":\"white\",\"linecolor\":\"white\",\"minorgridcolor\":\"white\",\"startlinecolor\":\"#2a3f5f\"},\"baxis\":{\"endlinecolor\":\"#2a3f5f\",\"gridcolor\":\"white\",\"linecolor\":\"white\",\"minorgridcolor\":\"white\",\"startlinecolor\":\"#2a3f5f\"},\"type\":\"carpet\"}],\"choropleth\":[{\"colorbar\":{\"outlinewidth\":0,\"ticks\":\"\"},\"type\":\"choropleth\"}],\"contourcarpet\":[{\"colorbar\":{\"outlinewidth\":0,\"ticks\":\"\"},\"type\":\"contourcarpet\"}],\"contour\":[{\"colorbar\":{\"outlinewidth\":0,\"ticks\":\"\"},\"colorscale\":[[0.0,\"#0d0887\"],[0.1111111111111111,\"#46039f\"],[0.2222222222222222,\"#7201a8\"],[0.3333333333333333,\"#9c179e\"],[0.4444444444444444,\"#bd3786\"],[0.5555555555555556,\"#d8576b\"],[0.6666666666666666,\"#ed7953\"],[0.7777777777777778,\"#fb9f3a\"],[0.8888888888888888,\"#fdca26\"],[1.0,\"#f0f921\"]],\"type\":\"contour\"}],\"heatmapgl\":[{\"colorbar\":{\"outlinewidth\":0,\"ticks\":\"\"},\"colorscale\":[[0.0,\"#0d0887\"],[0.1111111111111111,\"#46039f\"],[0.2222222222222222,\"#7201a8\"],[0.3333333333333333,\"#9c179e\"],[0.4444444444444444,\"#bd3786\"],[0.5555555555555556,\"#d8576b\"],[0.6666666666666666,\"#ed7953\"],[0.7777777777777778,\"#fb9f3a\"],[0.8888888888888888,\"#fdca26\"],[1.0,\"#f0f921\"]],\"type\":\"heatmapgl\"}],\"heatmap\":[{\"colorbar\":{\"outlinewidth\":0,\"ticks\":\"\"},\"colorscale\":[[0.0,\"#0d0887\"],[0.1111111111111111,\"#46039f\"],[0.2222222222222222,\"#7201a8\"],[0.3333333333333333,\"#9c179e\"],[0.4444444444444444,\"#bd3786\"],[0.5555555555555556,\"#d8576b\"],[0.6666666666666666,\"#ed7953\"],[0.7777777777777778,\"#fb9f3a\"],[0.8888888888888888,\"#fdca26\"],[1.0,\"#f0f921\"]],\"type\":\"heatmap\"}],\"histogram2dcontour\":[{\"colorbar\":{\"outlinewidth\":0,\"ticks\":\"\"},\"colorscale\":[[0.0,\"#0d0887\"],[0.1111111111111111,\"#46039f\"],[0.2222222222222222,\"#7201a8\"],[0.3333333333333333,\"#9c179e\"],[0.4444444444444444,\"#bd3786\"],[0.5555555555555556,\"#d8576b\"],[0.6666666666666666,\"#ed7953\"],[0.7777777777777778,\"#fb9f3a\"],[0.8888888888888888,\"#fdca26\"],[1.0,\"#f0f921\"]],\"type\":\"histogram2dcontour\"}],\"histogram2d\":[{\"colorbar\":{\"outlinewidth\":0,\"ticks\":\"\"},\"colorscale\":[[0.0,\"#0d0887\"],[0.1111111111111111,\"#46039f\"],[0.2222222222222222,\"#7201a8\"],[0.3333333333333333,\"#9c179e\"],[0.4444444444444444,\"#bd3786\"],[0.5555555555555556,\"#d8576b\"],[0.6666666666666666,\"#ed7953\"],[0.7777777777777778,\"#fb9f3a\"],[0.8888888888888888,\"#fdca26\"],[1.0,\"#f0f921\"]],\"type\":\"histogram2d\"}],\"histogram\":[{\"marker\":{\"pattern\":{\"fillmode\":\"overlay\",\"size\":10,\"solidity\":0.2}},\"type\":\"histogram\"}],\"mesh3d\":[{\"colorbar\":{\"outlinewidth\":0,\"ticks\":\"\"},\"type\":\"mesh3d\"}],\"parcoords\":[{\"line\":{\"colorbar\":{\"outlinewidth\":0,\"ticks\":\"\"}},\"type\":\"parcoords\"}],\"pie\":[{\"automargin\":true,\"type\":\"pie\"}],\"scatter3d\":[{\"line\":{\"colorbar\":{\"outlinewidth\":0,\"ticks\":\"\"}},\"marker\":{\"colorbar\":{\"outlinewidth\":0,\"ticks\":\"\"}},\"type\":\"scatter3d\"}],\"scattercarpet\":[{\"marker\":{\"colorbar\":{\"outlinewidth\":0,\"ticks\":\"\"}},\"type\":\"scattercarpet\"}],\"scattergeo\":[{\"marker\":{\"colorbar\":{\"outlinewidth\":0,\"ticks\":\"\"}},\"type\":\"scattergeo\"}],\"scattergl\":[{\"marker\":{\"colorbar\":{\"outlinewidth\":0,\"ticks\":\"\"}},\"type\":\"scattergl\"}],\"scattermapbox\":[{\"marker\":{\"colorbar\":{\"outlinewidth\":0,\"ticks\":\"\"}},\"type\":\"scattermapbox\"}],\"scatterpolargl\":[{\"marker\":{\"colorbar\":{\"outlinewidth\":0,\"ticks\":\"\"}},\"type\":\"scatterpolargl\"}],\"scatterpolar\":[{\"marker\":{\"colorbar\":{\"outlinewidth\":0,\"ticks\":\"\"}},\"type\":\"scatterpolar\"}],\"scatter\":[{\"fillpattern\":{\"fillmode\":\"overlay\",\"size\":10,\"solidity\":0.2},\"type\":\"scatter\"}],\"scatterternary\":[{\"marker\":{\"colorbar\":{\"outlinewidth\":0,\"ticks\":\"\"}},\"type\":\"scatterternary\"}],\"surface\":[{\"colorbar\":{\"outlinewidth\":0,\"ticks\":\"\"},\"colorscale\":[[0.0,\"#0d0887\"],[0.1111111111111111,\"#46039f\"],[0.2222222222222222,\"#7201a8\"],[0.3333333333333333,\"#9c179e\"],[0.4444444444444444,\"#bd3786\"],[0.5555555555555556,\"#d8576b\"],[0.6666666666666666,\"#ed7953\"],[0.7777777777777778,\"#fb9f3a\"],[0.8888888888888888,\"#fdca26\"],[1.0,\"#f0f921\"]],\"type\":\"surface\"}],\"table\":[{\"cells\":{\"fill\":{\"color\":\"#EBF0F8\"},\"line\":{\"color\":\"white\"}},\"header\":{\"fill\":{\"color\":\"#C8D4E3\"},\"line\":{\"color\":\"white\"}},\"type\":\"table\"}]},\"layout\":{\"annotationdefaults\":{\"arrowcolor\":\"#2a3f5f\",\"arrowhead\":0,\"arrowwidth\":1},\"autotypenumbers\":\"strict\",\"coloraxis\":{\"colorbar\":{\"outlinewidth\":0,\"ticks\":\"\"}},\"colorscale\":{\"diverging\":[[0,\"#8e0152\"],[0.1,\"#c51b7d\"],[0.2,\"#de77ae\"],[0.3,\"#f1b6da\"],[0.4,\"#fde0ef\"],[0.5,\"#f7f7f7\"],[0.6,\"#e6f5d0\"],[0.7,\"#b8e186\"],[0.8,\"#7fbc41\"],[0.9,\"#4d9221\"],[1,\"#276419\"]],\"sequential\":[[0.0,\"#0d0887\"],[0.1111111111111111,\"#46039f\"],[0.2222222222222222,\"#7201a8\"],[0.3333333333333333,\"#9c179e\"],[0.4444444444444444,\"#bd3786\"],[0.5555555555555556,\"#d8576b\"],[0.6666666666666666,\"#ed7953\"],[0.7777777777777778,\"#fb9f3a\"],[0.8888888888888888,\"#fdca26\"],[1.0,\"#f0f921\"]],\"sequentialminus\":[[0.0,\"#0d0887\"],[0.1111111111111111,\"#46039f\"],[0.2222222222222222,\"#7201a8\"],[0.3333333333333333,\"#9c179e\"],[0.4444444444444444,\"#bd3786\"],[0.5555555555555556,\"#d8576b\"],[0.6666666666666666,\"#ed7953\"],[0.7777777777777778,\"#fb9f3a\"],[0.8888888888888888,\"#fdca26\"],[1.0,\"#f0f921\"]]},\"colorway\":[\"#636efa\",\"#EF553B\",\"#00cc96\",\"#ab63fa\",\"#FFA15A\",\"#19d3f3\",\"#FF6692\",\"#B6E880\",\"#FF97FF\",\"#FECB52\"],\"font\":{\"color\":\"#2a3f5f\"},\"geo\":{\"bgcolor\":\"white\",\"lakecolor\":\"white\",\"landcolor\":\"#E5ECF6\",\"showlakes\":true,\"showland\":true,\"subunitcolor\":\"white\"},\"hoverlabel\":{\"align\":\"left\"},\"hovermode\":\"closest\",\"mapbox\":{\"style\":\"light\"},\"paper_bgcolor\":\"white\",\"plot_bgcolor\":\"#E5ECF6\",\"polar\":{\"angularaxis\":{\"gridcolor\":\"white\",\"linecolor\":\"white\",\"ticks\":\"\"},\"bgcolor\":\"#E5ECF6\",\"radialaxis\":{\"gridcolor\":\"white\",\"linecolor\":\"white\",\"ticks\":\"\"}},\"scene\":{\"xaxis\":{\"backgroundcolor\":\"#E5ECF6\",\"gridcolor\":\"white\",\"gridwidth\":2,\"linecolor\":\"white\",\"showbackground\":true,\"ticks\":\"\",\"zerolinecolor\":\"white\"},\"yaxis\":{\"backgroundcolor\":\"#E5ECF6\",\"gridcolor\":\"white\",\"gridwidth\":2,\"linecolor\":\"white\",\"showbackground\":true,\"ticks\":\"\",\"zerolinecolor\":\"white\"},\"zaxis\":{\"backgroundcolor\":\"#E5ECF6\",\"gridcolor\":\"white\",\"gridwidth\":2,\"linecolor\":\"white\",\"showbackground\":true,\"ticks\":\"\",\"zerolinecolor\":\"white\"}},\"shapedefaults\":{\"line\":{\"color\":\"#2a3f5f\"}},\"ternary\":{\"aaxis\":{\"gridcolor\":\"white\",\"linecolor\":\"white\",\"ticks\":\"\"},\"baxis\":{\"gridcolor\":\"white\",\"linecolor\":\"white\",\"ticks\":\"\"},\"bgcolor\":\"#E5ECF6\",\"caxis\":{\"gridcolor\":\"white\",\"linecolor\":\"white\",\"ticks\":\"\"}},\"title\":{\"x\":0.05},\"xaxis\":{\"automargin\":true,\"gridcolor\":\"white\",\"linecolor\":\"white\",\"ticks\":\"\",\"title\":{\"standoff\":15},\"zerolinecolor\":\"white\",\"zerolinewidth\":2},\"yaxis\":{\"automargin\":true,\"gridcolor\":\"white\",\"linecolor\":\"white\",\"ticks\":\"\",\"title\":{\"standoff\":15},\"zerolinecolor\":\"white\",\"zerolinewidth\":2}}},\"title\":{\"font\":{\"color\":\"#4D5663\"}},\"xaxis\":{\"gridcolor\":\"#E1E5ED\",\"showgrid\":true,\"tickfont\":{\"color\":\"#4D5663\"},\"title\":{\"font\":{\"color\":\"#4D5663\"},\"text\":\"\"},\"zerolinecolor\":\"#E1E5ED\"},\"yaxis\":{\"gridcolor\":\"#E1E5ED\",\"showgrid\":true,\"tickfont\":{\"color\":\"#4D5663\"},\"title\":{\"font\":{\"color\":\"#4D5663\"},\"text\":\"\"},\"zerolinecolor\":\"#E1E5ED\"}},                        {\"showLink\": true, \"linkText\": \"Export to plot.ly\", \"plotlyServerURL\": \"https://plot.ly\", \"responsive\": true}                    ).then(function(){\n",
       "                            \n",
       "var gd = document.getElementById('785cc3b2-1534-47b4-aa7f-0b42febf623f');\n",
       "var x = new MutationObserver(function (mutations, observer) {{\n",
       "        var display = window.getComputedStyle(gd).display;\n",
       "        if (!display || display === 'none') {{\n",
       "            console.log([gd, 'removed!']);\n",
       "            Plotly.purge(gd);\n",
       "            observer.disconnect();\n",
       "        }}\n",
       "}});\n",
       "\n",
       "// Listen for the removal of the full notebook cells\n",
       "var notebookContainer = gd.closest('#notebook-container');\n",
       "if (notebookContainer) {{\n",
       "    x.observe(notebookContainer, {childList: true});\n",
       "}}\n",
       "\n",
       "// Listen for the clearing of the current output cell\n",
       "var outputEl = gd.closest('.output');\n",
       "if (outputEl) {{\n",
       "    x.observe(outputEl, {childList: true});\n",
       "}}\n",
       "\n",
       "                        })                };                });            </script>        </div>"
      ]
     },
     "metadata": {},
     "output_type": "display_data"
    }
   ],
   "source": [
    "df.iplot(kind='scatter', x='A'  , y= 'B', mode='markers' , size=10 )"
   ]
  },
  {
   "cell_type": "code",
   "execution_count": 56,
   "id": "f6cf6225",
   "metadata": {},
   "outputs": [
    {
     "data": {
      "application/vnd.plotly.v1+json": {
       "config": {
        "linkText": "Export to plot.ly",
        "plotlyServerURL": "https://plot.ly",
        "showLink": true
       },
       "data": [
        {
         "marker": {
          "color": "rgba(255, 153, 51, 0.6)",
          "line": {
           "color": "rgba(255, 153, 51, 1.0)",
           "width": 1
          }
         },
         "name": "values",
         "orientation": "v",
         "text": "",
         "type": "bar",
         "x": [
          "A",
          "B",
          "C"
         ],
         "y": [
          32,
          43,
          50
         ]
        }
       ],
       "layout": {
        "legend": {
         "bgcolor": "#F5F6F9",
         "font": {
          "color": "#4D5663"
         }
        },
        "paper_bgcolor": "#F5F6F9",
        "plot_bgcolor": "#F5F6F9",
        "template": {
         "data": {
          "bar": [
           {
            "error_x": {
             "color": "#2a3f5f"
            },
            "error_y": {
             "color": "#2a3f5f"
            },
            "marker": {
             "line": {
              "color": "#E5ECF6",
              "width": 0.5
             },
             "pattern": {
              "fillmode": "overlay",
              "size": 10,
              "solidity": 0.2
             }
            },
            "type": "bar"
           }
          ],
          "barpolar": [
           {
            "marker": {
             "line": {
              "color": "#E5ECF6",
              "width": 0.5
             },
             "pattern": {
              "fillmode": "overlay",
              "size": 10,
              "solidity": 0.2
             }
            },
            "type": "barpolar"
           }
          ],
          "carpet": [
           {
            "aaxis": {
             "endlinecolor": "#2a3f5f",
             "gridcolor": "white",
             "linecolor": "white",
             "minorgridcolor": "white",
             "startlinecolor": "#2a3f5f"
            },
            "baxis": {
             "endlinecolor": "#2a3f5f",
             "gridcolor": "white",
             "linecolor": "white",
             "minorgridcolor": "white",
             "startlinecolor": "#2a3f5f"
            },
            "type": "carpet"
           }
          ],
          "choropleth": [
           {
            "colorbar": {
             "outlinewidth": 0,
             "ticks": ""
            },
            "type": "choropleth"
           }
          ],
          "contour": [
           {
            "colorbar": {
             "outlinewidth": 0,
             "ticks": ""
            },
            "colorscale": [
             [
              0,
              "#0d0887"
             ],
             [
              0.1111111111111111,
              "#46039f"
             ],
             [
              0.2222222222222222,
              "#7201a8"
             ],
             [
              0.3333333333333333,
              "#9c179e"
             ],
             [
              0.4444444444444444,
              "#bd3786"
             ],
             [
              0.5555555555555556,
              "#d8576b"
             ],
             [
              0.6666666666666666,
              "#ed7953"
             ],
             [
              0.7777777777777778,
              "#fb9f3a"
             ],
             [
              0.8888888888888888,
              "#fdca26"
             ],
             [
              1,
              "#f0f921"
             ]
            ],
            "type": "contour"
           }
          ],
          "contourcarpet": [
           {
            "colorbar": {
             "outlinewidth": 0,
             "ticks": ""
            },
            "type": "contourcarpet"
           }
          ],
          "heatmap": [
           {
            "colorbar": {
             "outlinewidth": 0,
             "ticks": ""
            },
            "colorscale": [
             [
              0,
              "#0d0887"
             ],
             [
              0.1111111111111111,
              "#46039f"
             ],
             [
              0.2222222222222222,
              "#7201a8"
             ],
             [
              0.3333333333333333,
              "#9c179e"
             ],
             [
              0.4444444444444444,
              "#bd3786"
             ],
             [
              0.5555555555555556,
              "#d8576b"
             ],
             [
              0.6666666666666666,
              "#ed7953"
             ],
             [
              0.7777777777777778,
              "#fb9f3a"
             ],
             [
              0.8888888888888888,
              "#fdca26"
             ],
             [
              1,
              "#f0f921"
             ]
            ],
            "type": "heatmap"
           }
          ],
          "heatmapgl": [
           {
            "colorbar": {
             "outlinewidth": 0,
             "ticks": ""
            },
            "colorscale": [
             [
              0,
              "#0d0887"
             ],
             [
              0.1111111111111111,
              "#46039f"
             ],
             [
              0.2222222222222222,
              "#7201a8"
             ],
             [
              0.3333333333333333,
              "#9c179e"
             ],
             [
              0.4444444444444444,
              "#bd3786"
             ],
             [
              0.5555555555555556,
              "#d8576b"
             ],
             [
              0.6666666666666666,
              "#ed7953"
             ],
             [
              0.7777777777777778,
              "#fb9f3a"
             ],
             [
              0.8888888888888888,
              "#fdca26"
             ],
             [
              1,
              "#f0f921"
             ]
            ],
            "type": "heatmapgl"
           }
          ],
          "histogram": [
           {
            "marker": {
             "pattern": {
              "fillmode": "overlay",
              "size": 10,
              "solidity": 0.2
             }
            },
            "type": "histogram"
           }
          ],
          "histogram2d": [
           {
            "colorbar": {
             "outlinewidth": 0,
             "ticks": ""
            },
            "colorscale": [
             [
              0,
              "#0d0887"
             ],
             [
              0.1111111111111111,
              "#46039f"
             ],
             [
              0.2222222222222222,
              "#7201a8"
             ],
             [
              0.3333333333333333,
              "#9c179e"
             ],
             [
              0.4444444444444444,
              "#bd3786"
             ],
             [
              0.5555555555555556,
              "#d8576b"
             ],
             [
              0.6666666666666666,
              "#ed7953"
             ],
             [
              0.7777777777777778,
              "#fb9f3a"
             ],
             [
              0.8888888888888888,
              "#fdca26"
             ],
             [
              1,
              "#f0f921"
             ]
            ],
            "type": "histogram2d"
           }
          ],
          "histogram2dcontour": [
           {
            "colorbar": {
             "outlinewidth": 0,
             "ticks": ""
            },
            "colorscale": [
             [
              0,
              "#0d0887"
             ],
             [
              0.1111111111111111,
              "#46039f"
             ],
             [
              0.2222222222222222,
              "#7201a8"
             ],
             [
              0.3333333333333333,
              "#9c179e"
             ],
             [
              0.4444444444444444,
              "#bd3786"
             ],
             [
              0.5555555555555556,
              "#d8576b"
             ],
             [
              0.6666666666666666,
              "#ed7953"
             ],
             [
              0.7777777777777778,
              "#fb9f3a"
             ],
             [
              0.8888888888888888,
              "#fdca26"
             ],
             [
              1,
              "#f0f921"
             ]
            ],
            "type": "histogram2dcontour"
           }
          ],
          "mesh3d": [
           {
            "colorbar": {
             "outlinewidth": 0,
             "ticks": ""
            },
            "type": "mesh3d"
           }
          ],
          "parcoords": [
           {
            "line": {
             "colorbar": {
              "outlinewidth": 0,
              "ticks": ""
             }
            },
            "type": "parcoords"
           }
          ],
          "pie": [
           {
            "automargin": true,
            "type": "pie"
           }
          ],
          "scatter": [
           {
            "fillpattern": {
             "fillmode": "overlay",
             "size": 10,
             "solidity": 0.2
            },
            "type": "scatter"
           }
          ],
          "scatter3d": [
           {
            "line": {
             "colorbar": {
              "outlinewidth": 0,
              "ticks": ""
             }
            },
            "marker": {
             "colorbar": {
              "outlinewidth": 0,
              "ticks": ""
             }
            },
            "type": "scatter3d"
           }
          ],
          "scattercarpet": [
           {
            "marker": {
             "colorbar": {
              "outlinewidth": 0,
              "ticks": ""
             }
            },
            "type": "scattercarpet"
           }
          ],
          "scattergeo": [
           {
            "marker": {
             "colorbar": {
              "outlinewidth": 0,
              "ticks": ""
             }
            },
            "type": "scattergeo"
           }
          ],
          "scattergl": [
           {
            "marker": {
             "colorbar": {
              "outlinewidth": 0,
              "ticks": ""
             }
            },
            "type": "scattergl"
           }
          ],
          "scattermapbox": [
           {
            "marker": {
             "colorbar": {
              "outlinewidth": 0,
              "ticks": ""
             }
            },
            "type": "scattermapbox"
           }
          ],
          "scatterpolar": [
           {
            "marker": {
             "colorbar": {
              "outlinewidth": 0,
              "ticks": ""
             }
            },
            "type": "scatterpolar"
           }
          ],
          "scatterpolargl": [
           {
            "marker": {
             "colorbar": {
              "outlinewidth": 0,
              "ticks": ""
             }
            },
            "type": "scatterpolargl"
           }
          ],
          "scatterternary": [
           {
            "marker": {
             "colorbar": {
              "outlinewidth": 0,
              "ticks": ""
             }
            },
            "type": "scatterternary"
           }
          ],
          "surface": [
           {
            "colorbar": {
             "outlinewidth": 0,
             "ticks": ""
            },
            "colorscale": [
             [
              0,
              "#0d0887"
             ],
             [
              0.1111111111111111,
              "#46039f"
             ],
             [
              0.2222222222222222,
              "#7201a8"
             ],
             [
              0.3333333333333333,
              "#9c179e"
             ],
             [
              0.4444444444444444,
              "#bd3786"
             ],
             [
              0.5555555555555556,
              "#d8576b"
             ],
             [
              0.6666666666666666,
              "#ed7953"
             ],
             [
              0.7777777777777778,
              "#fb9f3a"
             ],
             [
              0.8888888888888888,
              "#fdca26"
             ],
             [
              1,
              "#f0f921"
             ]
            ],
            "type": "surface"
           }
          ],
          "table": [
           {
            "cells": {
             "fill": {
              "color": "#EBF0F8"
             },
             "line": {
              "color": "white"
             }
            },
            "header": {
             "fill": {
              "color": "#C8D4E3"
             },
             "line": {
              "color": "white"
             }
            },
            "type": "table"
           }
          ]
         },
         "layout": {
          "annotationdefaults": {
           "arrowcolor": "#2a3f5f",
           "arrowhead": 0,
           "arrowwidth": 1
          },
          "autotypenumbers": "strict",
          "coloraxis": {
           "colorbar": {
            "outlinewidth": 0,
            "ticks": ""
           }
          },
          "colorscale": {
           "diverging": [
            [
             0,
             "#8e0152"
            ],
            [
             0.1,
             "#c51b7d"
            ],
            [
             0.2,
             "#de77ae"
            ],
            [
             0.3,
             "#f1b6da"
            ],
            [
             0.4,
             "#fde0ef"
            ],
            [
             0.5,
             "#f7f7f7"
            ],
            [
             0.6,
             "#e6f5d0"
            ],
            [
             0.7,
             "#b8e186"
            ],
            [
             0.8,
             "#7fbc41"
            ],
            [
             0.9,
             "#4d9221"
            ],
            [
             1,
             "#276419"
            ]
           ],
           "sequential": [
            [
             0,
             "#0d0887"
            ],
            [
             0.1111111111111111,
             "#46039f"
            ],
            [
             0.2222222222222222,
             "#7201a8"
            ],
            [
             0.3333333333333333,
             "#9c179e"
            ],
            [
             0.4444444444444444,
             "#bd3786"
            ],
            [
             0.5555555555555556,
             "#d8576b"
            ],
            [
             0.6666666666666666,
             "#ed7953"
            ],
            [
             0.7777777777777778,
             "#fb9f3a"
            ],
            [
             0.8888888888888888,
             "#fdca26"
            ],
            [
             1,
             "#f0f921"
            ]
           ],
           "sequentialminus": [
            [
             0,
             "#0d0887"
            ],
            [
             0.1111111111111111,
             "#46039f"
            ],
            [
             0.2222222222222222,
             "#7201a8"
            ],
            [
             0.3333333333333333,
             "#9c179e"
            ],
            [
             0.4444444444444444,
             "#bd3786"
            ],
            [
             0.5555555555555556,
             "#d8576b"
            ],
            [
             0.6666666666666666,
             "#ed7953"
            ],
            [
             0.7777777777777778,
             "#fb9f3a"
            ],
            [
             0.8888888888888888,
             "#fdca26"
            ],
            [
             1,
             "#f0f921"
            ]
           ]
          },
          "colorway": [
           "#636efa",
           "#EF553B",
           "#00cc96",
           "#ab63fa",
           "#FFA15A",
           "#19d3f3",
           "#FF6692",
           "#B6E880",
           "#FF97FF",
           "#FECB52"
          ],
          "font": {
           "color": "#2a3f5f"
          },
          "geo": {
           "bgcolor": "white",
           "lakecolor": "white",
           "landcolor": "#E5ECF6",
           "showlakes": true,
           "showland": true,
           "subunitcolor": "white"
          },
          "hoverlabel": {
           "align": "left"
          },
          "hovermode": "closest",
          "mapbox": {
           "style": "light"
          },
          "paper_bgcolor": "white",
          "plot_bgcolor": "#E5ECF6",
          "polar": {
           "angularaxis": {
            "gridcolor": "white",
            "linecolor": "white",
            "ticks": ""
           },
           "bgcolor": "#E5ECF6",
           "radialaxis": {
            "gridcolor": "white",
            "linecolor": "white",
            "ticks": ""
           }
          },
          "scene": {
           "xaxis": {
            "backgroundcolor": "#E5ECF6",
            "gridcolor": "white",
            "gridwidth": 2,
            "linecolor": "white",
            "showbackground": true,
            "ticks": "",
            "zerolinecolor": "white"
           },
           "yaxis": {
            "backgroundcolor": "#E5ECF6",
            "gridcolor": "white",
            "gridwidth": 2,
            "linecolor": "white",
            "showbackground": true,
            "ticks": "",
            "zerolinecolor": "white"
           },
           "zaxis": {
            "backgroundcolor": "#E5ECF6",
            "gridcolor": "white",
            "gridwidth": 2,
            "linecolor": "white",
            "showbackground": true,
            "ticks": "",
            "zerolinecolor": "white"
           }
          },
          "shapedefaults": {
           "line": {
            "color": "#2a3f5f"
           }
          },
          "ternary": {
           "aaxis": {
            "gridcolor": "white",
            "linecolor": "white",
            "ticks": ""
           },
           "baxis": {
            "gridcolor": "white",
            "linecolor": "white",
            "ticks": ""
           },
           "bgcolor": "#E5ECF6",
           "caxis": {
            "gridcolor": "white",
            "linecolor": "white",
            "ticks": ""
           }
          },
          "title": {
           "x": 0.05
          },
          "xaxis": {
           "automargin": true,
           "gridcolor": "white",
           "linecolor": "white",
           "ticks": "",
           "title": {
            "standoff": 15
           },
           "zerolinecolor": "white",
           "zerolinewidth": 2
          },
          "yaxis": {
           "automargin": true,
           "gridcolor": "white",
           "linecolor": "white",
           "ticks": "",
           "title": {
            "standoff": 15
           },
           "zerolinecolor": "white",
           "zerolinewidth": 2
          }
         }
        },
        "title": {
         "font": {
          "color": "#4D5663"
         }
        },
        "xaxis": {
         "gridcolor": "#E1E5ED",
         "showgrid": true,
         "tickfont": {
          "color": "#4D5663"
         },
         "title": {
          "font": {
           "color": "#4D5663"
          },
          "text": ""
         },
         "zerolinecolor": "#E1E5ED"
        },
        "yaxis": {
         "gridcolor": "#E1E5ED",
         "showgrid": true,
         "tickfont": {
          "color": "#4D5663"
         },
         "title": {
          "font": {
           "color": "#4D5663"
          },
          "text": ""
         },
         "zerolinecolor": "#E1E5ED"
        }
       }
      },
      "text/html": [
       "<div>                            <div id=\"0c4604c1-2d44-4f44-9780-0a7abb1dd33e\" class=\"plotly-graph-div\" style=\"height:525px; width:100%;\"></div>            <script type=\"text/javascript\">                require([\"plotly\"], function(Plotly) {                    window.PLOTLYENV=window.PLOTLYENV || {};\n",
       "                    window.PLOTLYENV.BASE_URL='https://plot.ly';                                    if (document.getElementById(\"0c4604c1-2d44-4f44-9780-0a7abb1dd33e\")) {                    Plotly.newPlot(                        \"0c4604c1-2d44-4f44-9780-0a7abb1dd33e\",                        [{\"marker\":{\"color\":\"rgba(255, 153, 51, 0.6)\",\"line\":{\"color\":\"rgba(255, 153, 51, 1.0)\",\"width\":1}},\"name\":\"values\",\"orientation\":\"v\",\"text\":\"\",\"x\":[\"A\",\"B\",\"C\"],\"y\":[32,43,50],\"type\":\"bar\"}],                        {\"legend\":{\"bgcolor\":\"#F5F6F9\",\"font\":{\"color\":\"#4D5663\"}},\"paper_bgcolor\":\"#F5F6F9\",\"plot_bgcolor\":\"#F5F6F9\",\"template\":{\"data\":{\"barpolar\":[{\"marker\":{\"line\":{\"color\":\"#E5ECF6\",\"width\":0.5},\"pattern\":{\"fillmode\":\"overlay\",\"size\":10,\"solidity\":0.2}},\"type\":\"barpolar\"}],\"bar\":[{\"error_x\":{\"color\":\"#2a3f5f\"},\"error_y\":{\"color\":\"#2a3f5f\"},\"marker\":{\"line\":{\"color\":\"#E5ECF6\",\"width\":0.5},\"pattern\":{\"fillmode\":\"overlay\",\"size\":10,\"solidity\":0.2}},\"type\":\"bar\"}],\"carpet\":[{\"aaxis\":{\"endlinecolor\":\"#2a3f5f\",\"gridcolor\":\"white\",\"linecolor\":\"white\",\"minorgridcolor\":\"white\",\"startlinecolor\":\"#2a3f5f\"},\"baxis\":{\"endlinecolor\":\"#2a3f5f\",\"gridcolor\":\"white\",\"linecolor\":\"white\",\"minorgridcolor\":\"white\",\"startlinecolor\":\"#2a3f5f\"},\"type\":\"carpet\"}],\"choropleth\":[{\"colorbar\":{\"outlinewidth\":0,\"ticks\":\"\"},\"type\":\"choropleth\"}],\"contourcarpet\":[{\"colorbar\":{\"outlinewidth\":0,\"ticks\":\"\"},\"type\":\"contourcarpet\"}],\"contour\":[{\"colorbar\":{\"outlinewidth\":0,\"ticks\":\"\"},\"colorscale\":[[0.0,\"#0d0887\"],[0.1111111111111111,\"#46039f\"],[0.2222222222222222,\"#7201a8\"],[0.3333333333333333,\"#9c179e\"],[0.4444444444444444,\"#bd3786\"],[0.5555555555555556,\"#d8576b\"],[0.6666666666666666,\"#ed7953\"],[0.7777777777777778,\"#fb9f3a\"],[0.8888888888888888,\"#fdca26\"],[1.0,\"#f0f921\"]],\"type\":\"contour\"}],\"heatmapgl\":[{\"colorbar\":{\"outlinewidth\":0,\"ticks\":\"\"},\"colorscale\":[[0.0,\"#0d0887\"],[0.1111111111111111,\"#46039f\"],[0.2222222222222222,\"#7201a8\"],[0.3333333333333333,\"#9c179e\"],[0.4444444444444444,\"#bd3786\"],[0.5555555555555556,\"#d8576b\"],[0.6666666666666666,\"#ed7953\"],[0.7777777777777778,\"#fb9f3a\"],[0.8888888888888888,\"#fdca26\"],[1.0,\"#f0f921\"]],\"type\":\"heatmapgl\"}],\"heatmap\":[{\"colorbar\":{\"outlinewidth\":0,\"ticks\":\"\"},\"colorscale\":[[0.0,\"#0d0887\"],[0.1111111111111111,\"#46039f\"],[0.2222222222222222,\"#7201a8\"],[0.3333333333333333,\"#9c179e\"],[0.4444444444444444,\"#bd3786\"],[0.5555555555555556,\"#d8576b\"],[0.6666666666666666,\"#ed7953\"],[0.7777777777777778,\"#fb9f3a\"],[0.8888888888888888,\"#fdca26\"],[1.0,\"#f0f921\"]],\"type\":\"heatmap\"}],\"histogram2dcontour\":[{\"colorbar\":{\"outlinewidth\":0,\"ticks\":\"\"},\"colorscale\":[[0.0,\"#0d0887\"],[0.1111111111111111,\"#46039f\"],[0.2222222222222222,\"#7201a8\"],[0.3333333333333333,\"#9c179e\"],[0.4444444444444444,\"#bd3786\"],[0.5555555555555556,\"#d8576b\"],[0.6666666666666666,\"#ed7953\"],[0.7777777777777778,\"#fb9f3a\"],[0.8888888888888888,\"#fdca26\"],[1.0,\"#f0f921\"]],\"type\":\"histogram2dcontour\"}],\"histogram2d\":[{\"colorbar\":{\"outlinewidth\":0,\"ticks\":\"\"},\"colorscale\":[[0.0,\"#0d0887\"],[0.1111111111111111,\"#46039f\"],[0.2222222222222222,\"#7201a8\"],[0.3333333333333333,\"#9c179e\"],[0.4444444444444444,\"#bd3786\"],[0.5555555555555556,\"#d8576b\"],[0.6666666666666666,\"#ed7953\"],[0.7777777777777778,\"#fb9f3a\"],[0.8888888888888888,\"#fdca26\"],[1.0,\"#f0f921\"]],\"type\":\"histogram2d\"}],\"histogram\":[{\"marker\":{\"pattern\":{\"fillmode\":\"overlay\",\"size\":10,\"solidity\":0.2}},\"type\":\"histogram\"}],\"mesh3d\":[{\"colorbar\":{\"outlinewidth\":0,\"ticks\":\"\"},\"type\":\"mesh3d\"}],\"parcoords\":[{\"line\":{\"colorbar\":{\"outlinewidth\":0,\"ticks\":\"\"}},\"type\":\"parcoords\"}],\"pie\":[{\"automargin\":true,\"type\":\"pie\"}],\"scatter3d\":[{\"line\":{\"colorbar\":{\"outlinewidth\":0,\"ticks\":\"\"}},\"marker\":{\"colorbar\":{\"outlinewidth\":0,\"ticks\":\"\"}},\"type\":\"scatter3d\"}],\"scattercarpet\":[{\"marker\":{\"colorbar\":{\"outlinewidth\":0,\"ticks\":\"\"}},\"type\":\"scattercarpet\"}],\"scattergeo\":[{\"marker\":{\"colorbar\":{\"outlinewidth\":0,\"ticks\":\"\"}},\"type\":\"scattergeo\"}],\"scattergl\":[{\"marker\":{\"colorbar\":{\"outlinewidth\":0,\"ticks\":\"\"}},\"type\":\"scattergl\"}],\"scattermapbox\":[{\"marker\":{\"colorbar\":{\"outlinewidth\":0,\"ticks\":\"\"}},\"type\":\"scattermapbox\"}],\"scatterpolargl\":[{\"marker\":{\"colorbar\":{\"outlinewidth\":0,\"ticks\":\"\"}},\"type\":\"scatterpolargl\"}],\"scatterpolar\":[{\"marker\":{\"colorbar\":{\"outlinewidth\":0,\"ticks\":\"\"}},\"type\":\"scatterpolar\"}],\"scatter\":[{\"fillpattern\":{\"fillmode\":\"overlay\",\"size\":10,\"solidity\":0.2},\"type\":\"scatter\"}],\"scatterternary\":[{\"marker\":{\"colorbar\":{\"outlinewidth\":0,\"ticks\":\"\"}},\"type\":\"scatterternary\"}],\"surface\":[{\"colorbar\":{\"outlinewidth\":0,\"ticks\":\"\"},\"colorscale\":[[0.0,\"#0d0887\"],[0.1111111111111111,\"#46039f\"],[0.2222222222222222,\"#7201a8\"],[0.3333333333333333,\"#9c179e\"],[0.4444444444444444,\"#bd3786\"],[0.5555555555555556,\"#d8576b\"],[0.6666666666666666,\"#ed7953\"],[0.7777777777777778,\"#fb9f3a\"],[0.8888888888888888,\"#fdca26\"],[1.0,\"#f0f921\"]],\"type\":\"surface\"}],\"table\":[{\"cells\":{\"fill\":{\"color\":\"#EBF0F8\"},\"line\":{\"color\":\"white\"}},\"header\":{\"fill\":{\"color\":\"#C8D4E3\"},\"line\":{\"color\":\"white\"}},\"type\":\"table\"}]},\"layout\":{\"annotationdefaults\":{\"arrowcolor\":\"#2a3f5f\",\"arrowhead\":0,\"arrowwidth\":1},\"autotypenumbers\":\"strict\",\"coloraxis\":{\"colorbar\":{\"outlinewidth\":0,\"ticks\":\"\"}},\"colorscale\":{\"diverging\":[[0,\"#8e0152\"],[0.1,\"#c51b7d\"],[0.2,\"#de77ae\"],[0.3,\"#f1b6da\"],[0.4,\"#fde0ef\"],[0.5,\"#f7f7f7\"],[0.6,\"#e6f5d0\"],[0.7,\"#b8e186\"],[0.8,\"#7fbc41\"],[0.9,\"#4d9221\"],[1,\"#276419\"]],\"sequential\":[[0.0,\"#0d0887\"],[0.1111111111111111,\"#46039f\"],[0.2222222222222222,\"#7201a8\"],[0.3333333333333333,\"#9c179e\"],[0.4444444444444444,\"#bd3786\"],[0.5555555555555556,\"#d8576b\"],[0.6666666666666666,\"#ed7953\"],[0.7777777777777778,\"#fb9f3a\"],[0.8888888888888888,\"#fdca26\"],[1.0,\"#f0f921\"]],\"sequentialminus\":[[0.0,\"#0d0887\"],[0.1111111111111111,\"#46039f\"],[0.2222222222222222,\"#7201a8\"],[0.3333333333333333,\"#9c179e\"],[0.4444444444444444,\"#bd3786\"],[0.5555555555555556,\"#d8576b\"],[0.6666666666666666,\"#ed7953\"],[0.7777777777777778,\"#fb9f3a\"],[0.8888888888888888,\"#fdca26\"],[1.0,\"#f0f921\"]]},\"colorway\":[\"#636efa\",\"#EF553B\",\"#00cc96\",\"#ab63fa\",\"#FFA15A\",\"#19d3f3\",\"#FF6692\",\"#B6E880\",\"#FF97FF\",\"#FECB52\"],\"font\":{\"color\":\"#2a3f5f\"},\"geo\":{\"bgcolor\":\"white\",\"lakecolor\":\"white\",\"landcolor\":\"#E5ECF6\",\"showlakes\":true,\"showland\":true,\"subunitcolor\":\"white\"},\"hoverlabel\":{\"align\":\"left\"},\"hovermode\":\"closest\",\"mapbox\":{\"style\":\"light\"},\"paper_bgcolor\":\"white\",\"plot_bgcolor\":\"#E5ECF6\",\"polar\":{\"angularaxis\":{\"gridcolor\":\"white\",\"linecolor\":\"white\",\"ticks\":\"\"},\"bgcolor\":\"#E5ECF6\",\"radialaxis\":{\"gridcolor\":\"white\",\"linecolor\":\"white\",\"ticks\":\"\"}},\"scene\":{\"xaxis\":{\"backgroundcolor\":\"#E5ECF6\",\"gridcolor\":\"white\",\"gridwidth\":2,\"linecolor\":\"white\",\"showbackground\":true,\"ticks\":\"\",\"zerolinecolor\":\"white\"},\"yaxis\":{\"backgroundcolor\":\"#E5ECF6\",\"gridcolor\":\"white\",\"gridwidth\":2,\"linecolor\":\"white\",\"showbackground\":true,\"ticks\":\"\",\"zerolinecolor\":\"white\"},\"zaxis\":{\"backgroundcolor\":\"#E5ECF6\",\"gridcolor\":\"white\",\"gridwidth\":2,\"linecolor\":\"white\",\"showbackground\":true,\"ticks\":\"\",\"zerolinecolor\":\"white\"}},\"shapedefaults\":{\"line\":{\"color\":\"#2a3f5f\"}},\"ternary\":{\"aaxis\":{\"gridcolor\":\"white\",\"linecolor\":\"white\",\"ticks\":\"\"},\"baxis\":{\"gridcolor\":\"white\",\"linecolor\":\"white\",\"ticks\":\"\"},\"bgcolor\":\"#E5ECF6\",\"caxis\":{\"gridcolor\":\"white\",\"linecolor\":\"white\",\"ticks\":\"\"}},\"title\":{\"x\":0.05},\"xaxis\":{\"automargin\":true,\"gridcolor\":\"white\",\"linecolor\":\"white\",\"ticks\":\"\",\"title\":{\"standoff\":15},\"zerolinecolor\":\"white\",\"zerolinewidth\":2},\"yaxis\":{\"automargin\":true,\"gridcolor\":\"white\",\"linecolor\":\"white\",\"ticks\":\"\",\"title\":{\"standoff\":15},\"zerolinecolor\":\"white\",\"zerolinewidth\":2}}},\"title\":{\"font\":{\"color\":\"#4D5663\"}},\"xaxis\":{\"gridcolor\":\"#E1E5ED\",\"showgrid\":true,\"tickfont\":{\"color\":\"#4D5663\"},\"title\":{\"font\":{\"color\":\"#4D5663\"},\"text\":\"\"},\"zerolinecolor\":\"#E1E5ED\"},\"yaxis\":{\"gridcolor\":\"#E1E5ED\",\"showgrid\":true,\"tickfont\":{\"color\":\"#4D5663\"},\"title\":{\"font\":{\"color\":\"#4D5663\"},\"text\":\"\"},\"zerolinecolor\":\"#E1E5ED\"}},                        {\"showLink\": true, \"linkText\": \"Export to plot.ly\", \"plotlyServerURL\": \"https://plot.ly\", \"responsive\": true}                    ).then(function(){\n",
       "                            \n",
       "var gd = document.getElementById('0c4604c1-2d44-4f44-9780-0a7abb1dd33e');\n",
       "var x = new MutationObserver(function (mutations, observer) {{\n",
       "        var display = window.getComputedStyle(gd).display;\n",
       "        if (!display || display === 'none') {{\n",
       "            console.log([gd, 'removed!']);\n",
       "            Plotly.purge(gd);\n",
       "            observer.disconnect();\n",
       "        }}\n",
       "}});\n",
       "\n",
       "// Listen for the removal of the full notebook cells\n",
       "var notebookContainer = gd.closest('#notebook-container');\n",
       "if (notebookContainer) {{\n",
       "    x.observe(notebookContainer, {childList: true});\n",
       "}}\n",
       "\n",
       "// Listen for the clearing of the current output cell\n",
       "var outputEl = gd.closest('.output');\n",
       "if (outputEl) {{\n",
       "    x.observe(outputEl, {childList: true});\n",
       "}}\n",
       "\n",
       "                        })                };                });            </script>        </div>"
      ]
     },
     "metadata": {},
     "output_type": "display_data"
    }
   ],
   "source": [
    "df2.iplot(kind='bar', x='category', y='values')"
   ]
  },
  {
   "cell_type": "code",
   "execution_count": 57,
   "id": "824d1946",
   "metadata": {},
   "outputs": [
    {
     "data": {
      "application/vnd.plotly.v1+json": {
       "config": {
        "linkText": "Export to plot.ly",
        "plotlyServerURL": "https://plot.ly",
        "showLink": true
       },
       "data": [
        {
         "boxpoints": false,
         "line": {
          "width": 1.3
         },
         "marker": {
          "color": "rgba(255, 153, 51, 1.0)"
         },
         "name": "A",
         "orientation": "v",
         "type": "box",
         "y": [
          -2.0248994302722,
          1.1206783216849459,
          -0.14714216901426908,
          0.6670829874275235,
          -0.023376648075685052,
          0.5060352952627416,
          -0.9478339706882272,
          2.7301806156870327,
          0.1500701083538797,
          -1.629253867207095,
          0.025633123118659527,
          -1.6180567997975985,
          -0.6201539883082475,
          0.6980153432116343,
          1.3457098806675134,
          -0.4733132068550389,
          1.218327984233927,
          1.0720706177131725,
          0.7266855883867765,
          -1.1328801679679639,
          1.285011116428947,
          -1.135743951530807,
          -1.0992156651659082,
          0.804292155497312,
          2.889420935902672,
          0.913650499514228,
          -1.2359684228301904,
          2.2394880583415873,
          1.0592166701930064,
          1.0330178731064599,
          1.0204782513370658,
          0.8787309750034229,
          0.6885987819603279,
          0.5437470084021745,
          -0.13455229775785477,
          -1.5005765916391522,
          0.4021446100381902,
          -1.2098195163672532,
          -0.397151218679385,
          0.14678399705766368,
          -0.41007694139382683,
          -0.8761747336518552,
          -0.03269185454668553,
          -0.832459749750178,
          -0.373553019196941,
          0.5976385942822937,
          -2.6303076986098883,
          0.49207673349323555,
          -0.24612515085494288,
          -1.1255327396654367,
          -0.48070458660037485,
          0.12895287721669293,
          -1.4090236036807335,
          -0.47182676530688755,
          0.23063424612448724,
          1.0277807157421683,
          0.9843342322642673,
          -0.09074566210834423,
          0.6472245732614761,
          -0.9203721156635134,
          -0.1257185498876959,
          -0.08710102389783692,
          -0.27268093799410975,
          -0.1414327108596726,
          -0.4611742525389193,
          0.8261375525274487,
          1.4565299222233419,
          -0.10042343837103451,
          -0.43689372589308856,
          -1.9981308411765657,
          -0.462754228780885,
          0.12754204376341816,
          -0.3433380435620271,
          -1.1692171929398942,
          0.782475324852804,
          -0.5319658940434484,
          2.225256725090445,
          1.089115482983619,
          -1.2430161750082012,
          1.2502312241220217,
          0.7905200967038304,
          2.734169374856847,
          -0.45361764475918365,
          -2.790893563542634,
          -0.9096538705796186,
          -0.7919999287925056,
          -0.38852093632309764,
          1.2568796152307298,
          -0.7385552048964777,
          -1.1615287328500985,
          0.5144036947754764,
          -0.9145163371493532,
          -0.38025656162124044,
          -1.0580205499766269,
          0.4825574966126437,
          -1.6269134861205365,
          -0.4224550151287948,
          -0.325133894910615,
          -0.8685891545573913,
          0.6256080741969859
         ]
        },
        {
         "boxpoints": false,
         "line": {
          "width": 1.3
         },
         "marker": {
          "color": "rgba(55, 128, 191, 1.0)"
         },
         "name": "B",
         "orientation": "v",
         "type": "box",
         "y": [
          1.244836717788421,
          -0.9113941741042547,
          0.24394904664371372,
          -0.3737083895924538,
          -1.0156947705953163,
          -0.25182333626234465,
          0.8025286099024215,
          -0.20904853915624613,
          -0.30335425935993415,
          -0.26015079829732535,
          -1.1652126737952444,
          -0.11601906352932617,
          0.3807298858276337,
          1.94622992408519,
          0.6918761245098521,
          0.12092987307672229,
          -0.7023721643644166,
          1.3436373835210946,
          -0.6047922436199462,
          0.05834742392095939,
          0.28252996046243645,
          0.5807192890824402,
          0.9861845276129169,
          0.5742445414696716,
          -0.3491755041321152,
          -0.03338709450851653,
          -0.42860738129677367,
          0.2814274678037998,
          -0.570275107112393,
          -1.1115427162391993,
          0.18700072674060986,
          -1.9030952679536954,
          -0.7194428719098581,
          0.5403296720195768,
          -0.24680054080514882,
          -0.5048407548451164,
          0.2939101111553618,
          1.7639202744963427,
          0.8625832635466819,
          -0.7654995595177715,
          1.6888924720096499,
          0.7020255211661659,
          -0.606354316327178,
          1.5640243081651144,
          -1.2389559497992244,
          0.9790296693868923,
          -0.888416311377553,
          -1.271624020447485,
          -0.38683782815487255,
          -0.3112174727382689,
          -1.3958610845724706,
          -0.3646318727579516,
          2.6623586140809947,
          1.278239804030543,
          1.4641583069138344,
          0.5035983514007785,
          0.7702324318302155,
          -0.8562313655545203,
          -1.6274232509023714,
          0.2750944531996166,
          0.7008539862181999,
          -0.25594811836690123,
          -0.3870976188644197,
          0.5261006417232784,
          0.1964263707784994,
          -0.9263064271086378,
          -0.488261838841295,
          0.05042984968017874,
          -0.029025191398035843,
          -0.5086244551715492,
          1.5059084171875694,
          0.07076965496823794,
          -1.1942297964401056,
          0.4900120685919607,
          0.9003822829550003,
          1.5815275119640084,
          0.08230211481593441,
          -0.6789188575459397,
          -0.20955368830118065,
          1.915784863367201,
          -0.5414897639944265,
          -1.1397451918472243,
          0.06123316433440914,
          -1.5363584833492157,
          -0.44175740605136277,
          -0.4977024511722823,
          -0.8060386350670952,
          0.23217547665242766,
          0.1530029564153142,
          0.19916716055370187,
          0.9103802439546376,
          -1.1567876338494296,
          -0.4954203784646236,
          1.5395209073602434,
          0.7561972792026549,
          -0.40766834609463987,
          -1.015571750157025,
          -0.5462836010855642,
          -0.20695204841393358,
          0.5252490005255105
         ]
        },
        {
         "boxpoints": false,
         "line": {
          "width": 1.3
         },
         "marker": {
          "color": "rgba(50, 171, 96, 1.0)"
         },
         "name": "C",
         "orientation": "v",
         "type": "box",
         "y": [
          2.3837865836348042,
          0.8337454629513709,
          -0.44035070497979484,
          0.3675640145013289,
          -1.4689105789596337,
          0.5919711719424133,
          1.1200824659503739,
          0.10709449183114861,
          -1.363205117051827,
          0.2802151197739775,
          0.22238681168946853,
          -1.3369883935832279,
          0.8795244078662957,
          -0.4682309574127068,
          2.154263439857636,
          0.5042543408665272,
          0.8380431803963164,
          2.0320004045327567,
          -0.4458730586188669,
          0.5720801773617187,
          0.5032501099442386,
          -0.04224715779108761,
          -0.5526566029076727,
          1.8765465233829777,
          0.48961407641982707,
          0.9249509675482437,
          0.5681082062181846,
          -0.17960641727452042,
          0.771128480871914,
          0.3350723329869273,
          -0.13585827442762177,
          0.005560655717367594,
          0.9820962360303911,
          0.10286779943902123,
          0.3615118069660571,
          0.4250557261317842,
          0.3477816419029761,
          -0.5219019677697857,
          0.0841551300710111,
          1.1561086796685336,
          1.4483073915162232,
          0.40737229684562326,
          0.6469833507006992,
          2.4202063822641486,
          -0.2644785558044118,
          1.9376106584922064,
          0.09665207271025082,
          -0.33423282228236395,
          -0.5305257354021574,
          0.130718683742174,
          0.46305393590723737,
          -0.4128376187788049,
          0.16217225699872154,
          0.09030729454393,
          0.8742108604957504,
          1.647032817150969,
          -0.7143668710181892,
          1.8385327810015186,
          -0.048191963038784674,
          0.5840118945787226,
          -2.688222641816865,
          -0.3553197894628702,
          -0.52404866228707,
          0.1341937465319343,
          0.3762970756553044,
          0.9934838329556147,
          0.7833557022459264,
          0.629109159974082,
          1.2276280265214414,
          -0.3495825148413494,
          0.4884121546400506,
          -2.000500517042181,
          -0.5283520269456001,
          -1.004126628466134,
          -2.584010933361183,
          0.5758503216393676,
          -0.36794037843087757,
          -0.09038686069550698,
          -0.035896792561200846,
          -0.27055291970669504,
          1.1810487492872002,
          1.329834716597255,
          0.6753533415919987,
          1.6466374430657869,
          -0.6440345419332062,
          -1.3546813179781783,
          0.6610326007324075,
          -0.7529469658037548,
          0.9108811752427859,
          0.3125883903206803,
          -0.266799345019069,
          -0.8701856397329435,
          0.22784583602906255,
          1.7901088134822656,
          -0.5651202795197222,
          -1.1550628847480657,
          0.5833194718209482,
          1.3887726399856906,
          0.16533850174549897,
          -1.3955953195610848
         ]
        },
        {
         "boxpoints": false,
         "line": {
          "width": 1.3
         },
         "marker": {
          "color": "rgba(128, 0, 128, 1.0)"
         },
         "name": "D",
         "orientation": "v",
         "type": "box",
         "y": [
          -0.8273066630944598,
          0.27331422050012766,
          2.8562140049146745,
          -0.9693747265380284,
          -0.07974487152265997,
          0.034705546672934025,
          -0.8959673617961699,
          -0.021441187707182185,
          -0.7766654634301396,
          0.4805850173193006,
          -0.8492500635977759,
          -2.211224007918174,
          -2.250192154742491,
          -1.3741957777675389,
          -0.009093389815766564,
          2.23134516487357,
          0.8774530478783776,
          0.43450087429221995,
          -0.19812913142573804,
          0.3144369783707955,
          -0.926562871054008,
          -0.29629367882683416,
          -1.0782977138537333,
          -1.4784196401948362,
          -0.32645512090688056,
          -0.7663910567026927,
          -0.6222654249262285,
          0.7681465847596798,
          2.386706616239427,
          0.6808715117647883,
          -0.1774657419590166,
          1.218938963909932,
          -0.6134301604369194,
          0.3723545439058522,
          0.6410275817754367,
          -0.24665465091351202,
          -2.5309618098311057,
          0.7961530978475005,
          0.12923271984211596,
          1.2326280693628313,
          -0.36136774120302945,
          0.2340587782888746,
          0.6034248553535082,
          0.5066595596956776,
          -0.6925840786310593,
          -0.5003015225399018,
          0.3455475657267796,
          0.33365453981737236,
          -0.9205532192755903,
          -0.2626712170091331,
          0.45034477871932777,
          -0.041310383330957774,
          -1.1739558583460423,
          -1.0665281388804828,
          -2.1134175759655616,
          0.97188132055067,
          -0.6063522070313438,
          0.4172485067929127,
          -1.3216417994002818,
          1.3260867850521425,
          0.1832930959274856,
          0.638577123442529,
          -1.555749513295139,
          2.4281733076277385,
          0.4453425415951846,
          -1.0100675643737924,
          0.4404058004304574,
          -0.9904695340576503,
          -0.428282458149643,
          -1.3498954821167286,
          -1.478886381421938,
          0.23051706568145464,
          -0.05892182529786133,
          -0.9367016024788103,
          -0.7622085517162878,
          0.5937253381511041,
          1.1928433672473235,
          -1.7468899682777217,
          0.7171005120250424,
          0.38205912709379447,
          0.4749135262565678,
          -1.2285015929742902,
          -0.3518333442150796,
          -0.2962352378419485,
          -0.5750722232738468,
          0.2637340239710272,
          -0.8925797512777627,
          -0.2050063683956568,
          1.523407840026115,
          -1.2032613975901485,
          -0.8828685783254572,
          0.08019814530005213,
          -2.2708578569354883,
          0.20005633204668902,
          -0.09784207844466804,
          -0.3998155393024862,
          0.44365798604099627,
          -1.2507312929599415,
          -1.5205147486035204,
          1.1435873832313297
         ]
        }
       ],
       "layout": {
        "legend": {
         "bgcolor": "#F5F6F9",
         "font": {
          "color": "#4D5663"
         }
        },
        "paper_bgcolor": "#F5F6F9",
        "plot_bgcolor": "#F5F6F9",
        "template": {
         "data": {
          "bar": [
           {
            "error_x": {
             "color": "#2a3f5f"
            },
            "error_y": {
             "color": "#2a3f5f"
            },
            "marker": {
             "line": {
              "color": "#E5ECF6",
              "width": 0.5
             },
             "pattern": {
              "fillmode": "overlay",
              "size": 10,
              "solidity": 0.2
             }
            },
            "type": "bar"
           }
          ],
          "barpolar": [
           {
            "marker": {
             "line": {
              "color": "#E5ECF6",
              "width": 0.5
             },
             "pattern": {
              "fillmode": "overlay",
              "size": 10,
              "solidity": 0.2
             }
            },
            "type": "barpolar"
           }
          ],
          "carpet": [
           {
            "aaxis": {
             "endlinecolor": "#2a3f5f",
             "gridcolor": "white",
             "linecolor": "white",
             "minorgridcolor": "white",
             "startlinecolor": "#2a3f5f"
            },
            "baxis": {
             "endlinecolor": "#2a3f5f",
             "gridcolor": "white",
             "linecolor": "white",
             "minorgridcolor": "white",
             "startlinecolor": "#2a3f5f"
            },
            "type": "carpet"
           }
          ],
          "choropleth": [
           {
            "colorbar": {
             "outlinewidth": 0,
             "ticks": ""
            },
            "type": "choropleth"
           }
          ],
          "contour": [
           {
            "colorbar": {
             "outlinewidth": 0,
             "ticks": ""
            },
            "colorscale": [
             [
              0,
              "#0d0887"
             ],
             [
              0.1111111111111111,
              "#46039f"
             ],
             [
              0.2222222222222222,
              "#7201a8"
             ],
             [
              0.3333333333333333,
              "#9c179e"
             ],
             [
              0.4444444444444444,
              "#bd3786"
             ],
             [
              0.5555555555555556,
              "#d8576b"
             ],
             [
              0.6666666666666666,
              "#ed7953"
             ],
             [
              0.7777777777777778,
              "#fb9f3a"
             ],
             [
              0.8888888888888888,
              "#fdca26"
             ],
             [
              1,
              "#f0f921"
             ]
            ],
            "type": "contour"
           }
          ],
          "contourcarpet": [
           {
            "colorbar": {
             "outlinewidth": 0,
             "ticks": ""
            },
            "type": "contourcarpet"
           }
          ],
          "heatmap": [
           {
            "colorbar": {
             "outlinewidth": 0,
             "ticks": ""
            },
            "colorscale": [
             [
              0,
              "#0d0887"
             ],
             [
              0.1111111111111111,
              "#46039f"
             ],
             [
              0.2222222222222222,
              "#7201a8"
             ],
             [
              0.3333333333333333,
              "#9c179e"
             ],
             [
              0.4444444444444444,
              "#bd3786"
             ],
             [
              0.5555555555555556,
              "#d8576b"
             ],
             [
              0.6666666666666666,
              "#ed7953"
             ],
             [
              0.7777777777777778,
              "#fb9f3a"
             ],
             [
              0.8888888888888888,
              "#fdca26"
             ],
             [
              1,
              "#f0f921"
             ]
            ],
            "type": "heatmap"
           }
          ],
          "heatmapgl": [
           {
            "colorbar": {
             "outlinewidth": 0,
             "ticks": ""
            },
            "colorscale": [
             [
              0,
              "#0d0887"
             ],
             [
              0.1111111111111111,
              "#46039f"
             ],
             [
              0.2222222222222222,
              "#7201a8"
             ],
             [
              0.3333333333333333,
              "#9c179e"
             ],
             [
              0.4444444444444444,
              "#bd3786"
             ],
             [
              0.5555555555555556,
              "#d8576b"
             ],
             [
              0.6666666666666666,
              "#ed7953"
             ],
             [
              0.7777777777777778,
              "#fb9f3a"
             ],
             [
              0.8888888888888888,
              "#fdca26"
             ],
             [
              1,
              "#f0f921"
             ]
            ],
            "type": "heatmapgl"
           }
          ],
          "histogram": [
           {
            "marker": {
             "pattern": {
              "fillmode": "overlay",
              "size": 10,
              "solidity": 0.2
             }
            },
            "type": "histogram"
           }
          ],
          "histogram2d": [
           {
            "colorbar": {
             "outlinewidth": 0,
             "ticks": ""
            },
            "colorscale": [
             [
              0,
              "#0d0887"
             ],
             [
              0.1111111111111111,
              "#46039f"
             ],
             [
              0.2222222222222222,
              "#7201a8"
             ],
             [
              0.3333333333333333,
              "#9c179e"
             ],
             [
              0.4444444444444444,
              "#bd3786"
             ],
             [
              0.5555555555555556,
              "#d8576b"
             ],
             [
              0.6666666666666666,
              "#ed7953"
             ],
             [
              0.7777777777777778,
              "#fb9f3a"
             ],
             [
              0.8888888888888888,
              "#fdca26"
             ],
             [
              1,
              "#f0f921"
             ]
            ],
            "type": "histogram2d"
           }
          ],
          "histogram2dcontour": [
           {
            "colorbar": {
             "outlinewidth": 0,
             "ticks": ""
            },
            "colorscale": [
             [
              0,
              "#0d0887"
             ],
             [
              0.1111111111111111,
              "#46039f"
             ],
             [
              0.2222222222222222,
              "#7201a8"
             ],
             [
              0.3333333333333333,
              "#9c179e"
             ],
             [
              0.4444444444444444,
              "#bd3786"
             ],
             [
              0.5555555555555556,
              "#d8576b"
             ],
             [
              0.6666666666666666,
              "#ed7953"
             ],
             [
              0.7777777777777778,
              "#fb9f3a"
             ],
             [
              0.8888888888888888,
              "#fdca26"
             ],
             [
              1,
              "#f0f921"
             ]
            ],
            "type": "histogram2dcontour"
           }
          ],
          "mesh3d": [
           {
            "colorbar": {
             "outlinewidth": 0,
             "ticks": ""
            },
            "type": "mesh3d"
           }
          ],
          "parcoords": [
           {
            "line": {
             "colorbar": {
              "outlinewidth": 0,
              "ticks": ""
             }
            },
            "type": "parcoords"
           }
          ],
          "pie": [
           {
            "automargin": true,
            "type": "pie"
           }
          ],
          "scatter": [
           {
            "fillpattern": {
             "fillmode": "overlay",
             "size": 10,
             "solidity": 0.2
            },
            "type": "scatter"
           }
          ],
          "scatter3d": [
           {
            "line": {
             "colorbar": {
              "outlinewidth": 0,
              "ticks": ""
             }
            },
            "marker": {
             "colorbar": {
              "outlinewidth": 0,
              "ticks": ""
             }
            },
            "type": "scatter3d"
           }
          ],
          "scattercarpet": [
           {
            "marker": {
             "colorbar": {
              "outlinewidth": 0,
              "ticks": ""
             }
            },
            "type": "scattercarpet"
           }
          ],
          "scattergeo": [
           {
            "marker": {
             "colorbar": {
              "outlinewidth": 0,
              "ticks": ""
             }
            },
            "type": "scattergeo"
           }
          ],
          "scattergl": [
           {
            "marker": {
             "colorbar": {
              "outlinewidth": 0,
              "ticks": ""
             }
            },
            "type": "scattergl"
           }
          ],
          "scattermapbox": [
           {
            "marker": {
             "colorbar": {
              "outlinewidth": 0,
              "ticks": ""
             }
            },
            "type": "scattermapbox"
           }
          ],
          "scatterpolar": [
           {
            "marker": {
             "colorbar": {
              "outlinewidth": 0,
              "ticks": ""
             }
            },
            "type": "scatterpolar"
           }
          ],
          "scatterpolargl": [
           {
            "marker": {
             "colorbar": {
              "outlinewidth": 0,
              "ticks": ""
             }
            },
            "type": "scatterpolargl"
           }
          ],
          "scatterternary": [
           {
            "marker": {
             "colorbar": {
              "outlinewidth": 0,
              "ticks": ""
             }
            },
            "type": "scatterternary"
           }
          ],
          "surface": [
           {
            "colorbar": {
             "outlinewidth": 0,
             "ticks": ""
            },
            "colorscale": [
             [
              0,
              "#0d0887"
             ],
             [
              0.1111111111111111,
              "#46039f"
             ],
             [
              0.2222222222222222,
              "#7201a8"
             ],
             [
              0.3333333333333333,
              "#9c179e"
             ],
             [
              0.4444444444444444,
              "#bd3786"
             ],
             [
              0.5555555555555556,
              "#d8576b"
             ],
             [
              0.6666666666666666,
              "#ed7953"
             ],
             [
              0.7777777777777778,
              "#fb9f3a"
             ],
             [
              0.8888888888888888,
              "#fdca26"
             ],
             [
              1,
              "#f0f921"
             ]
            ],
            "type": "surface"
           }
          ],
          "table": [
           {
            "cells": {
             "fill": {
              "color": "#EBF0F8"
             },
             "line": {
              "color": "white"
             }
            },
            "header": {
             "fill": {
              "color": "#C8D4E3"
             },
             "line": {
              "color": "white"
             }
            },
            "type": "table"
           }
          ]
         },
         "layout": {
          "annotationdefaults": {
           "arrowcolor": "#2a3f5f",
           "arrowhead": 0,
           "arrowwidth": 1
          },
          "autotypenumbers": "strict",
          "coloraxis": {
           "colorbar": {
            "outlinewidth": 0,
            "ticks": ""
           }
          },
          "colorscale": {
           "diverging": [
            [
             0,
             "#8e0152"
            ],
            [
             0.1,
             "#c51b7d"
            ],
            [
             0.2,
             "#de77ae"
            ],
            [
             0.3,
             "#f1b6da"
            ],
            [
             0.4,
             "#fde0ef"
            ],
            [
             0.5,
             "#f7f7f7"
            ],
            [
             0.6,
             "#e6f5d0"
            ],
            [
             0.7,
             "#b8e186"
            ],
            [
             0.8,
             "#7fbc41"
            ],
            [
             0.9,
             "#4d9221"
            ],
            [
             1,
             "#276419"
            ]
           ],
           "sequential": [
            [
             0,
             "#0d0887"
            ],
            [
             0.1111111111111111,
             "#46039f"
            ],
            [
             0.2222222222222222,
             "#7201a8"
            ],
            [
             0.3333333333333333,
             "#9c179e"
            ],
            [
             0.4444444444444444,
             "#bd3786"
            ],
            [
             0.5555555555555556,
             "#d8576b"
            ],
            [
             0.6666666666666666,
             "#ed7953"
            ],
            [
             0.7777777777777778,
             "#fb9f3a"
            ],
            [
             0.8888888888888888,
             "#fdca26"
            ],
            [
             1,
             "#f0f921"
            ]
           ],
           "sequentialminus": [
            [
             0,
             "#0d0887"
            ],
            [
             0.1111111111111111,
             "#46039f"
            ],
            [
             0.2222222222222222,
             "#7201a8"
            ],
            [
             0.3333333333333333,
             "#9c179e"
            ],
            [
             0.4444444444444444,
             "#bd3786"
            ],
            [
             0.5555555555555556,
             "#d8576b"
            ],
            [
             0.6666666666666666,
             "#ed7953"
            ],
            [
             0.7777777777777778,
             "#fb9f3a"
            ],
            [
             0.8888888888888888,
             "#fdca26"
            ],
            [
             1,
             "#f0f921"
            ]
           ]
          },
          "colorway": [
           "#636efa",
           "#EF553B",
           "#00cc96",
           "#ab63fa",
           "#FFA15A",
           "#19d3f3",
           "#FF6692",
           "#B6E880",
           "#FF97FF",
           "#FECB52"
          ],
          "font": {
           "color": "#2a3f5f"
          },
          "geo": {
           "bgcolor": "white",
           "lakecolor": "white",
           "landcolor": "#E5ECF6",
           "showlakes": true,
           "showland": true,
           "subunitcolor": "white"
          },
          "hoverlabel": {
           "align": "left"
          },
          "hovermode": "closest",
          "mapbox": {
           "style": "light"
          },
          "paper_bgcolor": "white",
          "plot_bgcolor": "#E5ECF6",
          "polar": {
           "angularaxis": {
            "gridcolor": "white",
            "linecolor": "white",
            "ticks": ""
           },
           "bgcolor": "#E5ECF6",
           "radialaxis": {
            "gridcolor": "white",
            "linecolor": "white",
            "ticks": ""
           }
          },
          "scene": {
           "xaxis": {
            "backgroundcolor": "#E5ECF6",
            "gridcolor": "white",
            "gridwidth": 2,
            "linecolor": "white",
            "showbackground": true,
            "ticks": "",
            "zerolinecolor": "white"
           },
           "yaxis": {
            "backgroundcolor": "#E5ECF6",
            "gridcolor": "white",
            "gridwidth": 2,
            "linecolor": "white",
            "showbackground": true,
            "ticks": "",
            "zerolinecolor": "white"
           },
           "zaxis": {
            "backgroundcolor": "#E5ECF6",
            "gridcolor": "white",
            "gridwidth": 2,
            "linecolor": "white",
            "showbackground": true,
            "ticks": "",
            "zerolinecolor": "white"
           }
          },
          "shapedefaults": {
           "line": {
            "color": "#2a3f5f"
           }
          },
          "ternary": {
           "aaxis": {
            "gridcolor": "white",
            "linecolor": "white",
            "ticks": ""
           },
           "baxis": {
            "gridcolor": "white",
            "linecolor": "white",
            "ticks": ""
           },
           "bgcolor": "#E5ECF6",
           "caxis": {
            "gridcolor": "white",
            "linecolor": "white",
            "ticks": ""
           }
          },
          "title": {
           "x": 0.05
          },
          "xaxis": {
           "automargin": true,
           "gridcolor": "white",
           "linecolor": "white",
           "ticks": "",
           "title": {
            "standoff": 15
           },
           "zerolinecolor": "white",
           "zerolinewidth": 2
          },
          "yaxis": {
           "automargin": true,
           "gridcolor": "white",
           "linecolor": "white",
           "ticks": "",
           "title": {
            "standoff": 15
           },
           "zerolinecolor": "white",
           "zerolinewidth": 2
          }
         }
        },
        "title": {
         "font": {
          "color": "#4D5663"
         }
        },
        "xaxis": {
         "gridcolor": "#E1E5ED",
         "showgrid": true,
         "tickfont": {
          "color": "#4D5663"
         },
         "title": {
          "font": {
           "color": "#4D5663"
          },
          "text": ""
         },
         "zerolinecolor": "#E1E5ED"
        },
        "yaxis": {
         "gridcolor": "#E1E5ED",
         "showgrid": true,
         "tickfont": {
          "color": "#4D5663"
         },
         "title": {
          "font": {
           "color": "#4D5663"
          },
          "text": ""
         },
         "zerolinecolor": "#E1E5ED"
        }
       }
      },
      "text/html": [
       "<div>                            <div id=\"9da5b860-906d-4420-99b8-3df2b92238d5\" class=\"plotly-graph-div\" style=\"height:525px; width:100%;\"></div>            <script type=\"text/javascript\">                require([\"plotly\"], function(Plotly) {                    window.PLOTLYENV=window.PLOTLYENV || {};\n",
       "                    window.PLOTLYENV.BASE_URL='https://plot.ly';                                    if (document.getElementById(\"9da5b860-906d-4420-99b8-3df2b92238d5\")) {                    Plotly.newPlot(                        \"9da5b860-906d-4420-99b8-3df2b92238d5\",                        [{\"boxpoints\":false,\"line\":{\"width\":1.3},\"marker\":{\"color\":\"rgba(255, 153, 51, 1.0)\"},\"name\":\"A\",\"orientation\":\"v\",\"y\":[-2.0248994302722,1.1206783216849459,-0.14714216901426908,0.6670829874275235,-0.023376648075685052,0.5060352952627416,-0.9478339706882272,2.7301806156870327,0.1500701083538797,-1.629253867207095,0.025633123118659527,-1.6180567997975985,-0.6201539883082475,0.6980153432116343,1.3457098806675134,-0.4733132068550389,1.218327984233927,1.0720706177131725,0.7266855883867765,-1.1328801679679639,1.285011116428947,-1.135743951530807,-1.0992156651659082,0.804292155497312,2.889420935902672,0.913650499514228,-1.2359684228301904,2.2394880583415873,1.0592166701930064,1.0330178731064599,1.0204782513370658,0.8787309750034229,0.6885987819603279,0.5437470084021745,-0.13455229775785477,-1.5005765916391522,0.4021446100381902,-1.2098195163672532,-0.397151218679385,0.14678399705766368,-0.41007694139382683,-0.8761747336518552,-0.03269185454668553,-0.832459749750178,-0.373553019196941,0.5976385942822937,-2.6303076986098883,0.49207673349323555,-0.24612515085494288,-1.1255327396654367,-0.48070458660037485,0.12895287721669293,-1.4090236036807335,-0.47182676530688755,0.23063424612448724,1.0277807157421683,0.9843342322642673,-0.09074566210834423,0.6472245732614761,-0.9203721156635134,-0.1257185498876959,-0.08710102389783692,-0.27268093799410975,-0.1414327108596726,-0.4611742525389193,0.8261375525274487,1.4565299222233419,-0.10042343837103451,-0.43689372589308856,-1.9981308411765657,-0.462754228780885,0.12754204376341816,-0.3433380435620271,-1.1692171929398942,0.782475324852804,-0.5319658940434484,2.225256725090445,1.089115482983619,-1.2430161750082012,1.2502312241220217,0.7905200967038304,2.734169374856847,-0.45361764475918365,-2.790893563542634,-0.9096538705796186,-0.7919999287925056,-0.38852093632309764,1.2568796152307298,-0.7385552048964777,-1.1615287328500985,0.5144036947754764,-0.9145163371493532,-0.38025656162124044,-1.0580205499766269,0.4825574966126437,-1.6269134861205365,-0.4224550151287948,-0.325133894910615,-0.8685891545573913,0.6256080741969859],\"type\":\"box\"},{\"boxpoints\":false,\"line\":{\"width\":1.3},\"marker\":{\"color\":\"rgba(55, 128, 191, 1.0)\"},\"name\":\"B\",\"orientation\":\"v\",\"y\":[1.244836717788421,-0.9113941741042547,0.24394904664371372,-0.3737083895924538,-1.0156947705953163,-0.25182333626234465,0.8025286099024215,-0.20904853915624613,-0.30335425935993415,-0.26015079829732535,-1.1652126737952444,-0.11601906352932617,0.3807298858276337,1.94622992408519,0.6918761245098521,0.12092987307672229,-0.7023721643644166,1.3436373835210946,-0.6047922436199462,0.05834742392095939,0.28252996046243645,0.5807192890824402,0.9861845276129169,0.5742445414696716,-0.3491755041321152,-0.03338709450851653,-0.42860738129677367,0.2814274678037998,-0.570275107112393,-1.1115427162391993,0.18700072674060986,-1.9030952679536954,-0.7194428719098581,0.5403296720195768,-0.24680054080514882,-0.5048407548451164,0.2939101111553618,1.7639202744963427,0.8625832635466819,-0.7654995595177715,1.6888924720096499,0.7020255211661659,-0.606354316327178,1.5640243081651144,-1.2389559497992244,0.9790296693868923,-0.888416311377553,-1.271624020447485,-0.38683782815487255,-0.3112174727382689,-1.3958610845724706,-0.3646318727579516,2.6623586140809947,1.278239804030543,1.4641583069138344,0.5035983514007785,0.7702324318302155,-0.8562313655545203,-1.6274232509023714,0.2750944531996166,0.7008539862181999,-0.25594811836690123,-0.3870976188644197,0.5261006417232784,0.1964263707784994,-0.9263064271086378,-0.488261838841295,0.05042984968017874,-0.029025191398035843,-0.5086244551715492,1.5059084171875694,0.07076965496823794,-1.1942297964401056,0.4900120685919607,0.9003822829550003,1.5815275119640084,0.08230211481593441,-0.6789188575459397,-0.20955368830118065,1.915784863367201,-0.5414897639944265,-1.1397451918472243,0.06123316433440914,-1.5363584833492157,-0.44175740605136277,-0.4977024511722823,-0.8060386350670952,0.23217547665242766,0.1530029564153142,0.19916716055370187,0.9103802439546376,-1.1567876338494296,-0.4954203784646236,1.5395209073602434,0.7561972792026549,-0.40766834609463987,-1.015571750157025,-0.5462836010855642,-0.20695204841393358,0.5252490005255105],\"type\":\"box\"},{\"boxpoints\":false,\"line\":{\"width\":1.3},\"marker\":{\"color\":\"rgba(50, 171, 96, 1.0)\"},\"name\":\"C\",\"orientation\":\"v\",\"y\":[2.3837865836348042,0.8337454629513709,-0.44035070497979484,0.3675640145013289,-1.4689105789596337,0.5919711719424133,1.1200824659503739,0.10709449183114861,-1.363205117051827,0.2802151197739775,0.22238681168946853,-1.3369883935832279,0.8795244078662957,-0.4682309574127068,2.154263439857636,0.5042543408665272,0.8380431803963164,2.0320004045327567,-0.4458730586188669,0.5720801773617187,0.5032501099442386,-0.04224715779108761,-0.5526566029076727,1.8765465233829777,0.48961407641982707,0.9249509675482437,0.5681082062181846,-0.17960641727452042,0.771128480871914,0.3350723329869273,-0.13585827442762177,0.005560655717367594,0.9820962360303911,0.10286779943902123,0.3615118069660571,0.4250557261317842,0.3477816419029761,-0.5219019677697857,0.0841551300710111,1.1561086796685336,1.4483073915162232,0.40737229684562326,0.6469833507006992,2.4202063822641486,-0.2644785558044118,1.9376106584922064,0.09665207271025082,-0.33423282228236395,-0.5305257354021574,0.130718683742174,0.46305393590723737,-0.4128376187788049,0.16217225699872154,0.09030729454393,0.8742108604957504,1.647032817150969,-0.7143668710181892,1.8385327810015186,-0.048191963038784674,0.5840118945787226,-2.688222641816865,-0.3553197894628702,-0.52404866228707,0.1341937465319343,0.3762970756553044,0.9934838329556147,0.7833557022459264,0.629109159974082,1.2276280265214414,-0.3495825148413494,0.4884121546400506,-2.000500517042181,-0.5283520269456001,-1.004126628466134,-2.584010933361183,0.5758503216393676,-0.36794037843087757,-0.09038686069550698,-0.035896792561200846,-0.27055291970669504,1.1810487492872002,1.329834716597255,0.6753533415919987,1.6466374430657869,-0.6440345419332062,-1.3546813179781783,0.6610326007324075,-0.7529469658037548,0.9108811752427859,0.3125883903206803,-0.266799345019069,-0.8701856397329435,0.22784583602906255,1.7901088134822656,-0.5651202795197222,-1.1550628847480657,0.5833194718209482,1.3887726399856906,0.16533850174549897,-1.3955953195610848],\"type\":\"box\"},{\"boxpoints\":false,\"line\":{\"width\":1.3},\"marker\":{\"color\":\"rgba(128, 0, 128, 1.0)\"},\"name\":\"D\",\"orientation\":\"v\",\"y\":[-0.8273066630944598,0.27331422050012766,2.8562140049146745,-0.9693747265380284,-0.07974487152265997,0.034705546672934025,-0.8959673617961699,-0.021441187707182185,-0.7766654634301396,0.4805850173193006,-0.8492500635977759,-2.211224007918174,-2.250192154742491,-1.3741957777675389,-0.009093389815766564,2.23134516487357,0.8774530478783776,0.43450087429221995,-0.19812913142573804,0.3144369783707955,-0.926562871054008,-0.29629367882683416,-1.0782977138537333,-1.4784196401948362,-0.32645512090688056,-0.7663910567026927,-0.6222654249262285,0.7681465847596798,2.386706616239427,0.6808715117647883,-0.1774657419590166,1.218938963909932,-0.6134301604369194,0.3723545439058522,0.6410275817754367,-0.24665465091351202,-2.5309618098311057,0.7961530978475005,0.12923271984211596,1.2326280693628313,-0.36136774120302945,0.2340587782888746,0.6034248553535082,0.5066595596956776,-0.6925840786310593,-0.5003015225399018,0.3455475657267796,0.33365453981737236,-0.9205532192755903,-0.2626712170091331,0.45034477871932777,-0.041310383330957774,-1.1739558583460423,-1.0665281388804828,-2.1134175759655616,0.97188132055067,-0.6063522070313438,0.4172485067929127,-1.3216417994002818,1.3260867850521425,0.1832930959274856,0.638577123442529,-1.555749513295139,2.4281733076277385,0.4453425415951846,-1.0100675643737924,0.4404058004304574,-0.9904695340576503,-0.428282458149643,-1.3498954821167286,-1.478886381421938,0.23051706568145464,-0.05892182529786133,-0.9367016024788103,-0.7622085517162878,0.5937253381511041,1.1928433672473235,-1.7468899682777217,0.7171005120250424,0.38205912709379447,0.4749135262565678,-1.2285015929742902,-0.3518333442150796,-0.2962352378419485,-0.5750722232738468,0.2637340239710272,-0.8925797512777627,-0.2050063683956568,1.523407840026115,-1.2032613975901485,-0.8828685783254572,0.08019814530005213,-2.2708578569354883,0.20005633204668902,-0.09784207844466804,-0.3998155393024862,0.44365798604099627,-1.2507312929599415,-1.5205147486035204,1.1435873832313297],\"type\":\"box\"}],                        {\"legend\":{\"bgcolor\":\"#F5F6F9\",\"font\":{\"color\":\"#4D5663\"}},\"paper_bgcolor\":\"#F5F6F9\",\"plot_bgcolor\":\"#F5F6F9\",\"template\":{\"data\":{\"barpolar\":[{\"marker\":{\"line\":{\"color\":\"#E5ECF6\",\"width\":0.5},\"pattern\":{\"fillmode\":\"overlay\",\"size\":10,\"solidity\":0.2}},\"type\":\"barpolar\"}],\"bar\":[{\"error_x\":{\"color\":\"#2a3f5f\"},\"error_y\":{\"color\":\"#2a3f5f\"},\"marker\":{\"line\":{\"color\":\"#E5ECF6\",\"width\":0.5},\"pattern\":{\"fillmode\":\"overlay\",\"size\":10,\"solidity\":0.2}},\"type\":\"bar\"}],\"carpet\":[{\"aaxis\":{\"endlinecolor\":\"#2a3f5f\",\"gridcolor\":\"white\",\"linecolor\":\"white\",\"minorgridcolor\":\"white\",\"startlinecolor\":\"#2a3f5f\"},\"baxis\":{\"endlinecolor\":\"#2a3f5f\",\"gridcolor\":\"white\",\"linecolor\":\"white\",\"minorgridcolor\":\"white\",\"startlinecolor\":\"#2a3f5f\"},\"type\":\"carpet\"}],\"choropleth\":[{\"colorbar\":{\"outlinewidth\":0,\"ticks\":\"\"},\"type\":\"choropleth\"}],\"contourcarpet\":[{\"colorbar\":{\"outlinewidth\":0,\"ticks\":\"\"},\"type\":\"contourcarpet\"}],\"contour\":[{\"colorbar\":{\"outlinewidth\":0,\"ticks\":\"\"},\"colorscale\":[[0.0,\"#0d0887\"],[0.1111111111111111,\"#46039f\"],[0.2222222222222222,\"#7201a8\"],[0.3333333333333333,\"#9c179e\"],[0.4444444444444444,\"#bd3786\"],[0.5555555555555556,\"#d8576b\"],[0.6666666666666666,\"#ed7953\"],[0.7777777777777778,\"#fb9f3a\"],[0.8888888888888888,\"#fdca26\"],[1.0,\"#f0f921\"]],\"type\":\"contour\"}],\"heatmapgl\":[{\"colorbar\":{\"outlinewidth\":0,\"ticks\":\"\"},\"colorscale\":[[0.0,\"#0d0887\"],[0.1111111111111111,\"#46039f\"],[0.2222222222222222,\"#7201a8\"],[0.3333333333333333,\"#9c179e\"],[0.4444444444444444,\"#bd3786\"],[0.5555555555555556,\"#d8576b\"],[0.6666666666666666,\"#ed7953\"],[0.7777777777777778,\"#fb9f3a\"],[0.8888888888888888,\"#fdca26\"],[1.0,\"#f0f921\"]],\"type\":\"heatmapgl\"}],\"heatmap\":[{\"colorbar\":{\"outlinewidth\":0,\"ticks\":\"\"},\"colorscale\":[[0.0,\"#0d0887\"],[0.1111111111111111,\"#46039f\"],[0.2222222222222222,\"#7201a8\"],[0.3333333333333333,\"#9c179e\"],[0.4444444444444444,\"#bd3786\"],[0.5555555555555556,\"#d8576b\"],[0.6666666666666666,\"#ed7953\"],[0.7777777777777778,\"#fb9f3a\"],[0.8888888888888888,\"#fdca26\"],[1.0,\"#f0f921\"]],\"type\":\"heatmap\"}],\"histogram2dcontour\":[{\"colorbar\":{\"outlinewidth\":0,\"ticks\":\"\"},\"colorscale\":[[0.0,\"#0d0887\"],[0.1111111111111111,\"#46039f\"],[0.2222222222222222,\"#7201a8\"],[0.3333333333333333,\"#9c179e\"],[0.4444444444444444,\"#bd3786\"],[0.5555555555555556,\"#d8576b\"],[0.6666666666666666,\"#ed7953\"],[0.7777777777777778,\"#fb9f3a\"],[0.8888888888888888,\"#fdca26\"],[1.0,\"#f0f921\"]],\"type\":\"histogram2dcontour\"}],\"histogram2d\":[{\"colorbar\":{\"outlinewidth\":0,\"ticks\":\"\"},\"colorscale\":[[0.0,\"#0d0887\"],[0.1111111111111111,\"#46039f\"],[0.2222222222222222,\"#7201a8\"],[0.3333333333333333,\"#9c179e\"],[0.4444444444444444,\"#bd3786\"],[0.5555555555555556,\"#d8576b\"],[0.6666666666666666,\"#ed7953\"],[0.7777777777777778,\"#fb9f3a\"],[0.8888888888888888,\"#fdca26\"],[1.0,\"#f0f921\"]],\"type\":\"histogram2d\"}],\"histogram\":[{\"marker\":{\"pattern\":{\"fillmode\":\"overlay\",\"size\":10,\"solidity\":0.2}},\"type\":\"histogram\"}],\"mesh3d\":[{\"colorbar\":{\"outlinewidth\":0,\"ticks\":\"\"},\"type\":\"mesh3d\"}],\"parcoords\":[{\"line\":{\"colorbar\":{\"outlinewidth\":0,\"ticks\":\"\"}},\"type\":\"parcoords\"}],\"pie\":[{\"automargin\":true,\"type\":\"pie\"}],\"scatter3d\":[{\"line\":{\"colorbar\":{\"outlinewidth\":0,\"ticks\":\"\"}},\"marker\":{\"colorbar\":{\"outlinewidth\":0,\"ticks\":\"\"}},\"type\":\"scatter3d\"}],\"scattercarpet\":[{\"marker\":{\"colorbar\":{\"outlinewidth\":0,\"ticks\":\"\"}},\"type\":\"scattercarpet\"}],\"scattergeo\":[{\"marker\":{\"colorbar\":{\"outlinewidth\":0,\"ticks\":\"\"}},\"type\":\"scattergeo\"}],\"scattergl\":[{\"marker\":{\"colorbar\":{\"outlinewidth\":0,\"ticks\":\"\"}},\"type\":\"scattergl\"}],\"scattermapbox\":[{\"marker\":{\"colorbar\":{\"outlinewidth\":0,\"ticks\":\"\"}},\"type\":\"scattermapbox\"}],\"scatterpolargl\":[{\"marker\":{\"colorbar\":{\"outlinewidth\":0,\"ticks\":\"\"}},\"type\":\"scatterpolargl\"}],\"scatterpolar\":[{\"marker\":{\"colorbar\":{\"outlinewidth\":0,\"ticks\":\"\"}},\"type\":\"scatterpolar\"}],\"scatter\":[{\"fillpattern\":{\"fillmode\":\"overlay\",\"size\":10,\"solidity\":0.2},\"type\":\"scatter\"}],\"scatterternary\":[{\"marker\":{\"colorbar\":{\"outlinewidth\":0,\"ticks\":\"\"}},\"type\":\"scatterternary\"}],\"surface\":[{\"colorbar\":{\"outlinewidth\":0,\"ticks\":\"\"},\"colorscale\":[[0.0,\"#0d0887\"],[0.1111111111111111,\"#46039f\"],[0.2222222222222222,\"#7201a8\"],[0.3333333333333333,\"#9c179e\"],[0.4444444444444444,\"#bd3786\"],[0.5555555555555556,\"#d8576b\"],[0.6666666666666666,\"#ed7953\"],[0.7777777777777778,\"#fb9f3a\"],[0.8888888888888888,\"#fdca26\"],[1.0,\"#f0f921\"]],\"type\":\"surface\"}],\"table\":[{\"cells\":{\"fill\":{\"color\":\"#EBF0F8\"},\"line\":{\"color\":\"white\"}},\"header\":{\"fill\":{\"color\":\"#C8D4E3\"},\"line\":{\"color\":\"white\"}},\"type\":\"table\"}]},\"layout\":{\"annotationdefaults\":{\"arrowcolor\":\"#2a3f5f\",\"arrowhead\":0,\"arrowwidth\":1},\"autotypenumbers\":\"strict\",\"coloraxis\":{\"colorbar\":{\"outlinewidth\":0,\"ticks\":\"\"}},\"colorscale\":{\"diverging\":[[0,\"#8e0152\"],[0.1,\"#c51b7d\"],[0.2,\"#de77ae\"],[0.3,\"#f1b6da\"],[0.4,\"#fde0ef\"],[0.5,\"#f7f7f7\"],[0.6,\"#e6f5d0\"],[0.7,\"#b8e186\"],[0.8,\"#7fbc41\"],[0.9,\"#4d9221\"],[1,\"#276419\"]],\"sequential\":[[0.0,\"#0d0887\"],[0.1111111111111111,\"#46039f\"],[0.2222222222222222,\"#7201a8\"],[0.3333333333333333,\"#9c179e\"],[0.4444444444444444,\"#bd3786\"],[0.5555555555555556,\"#d8576b\"],[0.6666666666666666,\"#ed7953\"],[0.7777777777777778,\"#fb9f3a\"],[0.8888888888888888,\"#fdca26\"],[1.0,\"#f0f921\"]],\"sequentialminus\":[[0.0,\"#0d0887\"],[0.1111111111111111,\"#46039f\"],[0.2222222222222222,\"#7201a8\"],[0.3333333333333333,\"#9c179e\"],[0.4444444444444444,\"#bd3786\"],[0.5555555555555556,\"#d8576b\"],[0.6666666666666666,\"#ed7953\"],[0.7777777777777778,\"#fb9f3a\"],[0.8888888888888888,\"#fdca26\"],[1.0,\"#f0f921\"]]},\"colorway\":[\"#636efa\",\"#EF553B\",\"#00cc96\",\"#ab63fa\",\"#FFA15A\",\"#19d3f3\",\"#FF6692\",\"#B6E880\",\"#FF97FF\",\"#FECB52\"],\"font\":{\"color\":\"#2a3f5f\"},\"geo\":{\"bgcolor\":\"white\",\"lakecolor\":\"white\",\"landcolor\":\"#E5ECF6\",\"showlakes\":true,\"showland\":true,\"subunitcolor\":\"white\"},\"hoverlabel\":{\"align\":\"left\"},\"hovermode\":\"closest\",\"mapbox\":{\"style\":\"light\"},\"paper_bgcolor\":\"white\",\"plot_bgcolor\":\"#E5ECF6\",\"polar\":{\"angularaxis\":{\"gridcolor\":\"white\",\"linecolor\":\"white\",\"ticks\":\"\"},\"bgcolor\":\"#E5ECF6\",\"radialaxis\":{\"gridcolor\":\"white\",\"linecolor\":\"white\",\"ticks\":\"\"}},\"scene\":{\"xaxis\":{\"backgroundcolor\":\"#E5ECF6\",\"gridcolor\":\"white\",\"gridwidth\":2,\"linecolor\":\"white\",\"showbackground\":true,\"ticks\":\"\",\"zerolinecolor\":\"white\"},\"yaxis\":{\"backgroundcolor\":\"#E5ECF6\",\"gridcolor\":\"white\",\"gridwidth\":2,\"linecolor\":\"white\",\"showbackground\":true,\"ticks\":\"\",\"zerolinecolor\":\"white\"},\"zaxis\":{\"backgroundcolor\":\"#E5ECF6\",\"gridcolor\":\"white\",\"gridwidth\":2,\"linecolor\":\"white\",\"showbackground\":true,\"ticks\":\"\",\"zerolinecolor\":\"white\"}},\"shapedefaults\":{\"line\":{\"color\":\"#2a3f5f\"}},\"ternary\":{\"aaxis\":{\"gridcolor\":\"white\",\"linecolor\":\"white\",\"ticks\":\"\"},\"baxis\":{\"gridcolor\":\"white\",\"linecolor\":\"white\",\"ticks\":\"\"},\"bgcolor\":\"#E5ECF6\",\"caxis\":{\"gridcolor\":\"white\",\"linecolor\":\"white\",\"ticks\":\"\"}},\"title\":{\"x\":0.05},\"xaxis\":{\"automargin\":true,\"gridcolor\":\"white\",\"linecolor\":\"white\",\"ticks\":\"\",\"title\":{\"standoff\":15},\"zerolinecolor\":\"white\",\"zerolinewidth\":2},\"yaxis\":{\"automargin\":true,\"gridcolor\":\"white\",\"linecolor\":\"white\",\"ticks\":\"\",\"title\":{\"standoff\":15},\"zerolinecolor\":\"white\",\"zerolinewidth\":2}}},\"title\":{\"font\":{\"color\":\"#4D5663\"}},\"xaxis\":{\"gridcolor\":\"#E1E5ED\",\"showgrid\":true,\"tickfont\":{\"color\":\"#4D5663\"},\"title\":{\"font\":{\"color\":\"#4D5663\"},\"text\":\"\"},\"zerolinecolor\":\"#E1E5ED\"},\"yaxis\":{\"gridcolor\":\"#E1E5ED\",\"showgrid\":true,\"tickfont\":{\"color\":\"#4D5663\"},\"title\":{\"font\":{\"color\":\"#4D5663\"},\"text\":\"\"},\"zerolinecolor\":\"#E1E5ED\"}},                        {\"showLink\": true, \"linkText\": \"Export to plot.ly\", \"plotlyServerURL\": \"https://plot.ly\", \"responsive\": true}                    ).then(function(){\n",
       "                            \n",
       "var gd = document.getElementById('9da5b860-906d-4420-99b8-3df2b92238d5');\n",
       "var x = new MutationObserver(function (mutations, observer) {{\n",
       "        var display = window.getComputedStyle(gd).display;\n",
       "        if (!display || display === 'none') {{\n",
       "            console.log([gd, 'removed!']);\n",
       "            Plotly.purge(gd);\n",
       "            observer.disconnect();\n",
       "        }}\n",
       "}});\n",
       "\n",
       "// Listen for the removal of the full notebook cells\n",
       "var notebookContainer = gd.closest('#notebook-container');\n",
       "if (notebookContainer) {{\n",
       "    x.observe(notebookContainer, {childList: true});\n",
       "}}\n",
       "\n",
       "// Listen for the clearing of the current output cell\n",
       "var outputEl = gd.closest('.output');\n",
       "if (outputEl) {{\n",
       "    x.observe(outputEl, {childList: true});\n",
       "}}\n",
       "\n",
       "                        })                };                });            </script>        </div>"
      ]
     },
     "metadata": {},
     "output_type": "display_data"
    }
   ],
   "source": [
    "df.iplot(kind='box')"
   ]
  },
  {
   "cell_type": "code",
   "execution_count": 58,
   "id": "cfc31a79",
   "metadata": {},
   "outputs": [],
   "source": [
    "df3=pd.DataFrame({'x':[1,2,3,4,5], 'y':[10,20,30,40,50], 'z':[5,4,3,2,1]})"
   ]
  },
  {
   "cell_type": "code",
   "execution_count": 59,
   "id": "52c2f988",
   "metadata": {},
   "outputs": [
    {
     "data": {
      "application/vnd.plotly.v1+json": {
       "config": {
        "linkText": "Export to plot.ly",
        "plotlyServerURL": "https://plot.ly",
        "showLink": true
       },
       "data": [
        {
         "colorscale": [
          [
           0,
           "rgb(255, 153, 51)"
          ],
          [
           0.1111111111111111,
           "rgb(55, 128, 191)"
          ],
          [
           0.2222222222222222,
           "rgb(50, 171, 96)"
          ],
          [
           0.3333333333333333,
           "rgb(128, 0, 128)"
          ],
          [
           0.4444444444444444,
           "rgb(219, 64, 82)"
          ],
          [
           0.5555555555555556,
           "rgb(0, 128, 128)"
          ],
          [
           0.6666666666666666,
           "rgb(255, 255, 51)"
          ],
          [
           0.7777777777777778,
           "rgb(128, 128, 0)"
          ],
          [
           0.8888888888888888,
           "rgb(251, 128, 114)"
          ],
          [
           1,
           "rgb(128, 177, 211)"
          ]
         ],
         "type": "surface",
         "x": [
          0,
          1,
          2,
          3,
          4
         ],
         "y": [
          "x",
          "y",
          "z"
         ],
         "z": [
          [
           1,
           2,
           3,
           4,
           5
          ],
          [
           10,
           20,
           30,
           40,
           50
          ],
          [
           5,
           4,
           3,
           2,
           1
          ]
         ]
        }
       ],
       "layout": {
        "legend": {
         "bgcolor": "#F5F6F9",
         "font": {
          "color": "#4D5663"
         }
        },
        "paper_bgcolor": "#F5F6F9",
        "plot_bgcolor": "#F5F6F9",
        "template": {
         "data": {
          "bar": [
           {
            "error_x": {
             "color": "#2a3f5f"
            },
            "error_y": {
             "color": "#2a3f5f"
            },
            "marker": {
             "line": {
              "color": "#E5ECF6",
              "width": 0.5
             },
             "pattern": {
              "fillmode": "overlay",
              "size": 10,
              "solidity": 0.2
             }
            },
            "type": "bar"
           }
          ],
          "barpolar": [
           {
            "marker": {
             "line": {
              "color": "#E5ECF6",
              "width": 0.5
             },
             "pattern": {
              "fillmode": "overlay",
              "size": 10,
              "solidity": 0.2
             }
            },
            "type": "barpolar"
           }
          ],
          "carpet": [
           {
            "aaxis": {
             "endlinecolor": "#2a3f5f",
             "gridcolor": "white",
             "linecolor": "white",
             "minorgridcolor": "white",
             "startlinecolor": "#2a3f5f"
            },
            "baxis": {
             "endlinecolor": "#2a3f5f",
             "gridcolor": "white",
             "linecolor": "white",
             "minorgridcolor": "white",
             "startlinecolor": "#2a3f5f"
            },
            "type": "carpet"
           }
          ],
          "choropleth": [
           {
            "colorbar": {
             "outlinewidth": 0,
             "ticks": ""
            },
            "type": "choropleth"
           }
          ],
          "contour": [
           {
            "colorbar": {
             "outlinewidth": 0,
             "ticks": ""
            },
            "colorscale": [
             [
              0,
              "#0d0887"
             ],
             [
              0.1111111111111111,
              "#46039f"
             ],
             [
              0.2222222222222222,
              "#7201a8"
             ],
             [
              0.3333333333333333,
              "#9c179e"
             ],
             [
              0.4444444444444444,
              "#bd3786"
             ],
             [
              0.5555555555555556,
              "#d8576b"
             ],
             [
              0.6666666666666666,
              "#ed7953"
             ],
             [
              0.7777777777777778,
              "#fb9f3a"
             ],
             [
              0.8888888888888888,
              "#fdca26"
             ],
             [
              1,
              "#f0f921"
             ]
            ],
            "type": "contour"
           }
          ],
          "contourcarpet": [
           {
            "colorbar": {
             "outlinewidth": 0,
             "ticks": ""
            },
            "type": "contourcarpet"
           }
          ],
          "heatmap": [
           {
            "colorbar": {
             "outlinewidth": 0,
             "ticks": ""
            },
            "colorscale": [
             [
              0,
              "#0d0887"
             ],
             [
              0.1111111111111111,
              "#46039f"
             ],
             [
              0.2222222222222222,
              "#7201a8"
             ],
             [
              0.3333333333333333,
              "#9c179e"
             ],
             [
              0.4444444444444444,
              "#bd3786"
             ],
             [
              0.5555555555555556,
              "#d8576b"
             ],
             [
              0.6666666666666666,
              "#ed7953"
             ],
             [
              0.7777777777777778,
              "#fb9f3a"
             ],
             [
              0.8888888888888888,
              "#fdca26"
             ],
             [
              1,
              "#f0f921"
             ]
            ],
            "type": "heatmap"
           }
          ],
          "heatmapgl": [
           {
            "colorbar": {
             "outlinewidth": 0,
             "ticks": ""
            },
            "colorscale": [
             [
              0,
              "#0d0887"
             ],
             [
              0.1111111111111111,
              "#46039f"
             ],
             [
              0.2222222222222222,
              "#7201a8"
             ],
             [
              0.3333333333333333,
              "#9c179e"
             ],
             [
              0.4444444444444444,
              "#bd3786"
             ],
             [
              0.5555555555555556,
              "#d8576b"
             ],
             [
              0.6666666666666666,
              "#ed7953"
             ],
             [
              0.7777777777777778,
              "#fb9f3a"
             ],
             [
              0.8888888888888888,
              "#fdca26"
             ],
             [
              1,
              "#f0f921"
             ]
            ],
            "type": "heatmapgl"
           }
          ],
          "histogram": [
           {
            "marker": {
             "pattern": {
              "fillmode": "overlay",
              "size": 10,
              "solidity": 0.2
             }
            },
            "type": "histogram"
           }
          ],
          "histogram2d": [
           {
            "colorbar": {
             "outlinewidth": 0,
             "ticks": ""
            },
            "colorscale": [
             [
              0,
              "#0d0887"
             ],
             [
              0.1111111111111111,
              "#46039f"
             ],
             [
              0.2222222222222222,
              "#7201a8"
             ],
             [
              0.3333333333333333,
              "#9c179e"
             ],
             [
              0.4444444444444444,
              "#bd3786"
             ],
             [
              0.5555555555555556,
              "#d8576b"
             ],
             [
              0.6666666666666666,
              "#ed7953"
             ],
             [
              0.7777777777777778,
              "#fb9f3a"
             ],
             [
              0.8888888888888888,
              "#fdca26"
             ],
             [
              1,
              "#f0f921"
             ]
            ],
            "type": "histogram2d"
           }
          ],
          "histogram2dcontour": [
           {
            "colorbar": {
             "outlinewidth": 0,
             "ticks": ""
            },
            "colorscale": [
             [
              0,
              "#0d0887"
             ],
             [
              0.1111111111111111,
              "#46039f"
             ],
             [
              0.2222222222222222,
              "#7201a8"
             ],
             [
              0.3333333333333333,
              "#9c179e"
             ],
             [
              0.4444444444444444,
              "#bd3786"
             ],
             [
              0.5555555555555556,
              "#d8576b"
             ],
             [
              0.6666666666666666,
              "#ed7953"
             ],
             [
              0.7777777777777778,
              "#fb9f3a"
             ],
             [
              0.8888888888888888,
              "#fdca26"
             ],
             [
              1,
              "#f0f921"
             ]
            ],
            "type": "histogram2dcontour"
           }
          ],
          "mesh3d": [
           {
            "colorbar": {
             "outlinewidth": 0,
             "ticks": ""
            },
            "type": "mesh3d"
           }
          ],
          "parcoords": [
           {
            "line": {
             "colorbar": {
              "outlinewidth": 0,
              "ticks": ""
             }
            },
            "type": "parcoords"
           }
          ],
          "pie": [
           {
            "automargin": true,
            "type": "pie"
           }
          ],
          "scatter": [
           {
            "fillpattern": {
             "fillmode": "overlay",
             "size": 10,
             "solidity": 0.2
            },
            "type": "scatter"
           }
          ],
          "scatter3d": [
           {
            "line": {
             "colorbar": {
              "outlinewidth": 0,
              "ticks": ""
             }
            },
            "marker": {
             "colorbar": {
              "outlinewidth": 0,
              "ticks": ""
             }
            },
            "type": "scatter3d"
           }
          ],
          "scattercarpet": [
           {
            "marker": {
             "colorbar": {
              "outlinewidth": 0,
              "ticks": ""
             }
            },
            "type": "scattercarpet"
           }
          ],
          "scattergeo": [
           {
            "marker": {
             "colorbar": {
              "outlinewidth": 0,
              "ticks": ""
             }
            },
            "type": "scattergeo"
           }
          ],
          "scattergl": [
           {
            "marker": {
             "colorbar": {
              "outlinewidth": 0,
              "ticks": ""
             }
            },
            "type": "scattergl"
           }
          ],
          "scattermapbox": [
           {
            "marker": {
             "colorbar": {
              "outlinewidth": 0,
              "ticks": ""
             }
            },
            "type": "scattermapbox"
           }
          ],
          "scatterpolar": [
           {
            "marker": {
             "colorbar": {
              "outlinewidth": 0,
              "ticks": ""
             }
            },
            "type": "scatterpolar"
           }
          ],
          "scatterpolargl": [
           {
            "marker": {
             "colorbar": {
              "outlinewidth": 0,
              "ticks": ""
             }
            },
            "type": "scatterpolargl"
           }
          ],
          "scatterternary": [
           {
            "marker": {
             "colorbar": {
              "outlinewidth": 0,
              "ticks": ""
             }
            },
            "type": "scatterternary"
           }
          ],
          "surface": [
           {
            "colorbar": {
             "outlinewidth": 0,
             "ticks": ""
            },
            "colorscale": [
             [
              0,
              "#0d0887"
             ],
             [
              0.1111111111111111,
              "#46039f"
             ],
             [
              0.2222222222222222,
              "#7201a8"
             ],
             [
              0.3333333333333333,
              "#9c179e"
             ],
             [
              0.4444444444444444,
              "#bd3786"
             ],
             [
              0.5555555555555556,
              "#d8576b"
             ],
             [
              0.6666666666666666,
              "#ed7953"
             ],
             [
              0.7777777777777778,
              "#fb9f3a"
             ],
             [
              0.8888888888888888,
              "#fdca26"
             ],
             [
              1,
              "#f0f921"
             ]
            ],
            "type": "surface"
           }
          ],
          "table": [
           {
            "cells": {
             "fill": {
              "color": "#EBF0F8"
             },
             "line": {
              "color": "white"
             }
            },
            "header": {
             "fill": {
              "color": "#C8D4E3"
             },
             "line": {
              "color": "white"
             }
            },
            "type": "table"
           }
          ]
         },
         "layout": {
          "annotationdefaults": {
           "arrowcolor": "#2a3f5f",
           "arrowhead": 0,
           "arrowwidth": 1
          },
          "autotypenumbers": "strict",
          "coloraxis": {
           "colorbar": {
            "outlinewidth": 0,
            "ticks": ""
           }
          },
          "colorscale": {
           "diverging": [
            [
             0,
             "#8e0152"
            ],
            [
             0.1,
             "#c51b7d"
            ],
            [
             0.2,
             "#de77ae"
            ],
            [
             0.3,
             "#f1b6da"
            ],
            [
             0.4,
             "#fde0ef"
            ],
            [
             0.5,
             "#f7f7f7"
            ],
            [
             0.6,
             "#e6f5d0"
            ],
            [
             0.7,
             "#b8e186"
            ],
            [
             0.8,
             "#7fbc41"
            ],
            [
             0.9,
             "#4d9221"
            ],
            [
             1,
             "#276419"
            ]
           ],
           "sequential": [
            [
             0,
             "#0d0887"
            ],
            [
             0.1111111111111111,
             "#46039f"
            ],
            [
             0.2222222222222222,
             "#7201a8"
            ],
            [
             0.3333333333333333,
             "#9c179e"
            ],
            [
             0.4444444444444444,
             "#bd3786"
            ],
            [
             0.5555555555555556,
             "#d8576b"
            ],
            [
             0.6666666666666666,
             "#ed7953"
            ],
            [
             0.7777777777777778,
             "#fb9f3a"
            ],
            [
             0.8888888888888888,
             "#fdca26"
            ],
            [
             1,
             "#f0f921"
            ]
           ],
           "sequentialminus": [
            [
             0,
             "#0d0887"
            ],
            [
             0.1111111111111111,
             "#46039f"
            ],
            [
             0.2222222222222222,
             "#7201a8"
            ],
            [
             0.3333333333333333,
             "#9c179e"
            ],
            [
             0.4444444444444444,
             "#bd3786"
            ],
            [
             0.5555555555555556,
             "#d8576b"
            ],
            [
             0.6666666666666666,
             "#ed7953"
            ],
            [
             0.7777777777777778,
             "#fb9f3a"
            ],
            [
             0.8888888888888888,
             "#fdca26"
            ],
            [
             1,
             "#f0f921"
            ]
           ]
          },
          "colorway": [
           "#636efa",
           "#EF553B",
           "#00cc96",
           "#ab63fa",
           "#FFA15A",
           "#19d3f3",
           "#FF6692",
           "#B6E880",
           "#FF97FF",
           "#FECB52"
          ],
          "font": {
           "color": "#2a3f5f"
          },
          "geo": {
           "bgcolor": "white",
           "lakecolor": "white",
           "landcolor": "#E5ECF6",
           "showlakes": true,
           "showland": true,
           "subunitcolor": "white"
          },
          "hoverlabel": {
           "align": "left"
          },
          "hovermode": "closest",
          "mapbox": {
           "style": "light"
          },
          "paper_bgcolor": "white",
          "plot_bgcolor": "#E5ECF6",
          "polar": {
           "angularaxis": {
            "gridcolor": "white",
            "linecolor": "white",
            "ticks": ""
           },
           "bgcolor": "#E5ECF6",
           "radialaxis": {
            "gridcolor": "white",
            "linecolor": "white",
            "ticks": ""
           }
          },
          "scene": {
           "xaxis": {
            "backgroundcolor": "#E5ECF6",
            "gridcolor": "white",
            "gridwidth": 2,
            "linecolor": "white",
            "showbackground": true,
            "ticks": "",
            "zerolinecolor": "white"
           },
           "yaxis": {
            "backgroundcolor": "#E5ECF6",
            "gridcolor": "white",
            "gridwidth": 2,
            "linecolor": "white",
            "showbackground": true,
            "ticks": "",
            "zerolinecolor": "white"
           },
           "zaxis": {
            "backgroundcolor": "#E5ECF6",
            "gridcolor": "white",
            "gridwidth": 2,
            "linecolor": "white",
            "showbackground": true,
            "ticks": "",
            "zerolinecolor": "white"
           }
          },
          "shapedefaults": {
           "line": {
            "color": "#2a3f5f"
           }
          },
          "ternary": {
           "aaxis": {
            "gridcolor": "white",
            "linecolor": "white",
            "ticks": ""
           },
           "baxis": {
            "gridcolor": "white",
            "linecolor": "white",
            "ticks": ""
           },
           "bgcolor": "#E5ECF6",
           "caxis": {
            "gridcolor": "white",
            "linecolor": "white",
            "ticks": ""
           }
          },
          "title": {
           "x": 0.05
          },
          "xaxis": {
           "automargin": true,
           "gridcolor": "white",
           "linecolor": "white",
           "ticks": "",
           "title": {
            "standoff": 15
           },
           "zerolinecolor": "white",
           "zerolinewidth": 2
          },
          "yaxis": {
           "automargin": true,
           "gridcolor": "white",
           "linecolor": "white",
           "ticks": "",
           "title": {
            "standoff": 15
           },
           "zerolinecolor": "white",
           "zerolinewidth": 2
          }
         }
        },
        "title": {
         "font": {
          "color": "#4D5663"
         }
        },
        "xaxis": {
         "gridcolor": "#E1E5ED",
         "showgrid": true,
         "tickfont": {
          "color": "#4D5663"
         },
         "title": {
          "font": {
           "color": "#4D5663"
          },
          "text": ""
         },
         "zerolinecolor": "#E1E5ED"
        },
        "yaxis": {
         "gridcolor": "#E1E5ED",
         "showgrid": true,
         "tickfont": {
          "color": "#4D5663"
         },
         "title": {
          "font": {
           "color": "#4D5663"
          },
          "text": ""
         },
         "zerolinecolor": "#E1E5ED"
        }
       }
      },
      "text/html": [
       "<div>                            <div id=\"01004068-0573-4b34-9baf-49cd420c300f\" class=\"plotly-graph-div\" style=\"height:525px; width:100%;\"></div>            <script type=\"text/javascript\">                require([\"plotly\"], function(Plotly) {                    window.PLOTLYENV=window.PLOTLYENV || {};\n",
       "                    window.PLOTLYENV.BASE_URL='https://plot.ly';                                    if (document.getElementById(\"01004068-0573-4b34-9baf-49cd420c300f\")) {                    Plotly.newPlot(                        \"01004068-0573-4b34-9baf-49cd420c300f\",                        [{\"colorscale\":[[0.0,\"rgb(255, 153, 51)\"],[0.1111111111111111,\"rgb(55, 128, 191)\"],[0.2222222222222222,\"rgb(50, 171, 96)\"],[0.3333333333333333,\"rgb(128, 0, 128)\"],[0.4444444444444444,\"rgb(219, 64, 82)\"],[0.5555555555555556,\"rgb(0, 128, 128)\"],[0.6666666666666666,\"rgb(255, 255, 51)\"],[0.7777777777777778,\"rgb(128, 128, 0)\"],[0.8888888888888888,\"rgb(251, 128, 114)\"],[1.0,\"rgb(128, 177, 211)\"]],\"x\":[0,1,2,3,4],\"y\":[\"x\",\"y\",\"z\"],\"z\":[[1,2,3,4,5],[10,20,30,40,50],[5,4,3,2,1]],\"type\":\"surface\"}],                        {\"legend\":{\"bgcolor\":\"#F5F6F9\",\"font\":{\"color\":\"#4D5663\"}},\"paper_bgcolor\":\"#F5F6F9\",\"plot_bgcolor\":\"#F5F6F9\",\"template\":{\"data\":{\"barpolar\":[{\"marker\":{\"line\":{\"color\":\"#E5ECF6\",\"width\":0.5},\"pattern\":{\"fillmode\":\"overlay\",\"size\":10,\"solidity\":0.2}},\"type\":\"barpolar\"}],\"bar\":[{\"error_x\":{\"color\":\"#2a3f5f\"},\"error_y\":{\"color\":\"#2a3f5f\"},\"marker\":{\"line\":{\"color\":\"#E5ECF6\",\"width\":0.5},\"pattern\":{\"fillmode\":\"overlay\",\"size\":10,\"solidity\":0.2}},\"type\":\"bar\"}],\"carpet\":[{\"aaxis\":{\"endlinecolor\":\"#2a3f5f\",\"gridcolor\":\"white\",\"linecolor\":\"white\",\"minorgridcolor\":\"white\",\"startlinecolor\":\"#2a3f5f\"},\"baxis\":{\"endlinecolor\":\"#2a3f5f\",\"gridcolor\":\"white\",\"linecolor\":\"white\",\"minorgridcolor\":\"white\",\"startlinecolor\":\"#2a3f5f\"},\"type\":\"carpet\"}],\"choropleth\":[{\"colorbar\":{\"outlinewidth\":0,\"ticks\":\"\"},\"type\":\"choropleth\"}],\"contourcarpet\":[{\"colorbar\":{\"outlinewidth\":0,\"ticks\":\"\"},\"type\":\"contourcarpet\"}],\"contour\":[{\"colorbar\":{\"outlinewidth\":0,\"ticks\":\"\"},\"colorscale\":[[0.0,\"#0d0887\"],[0.1111111111111111,\"#46039f\"],[0.2222222222222222,\"#7201a8\"],[0.3333333333333333,\"#9c179e\"],[0.4444444444444444,\"#bd3786\"],[0.5555555555555556,\"#d8576b\"],[0.6666666666666666,\"#ed7953\"],[0.7777777777777778,\"#fb9f3a\"],[0.8888888888888888,\"#fdca26\"],[1.0,\"#f0f921\"]],\"type\":\"contour\"}],\"heatmapgl\":[{\"colorbar\":{\"outlinewidth\":0,\"ticks\":\"\"},\"colorscale\":[[0.0,\"#0d0887\"],[0.1111111111111111,\"#46039f\"],[0.2222222222222222,\"#7201a8\"],[0.3333333333333333,\"#9c179e\"],[0.4444444444444444,\"#bd3786\"],[0.5555555555555556,\"#d8576b\"],[0.6666666666666666,\"#ed7953\"],[0.7777777777777778,\"#fb9f3a\"],[0.8888888888888888,\"#fdca26\"],[1.0,\"#f0f921\"]],\"type\":\"heatmapgl\"}],\"heatmap\":[{\"colorbar\":{\"outlinewidth\":0,\"ticks\":\"\"},\"colorscale\":[[0.0,\"#0d0887\"],[0.1111111111111111,\"#46039f\"],[0.2222222222222222,\"#7201a8\"],[0.3333333333333333,\"#9c179e\"],[0.4444444444444444,\"#bd3786\"],[0.5555555555555556,\"#d8576b\"],[0.6666666666666666,\"#ed7953\"],[0.7777777777777778,\"#fb9f3a\"],[0.8888888888888888,\"#fdca26\"],[1.0,\"#f0f921\"]],\"type\":\"heatmap\"}],\"histogram2dcontour\":[{\"colorbar\":{\"outlinewidth\":0,\"ticks\":\"\"},\"colorscale\":[[0.0,\"#0d0887\"],[0.1111111111111111,\"#46039f\"],[0.2222222222222222,\"#7201a8\"],[0.3333333333333333,\"#9c179e\"],[0.4444444444444444,\"#bd3786\"],[0.5555555555555556,\"#d8576b\"],[0.6666666666666666,\"#ed7953\"],[0.7777777777777778,\"#fb9f3a\"],[0.8888888888888888,\"#fdca26\"],[1.0,\"#f0f921\"]],\"type\":\"histogram2dcontour\"}],\"histogram2d\":[{\"colorbar\":{\"outlinewidth\":0,\"ticks\":\"\"},\"colorscale\":[[0.0,\"#0d0887\"],[0.1111111111111111,\"#46039f\"],[0.2222222222222222,\"#7201a8\"],[0.3333333333333333,\"#9c179e\"],[0.4444444444444444,\"#bd3786\"],[0.5555555555555556,\"#d8576b\"],[0.6666666666666666,\"#ed7953\"],[0.7777777777777778,\"#fb9f3a\"],[0.8888888888888888,\"#fdca26\"],[1.0,\"#f0f921\"]],\"type\":\"histogram2d\"}],\"histogram\":[{\"marker\":{\"pattern\":{\"fillmode\":\"overlay\",\"size\":10,\"solidity\":0.2}},\"type\":\"histogram\"}],\"mesh3d\":[{\"colorbar\":{\"outlinewidth\":0,\"ticks\":\"\"},\"type\":\"mesh3d\"}],\"parcoords\":[{\"line\":{\"colorbar\":{\"outlinewidth\":0,\"ticks\":\"\"}},\"type\":\"parcoords\"}],\"pie\":[{\"automargin\":true,\"type\":\"pie\"}],\"scatter3d\":[{\"line\":{\"colorbar\":{\"outlinewidth\":0,\"ticks\":\"\"}},\"marker\":{\"colorbar\":{\"outlinewidth\":0,\"ticks\":\"\"}},\"type\":\"scatter3d\"}],\"scattercarpet\":[{\"marker\":{\"colorbar\":{\"outlinewidth\":0,\"ticks\":\"\"}},\"type\":\"scattercarpet\"}],\"scattergeo\":[{\"marker\":{\"colorbar\":{\"outlinewidth\":0,\"ticks\":\"\"}},\"type\":\"scattergeo\"}],\"scattergl\":[{\"marker\":{\"colorbar\":{\"outlinewidth\":0,\"ticks\":\"\"}},\"type\":\"scattergl\"}],\"scattermapbox\":[{\"marker\":{\"colorbar\":{\"outlinewidth\":0,\"ticks\":\"\"}},\"type\":\"scattermapbox\"}],\"scatterpolargl\":[{\"marker\":{\"colorbar\":{\"outlinewidth\":0,\"ticks\":\"\"}},\"type\":\"scatterpolargl\"}],\"scatterpolar\":[{\"marker\":{\"colorbar\":{\"outlinewidth\":0,\"ticks\":\"\"}},\"type\":\"scatterpolar\"}],\"scatter\":[{\"fillpattern\":{\"fillmode\":\"overlay\",\"size\":10,\"solidity\":0.2},\"type\":\"scatter\"}],\"scatterternary\":[{\"marker\":{\"colorbar\":{\"outlinewidth\":0,\"ticks\":\"\"}},\"type\":\"scatterternary\"}],\"surface\":[{\"colorbar\":{\"outlinewidth\":0,\"ticks\":\"\"},\"colorscale\":[[0.0,\"#0d0887\"],[0.1111111111111111,\"#46039f\"],[0.2222222222222222,\"#7201a8\"],[0.3333333333333333,\"#9c179e\"],[0.4444444444444444,\"#bd3786\"],[0.5555555555555556,\"#d8576b\"],[0.6666666666666666,\"#ed7953\"],[0.7777777777777778,\"#fb9f3a\"],[0.8888888888888888,\"#fdca26\"],[1.0,\"#f0f921\"]],\"type\":\"surface\"}],\"table\":[{\"cells\":{\"fill\":{\"color\":\"#EBF0F8\"},\"line\":{\"color\":\"white\"}},\"header\":{\"fill\":{\"color\":\"#C8D4E3\"},\"line\":{\"color\":\"white\"}},\"type\":\"table\"}]},\"layout\":{\"annotationdefaults\":{\"arrowcolor\":\"#2a3f5f\",\"arrowhead\":0,\"arrowwidth\":1},\"autotypenumbers\":\"strict\",\"coloraxis\":{\"colorbar\":{\"outlinewidth\":0,\"ticks\":\"\"}},\"colorscale\":{\"diverging\":[[0,\"#8e0152\"],[0.1,\"#c51b7d\"],[0.2,\"#de77ae\"],[0.3,\"#f1b6da\"],[0.4,\"#fde0ef\"],[0.5,\"#f7f7f7\"],[0.6,\"#e6f5d0\"],[0.7,\"#b8e186\"],[0.8,\"#7fbc41\"],[0.9,\"#4d9221\"],[1,\"#276419\"]],\"sequential\":[[0.0,\"#0d0887\"],[0.1111111111111111,\"#46039f\"],[0.2222222222222222,\"#7201a8\"],[0.3333333333333333,\"#9c179e\"],[0.4444444444444444,\"#bd3786\"],[0.5555555555555556,\"#d8576b\"],[0.6666666666666666,\"#ed7953\"],[0.7777777777777778,\"#fb9f3a\"],[0.8888888888888888,\"#fdca26\"],[1.0,\"#f0f921\"]],\"sequentialminus\":[[0.0,\"#0d0887\"],[0.1111111111111111,\"#46039f\"],[0.2222222222222222,\"#7201a8\"],[0.3333333333333333,\"#9c179e\"],[0.4444444444444444,\"#bd3786\"],[0.5555555555555556,\"#d8576b\"],[0.6666666666666666,\"#ed7953\"],[0.7777777777777778,\"#fb9f3a\"],[0.8888888888888888,\"#fdca26\"],[1.0,\"#f0f921\"]]},\"colorway\":[\"#636efa\",\"#EF553B\",\"#00cc96\",\"#ab63fa\",\"#FFA15A\",\"#19d3f3\",\"#FF6692\",\"#B6E880\",\"#FF97FF\",\"#FECB52\"],\"font\":{\"color\":\"#2a3f5f\"},\"geo\":{\"bgcolor\":\"white\",\"lakecolor\":\"white\",\"landcolor\":\"#E5ECF6\",\"showlakes\":true,\"showland\":true,\"subunitcolor\":\"white\"},\"hoverlabel\":{\"align\":\"left\"},\"hovermode\":\"closest\",\"mapbox\":{\"style\":\"light\"},\"paper_bgcolor\":\"white\",\"plot_bgcolor\":\"#E5ECF6\",\"polar\":{\"angularaxis\":{\"gridcolor\":\"white\",\"linecolor\":\"white\",\"ticks\":\"\"},\"bgcolor\":\"#E5ECF6\",\"radialaxis\":{\"gridcolor\":\"white\",\"linecolor\":\"white\",\"ticks\":\"\"}},\"scene\":{\"xaxis\":{\"backgroundcolor\":\"#E5ECF6\",\"gridcolor\":\"white\",\"gridwidth\":2,\"linecolor\":\"white\",\"showbackground\":true,\"ticks\":\"\",\"zerolinecolor\":\"white\"},\"yaxis\":{\"backgroundcolor\":\"#E5ECF6\",\"gridcolor\":\"white\",\"gridwidth\":2,\"linecolor\":\"white\",\"showbackground\":true,\"ticks\":\"\",\"zerolinecolor\":\"white\"},\"zaxis\":{\"backgroundcolor\":\"#E5ECF6\",\"gridcolor\":\"white\",\"gridwidth\":2,\"linecolor\":\"white\",\"showbackground\":true,\"ticks\":\"\",\"zerolinecolor\":\"white\"}},\"shapedefaults\":{\"line\":{\"color\":\"#2a3f5f\"}},\"ternary\":{\"aaxis\":{\"gridcolor\":\"white\",\"linecolor\":\"white\",\"ticks\":\"\"},\"baxis\":{\"gridcolor\":\"white\",\"linecolor\":\"white\",\"ticks\":\"\"},\"bgcolor\":\"#E5ECF6\",\"caxis\":{\"gridcolor\":\"white\",\"linecolor\":\"white\",\"ticks\":\"\"}},\"title\":{\"x\":0.05},\"xaxis\":{\"automargin\":true,\"gridcolor\":\"white\",\"linecolor\":\"white\",\"ticks\":\"\",\"title\":{\"standoff\":15},\"zerolinecolor\":\"white\",\"zerolinewidth\":2},\"yaxis\":{\"automargin\":true,\"gridcolor\":\"white\",\"linecolor\":\"white\",\"ticks\":\"\",\"title\":{\"standoff\":15},\"zerolinecolor\":\"white\",\"zerolinewidth\":2}}},\"title\":{\"font\":{\"color\":\"#4D5663\"}},\"xaxis\":{\"gridcolor\":\"#E1E5ED\",\"showgrid\":true,\"tickfont\":{\"color\":\"#4D5663\"},\"title\":{\"font\":{\"color\":\"#4D5663\"},\"text\":\"\"},\"zerolinecolor\":\"#E1E5ED\"},\"yaxis\":{\"gridcolor\":\"#E1E5ED\",\"showgrid\":true,\"tickfont\":{\"color\":\"#4D5663\"},\"title\":{\"font\":{\"color\":\"#4D5663\"},\"text\":\"\"},\"zerolinecolor\":\"#E1E5ED\"}},                        {\"showLink\": true, \"linkText\": \"Export to plot.ly\", \"plotlyServerURL\": \"https://plot.ly\", \"responsive\": true}                    ).then(function(){\n",
       "                            \n",
       "var gd = document.getElementById('01004068-0573-4b34-9baf-49cd420c300f');\n",
       "var x = new MutationObserver(function (mutations, observer) {{\n",
       "        var display = window.getComputedStyle(gd).display;\n",
       "        if (!display || display === 'none') {{\n",
       "            console.log([gd, 'removed!']);\n",
       "            Plotly.purge(gd);\n",
       "            observer.disconnect();\n",
       "        }}\n",
       "}});\n",
       "\n",
       "// Listen for the removal of the full notebook cells\n",
       "var notebookContainer = gd.closest('#notebook-container');\n",
       "if (notebookContainer) {{\n",
       "    x.observe(notebookContainer, {childList: true});\n",
       "}}\n",
       "\n",
       "// Listen for the clearing of the current output cell\n",
       "var outputEl = gd.closest('.output');\n",
       "if (outputEl) {{\n",
       "    x.observe(outputEl, {childList: true});\n",
       "}}\n",
       "\n",
       "                        })                };                });            </script>        </div>"
      ]
     },
     "metadata": {},
     "output_type": "display_data"
    }
   ],
   "source": [
    "#to make 3d graph\n",
    "df3.iplot(kind='surface',color='rdylbu')"
   ]
  },
  {
   "cell_type": "code",
   "execution_count": 60,
   "id": "63ba31be",
   "metadata": {},
   "outputs": [
    {
     "name": "stderr",
     "output_type": "stream",
     "text": [
      "C:\\Users\\Talha\\Anaconda3\\lib\\site-packages\\cufflinks\\plotlytools.py:849: FutureWarning:\n",
      "\n",
      "The pandas.np module is deprecated and will be removed from pandas in a future version. Import numpy directly instead\n",
      "\n",
      "C:\\Users\\Talha\\Anaconda3\\lib\\site-packages\\cufflinks\\plotlytools.py:850: FutureWarning:\n",
      "\n",
      "The pandas.np module is deprecated and will be removed from pandas in a future version. Import numpy directly instead\n",
      "\n"
     ]
    },
    {
     "data": {
      "application/vnd.plotly.v1+json": {
       "config": {
        "linkText": "Export to plot.ly",
        "plotlyServerURL": "https://plot.ly",
        "showLink": true
       },
       "data": [
        {
         "line": {
          "color": "rgba(255, 153, 51, 1.0)",
          "dash": "solid",
          "shape": "linear",
          "width": 1.3
         },
         "mode": "lines",
         "name": "A",
         "text": "",
         "type": "scatter",
         "x": [
          0,
          1,
          2,
          3,
          4,
          5,
          6,
          7,
          8,
          9,
          10,
          11,
          12,
          13,
          14,
          15,
          16,
          17,
          18,
          19,
          20,
          21,
          22,
          23,
          24,
          25,
          26,
          27,
          28,
          29,
          30,
          31,
          32,
          33,
          34,
          35,
          36,
          37,
          38,
          39,
          40,
          41,
          42,
          43,
          44,
          45,
          46,
          47,
          48,
          49,
          50,
          51,
          52,
          53,
          54,
          55,
          56,
          57,
          58,
          59,
          60,
          61,
          62,
          63,
          64,
          65,
          66,
          67,
          68,
          69,
          70,
          71,
          72,
          73,
          74,
          75,
          76,
          77,
          78,
          79,
          80,
          81,
          82,
          83,
          84,
          85,
          86,
          87,
          88,
          89,
          90,
          91,
          92,
          93,
          94,
          95,
          96,
          97,
          98,
          99
         ],
         "y": [
          -2.0248994302722,
          1.1206783216849459,
          -0.14714216901426908,
          0.6670829874275235,
          -0.023376648075685052,
          0.5060352952627416,
          -0.9478339706882272,
          2.7301806156870327,
          0.1500701083538797,
          -1.629253867207095,
          0.025633123118659527,
          -1.6180567997975985,
          -0.6201539883082475,
          0.6980153432116343,
          1.3457098806675134,
          -0.4733132068550389,
          1.218327984233927,
          1.0720706177131725,
          0.7266855883867765,
          -1.1328801679679639,
          1.285011116428947,
          -1.135743951530807,
          -1.0992156651659082,
          0.804292155497312,
          2.889420935902672,
          0.913650499514228,
          -1.2359684228301904,
          2.2394880583415873,
          1.0592166701930064,
          1.0330178731064599,
          1.0204782513370658,
          0.8787309750034229,
          0.6885987819603279,
          0.5437470084021745,
          -0.13455229775785477,
          -1.5005765916391522,
          0.4021446100381902,
          -1.2098195163672532,
          -0.397151218679385,
          0.14678399705766368,
          -0.41007694139382683,
          -0.8761747336518552,
          -0.03269185454668553,
          -0.832459749750178,
          -0.373553019196941,
          0.5976385942822937,
          -2.6303076986098883,
          0.49207673349323555,
          -0.24612515085494288,
          -1.1255327396654367,
          -0.48070458660037485,
          0.12895287721669293,
          -1.4090236036807335,
          -0.47182676530688755,
          0.23063424612448724,
          1.0277807157421683,
          0.9843342322642673,
          -0.09074566210834423,
          0.6472245732614761,
          -0.9203721156635134,
          -0.1257185498876959,
          -0.08710102389783692,
          -0.27268093799410975,
          -0.1414327108596726,
          -0.4611742525389193,
          0.8261375525274487,
          1.4565299222233419,
          -0.10042343837103451,
          -0.43689372589308856,
          -1.9981308411765657,
          -0.462754228780885,
          0.12754204376341816,
          -0.3433380435620271,
          -1.1692171929398942,
          0.782475324852804,
          -0.5319658940434484,
          2.225256725090445,
          1.089115482983619,
          -1.2430161750082012,
          1.2502312241220217,
          0.7905200967038304,
          2.734169374856847,
          -0.45361764475918365,
          -2.790893563542634,
          -0.9096538705796186,
          -0.7919999287925056,
          -0.38852093632309764,
          1.2568796152307298,
          -0.7385552048964777,
          -1.1615287328500985,
          0.5144036947754764,
          -0.9145163371493532,
          -0.38025656162124044,
          -1.0580205499766269,
          0.4825574966126437,
          -1.6269134861205365,
          -0.4224550151287948,
          -0.325133894910615,
          -0.8685891545573913,
          0.6256080741969859
         ]
        },
        {
         "line": {
          "color": "rgba(55, 128, 191, 1.0)",
          "dash": "solid",
          "shape": "linear",
          "width": 1.3
         },
         "mode": "lines",
         "name": "B",
         "text": "",
         "type": "scatter",
         "x": [
          0,
          1,
          2,
          3,
          4,
          5,
          6,
          7,
          8,
          9,
          10,
          11,
          12,
          13,
          14,
          15,
          16,
          17,
          18,
          19,
          20,
          21,
          22,
          23,
          24,
          25,
          26,
          27,
          28,
          29,
          30,
          31,
          32,
          33,
          34,
          35,
          36,
          37,
          38,
          39,
          40,
          41,
          42,
          43,
          44,
          45,
          46,
          47,
          48,
          49,
          50,
          51,
          52,
          53,
          54,
          55,
          56,
          57,
          58,
          59,
          60,
          61,
          62,
          63,
          64,
          65,
          66,
          67,
          68,
          69,
          70,
          71,
          72,
          73,
          74,
          75,
          76,
          77,
          78,
          79,
          80,
          81,
          82,
          83,
          84,
          85,
          86,
          87,
          88,
          89,
          90,
          91,
          92,
          93,
          94,
          95,
          96,
          97,
          98,
          99
         ],
         "y": [
          1.244836717788421,
          -0.9113941741042547,
          0.24394904664371372,
          -0.3737083895924538,
          -1.0156947705953163,
          -0.25182333626234465,
          0.8025286099024215,
          -0.20904853915624613,
          -0.30335425935993415,
          -0.26015079829732535,
          -1.1652126737952444,
          -0.11601906352932617,
          0.3807298858276337,
          1.94622992408519,
          0.6918761245098521,
          0.12092987307672229,
          -0.7023721643644166,
          1.3436373835210946,
          -0.6047922436199462,
          0.05834742392095939,
          0.28252996046243645,
          0.5807192890824402,
          0.9861845276129169,
          0.5742445414696716,
          -0.3491755041321152,
          -0.03338709450851653,
          -0.42860738129677367,
          0.2814274678037998,
          -0.570275107112393,
          -1.1115427162391993,
          0.18700072674060986,
          -1.9030952679536954,
          -0.7194428719098581,
          0.5403296720195768,
          -0.24680054080514882,
          -0.5048407548451164,
          0.2939101111553618,
          1.7639202744963427,
          0.8625832635466819,
          -0.7654995595177715,
          1.6888924720096499,
          0.7020255211661659,
          -0.606354316327178,
          1.5640243081651144,
          -1.2389559497992244,
          0.9790296693868923,
          -0.888416311377553,
          -1.271624020447485,
          -0.38683782815487255,
          -0.3112174727382689,
          -1.3958610845724706,
          -0.3646318727579516,
          2.6623586140809947,
          1.278239804030543,
          1.4641583069138344,
          0.5035983514007785,
          0.7702324318302155,
          -0.8562313655545203,
          -1.6274232509023714,
          0.2750944531996166,
          0.7008539862181999,
          -0.25594811836690123,
          -0.3870976188644197,
          0.5261006417232784,
          0.1964263707784994,
          -0.9263064271086378,
          -0.488261838841295,
          0.05042984968017874,
          -0.029025191398035843,
          -0.5086244551715492,
          1.5059084171875694,
          0.07076965496823794,
          -1.1942297964401056,
          0.4900120685919607,
          0.9003822829550003,
          1.5815275119640084,
          0.08230211481593441,
          -0.6789188575459397,
          -0.20955368830118065,
          1.915784863367201,
          -0.5414897639944265,
          -1.1397451918472243,
          0.06123316433440914,
          -1.5363584833492157,
          -0.44175740605136277,
          -0.4977024511722823,
          -0.8060386350670952,
          0.23217547665242766,
          0.1530029564153142,
          0.19916716055370187,
          0.9103802439546376,
          -1.1567876338494296,
          -0.4954203784646236,
          1.5395209073602434,
          0.7561972792026549,
          -0.40766834609463987,
          -1.015571750157025,
          -0.5462836010855642,
          -0.20695204841393358,
          0.5252490005255105
         ]
        },
        {
         "connectgaps": false,
         "fill": "tozeroy",
         "line": {
          "color": "green",
          "dash": "solid",
          "shape": "linear",
          "width": 0.5
         },
         "mode": "lines",
         "name": "Spread",
         "showlegend": false,
         "type": "scatter",
         "x": [
          0,
          1,
          2,
          3,
          4,
          5,
          6,
          7,
          8,
          9,
          10,
          11,
          12,
          13,
          14,
          15,
          16,
          17,
          18,
          19,
          20,
          21,
          22,
          23,
          24,
          25,
          26,
          27,
          28,
          29,
          30,
          31,
          32,
          33,
          34,
          35,
          36,
          37,
          38,
          39,
          40,
          41,
          42,
          43,
          44,
          45,
          46,
          47,
          48,
          49,
          50,
          51,
          52,
          53,
          54,
          55,
          56,
          57,
          58,
          59,
          60,
          61,
          62,
          63,
          64,
          65,
          66,
          67,
          68,
          69,
          70,
          71,
          72,
          73,
          74,
          75,
          76,
          77,
          78,
          79,
          80,
          81,
          82,
          83,
          84,
          85,
          86,
          87,
          88,
          89,
          90,
          91,
          92,
          93,
          94,
          95,
          96,
          97,
          98,
          99
         ],
         "xaxis": "x2",
         "y": [
          "",
          2.0320724957892007,
          "",
          1.0407913770199773,
          0.9923181225196313,
          0.7578586315250863,
          "",
          2.9392291548432787,
          0.4534243677138139,
          "",
          1.190845796913904,
          "",
          "",
          "",
          0.6538337561576613,
          "",
          1.9207001485983435,
          "",
          1.3314778320067227,
          "",
          1.0024811559665106,
          "",
          "",
          0.2300476140276404,
          3.2385964400347875,
          0.9470375940227446,
          "",
          1.9580605905377875,
          1.6294917773053994,
          2.144560589345659,
          0.833477524596456,
          2.781826242957118,
          1.4080416538701859,
          0.003417336382597669,
          0.11224824304729406,
          "",
          0.10823449888282838,
          "",
          "",
          0.9122835565754351,
          "",
          "",
          0.5736624617804924,
          "",
          0.8654029306022835,
          "",
          "",
          1.7637007539407206,
          0.14071267729992967,
          "",
          0.9151564979720958,
          0.4935847499746445,
          "",
          "",
          "",
          0.5241823643413899,
          0.2141018004340518,
          0.7654857034461761,
          2.2746478241638473,
          "",
          "",
          0.16884709446906432,
          0.11441668087030993,
          "",
          "",
          1.7524439796360864,
          1.9447917610646368,
          "",
          "",
          "",
          "",
          0.05677238879518022,
          0.8508917528780786,
          "",
          "",
          "",
          2.1429546102745105,
          1.7680343405295587,
          "",
          "",
          1.3320098606982569,
          3.8739145667040713,
          "",
          "",
          "",
          "",
          0.4175176987439975,
          1.024704138578302,
          "",
          "",
          "",
          0.2422712967000764,
          0.11516381684338317,
          "",
          "",
          "",
          0.5931167350282301,
          0.22114970617494917,
          "",
          0.10035907367147545
         ],
         "yaxis": "y2"
        },
        {
         "connectgaps": false,
         "fill": "tozeroy",
         "line": {
          "color": "red",
          "dash": "solid",
          "shape": "linear",
          "width": 0.5
         },
         "mode": "lines",
         "name": "Spread",
         "showlegend": false,
         "type": "scatter",
         "x": [
          0,
          1,
          2,
          3,
          4,
          5,
          6,
          7,
          8,
          9,
          10,
          11,
          12,
          13,
          14,
          15,
          16,
          17,
          18,
          19,
          20,
          21,
          22,
          23,
          24,
          25,
          26,
          27,
          28,
          29,
          30,
          31,
          32,
          33,
          34,
          35,
          36,
          37,
          38,
          39,
          40,
          41,
          42,
          43,
          44,
          45,
          46,
          47,
          48,
          49,
          50,
          51,
          52,
          53,
          54,
          55,
          56,
          57,
          58,
          59,
          60,
          61,
          62,
          63,
          64,
          65,
          66,
          67,
          68,
          69,
          70,
          71,
          72,
          73,
          74,
          75,
          76,
          77,
          78,
          79,
          80,
          81,
          82,
          83,
          84,
          85,
          86,
          87,
          88,
          89,
          90,
          91,
          92,
          93,
          94,
          95,
          96,
          97,
          98,
          99
         ],
         "xaxis": "x2",
         "y": [
          -3.269736148060621,
          "",
          -0.39109121565798277,
          "",
          "",
          "",
          -1.7503625805906486,
          "",
          "",
          -1.3691030689097698,
          "",
          -1.5020377362682724,
          -1.0008838741358812,
          -1.2482145808735556,
          "",
          -0.5942430799317612,
          "",
          -0.27156676580792216,
          "",
          -1.1912275918889232,
          "",
          -1.7164632406132472,
          -2.085400192778825,
          "",
          "",
          "",
          -0.8073610415334167,
          "",
          "",
          "",
          "",
          "",
          "",
          "",
          "",
          -0.9957358367940359,
          "",
          -2.973739790863596,
          -1.259734482226067,
          "",
          -2.0989694134034766,
          -1.5782002548180212,
          "",
          -2.396484057915292,
          "",
          -0.3813910751045986,
          -1.7418913872323354,
          "",
          "",
          -0.8143152669271678,
          "",
          "",
          -4.0713822177617285,
          -1.7500665693374304,
          -1.2335240607893472,
          "",
          "",
          "",
          "",
          -1.19546656886313,
          -0.8265725361058959,
          "",
          "",
          -0.667533352582951,
          -0.6576006233174188,
          "",
          "",
          -0.15085328805121326,
          -0.4078685344950527,
          -1.4895063860050164,
          -1.9686626459684544,
          "",
          "",
          -1.659229261531855,
          -0.11790695810219631,
          -2.113493406007457,
          "",
          "",
          -1.0334624867070206,
          -0.6655536392451793,
          "",
          "",
          -0.5148508090935928,
          -1.2545350801934183,
          -0.4678964645282558,
          -0.2942974776202233,
          "",
          "",
          -0.891558161311792,
          -1.3606958934038005,
          -0.39597654917916114,
          "",
          "",
          -2.5975414573368703,
          -0.2736397825900112,
          -1.2192451400258966,
          "",
          "",
          -0.6616371061434577,
          ""
         ],
         "yaxis": "y2"
        }
       ],
       "layout": {
        "hovermode": "x",
        "legend": {
         "bgcolor": "#F5F6F9",
         "font": {
          "color": "#4D5663"
         }
        },
        "paper_bgcolor": "#F5F6F9",
        "plot_bgcolor": "#F5F6F9",
        "template": {
         "data": {
          "bar": [
           {
            "error_x": {
             "color": "#2a3f5f"
            },
            "error_y": {
             "color": "#2a3f5f"
            },
            "marker": {
             "line": {
              "color": "#E5ECF6",
              "width": 0.5
             },
             "pattern": {
              "fillmode": "overlay",
              "size": 10,
              "solidity": 0.2
             }
            },
            "type": "bar"
           }
          ],
          "barpolar": [
           {
            "marker": {
             "line": {
              "color": "#E5ECF6",
              "width": 0.5
             },
             "pattern": {
              "fillmode": "overlay",
              "size": 10,
              "solidity": 0.2
             }
            },
            "type": "barpolar"
           }
          ],
          "carpet": [
           {
            "aaxis": {
             "endlinecolor": "#2a3f5f",
             "gridcolor": "white",
             "linecolor": "white",
             "minorgridcolor": "white",
             "startlinecolor": "#2a3f5f"
            },
            "baxis": {
             "endlinecolor": "#2a3f5f",
             "gridcolor": "white",
             "linecolor": "white",
             "minorgridcolor": "white",
             "startlinecolor": "#2a3f5f"
            },
            "type": "carpet"
           }
          ],
          "choropleth": [
           {
            "colorbar": {
             "outlinewidth": 0,
             "ticks": ""
            },
            "type": "choropleth"
           }
          ],
          "contour": [
           {
            "colorbar": {
             "outlinewidth": 0,
             "ticks": ""
            },
            "colorscale": [
             [
              0,
              "#0d0887"
             ],
             [
              0.1111111111111111,
              "#46039f"
             ],
             [
              0.2222222222222222,
              "#7201a8"
             ],
             [
              0.3333333333333333,
              "#9c179e"
             ],
             [
              0.4444444444444444,
              "#bd3786"
             ],
             [
              0.5555555555555556,
              "#d8576b"
             ],
             [
              0.6666666666666666,
              "#ed7953"
             ],
             [
              0.7777777777777778,
              "#fb9f3a"
             ],
             [
              0.8888888888888888,
              "#fdca26"
             ],
             [
              1,
              "#f0f921"
             ]
            ],
            "type": "contour"
           }
          ],
          "contourcarpet": [
           {
            "colorbar": {
             "outlinewidth": 0,
             "ticks": ""
            },
            "type": "contourcarpet"
           }
          ],
          "heatmap": [
           {
            "colorbar": {
             "outlinewidth": 0,
             "ticks": ""
            },
            "colorscale": [
             [
              0,
              "#0d0887"
             ],
             [
              0.1111111111111111,
              "#46039f"
             ],
             [
              0.2222222222222222,
              "#7201a8"
             ],
             [
              0.3333333333333333,
              "#9c179e"
             ],
             [
              0.4444444444444444,
              "#bd3786"
             ],
             [
              0.5555555555555556,
              "#d8576b"
             ],
             [
              0.6666666666666666,
              "#ed7953"
             ],
             [
              0.7777777777777778,
              "#fb9f3a"
             ],
             [
              0.8888888888888888,
              "#fdca26"
             ],
             [
              1,
              "#f0f921"
             ]
            ],
            "type": "heatmap"
           }
          ],
          "heatmapgl": [
           {
            "colorbar": {
             "outlinewidth": 0,
             "ticks": ""
            },
            "colorscale": [
             [
              0,
              "#0d0887"
             ],
             [
              0.1111111111111111,
              "#46039f"
             ],
             [
              0.2222222222222222,
              "#7201a8"
             ],
             [
              0.3333333333333333,
              "#9c179e"
             ],
             [
              0.4444444444444444,
              "#bd3786"
             ],
             [
              0.5555555555555556,
              "#d8576b"
             ],
             [
              0.6666666666666666,
              "#ed7953"
             ],
             [
              0.7777777777777778,
              "#fb9f3a"
             ],
             [
              0.8888888888888888,
              "#fdca26"
             ],
             [
              1,
              "#f0f921"
             ]
            ],
            "type": "heatmapgl"
           }
          ],
          "histogram": [
           {
            "marker": {
             "pattern": {
              "fillmode": "overlay",
              "size": 10,
              "solidity": 0.2
             }
            },
            "type": "histogram"
           }
          ],
          "histogram2d": [
           {
            "colorbar": {
             "outlinewidth": 0,
             "ticks": ""
            },
            "colorscale": [
             [
              0,
              "#0d0887"
             ],
             [
              0.1111111111111111,
              "#46039f"
             ],
             [
              0.2222222222222222,
              "#7201a8"
             ],
             [
              0.3333333333333333,
              "#9c179e"
             ],
             [
              0.4444444444444444,
              "#bd3786"
             ],
             [
              0.5555555555555556,
              "#d8576b"
             ],
             [
              0.6666666666666666,
              "#ed7953"
             ],
             [
              0.7777777777777778,
              "#fb9f3a"
             ],
             [
              0.8888888888888888,
              "#fdca26"
             ],
             [
              1,
              "#f0f921"
             ]
            ],
            "type": "histogram2d"
           }
          ],
          "histogram2dcontour": [
           {
            "colorbar": {
             "outlinewidth": 0,
             "ticks": ""
            },
            "colorscale": [
             [
              0,
              "#0d0887"
             ],
             [
              0.1111111111111111,
              "#46039f"
             ],
             [
              0.2222222222222222,
              "#7201a8"
             ],
             [
              0.3333333333333333,
              "#9c179e"
             ],
             [
              0.4444444444444444,
              "#bd3786"
             ],
             [
              0.5555555555555556,
              "#d8576b"
             ],
             [
              0.6666666666666666,
              "#ed7953"
             ],
             [
              0.7777777777777778,
              "#fb9f3a"
             ],
             [
              0.8888888888888888,
              "#fdca26"
             ],
             [
              1,
              "#f0f921"
             ]
            ],
            "type": "histogram2dcontour"
           }
          ],
          "mesh3d": [
           {
            "colorbar": {
             "outlinewidth": 0,
             "ticks": ""
            },
            "type": "mesh3d"
           }
          ],
          "parcoords": [
           {
            "line": {
             "colorbar": {
              "outlinewidth": 0,
              "ticks": ""
             }
            },
            "type": "parcoords"
           }
          ],
          "pie": [
           {
            "automargin": true,
            "type": "pie"
           }
          ],
          "scatter": [
           {
            "fillpattern": {
             "fillmode": "overlay",
             "size": 10,
             "solidity": 0.2
            },
            "type": "scatter"
           }
          ],
          "scatter3d": [
           {
            "line": {
             "colorbar": {
              "outlinewidth": 0,
              "ticks": ""
             }
            },
            "marker": {
             "colorbar": {
              "outlinewidth": 0,
              "ticks": ""
             }
            },
            "type": "scatter3d"
           }
          ],
          "scattercarpet": [
           {
            "marker": {
             "colorbar": {
              "outlinewidth": 0,
              "ticks": ""
             }
            },
            "type": "scattercarpet"
           }
          ],
          "scattergeo": [
           {
            "marker": {
             "colorbar": {
              "outlinewidth": 0,
              "ticks": ""
             }
            },
            "type": "scattergeo"
           }
          ],
          "scattergl": [
           {
            "marker": {
             "colorbar": {
              "outlinewidth": 0,
              "ticks": ""
             }
            },
            "type": "scattergl"
           }
          ],
          "scattermapbox": [
           {
            "marker": {
             "colorbar": {
              "outlinewidth": 0,
              "ticks": ""
             }
            },
            "type": "scattermapbox"
           }
          ],
          "scatterpolar": [
           {
            "marker": {
             "colorbar": {
              "outlinewidth": 0,
              "ticks": ""
             }
            },
            "type": "scatterpolar"
           }
          ],
          "scatterpolargl": [
           {
            "marker": {
             "colorbar": {
              "outlinewidth": 0,
              "ticks": ""
             }
            },
            "type": "scatterpolargl"
           }
          ],
          "scatterternary": [
           {
            "marker": {
             "colorbar": {
              "outlinewidth": 0,
              "ticks": ""
             }
            },
            "type": "scatterternary"
           }
          ],
          "surface": [
           {
            "colorbar": {
             "outlinewidth": 0,
             "ticks": ""
            },
            "colorscale": [
             [
              0,
              "#0d0887"
             ],
             [
              0.1111111111111111,
              "#46039f"
             ],
             [
              0.2222222222222222,
              "#7201a8"
             ],
             [
              0.3333333333333333,
              "#9c179e"
             ],
             [
              0.4444444444444444,
              "#bd3786"
             ],
             [
              0.5555555555555556,
              "#d8576b"
             ],
             [
              0.6666666666666666,
              "#ed7953"
             ],
             [
              0.7777777777777778,
              "#fb9f3a"
             ],
             [
              0.8888888888888888,
              "#fdca26"
             ],
             [
              1,
              "#f0f921"
             ]
            ],
            "type": "surface"
           }
          ],
          "table": [
           {
            "cells": {
             "fill": {
              "color": "#EBF0F8"
             },
             "line": {
              "color": "white"
             }
            },
            "header": {
             "fill": {
              "color": "#C8D4E3"
             },
             "line": {
              "color": "white"
             }
            },
            "type": "table"
           }
          ]
         },
         "layout": {
          "annotationdefaults": {
           "arrowcolor": "#2a3f5f",
           "arrowhead": 0,
           "arrowwidth": 1
          },
          "autotypenumbers": "strict",
          "coloraxis": {
           "colorbar": {
            "outlinewidth": 0,
            "ticks": ""
           }
          },
          "colorscale": {
           "diverging": [
            [
             0,
             "#8e0152"
            ],
            [
             0.1,
             "#c51b7d"
            ],
            [
             0.2,
             "#de77ae"
            ],
            [
             0.3,
             "#f1b6da"
            ],
            [
             0.4,
             "#fde0ef"
            ],
            [
             0.5,
             "#f7f7f7"
            ],
            [
             0.6,
             "#e6f5d0"
            ],
            [
             0.7,
             "#b8e186"
            ],
            [
             0.8,
             "#7fbc41"
            ],
            [
             0.9,
             "#4d9221"
            ],
            [
             1,
             "#276419"
            ]
           ],
           "sequential": [
            [
             0,
             "#0d0887"
            ],
            [
             0.1111111111111111,
             "#46039f"
            ],
            [
             0.2222222222222222,
             "#7201a8"
            ],
            [
             0.3333333333333333,
             "#9c179e"
            ],
            [
             0.4444444444444444,
             "#bd3786"
            ],
            [
             0.5555555555555556,
             "#d8576b"
            ],
            [
             0.6666666666666666,
             "#ed7953"
            ],
            [
             0.7777777777777778,
             "#fb9f3a"
            ],
            [
             0.8888888888888888,
             "#fdca26"
            ],
            [
             1,
             "#f0f921"
            ]
           ],
           "sequentialminus": [
            [
             0,
             "#0d0887"
            ],
            [
             0.1111111111111111,
             "#46039f"
            ],
            [
             0.2222222222222222,
             "#7201a8"
            ],
            [
             0.3333333333333333,
             "#9c179e"
            ],
            [
             0.4444444444444444,
             "#bd3786"
            ],
            [
             0.5555555555555556,
             "#d8576b"
            ],
            [
             0.6666666666666666,
             "#ed7953"
            ],
            [
             0.7777777777777778,
             "#fb9f3a"
            ],
            [
             0.8888888888888888,
             "#fdca26"
            ],
            [
             1,
             "#f0f921"
            ]
           ]
          },
          "colorway": [
           "#636efa",
           "#EF553B",
           "#00cc96",
           "#ab63fa",
           "#FFA15A",
           "#19d3f3",
           "#FF6692",
           "#B6E880",
           "#FF97FF",
           "#FECB52"
          ],
          "font": {
           "color": "#2a3f5f"
          },
          "geo": {
           "bgcolor": "white",
           "lakecolor": "white",
           "landcolor": "#E5ECF6",
           "showlakes": true,
           "showland": true,
           "subunitcolor": "white"
          },
          "hoverlabel": {
           "align": "left"
          },
          "hovermode": "closest",
          "mapbox": {
           "style": "light"
          },
          "paper_bgcolor": "white",
          "plot_bgcolor": "#E5ECF6",
          "polar": {
           "angularaxis": {
            "gridcolor": "white",
            "linecolor": "white",
            "ticks": ""
           },
           "bgcolor": "#E5ECF6",
           "radialaxis": {
            "gridcolor": "white",
            "linecolor": "white",
            "ticks": ""
           }
          },
          "scene": {
           "xaxis": {
            "backgroundcolor": "#E5ECF6",
            "gridcolor": "white",
            "gridwidth": 2,
            "linecolor": "white",
            "showbackground": true,
            "ticks": "",
            "zerolinecolor": "white"
           },
           "yaxis": {
            "backgroundcolor": "#E5ECF6",
            "gridcolor": "white",
            "gridwidth": 2,
            "linecolor": "white",
            "showbackground": true,
            "ticks": "",
            "zerolinecolor": "white"
           },
           "zaxis": {
            "backgroundcolor": "#E5ECF6",
            "gridcolor": "white",
            "gridwidth": 2,
            "linecolor": "white",
            "showbackground": true,
            "ticks": "",
            "zerolinecolor": "white"
           }
          },
          "shapedefaults": {
           "line": {
            "color": "#2a3f5f"
           }
          },
          "ternary": {
           "aaxis": {
            "gridcolor": "white",
            "linecolor": "white",
            "ticks": ""
           },
           "baxis": {
            "gridcolor": "white",
            "linecolor": "white",
            "ticks": ""
           },
           "bgcolor": "#E5ECF6",
           "caxis": {
            "gridcolor": "white",
            "linecolor": "white",
            "ticks": ""
           }
          },
          "title": {
           "x": 0.05
          },
          "xaxis": {
           "automargin": true,
           "gridcolor": "white",
           "linecolor": "white",
           "ticks": "",
           "title": {
            "standoff": 15
           },
           "zerolinecolor": "white",
           "zerolinewidth": 2
          },
          "yaxis": {
           "automargin": true,
           "gridcolor": "white",
           "linecolor": "white",
           "ticks": "",
           "title": {
            "standoff": 15
           },
           "zerolinecolor": "white",
           "zerolinewidth": 2
          }
         }
        },
        "title": {
         "font": {
          "color": "#4D5663"
         }
        },
        "xaxis": {
         "gridcolor": "#E1E5ED",
         "showgrid": true,
         "tickfont": {
          "color": "#4D5663"
         },
         "title": {
          "font": {
           "color": "#4D5663"
          },
          "text": ""
         },
         "zerolinecolor": "#E1E5ED"
        },
        "xaxis2": {
         "anchor": "y2",
         "gridcolor": "#E1E5ED",
         "showgrid": true,
         "showticklabels": false,
         "tickfont": {
          "color": "#4D5663"
         },
         "title": {
          "font": {
           "color": "#4D5663"
          },
          "text": ""
         },
         "zerolinecolor": "#E1E5ED"
        },
        "yaxis": {
         "domain": [
          0.3,
          1
         ],
         "gridcolor": "#E1E5ED",
         "showgrid": true,
         "tickfont": {
          "color": "#4D5663"
         },
         "title": {
          "font": {
           "color": "#4D5663"
          },
          "text": ""
         },
         "zerolinecolor": "#E1E5ED"
        },
        "yaxis2": {
         "domain": [
          0,
          0.25
         ],
         "gridcolor": "#E1E5ED",
         "showgrid": true,
         "tickfont": {
          "color": "#4D5663"
         },
         "title": {
          "font": {
           "color": "#4D5663"
          },
          "text": "Spread"
         },
         "zerolinecolor": "#E1E5ED"
        }
       }
      },
      "text/html": [
       "<div>                            <div id=\"baf3f0c7-70c4-4815-8629-d61e0c0311bf\" class=\"plotly-graph-div\" style=\"height:525px; width:100%;\"></div>            <script type=\"text/javascript\">                require([\"plotly\"], function(Plotly) {                    window.PLOTLYENV=window.PLOTLYENV || {};\n",
       "                    window.PLOTLYENV.BASE_URL='https://plot.ly';                                    if (document.getElementById(\"baf3f0c7-70c4-4815-8629-d61e0c0311bf\")) {                    Plotly.newPlot(                        \"baf3f0c7-70c4-4815-8629-d61e0c0311bf\",                        [{\"line\":{\"color\":\"rgba(255, 153, 51, 1.0)\",\"dash\":\"solid\",\"shape\":\"linear\",\"width\":1.3},\"mode\":\"lines\",\"name\":\"A\",\"text\":\"\",\"x\":[0,1,2,3,4,5,6,7,8,9,10,11,12,13,14,15,16,17,18,19,20,21,22,23,24,25,26,27,28,29,30,31,32,33,34,35,36,37,38,39,40,41,42,43,44,45,46,47,48,49,50,51,52,53,54,55,56,57,58,59,60,61,62,63,64,65,66,67,68,69,70,71,72,73,74,75,76,77,78,79,80,81,82,83,84,85,86,87,88,89,90,91,92,93,94,95,96,97,98,99],\"y\":[-2.0248994302722,1.1206783216849459,-0.14714216901426908,0.6670829874275235,-0.023376648075685052,0.5060352952627416,-0.9478339706882272,2.7301806156870327,0.1500701083538797,-1.629253867207095,0.025633123118659527,-1.6180567997975985,-0.6201539883082475,0.6980153432116343,1.3457098806675134,-0.4733132068550389,1.218327984233927,1.0720706177131725,0.7266855883867765,-1.1328801679679639,1.285011116428947,-1.135743951530807,-1.0992156651659082,0.804292155497312,2.889420935902672,0.913650499514228,-1.2359684228301904,2.2394880583415873,1.0592166701930064,1.0330178731064599,1.0204782513370658,0.8787309750034229,0.6885987819603279,0.5437470084021745,-0.13455229775785477,-1.5005765916391522,0.4021446100381902,-1.2098195163672532,-0.397151218679385,0.14678399705766368,-0.41007694139382683,-0.8761747336518552,-0.03269185454668553,-0.832459749750178,-0.373553019196941,0.5976385942822937,-2.6303076986098883,0.49207673349323555,-0.24612515085494288,-1.1255327396654367,-0.48070458660037485,0.12895287721669293,-1.4090236036807335,-0.47182676530688755,0.23063424612448724,1.0277807157421683,0.9843342322642673,-0.09074566210834423,0.6472245732614761,-0.9203721156635134,-0.1257185498876959,-0.08710102389783692,-0.27268093799410975,-0.1414327108596726,-0.4611742525389193,0.8261375525274487,1.4565299222233419,-0.10042343837103451,-0.43689372589308856,-1.9981308411765657,-0.462754228780885,0.12754204376341816,-0.3433380435620271,-1.1692171929398942,0.782475324852804,-0.5319658940434484,2.225256725090445,1.089115482983619,-1.2430161750082012,1.2502312241220217,0.7905200967038304,2.734169374856847,-0.45361764475918365,-2.790893563542634,-0.9096538705796186,-0.7919999287925056,-0.38852093632309764,1.2568796152307298,-0.7385552048964777,-1.1615287328500985,0.5144036947754764,-0.9145163371493532,-0.38025656162124044,-1.0580205499766269,0.4825574966126437,-1.6269134861205365,-0.4224550151287948,-0.325133894910615,-0.8685891545573913,0.6256080741969859],\"type\":\"scatter\"},{\"line\":{\"color\":\"rgba(55, 128, 191, 1.0)\",\"dash\":\"solid\",\"shape\":\"linear\",\"width\":1.3},\"mode\":\"lines\",\"name\":\"B\",\"text\":\"\",\"x\":[0,1,2,3,4,5,6,7,8,9,10,11,12,13,14,15,16,17,18,19,20,21,22,23,24,25,26,27,28,29,30,31,32,33,34,35,36,37,38,39,40,41,42,43,44,45,46,47,48,49,50,51,52,53,54,55,56,57,58,59,60,61,62,63,64,65,66,67,68,69,70,71,72,73,74,75,76,77,78,79,80,81,82,83,84,85,86,87,88,89,90,91,92,93,94,95,96,97,98,99],\"y\":[1.244836717788421,-0.9113941741042547,0.24394904664371372,-0.3737083895924538,-1.0156947705953163,-0.25182333626234465,0.8025286099024215,-0.20904853915624613,-0.30335425935993415,-0.26015079829732535,-1.1652126737952444,-0.11601906352932617,0.3807298858276337,1.94622992408519,0.6918761245098521,0.12092987307672229,-0.7023721643644166,1.3436373835210946,-0.6047922436199462,0.05834742392095939,0.28252996046243645,0.5807192890824402,0.9861845276129169,0.5742445414696716,-0.3491755041321152,-0.03338709450851653,-0.42860738129677367,0.2814274678037998,-0.570275107112393,-1.1115427162391993,0.18700072674060986,-1.9030952679536954,-0.7194428719098581,0.5403296720195768,-0.24680054080514882,-0.5048407548451164,0.2939101111553618,1.7639202744963427,0.8625832635466819,-0.7654995595177715,1.6888924720096499,0.7020255211661659,-0.606354316327178,1.5640243081651144,-1.2389559497992244,0.9790296693868923,-0.888416311377553,-1.271624020447485,-0.38683782815487255,-0.3112174727382689,-1.3958610845724706,-0.3646318727579516,2.6623586140809947,1.278239804030543,1.4641583069138344,0.5035983514007785,0.7702324318302155,-0.8562313655545203,-1.6274232509023714,0.2750944531996166,0.7008539862181999,-0.25594811836690123,-0.3870976188644197,0.5261006417232784,0.1964263707784994,-0.9263064271086378,-0.488261838841295,0.05042984968017874,-0.029025191398035843,-0.5086244551715492,1.5059084171875694,0.07076965496823794,-1.1942297964401056,0.4900120685919607,0.9003822829550003,1.5815275119640084,0.08230211481593441,-0.6789188575459397,-0.20955368830118065,1.915784863367201,-0.5414897639944265,-1.1397451918472243,0.06123316433440914,-1.5363584833492157,-0.44175740605136277,-0.4977024511722823,-0.8060386350670952,0.23217547665242766,0.1530029564153142,0.19916716055370187,0.9103802439546376,-1.1567876338494296,-0.4954203784646236,1.5395209073602434,0.7561972792026549,-0.40766834609463987,-1.015571750157025,-0.5462836010855642,-0.20695204841393358,0.5252490005255105],\"type\":\"scatter\"},{\"connectgaps\":false,\"fill\":\"tozeroy\",\"line\":{\"color\":\"green\",\"dash\":\"solid\",\"shape\":\"linear\",\"width\":0.5},\"mode\":\"lines\",\"name\":\"Spread\",\"showlegend\":false,\"x\":[0,1,2,3,4,5,6,7,8,9,10,11,12,13,14,15,16,17,18,19,20,21,22,23,24,25,26,27,28,29,30,31,32,33,34,35,36,37,38,39,40,41,42,43,44,45,46,47,48,49,50,51,52,53,54,55,56,57,58,59,60,61,62,63,64,65,66,67,68,69,70,71,72,73,74,75,76,77,78,79,80,81,82,83,84,85,86,87,88,89,90,91,92,93,94,95,96,97,98,99],\"xaxis\":\"x2\",\"y\":[\"\",2.0320724957892007,\"\",1.0407913770199773,0.9923181225196313,0.7578586315250863,\"\",2.9392291548432787,0.4534243677138139,\"\",1.190845796913904,\"\",\"\",\"\",0.6538337561576613,\"\",1.9207001485983435,\"\",1.3314778320067227,\"\",1.0024811559665106,\"\",\"\",0.2300476140276404,3.2385964400347875,0.9470375940227446,\"\",1.9580605905377875,1.6294917773053994,2.144560589345659,0.833477524596456,2.781826242957118,1.4080416538701859,0.003417336382597669,0.11224824304729406,\"\",0.10823449888282838,\"\",\"\",0.9122835565754351,\"\",\"\",0.5736624617804924,\"\",0.8654029306022835,\"\",\"\",1.7637007539407206,0.14071267729992967,\"\",0.9151564979720958,0.4935847499746445,\"\",\"\",\"\",0.5241823643413899,0.2141018004340518,0.7654857034461761,2.2746478241638473,\"\",\"\",0.16884709446906432,0.11441668087030993,\"\",\"\",1.7524439796360864,1.9447917610646368,\"\",\"\",\"\",\"\",0.05677238879518022,0.8508917528780786,\"\",\"\",\"\",2.1429546102745105,1.7680343405295587,\"\",\"\",1.3320098606982569,3.8739145667040713,\"\",\"\",\"\",\"\",0.4175176987439975,1.024704138578302,\"\",\"\",\"\",0.2422712967000764,0.11516381684338317,\"\",\"\",\"\",0.5931167350282301,0.22114970617494917,\"\",0.10035907367147545],\"yaxis\":\"y2\",\"type\":\"scatter\"},{\"connectgaps\":false,\"fill\":\"tozeroy\",\"line\":{\"color\":\"red\",\"dash\":\"solid\",\"shape\":\"linear\",\"width\":0.5},\"mode\":\"lines\",\"name\":\"Spread\",\"showlegend\":false,\"x\":[0,1,2,3,4,5,6,7,8,9,10,11,12,13,14,15,16,17,18,19,20,21,22,23,24,25,26,27,28,29,30,31,32,33,34,35,36,37,38,39,40,41,42,43,44,45,46,47,48,49,50,51,52,53,54,55,56,57,58,59,60,61,62,63,64,65,66,67,68,69,70,71,72,73,74,75,76,77,78,79,80,81,82,83,84,85,86,87,88,89,90,91,92,93,94,95,96,97,98,99],\"xaxis\":\"x2\",\"y\":[-3.269736148060621,\"\",-0.39109121565798277,\"\",\"\",\"\",-1.7503625805906486,\"\",\"\",-1.3691030689097698,\"\",-1.5020377362682724,-1.0008838741358812,-1.2482145808735556,\"\",-0.5942430799317612,\"\",-0.27156676580792216,\"\",-1.1912275918889232,\"\",-1.7164632406132472,-2.085400192778825,\"\",\"\",\"\",-0.8073610415334167,\"\",\"\",\"\",\"\",\"\",\"\",\"\",\"\",-0.9957358367940359,\"\",-2.973739790863596,-1.259734482226067,\"\",-2.0989694134034766,-1.5782002548180212,\"\",-2.396484057915292,\"\",-0.3813910751045986,-1.7418913872323354,\"\",\"\",-0.8143152669271678,\"\",\"\",-4.0713822177617285,-1.7500665693374304,-1.2335240607893472,\"\",\"\",\"\",\"\",-1.19546656886313,-0.8265725361058959,\"\",\"\",-0.667533352582951,-0.6576006233174188,\"\",\"\",-0.15085328805121326,-0.4078685344950527,-1.4895063860050164,-1.9686626459684544,\"\",\"\",-1.659229261531855,-0.11790695810219631,-2.113493406007457,\"\",\"\",-1.0334624867070206,-0.6655536392451793,\"\",\"\",-0.5148508090935928,-1.2545350801934183,-0.4678964645282558,-0.2942974776202233,\"\",\"\",-0.891558161311792,-1.3606958934038005,-0.39597654917916114,\"\",\"\",-2.5975414573368703,-0.2736397825900112,-1.2192451400258966,\"\",\"\",-0.6616371061434577,\"\"],\"yaxis\":\"y2\",\"type\":\"scatter\"}],                        {\"hovermode\":\"x\",\"legend\":{\"bgcolor\":\"#F5F6F9\",\"font\":{\"color\":\"#4D5663\"}},\"paper_bgcolor\":\"#F5F6F9\",\"plot_bgcolor\":\"#F5F6F9\",\"template\":{\"data\":{\"barpolar\":[{\"marker\":{\"line\":{\"color\":\"#E5ECF6\",\"width\":0.5},\"pattern\":{\"fillmode\":\"overlay\",\"size\":10,\"solidity\":0.2}},\"type\":\"barpolar\"}],\"bar\":[{\"error_x\":{\"color\":\"#2a3f5f\"},\"error_y\":{\"color\":\"#2a3f5f\"},\"marker\":{\"line\":{\"color\":\"#E5ECF6\",\"width\":0.5},\"pattern\":{\"fillmode\":\"overlay\",\"size\":10,\"solidity\":0.2}},\"type\":\"bar\"}],\"carpet\":[{\"aaxis\":{\"endlinecolor\":\"#2a3f5f\",\"gridcolor\":\"white\",\"linecolor\":\"white\",\"minorgridcolor\":\"white\",\"startlinecolor\":\"#2a3f5f\"},\"baxis\":{\"endlinecolor\":\"#2a3f5f\",\"gridcolor\":\"white\",\"linecolor\":\"white\",\"minorgridcolor\":\"white\",\"startlinecolor\":\"#2a3f5f\"},\"type\":\"carpet\"}],\"choropleth\":[{\"colorbar\":{\"outlinewidth\":0,\"ticks\":\"\"},\"type\":\"choropleth\"}],\"contourcarpet\":[{\"colorbar\":{\"outlinewidth\":0,\"ticks\":\"\"},\"type\":\"contourcarpet\"}],\"contour\":[{\"colorbar\":{\"outlinewidth\":0,\"ticks\":\"\"},\"colorscale\":[[0.0,\"#0d0887\"],[0.1111111111111111,\"#46039f\"],[0.2222222222222222,\"#7201a8\"],[0.3333333333333333,\"#9c179e\"],[0.4444444444444444,\"#bd3786\"],[0.5555555555555556,\"#d8576b\"],[0.6666666666666666,\"#ed7953\"],[0.7777777777777778,\"#fb9f3a\"],[0.8888888888888888,\"#fdca26\"],[1.0,\"#f0f921\"]],\"type\":\"contour\"}],\"heatmapgl\":[{\"colorbar\":{\"outlinewidth\":0,\"ticks\":\"\"},\"colorscale\":[[0.0,\"#0d0887\"],[0.1111111111111111,\"#46039f\"],[0.2222222222222222,\"#7201a8\"],[0.3333333333333333,\"#9c179e\"],[0.4444444444444444,\"#bd3786\"],[0.5555555555555556,\"#d8576b\"],[0.6666666666666666,\"#ed7953\"],[0.7777777777777778,\"#fb9f3a\"],[0.8888888888888888,\"#fdca26\"],[1.0,\"#f0f921\"]],\"type\":\"heatmapgl\"}],\"heatmap\":[{\"colorbar\":{\"outlinewidth\":0,\"ticks\":\"\"},\"colorscale\":[[0.0,\"#0d0887\"],[0.1111111111111111,\"#46039f\"],[0.2222222222222222,\"#7201a8\"],[0.3333333333333333,\"#9c179e\"],[0.4444444444444444,\"#bd3786\"],[0.5555555555555556,\"#d8576b\"],[0.6666666666666666,\"#ed7953\"],[0.7777777777777778,\"#fb9f3a\"],[0.8888888888888888,\"#fdca26\"],[1.0,\"#f0f921\"]],\"type\":\"heatmap\"}],\"histogram2dcontour\":[{\"colorbar\":{\"outlinewidth\":0,\"ticks\":\"\"},\"colorscale\":[[0.0,\"#0d0887\"],[0.1111111111111111,\"#46039f\"],[0.2222222222222222,\"#7201a8\"],[0.3333333333333333,\"#9c179e\"],[0.4444444444444444,\"#bd3786\"],[0.5555555555555556,\"#d8576b\"],[0.6666666666666666,\"#ed7953\"],[0.7777777777777778,\"#fb9f3a\"],[0.8888888888888888,\"#fdca26\"],[1.0,\"#f0f921\"]],\"type\":\"histogram2dcontour\"}],\"histogram2d\":[{\"colorbar\":{\"outlinewidth\":0,\"ticks\":\"\"},\"colorscale\":[[0.0,\"#0d0887\"],[0.1111111111111111,\"#46039f\"],[0.2222222222222222,\"#7201a8\"],[0.3333333333333333,\"#9c179e\"],[0.4444444444444444,\"#bd3786\"],[0.5555555555555556,\"#d8576b\"],[0.6666666666666666,\"#ed7953\"],[0.7777777777777778,\"#fb9f3a\"],[0.8888888888888888,\"#fdca26\"],[1.0,\"#f0f921\"]],\"type\":\"histogram2d\"}],\"histogram\":[{\"marker\":{\"pattern\":{\"fillmode\":\"overlay\",\"size\":10,\"solidity\":0.2}},\"type\":\"histogram\"}],\"mesh3d\":[{\"colorbar\":{\"outlinewidth\":0,\"ticks\":\"\"},\"type\":\"mesh3d\"}],\"parcoords\":[{\"line\":{\"colorbar\":{\"outlinewidth\":0,\"ticks\":\"\"}},\"type\":\"parcoords\"}],\"pie\":[{\"automargin\":true,\"type\":\"pie\"}],\"scatter3d\":[{\"line\":{\"colorbar\":{\"outlinewidth\":0,\"ticks\":\"\"}},\"marker\":{\"colorbar\":{\"outlinewidth\":0,\"ticks\":\"\"}},\"type\":\"scatter3d\"}],\"scattercarpet\":[{\"marker\":{\"colorbar\":{\"outlinewidth\":0,\"ticks\":\"\"}},\"type\":\"scattercarpet\"}],\"scattergeo\":[{\"marker\":{\"colorbar\":{\"outlinewidth\":0,\"ticks\":\"\"}},\"type\":\"scattergeo\"}],\"scattergl\":[{\"marker\":{\"colorbar\":{\"outlinewidth\":0,\"ticks\":\"\"}},\"type\":\"scattergl\"}],\"scattermapbox\":[{\"marker\":{\"colorbar\":{\"outlinewidth\":0,\"ticks\":\"\"}},\"type\":\"scattermapbox\"}],\"scatterpolargl\":[{\"marker\":{\"colorbar\":{\"outlinewidth\":0,\"ticks\":\"\"}},\"type\":\"scatterpolargl\"}],\"scatterpolar\":[{\"marker\":{\"colorbar\":{\"outlinewidth\":0,\"ticks\":\"\"}},\"type\":\"scatterpolar\"}],\"scatter\":[{\"fillpattern\":{\"fillmode\":\"overlay\",\"size\":10,\"solidity\":0.2},\"type\":\"scatter\"}],\"scatterternary\":[{\"marker\":{\"colorbar\":{\"outlinewidth\":0,\"ticks\":\"\"}},\"type\":\"scatterternary\"}],\"surface\":[{\"colorbar\":{\"outlinewidth\":0,\"ticks\":\"\"},\"colorscale\":[[0.0,\"#0d0887\"],[0.1111111111111111,\"#46039f\"],[0.2222222222222222,\"#7201a8\"],[0.3333333333333333,\"#9c179e\"],[0.4444444444444444,\"#bd3786\"],[0.5555555555555556,\"#d8576b\"],[0.6666666666666666,\"#ed7953\"],[0.7777777777777778,\"#fb9f3a\"],[0.8888888888888888,\"#fdca26\"],[1.0,\"#f0f921\"]],\"type\":\"surface\"}],\"table\":[{\"cells\":{\"fill\":{\"color\":\"#EBF0F8\"},\"line\":{\"color\":\"white\"}},\"header\":{\"fill\":{\"color\":\"#C8D4E3\"},\"line\":{\"color\":\"white\"}},\"type\":\"table\"}]},\"layout\":{\"annotationdefaults\":{\"arrowcolor\":\"#2a3f5f\",\"arrowhead\":0,\"arrowwidth\":1},\"autotypenumbers\":\"strict\",\"coloraxis\":{\"colorbar\":{\"outlinewidth\":0,\"ticks\":\"\"}},\"colorscale\":{\"diverging\":[[0,\"#8e0152\"],[0.1,\"#c51b7d\"],[0.2,\"#de77ae\"],[0.3,\"#f1b6da\"],[0.4,\"#fde0ef\"],[0.5,\"#f7f7f7\"],[0.6,\"#e6f5d0\"],[0.7,\"#b8e186\"],[0.8,\"#7fbc41\"],[0.9,\"#4d9221\"],[1,\"#276419\"]],\"sequential\":[[0.0,\"#0d0887\"],[0.1111111111111111,\"#46039f\"],[0.2222222222222222,\"#7201a8\"],[0.3333333333333333,\"#9c179e\"],[0.4444444444444444,\"#bd3786\"],[0.5555555555555556,\"#d8576b\"],[0.6666666666666666,\"#ed7953\"],[0.7777777777777778,\"#fb9f3a\"],[0.8888888888888888,\"#fdca26\"],[1.0,\"#f0f921\"]],\"sequentialminus\":[[0.0,\"#0d0887\"],[0.1111111111111111,\"#46039f\"],[0.2222222222222222,\"#7201a8\"],[0.3333333333333333,\"#9c179e\"],[0.4444444444444444,\"#bd3786\"],[0.5555555555555556,\"#d8576b\"],[0.6666666666666666,\"#ed7953\"],[0.7777777777777778,\"#fb9f3a\"],[0.8888888888888888,\"#fdca26\"],[1.0,\"#f0f921\"]]},\"colorway\":[\"#636efa\",\"#EF553B\",\"#00cc96\",\"#ab63fa\",\"#FFA15A\",\"#19d3f3\",\"#FF6692\",\"#B6E880\",\"#FF97FF\",\"#FECB52\"],\"font\":{\"color\":\"#2a3f5f\"},\"geo\":{\"bgcolor\":\"white\",\"lakecolor\":\"white\",\"landcolor\":\"#E5ECF6\",\"showlakes\":true,\"showland\":true,\"subunitcolor\":\"white\"},\"hoverlabel\":{\"align\":\"left\"},\"hovermode\":\"closest\",\"mapbox\":{\"style\":\"light\"},\"paper_bgcolor\":\"white\",\"plot_bgcolor\":\"#E5ECF6\",\"polar\":{\"angularaxis\":{\"gridcolor\":\"white\",\"linecolor\":\"white\",\"ticks\":\"\"},\"bgcolor\":\"#E5ECF6\",\"radialaxis\":{\"gridcolor\":\"white\",\"linecolor\":\"white\",\"ticks\":\"\"}},\"scene\":{\"xaxis\":{\"backgroundcolor\":\"#E5ECF6\",\"gridcolor\":\"white\",\"gridwidth\":2,\"linecolor\":\"white\",\"showbackground\":true,\"ticks\":\"\",\"zerolinecolor\":\"white\"},\"yaxis\":{\"backgroundcolor\":\"#E5ECF6\",\"gridcolor\":\"white\",\"gridwidth\":2,\"linecolor\":\"white\",\"showbackground\":true,\"ticks\":\"\",\"zerolinecolor\":\"white\"},\"zaxis\":{\"backgroundcolor\":\"#E5ECF6\",\"gridcolor\":\"white\",\"gridwidth\":2,\"linecolor\":\"white\",\"showbackground\":true,\"ticks\":\"\",\"zerolinecolor\":\"white\"}},\"shapedefaults\":{\"line\":{\"color\":\"#2a3f5f\"}},\"ternary\":{\"aaxis\":{\"gridcolor\":\"white\",\"linecolor\":\"white\",\"ticks\":\"\"},\"baxis\":{\"gridcolor\":\"white\",\"linecolor\":\"white\",\"ticks\":\"\"},\"bgcolor\":\"#E5ECF6\",\"caxis\":{\"gridcolor\":\"white\",\"linecolor\":\"white\",\"ticks\":\"\"}},\"title\":{\"x\":0.05},\"xaxis\":{\"automargin\":true,\"gridcolor\":\"white\",\"linecolor\":\"white\",\"ticks\":\"\",\"title\":{\"standoff\":15},\"zerolinecolor\":\"white\",\"zerolinewidth\":2},\"yaxis\":{\"automargin\":true,\"gridcolor\":\"white\",\"linecolor\":\"white\",\"ticks\":\"\",\"title\":{\"standoff\":15},\"zerolinecolor\":\"white\",\"zerolinewidth\":2}}},\"title\":{\"font\":{\"color\":\"#4D5663\"}},\"xaxis\":{\"gridcolor\":\"#E1E5ED\",\"showgrid\":true,\"tickfont\":{\"color\":\"#4D5663\"},\"title\":{\"font\":{\"color\":\"#4D5663\"},\"text\":\"\"},\"zerolinecolor\":\"#E1E5ED\"},\"yaxis\":{\"domain\":[0.3,1],\"gridcolor\":\"#E1E5ED\",\"showgrid\":true,\"tickfont\":{\"color\":\"#4D5663\"},\"title\":{\"font\":{\"color\":\"#4D5663\"},\"text\":\"\"},\"zerolinecolor\":\"#E1E5ED\"},\"yaxis2\":{\"domain\":[0,0.25],\"gridcolor\":\"#E1E5ED\",\"showgrid\":true,\"tickfont\":{\"color\":\"#4D5663\"},\"title\":{\"font\":{\"color\":\"#4D5663\"},\"text\":\"Spread\"},\"zerolinecolor\":\"#E1E5ED\"},\"xaxis2\":{\"anchor\":\"y2\",\"gridcolor\":\"#E1E5ED\",\"showgrid\":true,\"showticklabels\":false,\"tickfont\":{\"color\":\"#4D5663\"},\"title\":{\"font\":{\"color\":\"#4D5663\"},\"text\":\"\"},\"zerolinecolor\":\"#E1E5ED\"}},                        {\"showLink\": true, \"linkText\": \"Export to plot.ly\", \"plotlyServerURL\": \"https://plot.ly\", \"responsive\": true}                    ).then(function(){\n",
       "                            \n",
       "var gd = document.getElementById('baf3f0c7-70c4-4815-8629-d61e0c0311bf');\n",
       "var x = new MutationObserver(function (mutations, observer) {{\n",
       "        var display = window.getComputedStyle(gd).display;\n",
       "        if (!display || display === 'none') {{\n",
       "            console.log([gd, 'removed!']);\n",
       "            Plotly.purge(gd);\n",
       "            observer.disconnect();\n",
       "        }}\n",
       "}});\n",
       "\n",
       "// Listen for the removal of the full notebook cells\n",
       "var notebookContainer = gd.closest('#notebook-container');\n",
       "if (notebookContainer) {{\n",
       "    x.observe(notebookContainer, {childList: true});\n",
       "}}\n",
       "\n",
       "// Listen for the clearing of the current output cell\n",
       "var outputEl = gd.closest('.output');\n",
       "if (outputEl) {{\n",
       "    x.observe(outputEl, {childList: true});\n",
       "}}\n",
       "\n",
       "                        })                };                });            </script>        </div>"
      ]
     },
     "metadata": {},
     "output_type": "display_data"
    }
   ],
   "source": [
    "df[['A','B']].iplot(kind='spread')"
   ]
  },
  {
   "cell_type": "code",
   "execution_count": 61,
   "id": "ccfb558c",
   "metadata": {},
   "outputs": [
    {
     "data": {
      "application/vnd.plotly.v1+json": {
       "config": {
        "linkText": "Export to plot.ly",
        "plotlyServerURL": "https://plot.ly",
        "showLink": true
       },
       "data": [
        {
         "histfunc": "count",
         "histnorm": "",
         "marker": {
          "color": "rgba(255, 153, 51, 1.0)",
          "line": {
           "color": "#4D5663",
           "width": 1.3
          }
         },
         "name": "A",
         "opacity": 0.8,
         "orientation": "v",
         "type": "histogram",
         "x": [
          -2.0248994302722,
          1.1206783216849459,
          -0.14714216901426908,
          0.6670829874275235,
          -0.023376648075685052,
          0.5060352952627416,
          -0.9478339706882272,
          2.7301806156870327,
          0.1500701083538797,
          -1.629253867207095,
          0.025633123118659527,
          -1.6180567997975985,
          -0.6201539883082475,
          0.6980153432116343,
          1.3457098806675134,
          -0.4733132068550389,
          1.218327984233927,
          1.0720706177131725,
          0.7266855883867765,
          -1.1328801679679639,
          1.285011116428947,
          -1.135743951530807,
          -1.0992156651659082,
          0.804292155497312,
          2.889420935902672,
          0.913650499514228,
          -1.2359684228301904,
          2.2394880583415873,
          1.0592166701930064,
          1.0330178731064599,
          1.0204782513370658,
          0.8787309750034229,
          0.6885987819603279,
          0.5437470084021745,
          -0.13455229775785477,
          -1.5005765916391522,
          0.4021446100381902,
          -1.2098195163672532,
          -0.397151218679385,
          0.14678399705766368,
          -0.41007694139382683,
          -0.8761747336518552,
          -0.03269185454668553,
          -0.832459749750178,
          -0.373553019196941,
          0.5976385942822937,
          -2.6303076986098883,
          0.49207673349323555,
          -0.24612515085494288,
          -1.1255327396654367,
          -0.48070458660037485,
          0.12895287721669293,
          -1.4090236036807335,
          -0.47182676530688755,
          0.23063424612448724,
          1.0277807157421683,
          0.9843342322642673,
          -0.09074566210834423,
          0.6472245732614761,
          -0.9203721156635134,
          -0.1257185498876959,
          -0.08710102389783692,
          -0.27268093799410975,
          -0.1414327108596726,
          -0.4611742525389193,
          0.8261375525274487,
          1.4565299222233419,
          -0.10042343837103451,
          -0.43689372589308856,
          -1.9981308411765657,
          -0.462754228780885,
          0.12754204376341816,
          -0.3433380435620271,
          -1.1692171929398942,
          0.782475324852804,
          -0.5319658940434484,
          2.225256725090445,
          1.089115482983619,
          -1.2430161750082012,
          1.2502312241220217,
          0.7905200967038304,
          2.734169374856847,
          -0.45361764475918365,
          -2.790893563542634,
          -0.9096538705796186,
          -0.7919999287925056,
          -0.38852093632309764,
          1.2568796152307298,
          -0.7385552048964777,
          -1.1615287328500985,
          0.5144036947754764,
          -0.9145163371493532,
          -0.38025656162124044,
          -1.0580205499766269,
          0.4825574966126437,
          -1.6269134861205365,
          -0.4224550151287948,
          -0.325133894910615,
          -0.8685891545573913,
          0.6256080741969859
         ]
        }
       ],
       "layout": {
        "barmode": "overlay",
        "legend": {
         "bgcolor": "#F5F6F9",
         "font": {
          "color": "#4D5663"
         }
        },
        "paper_bgcolor": "#F5F6F9",
        "plot_bgcolor": "#F5F6F9",
        "template": {
         "data": {
          "bar": [
           {
            "error_x": {
             "color": "#2a3f5f"
            },
            "error_y": {
             "color": "#2a3f5f"
            },
            "marker": {
             "line": {
              "color": "#E5ECF6",
              "width": 0.5
             },
             "pattern": {
              "fillmode": "overlay",
              "size": 10,
              "solidity": 0.2
             }
            },
            "type": "bar"
           }
          ],
          "barpolar": [
           {
            "marker": {
             "line": {
              "color": "#E5ECF6",
              "width": 0.5
             },
             "pattern": {
              "fillmode": "overlay",
              "size": 10,
              "solidity": 0.2
             }
            },
            "type": "barpolar"
           }
          ],
          "carpet": [
           {
            "aaxis": {
             "endlinecolor": "#2a3f5f",
             "gridcolor": "white",
             "linecolor": "white",
             "minorgridcolor": "white",
             "startlinecolor": "#2a3f5f"
            },
            "baxis": {
             "endlinecolor": "#2a3f5f",
             "gridcolor": "white",
             "linecolor": "white",
             "minorgridcolor": "white",
             "startlinecolor": "#2a3f5f"
            },
            "type": "carpet"
           }
          ],
          "choropleth": [
           {
            "colorbar": {
             "outlinewidth": 0,
             "ticks": ""
            },
            "type": "choropleth"
           }
          ],
          "contour": [
           {
            "colorbar": {
             "outlinewidth": 0,
             "ticks": ""
            },
            "colorscale": [
             [
              0,
              "#0d0887"
             ],
             [
              0.1111111111111111,
              "#46039f"
             ],
             [
              0.2222222222222222,
              "#7201a8"
             ],
             [
              0.3333333333333333,
              "#9c179e"
             ],
             [
              0.4444444444444444,
              "#bd3786"
             ],
             [
              0.5555555555555556,
              "#d8576b"
             ],
             [
              0.6666666666666666,
              "#ed7953"
             ],
             [
              0.7777777777777778,
              "#fb9f3a"
             ],
             [
              0.8888888888888888,
              "#fdca26"
             ],
             [
              1,
              "#f0f921"
             ]
            ],
            "type": "contour"
           }
          ],
          "contourcarpet": [
           {
            "colorbar": {
             "outlinewidth": 0,
             "ticks": ""
            },
            "type": "contourcarpet"
           }
          ],
          "heatmap": [
           {
            "colorbar": {
             "outlinewidth": 0,
             "ticks": ""
            },
            "colorscale": [
             [
              0,
              "#0d0887"
             ],
             [
              0.1111111111111111,
              "#46039f"
             ],
             [
              0.2222222222222222,
              "#7201a8"
             ],
             [
              0.3333333333333333,
              "#9c179e"
             ],
             [
              0.4444444444444444,
              "#bd3786"
             ],
             [
              0.5555555555555556,
              "#d8576b"
             ],
             [
              0.6666666666666666,
              "#ed7953"
             ],
             [
              0.7777777777777778,
              "#fb9f3a"
             ],
             [
              0.8888888888888888,
              "#fdca26"
             ],
             [
              1,
              "#f0f921"
             ]
            ],
            "type": "heatmap"
           }
          ],
          "heatmapgl": [
           {
            "colorbar": {
             "outlinewidth": 0,
             "ticks": ""
            },
            "colorscale": [
             [
              0,
              "#0d0887"
             ],
             [
              0.1111111111111111,
              "#46039f"
             ],
             [
              0.2222222222222222,
              "#7201a8"
             ],
             [
              0.3333333333333333,
              "#9c179e"
             ],
             [
              0.4444444444444444,
              "#bd3786"
             ],
             [
              0.5555555555555556,
              "#d8576b"
             ],
             [
              0.6666666666666666,
              "#ed7953"
             ],
             [
              0.7777777777777778,
              "#fb9f3a"
             ],
             [
              0.8888888888888888,
              "#fdca26"
             ],
             [
              1,
              "#f0f921"
             ]
            ],
            "type": "heatmapgl"
           }
          ],
          "histogram": [
           {
            "marker": {
             "pattern": {
              "fillmode": "overlay",
              "size": 10,
              "solidity": 0.2
             }
            },
            "type": "histogram"
           }
          ],
          "histogram2d": [
           {
            "colorbar": {
             "outlinewidth": 0,
             "ticks": ""
            },
            "colorscale": [
             [
              0,
              "#0d0887"
             ],
             [
              0.1111111111111111,
              "#46039f"
             ],
             [
              0.2222222222222222,
              "#7201a8"
             ],
             [
              0.3333333333333333,
              "#9c179e"
             ],
             [
              0.4444444444444444,
              "#bd3786"
             ],
             [
              0.5555555555555556,
              "#d8576b"
             ],
             [
              0.6666666666666666,
              "#ed7953"
             ],
             [
              0.7777777777777778,
              "#fb9f3a"
             ],
             [
              0.8888888888888888,
              "#fdca26"
             ],
             [
              1,
              "#f0f921"
             ]
            ],
            "type": "histogram2d"
           }
          ],
          "histogram2dcontour": [
           {
            "colorbar": {
             "outlinewidth": 0,
             "ticks": ""
            },
            "colorscale": [
             [
              0,
              "#0d0887"
             ],
             [
              0.1111111111111111,
              "#46039f"
             ],
             [
              0.2222222222222222,
              "#7201a8"
             ],
             [
              0.3333333333333333,
              "#9c179e"
             ],
             [
              0.4444444444444444,
              "#bd3786"
             ],
             [
              0.5555555555555556,
              "#d8576b"
             ],
             [
              0.6666666666666666,
              "#ed7953"
             ],
             [
              0.7777777777777778,
              "#fb9f3a"
             ],
             [
              0.8888888888888888,
              "#fdca26"
             ],
             [
              1,
              "#f0f921"
             ]
            ],
            "type": "histogram2dcontour"
           }
          ],
          "mesh3d": [
           {
            "colorbar": {
             "outlinewidth": 0,
             "ticks": ""
            },
            "type": "mesh3d"
           }
          ],
          "parcoords": [
           {
            "line": {
             "colorbar": {
              "outlinewidth": 0,
              "ticks": ""
             }
            },
            "type": "parcoords"
           }
          ],
          "pie": [
           {
            "automargin": true,
            "type": "pie"
           }
          ],
          "scatter": [
           {
            "fillpattern": {
             "fillmode": "overlay",
             "size": 10,
             "solidity": 0.2
            },
            "type": "scatter"
           }
          ],
          "scatter3d": [
           {
            "line": {
             "colorbar": {
              "outlinewidth": 0,
              "ticks": ""
             }
            },
            "marker": {
             "colorbar": {
              "outlinewidth": 0,
              "ticks": ""
             }
            },
            "type": "scatter3d"
           }
          ],
          "scattercarpet": [
           {
            "marker": {
             "colorbar": {
              "outlinewidth": 0,
              "ticks": ""
             }
            },
            "type": "scattercarpet"
           }
          ],
          "scattergeo": [
           {
            "marker": {
             "colorbar": {
              "outlinewidth": 0,
              "ticks": ""
             }
            },
            "type": "scattergeo"
           }
          ],
          "scattergl": [
           {
            "marker": {
             "colorbar": {
              "outlinewidth": 0,
              "ticks": ""
             }
            },
            "type": "scattergl"
           }
          ],
          "scattermapbox": [
           {
            "marker": {
             "colorbar": {
              "outlinewidth": 0,
              "ticks": ""
             }
            },
            "type": "scattermapbox"
           }
          ],
          "scatterpolar": [
           {
            "marker": {
             "colorbar": {
              "outlinewidth": 0,
              "ticks": ""
             }
            },
            "type": "scatterpolar"
           }
          ],
          "scatterpolargl": [
           {
            "marker": {
             "colorbar": {
              "outlinewidth": 0,
              "ticks": ""
             }
            },
            "type": "scatterpolargl"
           }
          ],
          "scatterternary": [
           {
            "marker": {
             "colorbar": {
              "outlinewidth": 0,
              "ticks": ""
             }
            },
            "type": "scatterternary"
           }
          ],
          "surface": [
           {
            "colorbar": {
             "outlinewidth": 0,
             "ticks": ""
            },
            "colorscale": [
             [
              0,
              "#0d0887"
             ],
             [
              0.1111111111111111,
              "#46039f"
             ],
             [
              0.2222222222222222,
              "#7201a8"
             ],
             [
              0.3333333333333333,
              "#9c179e"
             ],
             [
              0.4444444444444444,
              "#bd3786"
             ],
             [
              0.5555555555555556,
              "#d8576b"
             ],
             [
              0.6666666666666666,
              "#ed7953"
             ],
             [
              0.7777777777777778,
              "#fb9f3a"
             ],
             [
              0.8888888888888888,
              "#fdca26"
             ],
             [
              1,
              "#f0f921"
             ]
            ],
            "type": "surface"
           }
          ],
          "table": [
           {
            "cells": {
             "fill": {
              "color": "#EBF0F8"
             },
             "line": {
              "color": "white"
             }
            },
            "header": {
             "fill": {
              "color": "#C8D4E3"
             },
             "line": {
              "color": "white"
             }
            },
            "type": "table"
           }
          ]
         },
         "layout": {
          "annotationdefaults": {
           "arrowcolor": "#2a3f5f",
           "arrowhead": 0,
           "arrowwidth": 1
          },
          "autotypenumbers": "strict",
          "coloraxis": {
           "colorbar": {
            "outlinewidth": 0,
            "ticks": ""
           }
          },
          "colorscale": {
           "diverging": [
            [
             0,
             "#8e0152"
            ],
            [
             0.1,
             "#c51b7d"
            ],
            [
             0.2,
             "#de77ae"
            ],
            [
             0.3,
             "#f1b6da"
            ],
            [
             0.4,
             "#fde0ef"
            ],
            [
             0.5,
             "#f7f7f7"
            ],
            [
             0.6,
             "#e6f5d0"
            ],
            [
             0.7,
             "#b8e186"
            ],
            [
             0.8,
             "#7fbc41"
            ],
            [
             0.9,
             "#4d9221"
            ],
            [
             1,
             "#276419"
            ]
           ],
           "sequential": [
            [
             0,
             "#0d0887"
            ],
            [
             0.1111111111111111,
             "#46039f"
            ],
            [
             0.2222222222222222,
             "#7201a8"
            ],
            [
             0.3333333333333333,
             "#9c179e"
            ],
            [
             0.4444444444444444,
             "#bd3786"
            ],
            [
             0.5555555555555556,
             "#d8576b"
            ],
            [
             0.6666666666666666,
             "#ed7953"
            ],
            [
             0.7777777777777778,
             "#fb9f3a"
            ],
            [
             0.8888888888888888,
             "#fdca26"
            ],
            [
             1,
             "#f0f921"
            ]
           ],
           "sequentialminus": [
            [
             0,
             "#0d0887"
            ],
            [
             0.1111111111111111,
             "#46039f"
            ],
            [
             0.2222222222222222,
             "#7201a8"
            ],
            [
             0.3333333333333333,
             "#9c179e"
            ],
            [
             0.4444444444444444,
             "#bd3786"
            ],
            [
             0.5555555555555556,
             "#d8576b"
            ],
            [
             0.6666666666666666,
             "#ed7953"
            ],
            [
             0.7777777777777778,
             "#fb9f3a"
            ],
            [
             0.8888888888888888,
             "#fdca26"
            ],
            [
             1,
             "#f0f921"
            ]
           ]
          },
          "colorway": [
           "#636efa",
           "#EF553B",
           "#00cc96",
           "#ab63fa",
           "#FFA15A",
           "#19d3f3",
           "#FF6692",
           "#B6E880",
           "#FF97FF",
           "#FECB52"
          ],
          "font": {
           "color": "#2a3f5f"
          },
          "geo": {
           "bgcolor": "white",
           "lakecolor": "white",
           "landcolor": "#E5ECF6",
           "showlakes": true,
           "showland": true,
           "subunitcolor": "white"
          },
          "hoverlabel": {
           "align": "left"
          },
          "hovermode": "closest",
          "mapbox": {
           "style": "light"
          },
          "paper_bgcolor": "white",
          "plot_bgcolor": "#E5ECF6",
          "polar": {
           "angularaxis": {
            "gridcolor": "white",
            "linecolor": "white",
            "ticks": ""
           },
           "bgcolor": "#E5ECF6",
           "radialaxis": {
            "gridcolor": "white",
            "linecolor": "white",
            "ticks": ""
           }
          },
          "scene": {
           "xaxis": {
            "backgroundcolor": "#E5ECF6",
            "gridcolor": "white",
            "gridwidth": 2,
            "linecolor": "white",
            "showbackground": true,
            "ticks": "",
            "zerolinecolor": "white"
           },
           "yaxis": {
            "backgroundcolor": "#E5ECF6",
            "gridcolor": "white",
            "gridwidth": 2,
            "linecolor": "white",
            "showbackground": true,
            "ticks": "",
            "zerolinecolor": "white"
           },
           "zaxis": {
            "backgroundcolor": "#E5ECF6",
            "gridcolor": "white",
            "gridwidth": 2,
            "linecolor": "white",
            "showbackground": true,
            "ticks": "",
            "zerolinecolor": "white"
           }
          },
          "shapedefaults": {
           "line": {
            "color": "#2a3f5f"
           }
          },
          "ternary": {
           "aaxis": {
            "gridcolor": "white",
            "linecolor": "white",
            "ticks": ""
           },
           "baxis": {
            "gridcolor": "white",
            "linecolor": "white",
            "ticks": ""
           },
           "bgcolor": "#E5ECF6",
           "caxis": {
            "gridcolor": "white",
            "linecolor": "white",
            "ticks": ""
           }
          },
          "title": {
           "x": 0.05
          },
          "xaxis": {
           "automargin": true,
           "gridcolor": "white",
           "linecolor": "white",
           "ticks": "",
           "title": {
            "standoff": 15
           },
           "zerolinecolor": "white",
           "zerolinewidth": 2
          },
          "yaxis": {
           "automargin": true,
           "gridcolor": "white",
           "linecolor": "white",
           "ticks": "",
           "title": {
            "standoff": 15
           },
           "zerolinecolor": "white",
           "zerolinewidth": 2
          }
         }
        },
        "title": {
         "font": {
          "color": "#4D5663"
         }
        },
        "xaxis": {
         "gridcolor": "#E1E5ED",
         "showgrid": true,
         "tickfont": {
          "color": "#4D5663"
         },
         "title": {
          "font": {
           "color": "#4D5663"
          },
          "text": ""
         },
         "zerolinecolor": "#E1E5ED"
        },
        "yaxis": {
         "gridcolor": "#E1E5ED",
         "showgrid": true,
         "tickfont": {
          "color": "#4D5663"
         },
         "title": {
          "font": {
           "color": "#4D5663"
          },
          "text": ""
         },
         "zerolinecolor": "#E1E5ED"
        }
       }
      },
      "text/html": [
       "<div>                            <div id=\"e9bd3e31-3c41-441a-9fe4-f70fe417c165\" class=\"plotly-graph-div\" style=\"height:525px; width:100%;\"></div>            <script type=\"text/javascript\">                require([\"plotly\"], function(Plotly) {                    window.PLOTLYENV=window.PLOTLYENV || {};\n",
       "                    window.PLOTLYENV.BASE_URL='https://plot.ly';                                    if (document.getElementById(\"e9bd3e31-3c41-441a-9fe4-f70fe417c165\")) {                    Plotly.newPlot(                        \"e9bd3e31-3c41-441a-9fe4-f70fe417c165\",                        [{\"histfunc\":\"count\",\"histnorm\":\"\",\"marker\":{\"color\":\"rgba(255, 153, 51, 1.0)\",\"line\":{\"color\":\"#4D5663\",\"width\":1.3}},\"name\":\"A\",\"opacity\":0.8,\"orientation\":\"v\",\"x\":[-2.0248994302722,1.1206783216849459,-0.14714216901426908,0.6670829874275235,-0.023376648075685052,0.5060352952627416,-0.9478339706882272,2.7301806156870327,0.1500701083538797,-1.629253867207095,0.025633123118659527,-1.6180567997975985,-0.6201539883082475,0.6980153432116343,1.3457098806675134,-0.4733132068550389,1.218327984233927,1.0720706177131725,0.7266855883867765,-1.1328801679679639,1.285011116428947,-1.135743951530807,-1.0992156651659082,0.804292155497312,2.889420935902672,0.913650499514228,-1.2359684228301904,2.2394880583415873,1.0592166701930064,1.0330178731064599,1.0204782513370658,0.8787309750034229,0.6885987819603279,0.5437470084021745,-0.13455229775785477,-1.5005765916391522,0.4021446100381902,-1.2098195163672532,-0.397151218679385,0.14678399705766368,-0.41007694139382683,-0.8761747336518552,-0.03269185454668553,-0.832459749750178,-0.373553019196941,0.5976385942822937,-2.6303076986098883,0.49207673349323555,-0.24612515085494288,-1.1255327396654367,-0.48070458660037485,0.12895287721669293,-1.4090236036807335,-0.47182676530688755,0.23063424612448724,1.0277807157421683,0.9843342322642673,-0.09074566210834423,0.6472245732614761,-0.9203721156635134,-0.1257185498876959,-0.08710102389783692,-0.27268093799410975,-0.1414327108596726,-0.4611742525389193,0.8261375525274487,1.4565299222233419,-0.10042343837103451,-0.43689372589308856,-1.9981308411765657,-0.462754228780885,0.12754204376341816,-0.3433380435620271,-1.1692171929398942,0.782475324852804,-0.5319658940434484,2.225256725090445,1.089115482983619,-1.2430161750082012,1.2502312241220217,0.7905200967038304,2.734169374856847,-0.45361764475918365,-2.790893563542634,-0.9096538705796186,-0.7919999287925056,-0.38852093632309764,1.2568796152307298,-0.7385552048964777,-1.1615287328500985,0.5144036947754764,-0.9145163371493532,-0.38025656162124044,-1.0580205499766269,0.4825574966126437,-1.6269134861205365,-0.4224550151287948,-0.325133894910615,-0.8685891545573913,0.6256080741969859],\"type\":\"histogram\"}],                        {\"barmode\":\"overlay\",\"legend\":{\"bgcolor\":\"#F5F6F9\",\"font\":{\"color\":\"#4D5663\"}},\"paper_bgcolor\":\"#F5F6F9\",\"plot_bgcolor\":\"#F5F6F9\",\"template\":{\"data\":{\"barpolar\":[{\"marker\":{\"line\":{\"color\":\"#E5ECF6\",\"width\":0.5},\"pattern\":{\"fillmode\":\"overlay\",\"size\":10,\"solidity\":0.2}},\"type\":\"barpolar\"}],\"bar\":[{\"error_x\":{\"color\":\"#2a3f5f\"},\"error_y\":{\"color\":\"#2a3f5f\"},\"marker\":{\"line\":{\"color\":\"#E5ECF6\",\"width\":0.5},\"pattern\":{\"fillmode\":\"overlay\",\"size\":10,\"solidity\":0.2}},\"type\":\"bar\"}],\"carpet\":[{\"aaxis\":{\"endlinecolor\":\"#2a3f5f\",\"gridcolor\":\"white\",\"linecolor\":\"white\",\"minorgridcolor\":\"white\",\"startlinecolor\":\"#2a3f5f\"},\"baxis\":{\"endlinecolor\":\"#2a3f5f\",\"gridcolor\":\"white\",\"linecolor\":\"white\",\"minorgridcolor\":\"white\",\"startlinecolor\":\"#2a3f5f\"},\"type\":\"carpet\"}],\"choropleth\":[{\"colorbar\":{\"outlinewidth\":0,\"ticks\":\"\"},\"type\":\"choropleth\"}],\"contourcarpet\":[{\"colorbar\":{\"outlinewidth\":0,\"ticks\":\"\"},\"type\":\"contourcarpet\"}],\"contour\":[{\"colorbar\":{\"outlinewidth\":0,\"ticks\":\"\"},\"colorscale\":[[0.0,\"#0d0887\"],[0.1111111111111111,\"#46039f\"],[0.2222222222222222,\"#7201a8\"],[0.3333333333333333,\"#9c179e\"],[0.4444444444444444,\"#bd3786\"],[0.5555555555555556,\"#d8576b\"],[0.6666666666666666,\"#ed7953\"],[0.7777777777777778,\"#fb9f3a\"],[0.8888888888888888,\"#fdca26\"],[1.0,\"#f0f921\"]],\"type\":\"contour\"}],\"heatmapgl\":[{\"colorbar\":{\"outlinewidth\":0,\"ticks\":\"\"},\"colorscale\":[[0.0,\"#0d0887\"],[0.1111111111111111,\"#46039f\"],[0.2222222222222222,\"#7201a8\"],[0.3333333333333333,\"#9c179e\"],[0.4444444444444444,\"#bd3786\"],[0.5555555555555556,\"#d8576b\"],[0.6666666666666666,\"#ed7953\"],[0.7777777777777778,\"#fb9f3a\"],[0.8888888888888888,\"#fdca26\"],[1.0,\"#f0f921\"]],\"type\":\"heatmapgl\"}],\"heatmap\":[{\"colorbar\":{\"outlinewidth\":0,\"ticks\":\"\"},\"colorscale\":[[0.0,\"#0d0887\"],[0.1111111111111111,\"#46039f\"],[0.2222222222222222,\"#7201a8\"],[0.3333333333333333,\"#9c179e\"],[0.4444444444444444,\"#bd3786\"],[0.5555555555555556,\"#d8576b\"],[0.6666666666666666,\"#ed7953\"],[0.7777777777777778,\"#fb9f3a\"],[0.8888888888888888,\"#fdca26\"],[1.0,\"#f0f921\"]],\"type\":\"heatmap\"}],\"histogram2dcontour\":[{\"colorbar\":{\"outlinewidth\":0,\"ticks\":\"\"},\"colorscale\":[[0.0,\"#0d0887\"],[0.1111111111111111,\"#46039f\"],[0.2222222222222222,\"#7201a8\"],[0.3333333333333333,\"#9c179e\"],[0.4444444444444444,\"#bd3786\"],[0.5555555555555556,\"#d8576b\"],[0.6666666666666666,\"#ed7953\"],[0.7777777777777778,\"#fb9f3a\"],[0.8888888888888888,\"#fdca26\"],[1.0,\"#f0f921\"]],\"type\":\"histogram2dcontour\"}],\"histogram2d\":[{\"colorbar\":{\"outlinewidth\":0,\"ticks\":\"\"},\"colorscale\":[[0.0,\"#0d0887\"],[0.1111111111111111,\"#46039f\"],[0.2222222222222222,\"#7201a8\"],[0.3333333333333333,\"#9c179e\"],[0.4444444444444444,\"#bd3786\"],[0.5555555555555556,\"#d8576b\"],[0.6666666666666666,\"#ed7953\"],[0.7777777777777778,\"#fb9f3a\"],[0.8888888888888888,\"#fdca26\"],[1.0,\"#f0f921\"]],\"type\":\"histogram2d\"}],\"histogram\":[{\"marker\":{\"pattern\":{\"fillmode\":\"overlay\",\"size\":10,\"solidity\":0.2}},\"type\":\"histogram\"}],\"mesh3d\":[{\"colorbar\":{\"outlinewidth\":0,\"ticks\":\"\"},\"type\":\"mesh3d\"}],\"parcoords\":[{\"line\":{\"colorbar\":{\"outlinewidth\":0,\"ticks\":\"\"}},\"type\":\"parcoords\"}],\"pie\":[{\"automargin\":true,\"type\":\"pie\"}],\"scatter3d\":[{\"line\":{\"colorbar\":{\"outlinewidth\":0,\"ticks\":\"\"}},\"marker\":{\"colorbar\":{\"outlinewidth\":0,\"ticks\":\"\"}},\"type\":\"scatter3d\"}],\"scattercarpet\":[{\"marker\":{\"colorbar\":{\"outlinewidth\":0,\"ticks\":\"\"}},\"type\":\"scattercarpet\"}],\"scattergeo\":[{\"marker\":{\"colorbar\":{\"outlinewidth\":0,\"ticks\":\"\"}},\"type\":\"scattergeo\"}],\"scattergl\":[{\"marker\":{\"colorbar\":{\"outlinewidth\":0,\"ticks\":\"\"}},\"type\":\"scattergl\"}],\"scattermapbox\":[{\"marker\":{\"colorbar\":{\"outlinewidth\":0,\"ticks\":\"\"}},\"type\":\"scattermapbox\"}],\"scatterpolargl\":[{\"marker\":{\"colorbar\":{\"outlinewidth\":0,\"ticks\":\"\"}},\"type\":\"scatterpolargl\"}],\"scatterpolar\":[{\"marker\":{\"colorbar\":{\"outlinewidth\":0,\"ticks\":\"\"}},\"type\":\"scatterpolar\"}],\"scatter\":[{\"fillpattern\":{\"fillmode\":\"overlay\",\"size\":10,\"solidity\":0.2},\"type\":\"scatter\"}],\"scatterternary\":[{\"marker\":{\"colorbar\":{\"outlinewidth\":0,\"ticks\":\"\"}},\"type\":\"scatterternary\"}],\"surface\":[{\"colorbar\":{\"outlinewidth\":0,\"ticks\":\"\"},\"colorscale\":[[0.0,\"#0d0887\"],[0.1111111111111111,\"#46039f\"],[0.2222222222222222,\"#7201a8\"],[0.3333333333333333,\"#9c179e\"],[0.4444444444444444,\"#bd3786\"],[0.5555555555555556,\"#d8576b\"],[0.6666666666666666,\"#ed7953\"],[0.7777777777777778,\"#fb9f3a\"],[0.8888888888888888,\"#fdca26\"],[1.0,\"#f0f921\"]],\"type\":\"surface\"}],\"table\":[{\"cells\":{\"fill\":{\"color\":\"#EBF0F8\"},\"line\":{\"color\":\"white\"}},\"header\":{\"fill\":{\"color\":\"#C8D4E3\"},\"line\":{\"color\":\"white\"}},\"type\":\"table\"}]},\"layout\":{\"annotationdefaults\":{\"arrowcolor\":\"#2a3f5f\",\"arrowhead\":0,\"arrowwidth\":1},\"autotypenumbers\":\"strict\",\"coloraxis\":{\"colorbar\":{\"outlinewidth\":0,\"ticks\":\"\"}},\"colorscale\":{\"diverging\":[[0,\"#8e0152\"],[0.1,\"#c51b7d\"],[0.2,\"#de77ae\"],[0.3,\"#f1b6da\"],[0.4,\"#fde0ef\"],[0.5,\"#f7f7f7\"],[0.6,\"#e6f5d0\"],[0.7,\"#b8e186\"],[0.8,\"#7fbc41\"],[0.9,\"#4d9221\"],[1,\"#276419\"]],\"sequential\":[[0.0,\"#0d0887\"],[0.1111111111111111,\"#46039f\"],[0.2222222222222222,\"#7201a8\"],[0.3333333333333333,\"#9c179e\"],[0.4444444444444444,\"#bd3786\"],[0.5555555555555556,\"#d8576b\"],[0.6666666666666666,\"#ed7953\"],[0.7777777777777778,\"#fb9f3a\"],[0.8888888888888888,\"#fdca26\"],[1.0,\"#f0f921\"]],\"sequentialminus\":[[0.0,\"#0d0887\"],[0.1111111111111111,\"#46039f\"],[0.2222222222222222,\"#7201a8\"],[0.3333333333333333,\"#9c179e\"],[0.4444444444444444,\"#bd3786\"],[0.5555555555555556,\"#d8576b\"],[0.6666666666666666,\"#ed7953\"],[0.7777777777777778,\"#fb9f3a\"],[0.8888888888888888,\"#fdca26\"],[1.0,\"#f0f921\"]]},\"colorway\":[\"#636efa\",\"#EF553B\",\"#00cc96\",\"#ab63fa\",\"#FFA15A\",\"#19d3f3\",\"#FF6692\",\"#B6E880\",\"#FF97FF\",\"#FECB52\"],\"font\":{\"color\":\"#2a3f5f\"},\"geo\":{\"bgcolor\":\"white\",\"lakecolor\":\"white\",\"landcolor\":\"#E5ECF6\",\"showlakes\":true,\"showland\":true,\"subunitcolor\":\"white\"},\"hoverlabel\":{\"align\":\"left\"},\"hovermode\":\"closest\",\"mapbox\":{\"style\":\"light\"},\"paper_bgcolor\":\"white\",\"plot_bgcolor\":\"#E5ECF6\",\"polar\":{\"angularaxis\":{\"gridcolor\":\"white\",\"linecolor\":\"white\",\"ticks\":\"\"},\"bgcolor\":\"#E5ECF6\",\"radialaxis\":{\"gridcolor\":\"white\",\"linecolor\":\"white\",\"ticks\":\"\"}},\"scene\":{\"xaxis\":{\"backgroundcolor\":\"#E5ECF6\",\"gridcolor\":\"white\",\"gridwidth\":2,\"linecolor\":\"white\",\"showbackground\":true,\"ticks\":\"\",\"zerolinecolor\":\"white\"},\"yaxis\":{\"backgroundcolor\":\"#E5ECF6\",\"gridcolor\":\"white\",\"gridwidth\":2,\"linecolor\":\"white\",\"showbackground\":true,\"ticks\":\"\",\"zerolinecolor\":\"white\"},\"zaxis\":{\"backgroundcolor\":\"#E5ECF6\",\"gridcolor\":\"white\",\"gridwidth\":2,\"linecolor\":\"white\",\"showbackground\":true,\"ticks\":\"\",\"zerolinecolor\":\"white\"}},\"shapedefaults\":{\"line\":{\"color\":\"#2a3f5f\"}},\"ternary\":{\"aaxis\":{\"gridcolor\":\"white\",\"linecolor\":\"white\",\"ticks\":\"\"},\"baxis\":{\"gridcolor\":\"white\",\"linecolor\":\"white\",\"ticks\":\"\"},\"bgcolor\":\"#E5ECF6\",\"caxis\":{\"gridcolor\":\"white\",\"linecolor\":\"white\",\"ticks\":\"\"}},\"title\":{\"x\":0.05},\"xaxis\":{\"automargin\":true,\"gridcolor\":\"white\",\"linecolor\":\"white\",\"ticks\":\"\",\"title\":{\"standoff\":15},\"zerolinecolor\":\"white\",\"zerolinewidth\":2},\"yaxis\":{\"automargin\":true,\"gridcolor\":\"white\",\"linecolor\":\"white\",\"ticks\":\"\",\"title\":{\"standoff\":15},\"zerolinecolor\":\"white\",\"zerolinewidth\":2}}},\"title\":{\"font\":{\"color\":\"#4D5663\"}},\"xaxis\":{\"gridcolor\":\"#E1E5ED\",\"showgrid\":true,\"tickfont\":{\"color\":\"#4D5663\"},\"title\":{\"font\":{\"color\":\"#4D5663\"},\"text\":\"\"},\"zerolinecolor\":\"#E1E5ED\"},\"yaxis\":{\"gridcolor\":\"#E1E5ED\",\"showgrid\":true,\"tickfont\":{\"color\":\"#4D5663\"},\"title\":{\"font\":{\"color\":\"#4D5663\"},\"text\":\"\"},\"zerolinecolor\":\"#E1E5ED\"}},                        {\"showLink\": true, \"linkText\": \"Export to plot.ly\", \"plotlyServerURL\": \"https://plot.ly\", \"responsive\": true}                    ).then(function(){\n",
       "                            \n",
       "var gd = document.getElementById('e9bd3e31-3c41-441a-9fe4-f70fe417c165');\n",
       "var x = new MutationObserver(function (mutations, observer) {{\n",
       "        var display = window.getComputedStyle(gd).display;\n",
       "        if (!display || display === 'none') {{\n",
       "            console.log([gd, 'removed!']);\n",
       "            Plotly.purge(gd);\n",
       "            observer.disconnect();\n",
       "        }}\n",
       "}});\n",
       "\n",
       "// Listen for the removal of the full notebook cells\n",
       "var notebookContainer = gd.closest('#notebook-container');\n",
       "if (notebookContainer) {{\n",
       "    x.observe(notebookContainer, {childList: true});\n",
       "}}\n",
       "\n",
       "// Listen for the clearing of the current output cell\n",
       "var outputEl = gd.closest('.output');\n",
       "if (outputEl) {{\n",
       "    x.observe(outputEl, {childList: true});\n",
       "}}\n",
       "\n",
       "                        })                };                });            </script>        </div>"
      ]
     },
     "metadata": {},
     "output_type": "display_data"
    }
   ],
   "source": [
    "df['A'].iplot(kind='hist')"
   ]
  },
  {
   "cell_type": "code",
   "execution_count": 63,
   "id": "434c46c7",
   "metadata": {},
   "outputs": [
    {
     "data": {
      "application/vnd.plotly.v1+json": {
       "config": {
        "linkText": "Export to plot.ly",
        "plotlyServerURL": "https://plot.ly",
        "showLink": true
       },
       "data": [
        {
         "marker": {
          "color": [
           "rgb(255, 153, 51)",
           "rgb(55, 128, 191)",
           "rgb(50, 171, 96)",
           "rgb(128, 0, 128)",
           "rgb(219, 64, 82)",
           "rgb(0, 128, 128)",
           "rgb(255, 255, 51)",
           "rgb(128, 128, 0)",
           "rgb(251, 128, 114)",
           "rgb(128, 177, 211)"
          ],
          "line": {
           "width": 1.3
          },
          "size": [
           111,
           80,
           56,
           71,
           35,
           76,
           86,
           66,
           37,
           70,
           68,
           38,
           81,
           55,
           106,
           74,
           81,
           104,
           55,
           75,
           74,
           63,
           53,
           101,
           74,
           82,
           75,
           61,
           79,
           71,
           61,
           64,
           83,
           66,
           71,
           72,
           71,
           54,
           66,
           87,
           92,
           72,
           77,
           112,
           59,
           102,
           66,
           58,
           54,
           67,
           73,
           56,
           67,
           66,
           81,
           96,
           50,
           100,
           63,
           76,
           12,
           57,
           54,
           67,
           71,
           84,
           79,
           76,
           88,
           57,
           74,
           25,
           54,
           44,
           14,
           75,
           57,
           62,
           63,
           59,
           87,
           90,
           77,
           96,
           52,
           38,
           77,
           49,
           82,
           70,
           59,
           47,
           69,
           99,
           53,
           42,
           76,
           91,
           67,
           37
          ],
          "symbol": "circle"
         },
         "mode": "markers",
         "text": "",
         "type": "scatter",
         "x": [
          -2.0248994302722,
          1.1206783216849459,
          -0.14714216901426908,
          0.6670829874275235,
          -0.023376648075685052,
          0.5060352952627416,
          -0.9478339706882272,
          2.7301806156870327,
          0.1500701083538797,
          -1.629253867207095,
          0.025633123118659527,
          -1.6180567997975985,
          -0.6201539883082475,
          0.6980153432116343,
          1.3457098806675134,
          -0.4733132068550389,
          1.218327984233927,
          1.0720706177131725,
          0.7266855883867765,
          -1.1328801679679639,
          1.285011116428947,
          -1.135743951530807,
          -1.0992156651659082,
          0.804292155497312,
          2.889420935902672,
          0.913650499514228,
          -1.2359684228301904,
          2.2394880583415873,
          1.0592166701930064,
          1.0330178731064599,
          1.0204782513370658,
          0.8787309750034229,
          0.6885987819603279,
          0.5437470084021745,
          -0.13455229775785477,
          -1.5005765916391522,
          0.4021446100381902,
          -1.2098195163672532,
          -0.397151218679385,
          0.14678399705766368,
          -0.41007694139382683,
          -0.8761747336518552,
          -0.03269185454668553,
          -0.832459749750178,
          -0.373553019196941,
          0.5976385942822937,
          -2.6303076986098883,
          0.49207673349323555,
          -0.24612515085494288,
          -1.1255327396654367,
          -0.48070458660037485,
          0.12895287721669293,
          -1.4090236036807335,
          -0.47182676530688755,
          0.23063424612448724,
          1.0277807157421683,
          0.9843342322642673,
          -0.09074566210834423,
          0.6472245732614761,
          -0.9203721156635134,
          -0.1257185498876959,
          -0.08710102389783692,
          -0.27268093799410975,
          -0.1414327108596726,
          -0.4611742525389193,
          0.8261375525274487,
          1.4565299222233419,
          -0.10042343837103451,
          -0.43689372589308856,
          -1.9981308411765657,
          -0.462754228780885,
          0.12754204376341816,
          -0.3433380435620271,
          -1.1692171929398942,
          0.782475324852804,
          -0.5319658940434484,
          2.225256725090445,
          1.089115482983619,
          -1.2430161750082012,
          1.2502312241220217,
          0.7905200967038304,
          2.734169374856847,
          -0.45361764475918365,
          -2.790893563542634,
          -0.9096538705796186,
          -0.7919999287925056,
          -0.38852093632309764,
          1.2568796152307298,
          -0.7385552048964777,
          -1.1615287328500985,
          0.5144036947754764,
          -0.9145163371493532,
          -0.38025656162124044,
          -1.0580205499766269,
          0.4825574966126437,
          -1.6269134861205365,
          -0.4224550151287948,
          -0.325133894910615,
          -0.8685891545573913,
          0.6256080741969859
         ],
         "y": [
          1.244836717788421,
          -0.9113941741042547,
          0.24394904664371372,
          -0.3737083895924538,
          -1.0156947705953163,
          -0.25182333626234465,
          0.8025286099024215,
          -0.20904853915624613,
          -0.30335425935993415,
          -0.26015079829732535,
          -1.1652126737952444,
          -0.11601906352932617,
          0.3807298858276337,
          1.94622992408519,
          0.6918761245098521,
          0.12092987307672229,
          -0.7023721643644166,
          1.3436373835210946,
          -0.6047922436199462,
          0.05834742392095939,
          0.28252996046243645,
          0.5807192890824402,
          0.9861845276129169,
          0.5742445414696716,
          -0.3491755041321152,
          -0.03338709450851653,
          -0.42860738129677367,
          0.2814274678037998,
          -0.570275107112393,
          -1.1115427162391993,
          0.18700072674060986,
          -1.9030952679536954,
          -0.7194428719098581,
          0.5403296720195768,
          -0.24680054080514882,
          -0.5048407548451164,
          0.2939101111553618,
          1.7639202744963427,
          0.8625832635466819,
          -0.7654995595177715,
          1.6888924720096499,
          0.7020255211661659,
          -0.606354316327178,
          1.5640243081651144,
          -1.2389559497992244,
          0.9790296693868923,
          -0.888416311377553,
          -1.271624020447485,
          -0.38683782815487255,
          -0.3112174727382689,
          -1.3958610845724706,
          -0.3646318727579516,
          2.6623586140809947,
          1.278239804030543,
          1.4641583069138344,
          0.5035983514007785,
          0.7702324318302155,
          -0.8562313655545203,
          -1.6274232509023714,
          0.2750944531996166,
          0.7008539862181999,
          -0.25594811836690123,
          -0.3870976188644197,
          0.5261006417232784,
          0.1964263707784994,
          -0.9263064271086378,
          -0.488261838841295,
          0.05042984968017874,
          -0.029025191398035843,
          -0.5086244551715492,
          1.5059084171875694,
          0.07076965496823794,
          -1.1942297964401056,
          0.4900120685919607,
          0.9003822829550003,
          1.5815275119640084,
          0.08230211481593441,
          -0.6789188575459397,
          -0.20955368830118065,
          1.915784863367201,
          -0.5414897639944265,
          -1.1397451918472243,
          0.06123316433440914,
          -1.5363584833492157,
          -0.44175740605136277,
          -0.4977024511722823,
          -0.8060386350670952,
          0.23217547665242766,
          0.1530029564153142,
          0.19916716055370187,
          0.9103802439546376,
          -1.1567876338494296,
          -0.4954203784646236,
          1.5395209073602434,
          0.7561972792026549,
          -0.40766834609463987,
          -1.015571750157025,
          -0.5462836010855642,
          -0.20695204841393358,
          0.5252490005255105
         ]
        }
       ],
       "layout": {
        "legend": {
         "bgcolor": "#F5F6F9",
         "font": {
          "color": "#4D5663"
         }
        },
        "paper_bgcolor": "#F5F6F9",
        "plot_bgcolor": "#F5F6F9",
        "template": {
         "data": {
          "bar": [
           {
            "error_x": {
             "color": "#2a3f5f"
            },
            "error_y": {
             "color": "#2a3f5f"
            },
            "marker": {
             "line": {
              "color": "#E5ECF6",
              "width": 0.5
             },
             "pattern": {
              "fillmode": "overlay",
              "size": 10,
              "solidity": 0.2
             }
            },
            "type": "bar"
           }
          ],
          "barpolar": [
           {
            "marker": {
             "line": {
              "color": "#E5ECF6",
              "width": 0.5
             },
             "pattern": {
              "fillmode": "overlay",
              "size": 10,
              "solidity": 0.2
             }
            },
            "type": "barpolar"
           }
          ],
          "carpet": [
           {
            "aaxis": {
             "endlinecolor": "#2a3f5f",
             "gridcolor": "white",
             "linecolor": "white",
             "minorgridcolor": "white",
             "startlinecolor": "#2a3f5f"
            },
            "baxis": {
             "endlinecolor": "#2a3f5f",
             "gridcolor": "white",
             "linecolor": "white",
             "minorgridcolor": "white",
             "startlinecolor": "#2a3f5f"
            },
            "type": "carpet"
           }
          ],
          "choropleth": [
           {
            "colorbar": {
             "outlinewidth": 0,
             "ticks": ""
            },
            "type": "choropleth"
           }
          ],
          "contour": [
           {
            "colorbar": {
             "outlinewidth": 0,
             "ticks": ""
            },
            "colorscale": [
             [
              0,
              "#0d0887"
             ],
             [
              0.1111111111111111,
              "#46039f"
             ],
             [
              0.2222222222222222,
              "#7201a8"
             ],
             [
              0.3333333333333333,
              "#9c179e"
             ],
             [
              0.4444444444444444,
              "#bd3786"
             ],
             [
              0.5555555555555556,
              "#d8576b"
             ],
             [
              0.6666666666666666,
              "#ed7953"
             ],
             [
              0.7777777777777778,
              "#fb9f3a"
             ],
             [
              0.8888888888888888,
              "#fdca26"
             ],
             [
              1,
              "#f0f921"
             ]
            ],
            "type": "contour"
           }
          ],
          "contourcarpet": [
           {
            "colorbar": {
             "outlinewidth": 0,
             "ticks": ""
            },
            "type": "contourcarpet"
           }
          ],
          "heatmap": [
           {
            "colorbar": {
             "outlinewidth": 0,
             "ticks": ""
            },
            "colorscale": [
             [
              0,
              "#0d0887"
             ],
             [
              0.1111111111111111,
              "#46039f"
             ],
             [
              0.2222222222222222,
              "#7201a8"
             ],
             [
              0.3333333333333333,
              "#9c179e"
             ],
             [
              0.4444444444444444,
              "#bd3786"
             ],
             [
              0.5555555555555556,
              "#d8576b"
             ],
             [
              0.6666666666666666,
              "#ed7953"
             ],
             [
              0.7777777777777778,
              "#fb9f3a"
             ],
             [
              0.8888888888888888,
              "#fdca26"
             ],
             [
              1,
              "#f0f921"
             ]
            ],
            "type": "heatmap"
           }
          ],
          "heatmapgl": [
           {
            "colorbar": {
             "outlinewidth": 0,
             "ticks": ""
            },
            "colorscale": [
             [
              0,
              "#0d0887"
             ],
             [
              0.1111111111111111,
              "#46039f"
             ],
             [
              0.2222222222222222,
              "#7201a8"
             ],
             [
              0.3333333333333333,
              "#9c179e"
             ],
             [
              0.4444444444444444,
              "#bd3786"
             ],
             [
              0.5555555555555556,
              "#d8576b"
             ],
             [
              0.6666666666666666,
              "#ed7953"
             ],
             [
              0.7777777777777778,
              "#fb9f3a"
             ],
             [
              0.8888888888888888,
              "#fdca26"
             ],
             [
              1,
              "#f0f921"
             ]
            ],
            "type": "heatmapgl"
           }
          ],
          "histogram": [
           {
            "marker": {
             "pattern": {
              "fillmode": "overlay",
              "size": 10,
              "solidity": 0.2
             }
            },
            "type": "histogram"
           }
          ],
          "histogram2d": [
           {
            "colorbar": {
             "outlinewidth": 0,
             "ticks": ""
            },
            "colorscale": [
             [
              0,
              "#0d0887"
             ],
             [
              0.1111111111111111,
              "#46039f"
             ],
             [
              0.2222222222222222,
              "#7201a8"
             ],
             [
              0.3333333333333333,
              "#9c179e"
             ],
             [
              0.4444444444444444,
              "#bd3786"
             ],
             [
              0.5555555555555556,
              "#d8576b"
             ],
             [
              0.6666666666666666,
              "#ed7953"
             ],
             [
              0.7777777777777778,
              "#fb9f3a"
             ],
             [
              0.8888888888888888,
              "#fdca26"
             ],
             [
              1,
              "#f0f921"
             ]
            ],
            "type": "histogram2d"
           }
          ],
          "histogram2dcontour": [
           {
            "colorbar": {
             "outlinewidth": 0,
             "ticks": ""
            },
            "colorscale": [
             [
              0,
              "#0d0887"
             ],
             [
              0.1111111111111111,
              "#46039f"
             ],
             [
              0.2222222222222222,
              "#7201a8"
             ],
             [
              0.3333333333333333,
              "#9c179e"
             ],
             [
              0.4444444444444444,
              "#bd3786"
             ],
             [
              0.5555555555555556,
              "#d8576b"
             ],
             [
              0.6666666666666666,
              "#ed7953"
             ],
             [
              0.7777777777777778,
              "#fb9f3a"
             ],
             [
              0.8888888888888888,
              "#fdca26"
             ],
             [
              1,
              "#f0f921"
             ]
            ],
            "type": "histogram2dcontour"
           }
          ],
          "mesh3d": [
           {
            "colorbar": {
             "outlinewidth": 0,
             "ticks": ""
            },
            "type": "mesh3d"
           }
          ],
          "parcoords": [
           {
            "line": {
             "colorbar": {
              "outlinewidth": 0,
              "ticks": ""
             }
            },
            "type": "parcoords"
           }
          ],
          "pie": [
           {
            "automargin": true,
            "type": "pie"
           }
          ],
          "scatter": [
           {
            "fillpattern": {
             "fillmode": "overlay",
             "size": 10,
             "solidity": 0.2
            },
            "type": "scatter"
           }
          ],
          "scatter3d": [
           {
            "line": {
             "colorbar": {
              "outlinewidth": 0,
              "ticks": ""
             }
            },
            "marker": {
             "colorbar": {
              "outlinewidth": 0,
              "ticks": ""
             }
            },
            "type": "scatter3d"
           }
          ],
          "scattercarpet": [
           {
            "marker": {
             "colorbar": {
              "outlinewidth": 0,
              "ticks": ""
             }
            },
            "type": "scattercarpet"
           }
          ],
          "scattergeo": [
           {
            "marker": {
             "colorbar": {
              "outlinewidth": 0,
              "ticks": ""
             }
            },
            "type": "scattergeo"
           }
          ],
          "scattergl": [
           {
            "marker": {
             "colorbar": {
              "outlinewidth": 0,
              "ticks": ""
             }
            },
            "type": "scattergl"
           }
          ],
          "scattermapbox": [
           {
            "marker": {
             "colorbar": {
              "outlinewidth": 0,
              "ticks": ""
             }
            },
            "type": "scattermapbox"
           }
          ],
          "scatterpolar": [
           {
            "marker": {
             "colorbar": {
              "outlinewidth": 0,
              "ticks": ""
             }
            },
            "type": "scatterpolar"
           }
          ],
          "scatterpolargl": [
           {
            "marker": {
             "colorbar": {
              "outlinewidth": 0,
              "ticks": ""
             }
            },
            "type": "scatterpolargl"
           }
          ],
          "scatterternary": [
           {
            "marker": {
             "colorbar": {
              "outlinewidth": 0,
              "ticks": ""
             }
            },
            "type": "scatterternary"
           }
          ],
          "surface": [
           {
            "colorbar": {
             "outlinewidth": 0,
             "ticks": ""
            },
            "colorscale": [
             [
              0,
              "#0d0887"
             ],
             [
              0.1111111111111111,
              "#46039f"
             ],
             [
              0.2222222222222222,
              "#7201a8"
             ],
             [
              0.3333333333333333,
              "#9c179e"
             ],
             [
              0.4444444444444444,
              "#bd3786"
             ],
             [
              0.5555555555555556,
              "#d8576b"
             ],
             [
              0.6666666666666666,
              "#ed7953"
             ],
             [
              0.7777777777777778,
              "#fb9f3a"
             ],
             [
              0.8888888888888888,
              "#fdca26"
             ],
             [
              1,
              "#f0f921"
             ]
            ],
            "type": "surface"
           }
          ],
          "table": [
           {
            "cells": {
             "fill": {
              "color": "#EBF0F8"
             },
             "line": {
              "color": "white"
             }
            },
            "header": {
             "fill": {
              "color": "#C8D4E3"
             },
             "line": {
              "color": "white"
             }
            },
            "type": "table"
           }
          ]
         },
         "layout": {
          "annotationdefaults": {
           "arrowcolor": "#2a3f5f",
           "arrowhead": 0,
           "arrowwidth": 1
          },
          "autotypenumbers": "strict",
          "coloraxis": {
           "colorbar": {
            "outlinewidth": 0,
            "ticks": ""
           }
          },
          "colorscale": {
           "diverging": [
            [
             0,
             "#8e0152"
            ],
            [
             0.1,
             "#c51b7d"
            ],
            [
             0.2,
             "#de77ae"
            ],
            [
             0.3,
             "#f1b6da"
            ],
            [
             0.4,
             "#fde0ef"
            ],
            [
             0.5,
             "#f7f7f7"
            ],
            [
             0.6,
             "#e6f5d0"
            ],
            [
             0.7,
             "#b8e186"
            ],
            [
             0.8,
             "#7fbc41"
            ],
            [
             0.9,
             "#4d9221"
            ],
            [
             1,
             "#276419"
            ]
           ],
           "sequential": [
            [
             0,
             "#0d0887"
            ],
            [
             0.1111111111111111,
             "#46039f"
            ],
            [
             0.2222222222222222,
             "#7201a8"
            ],
            [
             0.3333333333333333,
             "#9c179e"
            ],
            [
             0.4444444444444444,
             "#bd3786"
            ],
            [
             0.5555555555555556,
             "#d8576b"
            ],
            [
             0.6666666666666666,
             "#ed7953"
            ],
            [
             0.7777777777777778,
             "#fb9f3a"
            ],
            [
             0.8888888888888888,
             "#fdca26"
            ],
            [
             1,
             "#f0f921"
            ]
           ],
           "sequentialminus": [
            [
             0,
             "#0d0887"
            ],
            [
             0.1111111111111111,
             "#46039f"
            ],
            [
             0.2222222222222222,
             "#7201a8"
            ],
            [
             0.3333333333333333,
             "#9c179e"
            ],
            [
             0.4444444444444444,
             "#bd3786"
            ],
            [
             0.5555555555555556,
             "#d8576b"
            ],
            [
             0.6666666666666666,
             "#ed7953"
            ],
            [
             0.7777777777777778,
             "#fb9f3a"
            ],
            [
             0.8888888888888888,
             "#fdca26"
            ],
            [
             1,
             "#f0f921"
            ]
           ]
          },
          "colorway": [
           "#636efa",
           "#EF553B",
           "#00cc96",
           "#ab63fa",
           "#FFA15A",
           "#19d3f3",
           "#FF6692",
           "#B6E880",
           "#FF97FF",
           "#FECB52"
          ],
          "font": {
           "color": "#2a3f5f"
          },
          "geo": {
           "bgcolor": "white",
           "lakecolor": "white",
           "landcolor": "#E5ECF6",
           "showlakes": true,
           "showland": true,
           "subunitcolor": "white"
          },
          "hoverlabel": {
           "align": "left"
          },
          "hovermode": "closest",
          "mapbox": {
           "style": "light"
          },
          "paper_bgcolor": "white",
          "plot_bgcolor": "#E5ECF6",
          "polar": {
           "angularaxis": {
            "gridcolor": "white",
            "linecolor": "white",
            "ticks": ""
           },
           "bgcolor": "#E5ECF6",
           "radialaxis": {
            "gridcolor": "white",
            "linecolor": "white",
            "ticks": ""
           }
          },
          "scene": {
           "xaxis": {
            "backgroundcolor": "#E5ECF6",
            "gridcolor": "white",
            "gridwidth": 2,
            "linecolor": "white",
            "showbackground": true,
            "ticks": "",
            "zerolinecolor": "white"
           },
           "yaxis": {
            "backgroundcolor": "#E5ECF6",
            "gridcolor": "white",
            "gridwidth": 2,
            "linecolor": "white",
            "showbackground": true,
            "ticks": "",
            "zerolinecolor": "white"
           },
           "zaxis": {
            "backgroundcolor": "#E5ECF6",
            "gridcolor": "white",
            "gridwidth": 2,
            "linecolor": "white",
            "showbackground": true,
            "ticks": "",
            "zerolinecolor": "white"
           }
          },
          "shapedefaults": {
           "line": {
            "color": "#2a3f5f"
           }
          },
          "ternary": {
           "aaxis": {
            "gridcolor": "white",
            "linecolor": "white",
            "ticks": ""
           },
           "baxis": {
            "gridcolor": "white",
            "linecolor": "white",
            "ticks": ""
           },
           "bgcolor": "#E5ECF6",
           "caxis": {
            "gridcolor": "white",
            "linecolor": "white",
            "ticks": ""
           }
          },
          "title": {
           "x": 0.05
          },
          "xaxis": {
           "automargin": true,
           "gridcolor": "white",
           "linecolor": "white",
           "ticks": "",
           "title": {
            "standoff": 15
           },
           "zerolinecolor": "white",
           "zerolinewidth": 2
          },
          "yaxis": {
           "automargin": true,
           "gridcolor": "white",
           "linecolor": "white",
           "ticks": "",
           "title": {
            "standoff": 15
           },
           "zerolinecolor": "white",
           "zerolinewidth": 2
          }
         }
        },
        "title": {
         "font": {
          "color": "#4D5663"
         }
        },
        "xaxis": {
         "gridcolor": "#E1E5ED",
         "showgrid": true,
         "tickfont": {
          "color": "#4D5663"
         },
         "title": {
          "font": {
           "color": "#4D5663"
          },
          "text": ""
         },
         "zerolinecolor": "#E1E5ED"
        },
        "yaxis": {
         "gridcolor": "#E1E5ED",
         "showgrid": true,
         "tickfont": {
          "color": "#4D5663"
         },
         "title": {
          "font": {
           "color": "#4D5663"
          },
          "text": ""
         },
         "zerolinecolor": "#E1E5ED"
        }
       }
      },
      "text/html": [
       "<div>                            <div id=\"547fdad7-3164-4db3-81b6-4fc8fdf56e7f\" class=\"plotly-graph-div\" style=\"height:525px; width:100%;\"></div>            <script type=\"text/javascript\">                require([\"plotly\"], function(Plotly) {                    window.PLOTLYENV=window.PLOTLYENV || {};\n",
       "                    window.PLOTLYENV.BASE_URL='https://plot.ly';                                    if (document.getElementById(\"547fdad7-3164-4db3-81b6-4fc8fdf56e7f\")) {                    Plotly.newPlot(                        \"547fdad7-3164-4db3-81b6-4fc8fdf56e7f\",                        [{\"marker\":{\"color\":[\"rgb(255, 153, 51)\",\"rgb(55, 128, 191)\",\"rgb(50, 171, 96)\",\"rgb(128, 0, 128)\",\"rgb(219, 64, 82)\",\"rgb(0, 128, 128)\",\"rgb(255, 255, 51)\",\"rgb(128, 128, 0)\",\"rgb(251, 128, 114)\",\"rgb(128, 177, 211)\"],\"line\":{\"width\":1.3},\"size\":[111,80,56,71,35,76,86,66,37,70,68,38,81,55,106,74,81,104,55,75,74,63,53,101,74,82,75,61,79,71,61,64,83,66,71,72,71,54,66,87,92,72,77,112,59,102,66,58,54,67,73,56,67,66,81,96,50,100,63,76,12,57,54,67,71,84,79,76,88,57,74,25,54,44,14,75,57,62,63,59,87,90,77,96,52,38,77,49,82,70,59,47,69,99,53,42,76,91,67,37],\"symbol\":\"circle\"},\"mode\":\"markers\",\"text\":\"\",\"x\":[-2.0248994302722,1.1206783216849459,-0.14714216901426908,0.6670829874275235,-0.023376648075685052,0.5060352952627416,-0.9478339706882272,2.7301806156870327,0.1500701083538797,-1.629253867207095,0.025633123118659527,-1.6180567997975985,-0.6201539883082475,0.6980153432116343,1.3457098806675134,-0.4733132068550389,1.218327984233927,1.0720706177131725,0.7266855883867765,-1.1328801679679639,1.285011116428947,-1.135743951530807,-1.0992156651659082,0.804292155497312,2.889420935902672,0.913650499514228,-1.2359684228301904,2.2394880583415873,1.0592166701930064,1.0330178731064599,1.0204782513370658,0.8787309750034229,0.6885987819603279,0.5437470084021745,-0.13455229775785477,-1.5005765916391522,0.4021446100381902,-1.2098195163672532,-0.397151218679385,0.14678399705766368,-0.41007694139382683,-0.8761747336518552,-0.03269185454668553,-0.832459749750178,-0.373553019196941,0.5976385942822937,-2.6303076986098883,0.49207673349323555,-0.24612515085494288,-1.1255327396654367,-0.48070458660037485,0.12895287721669293,-1.4090236036807335,-0.47182676530688755,0.23063424612448724,1.0277807157421683,0.9843342322642673,-0.09074566210834423,0.6472245732614761,-0.9203721156635134,-0.1257185498876959,-0.08710102389783692,-0.27268093799410975,-0.1414327108596726,-0.4611742525389193,0.8261375525274487,1.4565299222233419,-0.10042343837103451,-0.43689372589308856,-1.9981308411765657,-0.462754228780885,0.12754204376341816,-0.3433380435620271,-1.1692171929398942,0.782475324852804,-0.5319658940434484,2.225256725090445,1.089115482983619,-1.2430161750082012,1.2502312241220217,0.7905200967038304,2.734169374856847,-0.45361764475918365,-2.790893563542634,-0.9096538705796186,-0.7919999287925056,-0.38852093632309764,1.2568796152307298,-0.7385552048964777,-1.1615287328500985,0.5144036947754764,-0.9145163371493532,-0.38025656162124044,-1.0580205499766269,0.4825574966126437,-1.6269134861205365,-0.4224550151287948,-0.325133894910615,-0.8685891545573913,0.6256080741969859],\"y\":[1.244836717788421,-0.9113941741042547,0.24394904664371372,-0.3737083895924538,-1.0156947705953163,-0.25182333626234465,0.8025286099024215,-0.20904853915624613,-0.30335425935993415,-0.26015079829732535,-1.1652126737952444,-0.11601906352932617,0.3807298858276337,1.94622992408519,0.6918761245098521,0.12092987307672229,-0.7023721643644166,1.3436373835210946,-0.6047922436199462,0.05834742392095939,0.28252996046243645,0.5807192890824402,0.9861845276129169,0.5742445414696716,-0.3491755041321152,-0.03338709450851653,-0.42860738129677367,0.2814274678037998,-0.570275107112393,-1.1115427162391993,0.18700072674060986,-1.9030952679536954,-0.7194428719098581,0.5403296720195768,-0.24680054080514882,-0.5048407548451164,0.2939101111553618,1.7639202744963427,0.8625832635466819,-0.7654995595177715,1.6888924720096499,0.7020255211661659,-0.606354316327178,1.5640243081651144,-1.2389559497992244,0.9790296693868923,-0.888416311377553,-1.271624020447485,-0.38683782815487255,-0.3112174727382689,-1.3958610845724706,-0.3646318727579516,2.6623586140809947,1.278239804030543,1.4641583069138344,0.5035983514007785,0.7702324318302155,-0.8562313655545203,-1.6274232509023714,0.2750944531996166,0.7008539862181999,-0.25594811836690123,-0.3870976188644197,0.5261006417232784,0.1964263707784994,-0.9263064271086378,-0.488261838841295,0.05042984968017874,-0.029025191398035843,-0.5086244551715492,1.5059084171875694,0.07076965496823794,-1.1942297964401056,0.4900120685919607,0.9003822829550003,1.5815275119640084,0.08230211481593441,-0.6789188575459397,-0.20955368830118065,1.915784863367201,-0.5414897639944265,-1.1397451918472243,0.06123316433440914,-1.5363584833492157,-0.44175740605136277,-0.4977024511722823,-0.8060386350670952,0.23217547665242766,0.1530029564153142,0.19916716055370187,0.9103802439546376,-1.1567876338494296,-0.4954203784646236,1.5395209073602434,0.7561972792026549,-0.40766834609463987,-1.015571750157025,-0.5462836010855642,-0.20695204841393358,0.5252490005255105],\"type\":\"scatter\"}],                        {\"legend\":{\"bgcolor\":\"#F5F6F9\",\"font\":{\"color\":\"#4D5663\"}},\"paper_bgcolor\":\"#F5F6F9\",\"plot_bgcolor\":\"#F5F6F9\",\"template\":{\"data\":{\"barpolar\":[{\"marker\":{\"line\":{\"color\":\"#E5ECF6\",\"width\":0.5},\"pattern\":{\"fillmode\":\"overlay\",\"size\":10,\"solidity\":0.2}},\"type\":\"barpolar\"}],\"bar\":[{\"error_x\":{\"color\":\"#2a3f5f\"},\"error_y\":{\"color\":\"#2a3f5f\"},\"marker\":{\"line\":{\"color\":\"#E5ECF6\",\"width\":0.5},\"pattern\":{\"fillmode\":\"overlay\",\"size\":10,\"solidity\":0.2}},\"type\":\"bar\"}],\"carpet\":[{\"aaxis\":{\"endlinecolor\":\"#2a3f5f\",\"gridcolor\":\"white\",\"linecolor\":\"white\",\"minorgridcolor\":\"white\",\"startlinecolor\":\"#2a3f5f\"},\"baxis\":{\"endlinecolor\":\"#2a3f5f\",\"gridcolor\":\"white\",\"linecolor\":\"white\",\"minorgridcolor\":\"white\",\"startlinecolor\":\"#2a3f5f\"},\"type\":\"carpet\"}],\"choropleth\":[{\"colorbar\":{\"outlinewidth\":0,\"ticks\":\"\"},\"type\":\"choropleth\"}],\"contourcarpet\":[{\"colorbar\":{\"outlinewidth\":0,\"ticks\":\"\"},\"type\":\"contourcarpet\"}],\"contour\":[{\"colorbar\":{\"outlinewidth\":0,\"ticks\":\"\"},\"colorscale\":[[0.0,\"#0d0887\"],[0.1111111111111111,\"#46039f\"],[0.2222222222222222,\"#7201a8\"],[0.3333333333333333,\"#9c179e\"],[0.4444444444444444,\"#bd3786\"],[0.5555555555555556,\"#d8576b\"],[0.6666666666666666,\"#ed7953\"],[0.7777777777777778,\"#fb9f3a\"],[0.8888888888888888,\"#fdca26\"],[1.0,\"#f0f921\"]],\"type\":\"contour\"}],\"heatmapgl\":[{\"colorbar\":{\"outlinewidth\":0,\"ticks\":\"\"},\"colorscale\":[[0.0,\"#0d0887\"],[0.1111111111111111,\"#46039f\"],[0.2222222222222222,\"#7201a8\"],[0.3333333333333333,\"#9c179e\"],[0.4444444444444444,\"#bd3786\"],[0.5555555555555556,\"#d8576b\"],[0.6666666666666666,\"#ed7953\"],[0.7777777777777778,\"#fb9f3a\"],[0.8888888888888888,\"#fdca26\"],[1.0,\"#f0f921\"]],\"type\":\"heatmapgl\"}],\"heatmap\":[{\"colorbar\":{\"outlinewidth\":0,\"ticks\":\"\"},\"colorscale\":[[0.0,\"#0d0887\"],[0.1111111111111111,\"#46039f\"],[0.2222222222222222,\"#7201a8\"],[0.3333333333333333,\"#9c179e\"],[0.4444444444444444,\"#bd3786\"],[0.5555555555555556,\"#d8576b\"],[0.6666666666666666,\"#ed7953\"],[0.7777777777777778,\"#fb9f3a\"],[0.8888888888888888,\"#fdca26\"],[1.0,\"#f0f921\"]],\"type\":\"heatmap\"}],\"histogram2dcontour\":[{\"colorbar\":{\"outlinewidth\":0,\"ticks\":\"\"},\"colorscale\":[[0.0,\"#0d0887\"],[0.1111111111111111,\"#46039f\"],[0.2222222222222222,\"#7201a8\"],[0.3333333333333333,\"#9c179e\"],[0.4444444444444444,\"#bd3786\"],[0.5555555555555556,\"#d8576b\"],[0.6666666666666666,\"#ed7953\"],[0.7777777777777778,\"#fb9f3a\"],[0.8888888888888888,\"#fdca26\"],[1.0,\"#f0f921\"]],\"type\":\"histogram2dcontour\"}],\"histogram2d\":[{\"colorbar\":{\"outlinewidth\":0,\"ticks\":\"\"},\"colorscale\":[[0.0,\"#0d0887\"],[0.1111111111111111,\"#46039f\"],[0.2222222222222222,\"#7201a8\"],[0.3333333333333333,\"#9c179e\"],[0.4444444444444444,\"#bd3786\"],[0.5555555555555556,\"#d8576b\"],[0.6666666666666666,\"#ed7953\"],[0.7777777777777778,\"#fb9f3a\"],[0.8888888888888888,\"#fdca26\"],[1.0,\"#f0f921\"]],\"type\":\"histogram2d\"}],\"histogram\":[{\"marker\":{\"pattern\":{\"fillmode\":\"overlay\",\"size\":10,\"solidity\":0.2}},\"type\":\"histogram\"}],\"mesh3d\":[{\"colorbar\":{\"outlinewidth\":0,\"ticks\":\"\"},\"type\":\"mesh3d\"}],\"parcoords\":[{\"line\":{\"colorbar\":{\"outlinewidth\":0,\"ticks\":\"\"}},\"type\":\"parcoords\"}],\"pie\":[{\"automargin\":true,\"type\":\"pie\"}],\"scatter3d\":[{\"line\":{\"colorbar\":{\"outlinewidth\":0,\"ticks\":\"\"}},\"marker\":{\"colorbar\":{\"outlinewidth\":0,\"ticks\":\"\"}},\"type\":\"scatter3d\"}],\"scattercarpet\":[{\"marker\":{\"colorbar\":{\"outlinewidth\":0,\"ticks\":\"\"}},\"type\":\"scattercarpet\"}],\"scattergeo\":[{\"marker\":{\"colorbar\":{\"outlinewidth\":0,\"ticks\":\"\"}},\"type\":\"scattergeo\"}],\"scattergl\":[{\"marker\":{\"colorbar\":{\"outlinewidth\":0,\"ticks\":\"\"}},\"type\":\"scattergl\"}],\"scattermapbox\":[{\"marker\":{\"colorbar\":{\"outlinewidth\":0,\"ticks\":\"\"}},\"type\":\"scattermapbox\"}],\"scatterpolargl\":[{\"marker\":{\"colorbar\":{\"outlinewidth\":0,\"ticks\":\"\"}},\"type\":\"scatterpolargl\"}],\"scatterpolar\":[{\"marker\":{\"colorbar\":{\"outlinewidth\":0,\"ticks\":\"\"}},\"type\":\"scatterpolar\"}],\"scatter\":[{\"fillpattern\":{\"fillmode\":\"overlay\",\"size\":10,\"solidity\":0.2},\"type\":\"scatter\"}],\"scatterternary\":[{\"marker\":{\"colorbar\":{\"outlinewidth\":0,\"ticks\":\"\"}},\"type\":\"scatterternary\"}],\"surface\":[{\"colorbar\":{\"outlinewidth\":0,\"ticks\":\"\"},\"colorscale\":[[0.0,\"#0d0887\"],[0.1111111111111111,\"#46039f\"],[0.2222222222222222,\"#7201a8\"],[0.3333333333333333,\"#9c179e\"],[0.4444444444444444,\"#bd3786\"],[0.5555555555555556,\"#d8576b\"],[0.6666666666666666,\"#ed7953\"],[0.7777777777777778,\"#fb9f3a\"],[0.8888888888888888,\"#fdca26\"],[1.0,\"#f0f921\"]],\"type\":\"surface\"}],\"table\":[{\"cells\":{\"fill\":{\"color\":\"#EBF0F8\"},\"line\":{\"color\":\"white\"}},\"header\":{\"fill\":{\"color\":\"#C8D4E3\"},\"line\":{\"color\":\"white\"}},\"type\":\"table\"}]},\"layout\":{\"annotationdefaults\":{\"arrowcolor\":\"#2a3f5f\",\"arrowhead\":0,\"arrowwidth\":1},\"autotypenumbers\":\"strict\",\"coloraxis\":{\"colorbar\":{\"outlinewidth\":0,\"ticks\":\"\"}},\"colorscale\":{\"diverging\":[[0,\"#8e0152\"],[0.1,\"#c51b7d\"],[0.2,\"#de77ae\"],[0.3,\"#f1b6da\"],[0.4,\"#fde0ef\"],[0.5,\"#f7f7f7\"],[0.6,\"#e6f5d0\"],[0.7,\"#b8e186\"],[0.8,\"#7fbc41\"],[0.9,\"#4d9221\"],[1,\"#276419\"]],\"sequential\":[[0.0,\"#0d0887\"],[0.1111111111111111,\"#46039f\"],[0.2222222222222222,\"#7201a8\"],[0.3333333333333333,\"#9c179e\"],[0.4444444444444444,\"#bd3786\"],[0.5555555555555556,\"#d8576b\"],[0.6666666666666666,\"#ed7953\"],[0.7777777777777778,\"#fb9f3a\"],[0.8888888888888888,\"#fdca26\"],[1.0,\"#f0f921\"]],\"sequentialminus\":[[0.0,\"#0d0887\"],[0.1111111111111111,\"#46039f\"],[0.2222222222222222,\"#7201a8\"],[0.3333333333333333,\"#9c179e\"],[0.4444444444444444,\"#bd3786\"],[0.5555555555555556,\"#d8576b\"],[0.6666666666666666,\"#ed7953\"],[0.7777777777777778,\"#fb9f3a\"],[0.8888888888888888,\"#fdca26\"],[1.0,\"#f0f921\"]]},\"colorway\":[\"#636efa\",\"#EF553B\",\"#00cc96\",\"#ab63fa\",\"#FFA15A\",\"#19d3f3\",\"#FF6692\",\"#B6E880\",\"#FF97FF\",\"#FECB52\"],\"font\":{\"color\":\"#2a3f5f\"},\"geo\":{\"bgcolor\":\"white\",\"lakecolor\":\"white\",\"landcolor\":\"#E5ECF6\",\"showlakes\":true,\"showland\":true,\"subunitcolor\":\"white\"},\"hoverlabel\":{\"align\":\"left\"},\"hovermode\":\"closest\",\"mapbox\":{\"style\":\"light\"},\"paper_bgcolor\":\"white\",\"plot_bgcolor\":\"#E5ECF6\",\"polar\":{\"angularaxis\":{\"gridcolor\":\"white\",\"linecolor\":\"white\",\"ticks\":\"\"},\"bgcolor\":\"#E5ECF6\",\"radialaxis\":{\"gridcolor\":\"white\",\"linecolor\":\"white\",\"ticks\":\"\"}},\"scene\":{\"xaxis\":{\"backgroundcolor\":\"#E5ECF6\",\"gridcolor\":\"white\",\"gridwidth\":2,\"linecolor\":\"white\",\"showbackground\":true,\"ticks\":\"\",\"zerolinecolor\":\"white\"},\"yaxis\":{\"backgroundcolor\":\"#E5ECF6\",\"gridcolor\":\"white\",\"gridwidth\":2,\"linecolor\":\"white\",\"showbackground\":true,\"ticks\":\"\",\"zerolinecolor\":\"white\"},\"zaxis\":{\"backgroundcolor\":\"#E5ECF6\",\"gridcolor\":\"white\",\"gridwidth\":2,\"linecolor\":\"white\",\"showbackground\":true,\"ticks\":\"\",\"zerolinecolor\":\"white\"}},\"shapedefaults\":{\"line\":{\"color\":\"#2a3f5f\"}},\"ternary\":{\"aaxis\":{\"gridcolor\":\"white\",\"linecolor\":\"white\",\"ticks\":\"\"},\"baxis\":{\"gridcolor\":\"white\",\"linecolor\":\"white\",\"ticks\":\"\"},\"bgcolor\":\"#E5ECF6\",\"caxis\":{\"gridcolor\":\"white\",\"linecolor\":\"white\",\"ticks\":\"\"}},\"title\":{\"x\":0.05},\"xaxis\":{\"automargin\":true,\"gridcolor\":\"white\",\"linecolor\":\"white\",\"ticks\":\"\",\"title\":{\"standoff\":15},\"zerolinecolor\":\"white\",\"zerolinewidth\":2},\"yaxis\":{\"automargin\":true,\"gridcolor\":\"white\",\"linecolor\":\"white\",\"ticks\":\"\",\"title\":{\"standoff\":15},\"zerolinecolor\":\"white\",\"zerolinewidth\":2}}},\"title\":{\"font\":{\"color\":\"#4D5663\"}},\"xaxis\":{\"gridcolor\":\"#E1E5ED\",\"showgrid\":true,\"tickfont\":{\"color\":\"#4D5663\"},\"title\":{\"font\":{\"color\":\"#4D5663\"},\"text\":\"\"},\"zerolinecolor\":\"#E1E5ED\"},\"yaxis\":{\"gridcolor\":\"#E1E5ED\",\"showgrid\":true,\"tickfont\":{\"color\":\"#4D5663\"},\"title\":{\"font\":{\"color\":\"#4D5663\"},\"text\":\"\"},\"zerolinecolor\":\"#E1E5ED\"}},                        {\"showLink\": true, \"linkText\": \"Export to plot.ly\", \"plotlyServerURL\": \"https://plot.ly\", \"responsive\": true}                    ).then(function(){\n",
       "                            \n",
       "var gd = document.getElementById('547fdad7-3164-4db3-81b6-4fc8fdf56e7f');\n",
       "var x = new MutationObserver(function (mutations, observer) {{\n",
       "        var display = window.getComputedStyle(gd).display;\n",
       "        if (!display || display === 'none') {{\n",
       "            console.log([gd, 'removed!']);\n",
       "            Plotly.purge(gd);\n",
       "            observer.disconnect();\n",
       "        }}\n",
       "}});\n",
       "\n",
       "// Listen for the removal of the full notebook cells\n",
       "var notebookContainer = gd.closest('#notebook-container');\n",
       "if (notebookContainer) {{\n",
       "    x.observe(notebookContainer, {childList: true});\n",
       "}}\n",
       "\n",
       "// Listen for the clearing of the current output cell\n",
       "var outputEl = gd.closest('.output');\n",
       "if (outputEl) {{\n",
       "    x.observe(outputEl, {childList: true});\n",
       "}}\n",
       "\n",
       "                        })                };                });            </script>        </div>"
      ]
     },
     "metadata": {},
     "output_type": "display_data"
    }
   ],
   "source": [
    "df.iplot(kind='bubble', x='A',y='B', size='C')"
   ]
  },
  {
   "cell_type": "code",
   "execution_count": 64,
   "id": "365e1618",
   "metadata": {
    "scrolled": true
   },
   "outputs": [
    {
     "data": {
      "application/vnd.plotly.v1+json": {
       "config": {
        "linkText": "Export to plot.ly",
        "plotlyServerURL": "https://plot.ly",
        "showLink": true
       },
       "data": [
        {
         "histfunc": "count",
         "histnorm": "",
         "marker": {
          "color": "rgba(255, 153, 51, 1.0)",
          "line": {
           "color": "#4D5663",
           "width": 1.3
          }
         },
         "name": "A",
         "nbinsx": 10,
         "opacity": 0.8,
         "orientation": "v",
         "type": "histogram",
         "x": [
          -2.0248994302722,
          1.1206783216849459,
          -0.14714216901426908,
          0.6670829874275235,
          -0.023376648075685052,
          0.5060352952627416,
          -0.9478339706882272,
          2.7301806156870327,
          0.1500701083538797,
          -1.629253867207095,
          0.025633123118659527,
          -1.6180567997975985,
          -0.6201539883082475,
          0.6980153432116343,
          1.3457098806675134,
          -0.4733132068550389,
          1.218327984233927,
          1.0720706177131725,
          0.7266855883867765,
          -1.1328801679679639,
          1.285011116428947,
          -1.135743951530807,
          -1.0992156651659082,
          0.804292155497312,
          2.889420935902672,
          0.913650499514228,
          -1.2359684228301904,
          2.2394880583415873,
          1.0592166701930064,
          1.0330178731064599,
          1.0204782513370658,
          0.8787309750034229,
          0.6885987819603279,
          0.5437470084021745,
          -0.13455229775785477,
          -1.5005765916391522,
          0.4021446100381902,
          -1.2098195163672532,
          -0.397151218679385,
          0.14678399705766368,
          -0.41007694139382683,
          -0.8761747336518552,
          -0.03269185454668553,
          -0.832459749750178,
          -0.373553019196941,
          0.5976385942822937,
          -2.6303076986098883,
          0.49207673349323555,
          -0.24612515085494288,
          -1.1255327396654367,
          -0.48070458660037485,
          0.12895287721669293,
          -1.4090236036807335,
          -0.47182676530688755,
          0.23063424612448724,
          1.0277807157421683,
          0.9843342322642673,
          -0.09074566210834423,
          0.6472245732614761,
          -0.9203721156635134,
          -0.1257185498876959,
          -0.08710102389783692,
          -0.27268093799410975,
          -0.1414327108596726,
          -0.4611742525389193,
          0.8261375525274487,
          1.4565299222233419,
          -0.10042343837103451,
          -0.43689372589308856,
          -1.9981308411765657,
          -0.462754228780885,
          0.12754204376341816,
          -0.3433380435620271,
          -1.1692171929398942,
          0.782475324852804,
          -0.5319658940434484,
          2.225256725090445,
          1.089115482983619,
          -1.2430161750082012,
          1.2502312241220217,
          0.7905200967038304,
          2.734169374856847,
          -0.45361764475918365,
          -2.790893563542634,
          -0.9096538705796186,
          -0.7919999287925056,
          -0.38852093632309764,
          1.2568796152307298,
          -0.7385552048964777,
          -1.1615287328500985,
          0.5144036947754764,
          -0.9145163371493532,
          -0.38025656162124044,
          -1.0580205499766269,
          0.4825574966126437,
          -1.6269134861205365,
          -0.4224550151287948,
          -0.325133894910615,
          -0.8685891545573913,
          0.6256080741969859
         ],
         "xaxis": "x",
         "yaxis": "y"
        },
        {
         "line": {
          "color": "rgba(128, 128, 128, 1.0)",
          "dash": "solid",
          "shape": "linear",
          "width": 1.3
         },
         "marker": {
          "size": 2,
          "symbol": "circle"
         },
         "mode": "markers",
         "name": "A",
         "text": "",
         "type": "scatter",
         "x": [
          1.244836717788421,
          -0.9113941741042547,
          0.24394904664371372,
          -0.3737083895924538,
          -1.0156947705953163,
          -0.25182333626234465,
          0.8025286099024215,
          -0.20904853915624613,
          -0.30335425935993415,
          -0.26015079829732535,
          -1.1652126737952444,
          -0.11601906352932617,
          0.3807298858276337,
          1.94622992408519,
          0.6918761245098521,
          0.12092987307672229,
          -0.7023721643644166,
          1.3436373835210946,
          -0.6047922436199462,
          0.05834742392095939,
          0.28252996046243645,
          0.5807192890824402,
          0.9861845276129169,
          0.5742445414696716,
          -0.3491755041321152,
          -0.03338709450851653,
          -0.42860738129677367,
          0.2814274678037998,
          -0.570275107112393,
          -1.1115427162391993,
          0.18700072674060986,
          -1.9030952679536954,
          -0.7194428719098581,
          0.5403296720195768,
          -0.24680054080514882,
          -0.5048407548451164,
          0.2939101111553618,
          1.7639202744963427,
          0.8625832635466819,
          -0.7654995595177715,
          1.6888924720096499,
          0.7020255211661659,
          -0.606354316327178,
          1.5640243081651144,
          -1.2389559497992244,
          0.9790296693868923,
          -0.888416311377553,
          -1.271624020447485,
          -0.38683782815487255,
          -0.3112174727382689,
          -1.3958610845724706,
          -0.3646318727579516,
          2.6623586140809947,
          1.278239804030543,
          1.4641583069138344,
          0.5035983514007785,
          0.7702324318302155,
          -0.8562313655545203,
          -1.6274232509023714,
          0.2750944531996166,
          0.7008539862181999,
          -0.25594811836690123,
          -0.3870976188644197,
          0.5261006417232784,
          0.1964263707784994,
          -0.9263064271086378,
          -0.488261838841295,
          0.05042984968017874,
          -0.029025191398035843,
          -0.5086244551715492,
          1.5059084171875694,
          0.07076965496823794,
          -1.1942297964401056,
          0.4900120685919607,
          0.9003822829550003,
          1.5815275119640084,
          0.08230211481593441,
          -0.6789188575459397,
          -0.20955368830118065,
          1.915784863367201,
          -0.5414897639944265,
          -1.1397451918472243,
          0.06123316433440914,
          -1.5363584833492157,
          -0.44175740605136277,
          -0.4977024511722823,
          -0.8060386350670952,
          0.23217547665242766,
          0.1530029564153142,
          0.19916716055370187,
          0.9103802439546376,
          -1.1567876338494296,
          -0.4954203784646236,
          1.5395209073602434,
          0.7561972792026549,
          -0.40766834609463987,
          -1.015571750157025,
          -0.5462836010855642,
          -0.20695204841393358,
          0.5252490005255105
         ],
         "xaxis": "x2",
         "y": [
          -2.0248994302722,
          1.1206783216849459,
          -0.14714216901426908,
          0.6670829874275235,
          -0.023376648075685052,
          0.5060352952627416,
          -0.9478339706882272,
          2.7301806156870327,
          0.1500701083538797,
          -1.629253867207095,
          0.025633123118659527,
          -1.6180567997975985,
          -0.6201539883082475,
          0.6980153432116343,
          1.3457098806675134,
          -0.4733132068550389,
          1.218327984233927,
          1.0720706177131725,
          0.7266855883867765,
          -1.1328801679679639,
          1.285011116428947,
          -1.135743951530807,
          -1.0992156651659082,
          0.804292155497312,
          2.889420935902672,
          0.913650499514228,
          -1.2359684228301904,
          2.2394880583415873,
          1.0592166701930064,
          1.0330178731064599,
          1.0204782513370658,
          0.8787309750034229,
          0.6885987819603279,
          0.5437470084021745,
          -0.13455229775785477,
          -1.5005765916391522,
          0.4021446100381902,
          -1.2098195163672532,
          -0.397151218679385,
          0.14678399705766368,
          -0.41007694139382683,
          -0.8761747336518552,
          -0.03269185454668553,
          -0.832459749750178,
          -0.373553019196941,
          0.5976385942822937,
          -2.6303076986098883,
          0.49207673349323555,
          -0.24612515085494288,
          -1.1255327396654367,
          -0.48070458660037485,
          0.12895287721669293,
          -1.4090236036807335,
          -0.47182676530688755,
          0.23063424612448724,
          1.0277807157421683,
          0.9843342322642673,
          -0.09074566210834423,
          0.6472245732614761,
          -0.9203721156635134,
          -0.1257185498876959,
          -0.08710102389783692,
          -0.27268093799410975,
          -0.1414327108596726,
          -0.4611742525389193,
          0.8261375525274487,
          1.4565299222233419,
          -0.10042343837103451,
          -0.43689372589308856,
          -1.9981308411765657,
          -0.462754228780885,
          0.12754204376341816,
          -0.3433380435620271,
          -1.1692171929398942,
          0.782475324852804,
          -0.5319658940434484,
          2.225256725090445,
          1.089115482983619,
          -1.2430161750082012,
          1.2502312241220217,
          0.7905200967038304,
          2.734169374856847,
          -0.45361764475918365,
          -2.790893563542634,
          -0.9096538705796186,
          -0.7919999287925056,
          -0.38852093632309764,
          1.2568796152307298,
          -0.7385552048964777,
          -1.1615287328500985,
          0.5144036947754764,
          -0.9145163371493532,
          -0.38025656162124044,
          -1.0580205499766269,
          0.4825574966126437,
          -1.6269134861205365,
          -0.4224550151287948,
          -0.325133894910615,
          -0.8685891545573913,
          0.6256080741969859
         ],
         "yaxis": "y2"
        },
        {
         "line": {
          "color": "rgba(128, 128, 128, 1.0)",
          "dash": "solid",
          "shape": "linear",
          "width": 1.3
         },
         "marker": {
          "size": 2,
          "symbol": "circle"
         },
         "mode": "markers",
         "name": "A",
         "text": "",
         "type": "scatter",
         "x": [
          2.3837865836348042,
          0.8337454629513709,
          -0.44035070497979484,
          0.3675640145013289,
          -1.4689105789596337,
          0.5919711719424133,
          1.1200824659503739,
          0.10709449183114861,
          -1.363205117051827,
          0.2802151197739775,
          0.22238681168946853,
          -1.3369883935832279,
          0.8795244078662957,
          -0.4682309574127068,
          2.154263439857636,
          0.5042543408665272,
          0.8380431803963164,
          2.0320004045327567,
          -0.4458730586188669,
          0.5720801773617187,
          0.5032501099442386,
          -0.04224715779108761,
          -0.5526566029076727,
          1.8765465233829777,
          0.48961407641982707,
          0.9249509675482437,
          0.5681082062181846,
          -0.17960641727452042,
          0.771128480871914,
          0.3350723329869273,
          -0.13585827442762177,
          0.005560655717367594,
          0.9820962360303911,
          0.10286779943902123,
          0.3615118069660571,
          0.4250557261317842,
          0.3477816419029761,
          -0.5219019677697857,
          0.0841551300710111,
          1.1561086796685336,
          1.4483073915162232,
          0.40737229684562326,
          0.6469833507006992,
          2.4202063822641486,
          -0.2644785558044118,
          1.9376106584922064,
          0.09665207271025082,
          -0.33423282228236395,
          -0.5305257354021574,
          0.130718683742174,
          0.46305393590723737,
          -0.4128376187788049,
          0.16217225699872154,
          0.09030729454393,
          0.8742108604957504,
          1.647032817150969,
          -0.7143668710181892,
          1.8385327810015186,
          -0.048191963038784674,
          0.5840118945787226,
          -2.688222641816865,
          -0.3553197894628702,
          -0.52404866228707,
          0.1341937465319343,
          0.3762970756553044,
          0.9934838329556147,
          0.7833557022459264,
          0.629109159974082,
          1.2276280265214414,
          -0.3495825148413494,
          0.4884121546400506,
          -2.000500517042181,
          -0.5283520269456001,
          -1.004126628466134,
          -2.584010933361183,
          0.5758503216393676,
          -0.36794037843087757,
          -0.09038686069550698,
          -0.035896792561200846,
          -0.27055291970669504,
          1.1810487492872002,
          1.329834716597255,
          0.6753533415919987,
          1.6466374430657869,
          -0.6440345419332062,
          -1.3546813179781783,
          0.6610326007324075,
          -0.7529469658037548,
          0.9108811752427859,
          0.3125883903206803,
          -0.266799345019069,
          -0.8701856397329435,
          0.22784583602906255,
          1.7901088134822656,
          -0.5651202795197222,
          -1.1550628847480657,
          0.5833194718209482,
          1.3887726399856906,
          0.16533850174549897,
          -1.3955953195610848
         ],
         "xaxis": "x3",
         "y": [
          -2.0248994302722,
          1.1206783216849459,
          -0.14714216901426908,
          0.6670829874275235,
          -0.023376648075685052,
          0.5060352952627416,
          -0.9478339706882272,
          2.7301806156870327,
          0.1500701083538797,
          -1.629253867207095,
          0.025633123118659527,
          -1.6180567997975985,
          -0.6201539883082475,
          0.6980153432116343,
          1.3457098806675134,
          -0.4733132068550389,
          1.218327984233927,
          1.0720706177131725,
          0.7266855883867765,
          -1.1328801679679639,
          1.285011116428947,
          -1.135743951530807,
          -1.0992156651659082,
          0.804292155497312,
          2.889420935902672,
          0.913650499514228,
          -1.2359684228301904,
          2.2394880583415873,
          1.0592166701930064,
          1.0330178731064599,
          1.0204782513370658,
          0.8787309750034229,
          0.6885987819603279,
          0.5437470084021745,
          -0.13455229775785477,
          -1.5005765916391522,
          0.4021446100381902,
          -1.2098195163672532,
          -0.397151218679385,
          0.14678399705766368,
          -0.41007694139382683,
          -0.8761747336518552,
          -0.03269185454668553,
          -0.832459749750178,
          -0.373553019196941,
          0.5976385942822937,
          -2.6303076986098883,
          0.49207673349323555,
          -0.24612515085494288,
          -1.1255327396654367,
          -0.48070458660037485,
          0.12895287721669293,
          -1.4090236036807335,
          -0.47182676530688755,
          0.23063424612448724,
          1.0277807157421683,
          0.9843342322642673,
          -0.09074566210834423,
          0.6472245732614761,
          -0.9203721156635134,
          -0.1257185498876959,
          -0.08710102389783692,
          -0.27268093799410975,
          -0.1414327108596726,
          -0.4611742525389193,
          0.8261375525274487,
          1.4565299222233419,
          -0.10042343837103451,
          -0.43689372589308856,
          -1.9981308411765657,
          -0.462754228780885,
          0.12754204376341816,
          -0.3433380435620271,
          -1.1692171929398942,
          0.782475324852804,
          -0.5319658940434484,
          2.225256725090445,
          1.089115482983619,
          -1.2430161750082012,
          1.2502312241220217,
          0.7905200967038304,
          2.734169374856847,
          -0.45361764475918365,
          -2.790893563542634,
          -0.9096538705796186,
          -0.7919999287925056,
          -0.38852093632309764,
          1.2568796152307298,
          -0.7385552048964777,
          -1.1615287328500985,
          0.5144036947754764,
          -0.9145163371493532,
          -0.38025656162124044,
          -1.0580205499766269,
          0.4825574966126437,
          -1.6269134861205365,
          -0.4224550151287948,
          -0.325133894910615,
          -0.8685891545573913,
          0.6256080741969859
         ],
         "yaxis": "y3"
        },
        {
         "line": {
          "color": "rgba(128, 128, 128, 1.0)",
          "dash": "solid",
          "shape": "linear",
          "width": 1.3
         },
         "marker": {
          "size": 2,
          "symbol": "circle"
         },
         "mode": "markers",
         "name": "A",
         "text": "",
         "type": "scatter",
         "x": [
          -0.8273066630944598,
          0.27331422050012766,
          2.8562140049146745,
          -0.9693747265380284,
          -0.07974487152265997,
          0.034705546672934025,
          -0.8959673617961699,
          -0.021441187707182185,
          -0.7766654634301396,
          0.4805850173193006,
          -0.8492500635977759,
          -2.211224007918174,
          -2.250192154742491,
          -1.3741957777675389,
          -0.009093389815766564,
          2.23134516487357,
          0.8774530478783776,
          0.43450087429221995,
          -0.19812913142573804,
          0.3144369783707955,
          -0.926562871054008,
          -0.29629367882683416,
          -1.0782977138537333,
          -1.4784196401948362,
          -0.32645512090688056,
          -0.7663910567026927,
          -0.6222654249262285,
          0.7681465847596798,
          2.386706616239427,
          0.6808715117647883,
          -0.1774657419590166,
          1.218938963909932,
          -0.6134301604369194,
          0.3723545439058522,
          0.6410275817754367,
          -0.24665465091351202,
          -2.5309618098311057,
          0.7961530978475005,
          0.12923271984211596,
          1.2326280693628313,
          -0.36136774120302945,
          0.2340587782888746,
          0.6034248553535082,
          0.5066595596956776,
          -0.6925840786310593,
          -0.5003015225399018,
          0.3455475657267796,
          0.33365453981737236,
          -0.9205532192755903,
          -0.2626712170091331,
          0.45034477871932777,
          -0.041310383330957774,
          -1.1739558583460423,
          -1.0665281388804828,
          -2.1134175759655616,
          0.97188132055067,
          -0.6063522070313438,
          0.4172485067929127,
          -1.3216417994002818,
          1.3260867850521425,
          0.1832930959274856,
          0.638577123442529,
          -1.555749513295139,
          2.4281733076277385,
          0.4453425415951846,
          -1.0100675643737924,
          0.4404058004304574,
          -0.9904695340576503,
          -0.428282458149643,
          -1.3498954821167286,
          -1.478886381421938,
          0.23051706568145464,
          -0.05892182529786133,
          -0.9367016024788103,
          -0.7622085517162878,
          0.5937253381511041,
          1.1928433672473235,
          -1.7468899682777217,
          0.7171005120250424,
          0.38205912709379447,
          0.4749135262565678,
          -1.2285015929742902,
          -0.3518333442150796,
          -0.2962352378419485,
          -0.5750722232738468,
          0.2637340239710272,
          -0.8925797512777627,
          -0.2050063683956568,
          1.523407840026115,
          -1.2032613975901485,
          -0.8828685783254572,
          0.08019814530005213,
          -2.2708578569354883,
          0.20005633204668902,
          -0.09784207844466804,
          -0.3998155393024862,
          0.44365798604099627,
          -1.2507312929599415,
          -1.5205147486035204,
          1.1435873832313297
         ],
         "xaxis": "x4",
         "y": [
          -2.0248994302722,
          1.1206783216849459,
          -0.14714216901426908,
          0.6670829874275235,
          -0.023376648075685052,
          0.5060352952627416,
          -0.9478339706882272,
          2.7301806156870327,
          0.1500701083538797,
          -1.629253867207095,
          0.025633123118659527,
          -1.6180567997975985,
          -0.6201539883082475,
          0.6980153432116343,
          1.3457098806675134,
          -0.4733132068550389,
          1.218327984233927,
          1.0720706177131725,
          0.7266855883867765,
          -1.1328801679679639,
          1.285011116428947,
          -1.135743951530807,
          -1.0992156651659082,
          0.804292155497312,
          2.889420935902672,
          0.913650499514228,
          -1.2359684228301904,
          2.2394880583415873,
          1.0592166701930064,
          1.0330178731064599,
          1.0204782513370658,
          0.8787309750034229,
          0.6885987819603279,
          0.5437470084021745,
          -0.13455229775785477,
          -1.5005765916391522,
          0.4021446100381902,
          -1.2098195163672532,
          -0.397151218679385,
          0.14678399705766368,
          -0.41007694139382683,
          -0.8761747336518552,
          -0.03269185454668553,
          -0.832459749750178,
          -0.373553019196941,
          0.5976385942822937,
          -2.6303076986098883,
          0.49207673349323555,
          -0.24612515085494288,
          -1.1255327396654367,
          -0.48070458660037485,
          0.12895287721669293,
          -1.4090236036807335,
          -0.47182676530688755,
          0.23063424612448724,
          1.0277807157421683,
          0.9843342322642673,
          -0.09074566210834423,
          0.6472245732614761,
          -0.9203721156635134,
          -0.1257185498876959,
          -0.08710102389783692,
          -0.27268093799410975,
          -0.1414327108596726,
          -0.4611742525389193,
          0.8261375525274487,
          1.4565299222233419,
          -0.10042343837103451,
          -0.43689372589308856,
          -1.9981308411765657,
          -0.462754228780885,
          0.12754204376341816,
          -0.3433380435620271,
          -1.1692171929398942,
          0.782475324852804,
          -0.5319658940434484,
          2.225256725090445,
          1.089115482983619,
          -1.2430161750082012,
          1.2502312241220217,
          0.7905200967038304,
          2.734169374856847,
          -0.45361764475918365,
          -2.790893563542634,
          -0.9096538705796186,
          -0.7919999287925056,
          -0.38852093632309764,
          1.2568796152307298,
          -0.7385552048964777,
          -1.1615287328500985,
          0.5144036947754764,
          -0.9145163371493532,
          -0.38025656162124044,
          -1.0580205499766269,
          0.4825574966126437,
          -1.6269134861205365,
          -0.4224550151287948,
          -0.325133894910615,
          -0.8685891545573913,
          0.6256080741969859
         ],
         "yaxis": "y4"
        },
        {
         "line": {
          "color": "rgba(128, 128, 128, 1.0)",
          "dash": "solid",
          "shape": "linear",
          "width": 1.3
         },
         "marker": {
          "size": 2,
          "symbol": "circle"
         },
         "mode": "markers",
         "name": "B",
         "text": "",
         "type": "scatter",
         "x": [
          -2.0248994302722,
          1.1206783216849459,
          -0.14714216901426908,
          0.6670829874275235,
          -0.023376648075685052,
          0.5060352952627416,
          -0.9478339706882272,
          2.7301806156870327,
          0.1500701083538797,
          -1.629253867207095,
          0.025633123118659527,
          -1.6180567997975985,
          -0.6201539883082475,
          0.6980153432116343,
          1.3457098806675134,
          -0.4733132068550389,
          1.218327984233927,
          1.0720706177131725,
          0.7266855883867765,
          -1.1328801679679639,
          1.285011116428947,
          -1.135743951530807,
          -1.0992156651659082,
          0.804292155497312,
          2.889420935902672,
          0.913650499514228,
          -1.2359684228301904,
          2.2394880583415873,
          1.0592166701930064,
          1.0330178731064599,
          1.0204782513370658,
          0.8787309750034229,
          0.6885987819603279,
          0.5437470084021745,
          -0.13455229775785477,
          -1.5005765916391522,
          0.4021446100381902,
          -1.2098195163672532,
          -0.397151218679385,
          0.14678399705766368,
          -0.41007694139382683,
          -0.8761747336518552,
          -0.03269185454668553,
          -0.832459749750178,
          -0.373553019196941,
          0.5976385942822937,
          -2.6303076986098883,
          0.49207673349323555,
          -0.24612515085494288,
          -1.1255327396654367,
          -0.48070458660037485,
          0.12895287721669293,
          -1.4090236036807335,
          -0.47182676530688755,
          0.23063424612448724,
          1.0277807157421683,
          0.9843342322642673,
          -0.09074566210834423,
          0.6472245732614761,
          -0.9203721156635134,
          -0.1257185498876959,
          -0.08710102389783692,
          -0.27268093799410975,
          -0.1414327108596726,
          -0.4611742525389193,
          0.8261375525274487,
          1.4565299222233419,
          -0.10042343837103451,
          -0.43689372589308856,
          -1.9981308411765657,
          -0.462754228780885,
          0.12754204376341816,
          -0.3433380435620271,
          -1.1692171929398942,
          0.782475324852804,
          -0.5319658940434484,
          2.225256725090445,
          1.089115482983619,
          -1.2430161750082012,
          1.2502312241220217,
          0.7905200967038304,
          2.734169374856847,
          -0.45361764475918365,
          -2.790893563542634,
          -0.9096538705796186,
          -0.7919999287925056,
          -0.38852093632309764,
          1.2568796152307298,
          -0.7385552048964777,
          -1.1615287328500985,
          0.5144036947754764,
          -0.9145163371493532,
          -0.38025656162124044,
          -1.0580205499766269,
          0.4825574966126437,
          -1.6269134861205365,
          -0.4224550151287948,
          -0.325133894910615,
          -0.8685891545573913,
          0.6256080741969859
         ],
         "xaxis": "x5",
         "y": [
          1.244836717788421,
          -0.9113941741042547,
          0.24394904664371372,
          -0.3737083895924538,
          -1.0156947705953163,
          -0.25182333626234465,
          0.8025286099024215,
          -0.20904853915624613,
          -0.30335425935993415,
          -0.26015079829732535,
          -1.1652126737952444,
          -0.11601906352932617,
          0.3807298858276337,
          1.94622992408519,
          0.6918761245098521,
          0.12092987307672229,
          -0.7023721643644166,
          1.3436373835210946,
          -0.6047922436199462,
          0.05834742392095939,
          0.28252996046243645,
          0.5807192890824402,
          0.9861845276129169,
          0.5742445414696716,
          -0.3491755041321152,
          -0.03338709450851653,
          -0.42860738129677367,
          0.2814274678037998,
          -0.570275107112393,
          -1.1115427162391993,
          0.18700072674060986,
          -1.9030952679536954,
          -0.7194428719098581,
          0.5403296720195768,
          -0.24680054080514882,
          -0.5048407548451164,
          0.2939101111553618,
          1.7639202744963427,
          0.8625832635466819,
          -0.7654995595177715,
          1.6888924720096499,
          0.7020255211661659,
          -0.606354316327178,
          1.5640243081651144,
          -1.2389559497992244,
          0.9790296693868923,
          -0.888416311377553,
          -1.271624020447485,
          -0.38683782815487255,
          -0.3112174727382689,
          -1.3958610845724706,
          -0.3646318727579516,
          2.6623586140809947,
          1.278239804030543,
          1.4641583069138344,
          0.5035983514007785,
          0.7702324318302155,
          -0.8562313655545203,
          -1.6274232509023714,
          0.2750944531996166,
          0.7008539862181999,
          -0.25594811836690123,
          -0.3870976188644197,
          0.5261006417232784,
          0.1964263707784994,
          -0.9263064271086378,
          -0.488261838841295,
          0.05042984968017874,
          -0.029025191398035843,
          -0.5086244551715492,
          1.5059084171875694,
          0.07076965496823794,
          -1.1942297964401056,
          0.4900120685919607,
          0.9003822829550003,
          1.5815275119640084,
          0.08230211481593441,
          -0.6789188575459397,
          -0.20955368830118065,
          1.915784863367201,
          -0.5414897639944265,
          -1.1397451918472243,
          0.06123316433440914,
          -1.5363584833492157,
          -0.44175740605136277,
          -0.4977024511722823,
          -0.8060386350670952,
          0.23217547665242766,
          0.1530029564153142,
          0.19916716055370187,
          0.9103802439546376,
          -1.1567876338494296,
          -0.4954203784646236,
          1.5395209073602434,
          0.7561972792026549,
          -0.40766834609463987,
          -1.015571750157025,
          -0.5462836010855642,
          -0.20695204841393358,
          0.5252490005255105
         ],
         "yaxis": "y5"
        },
        {
         "histfunc": "count",
         "histnorm": "",
         "marker": {
          "color": "rgba(55, 128, 191, 1.0)",
          "line": {
           "color": "#4D5663",
           "width": 1.3
          }
         },
         "name": "B",
         "nbinsx": 10,
         "opacity": 0.8,
         "orientation": "v",
         "type": "histogram",
         "x": [
          1.244836717788421,
          -0.9113941741042547,
          0.24394904664371372,
          -0.3737083895924538,
          -1.0156947705953163,
          -0.25182333626234465,
          0.8025286099024215,
          -0.20904853915624613,
          -0.30335425935993415,
          -0.26015079829732535,
          -1.1652126737952444,
          -0.11601906352932617,
          0.3807298858276337,
          1.94622992408519,
          0.6918761245098521,
          0.12092987307672229,
          -0.7023721643644166,
          1.3436373835210946,
          -0.6047922436199462,
          0.05834742392095939,
          0.28252996046243645,
          0.5807192890824402,
          0.9861845276129169,
          0.5742445414696716,
          -0.3491755041321152,
          -0.03338709450851653,
          -0.42860738129677367,
          0.2814274678037998,
          -0.570275107112393,
          -1.1115427162391993,
          0.18700072674060986,
          -1.9030952679536954,
          -0.7194428719098581,
          0.5403296720195768,
          -0.24680054080514882,
          -0.5048407548451164,
          0.2939101111553618,
          1.7639202744963427,
          0.8625832635466819,
          -0.7654995595177715,
          1.6888924720096499,
          0.7020255211661659,
          -0.606354316327178,
          1.5640243081651144,
          -1.2389559497992244,
          0.9790296693868923,
          -0.888416311377553,
          -1.271624020447485,
          -0.38683782815487255,
          -0.3112174727382689,
          -1.3958610845724706,
          -0.3646318727579516,
          2.6623586140809947,
          1.278239804030543,
          1.4641583069138344,
          0.5035983514007785,
          0.7702324318302155,
          -0.8562313655545203,
          -1.6274232509023714,
          0.2750944531996166,
          0.7008539862181999,
          -0.25594811836690123,
          -0.3870976188644197,
          0.5261006417232784,
          0.1964263707784994,
          -0.9263064271086378,
          -0.488261838841295,
          0.05042984968017874,
          -0.029025191398035843,
          -0.5086244551715492,
          1.5059084171875694,
          0.07076965496823794,
          -1.1942297964401056,
          0.4900120685919607,
          0.9003822829550003,
          1.5815275119640084,
          0.08230211481593441,
          -0.6789188575459397,
          -0.20955368830118065,
          1.915784863367201,
          -0.5414897639944265,
          -1.1397451918472243,
          0.06123316433440914,
          -1.5363584833492157,
          -0.44175740605136277,
          -0.4977024511722823,
          -0.8060386350670952,
          0.23217547665242766,
          0.1530029564153142,
          0.19916716055370187,
          0.9103802439546376,
          -1.1567876338494296,
          -0.4954203784646236,
          1.5395209073602434,
          0.7561972792026549,
          -0.40766834609463987,
          -1.015571750157025,
          -0.5462836010855642,
          -0.20695204841393358,
          0.5252490005255105
         ],
         "xaxis": "x6",
         "yaxis": "y6"
        },
        {
         "line": {
          "color": "rgba(128, 128, 128, 1.0)",
          "dash": "solid",
          "shape": "linear",
          "width": 1.3
         },
         "marker": {
          "size": 2,
          "symbol": "circle"
         },
         "mode": "markers",
         "name": "B",
         "text": "",
         "type": "scatter",
         "x": [
          2.3837865836348042,
          0.8337454629513709,
          -0.44035070497979484,
          0.3675640145013289,
          -1.4689105789596337,
          0.5919711719424133,
          1.1200824659503739,
          0.10709449183114861,
          -1.363205117051827,
          0.2802151197739775,
          0.22238681168946853,
          -1.3369883935832279,
          0.8795244078662957,
          -0.4682309574127068,
          2.154263439857636,
          0.5042543408665272,
          0.8380431803963164,
          2.0320004045327567,
          -0.4458730586188669,
          0.5720801773617187,
          0.5032501099442386,
          -0.04224715779108761,
          -0.5526566029076727,
          1.8765465233829777,
          0.48961407641982707,
          0.9249509675482437,
          0.5681082062181846,
          -0.17960641727452042,
          0.771128480871914,
          0.3350723329869273,
          -0.13585827442762177,
          0.005560655717367594,
          0.9820962360303911,
          0.10286779943902123,
          0.3615118069660571,
          0.4250557261317842,
          0.3477816419029761,
          -0.5219019677697857,
          0.0841551300710111,
          1.1561086796685336,
          1.4483073915162232,
          0.40737229684562326,
          0.6469833507006992,
          2.4202063822641486,
          -0.2644785558044118,
          1.9376106584922064,
          0.09665207271025082,
          -0.33423282228236395,
          -0.5305257354021574,
          0.130718683742174,
          0.46305393590723737,
          -0.4128376187788049,
          0.16217225699872154,
          0.09030729454393,
          0.8742108604957504,
          1.647032817150969,
          -0.7143668710181892,
          1.8385327810015186,
          -0.048191963038784674,
          0.5840118945787226,
          -2.688222641816865,
          -0.3553197894628702,
          -0.52404866228707,
          0.1341937465319343,
          0.3762970756553044,
          0.9934838329556147,
          0.7833557022459264,
          0.629109159974082,
          1.2276280265214414,
          -0.3495825148413494,
          0.4884121546400506,
          -2.000500517042181,
          -0.5283520269456001,
          -1.004126628466134,
          -2.584010933361183,
          0.5758503216393676,
          -0.36794037843087757,
          -0.09038686069550698,
          -0.035896792561200846,
          -0.27055291970669504,
          1.1810487492872002,
          1.329834716597255,
          0.6753533415919987,
          1.6466374430657869,
          -0.6440345419332062,
          -1.3546813179781783,
          0.6610326007324075,
          -0.7529469658037548,
          0.9108811752427859,
          0.3125883903206803,
          -0.266799345019069,
          -0.8701856397329435,
          0.22784583602906255,
          1.7901088134822656,
          -0.5651202795197222,
          -1.1550628847480657,
          0.5833194718209482,
          1.3887726399856906,
          0.16533850174549897,
          -1.3955953195610848
         ],
         "xaxis": "x7",
         "y": [
          1.244836717788421,
          -0.9113941741042547,
          0.24394904664371372,
          -0.3737083895924538,
          -1.0156947705953163,
          -0.25182333626234465,
          0.8025286099024215,
          -0.20904853915624613,
          -0.30335425935993415,
          -0.26015079829732535,
          -1.1652126737952444,
          -0.11601906352932617,
          0.3807298858276337,
          1.94622992408519,
          0.6918761245098521,
          0.12092987307672229,
          -0.7023721643644166,
          1.3436373835210946,
          -0.6047922436199462,
          0.05834742392095939,
          0.28252996046243645,
          0.5807192890824402,
          0.9861845276129169,
          0.5742445414696716,
          -0.3491755041321152,
          -0.03338709450851653,
          -0.42860738129677367,
          0.2814274678037998,
          -0.570275107112393,
          -1.1115427162391993,
          0.18700072674060986,
          -1.9030952679536954,
          -0.7194428719098581,
          0.5403296720195768,
          -0.24680054080514882,
          -0.5048407548451164,
          0.2939101111553618,
          1.7639202744963427,
          0.8625832635466819,
          -0.7654995595177715,
          1.6888924720096499,
          0.7020255211661659,
          -0.606354316327178,
          1.5640243081651144,
          -1.2389559497992244,
          0.9790296693868923,
          -0.888416311377553,
          -1.271624020447485,
          -0.38683782815487255,
          -0.3112174727382689,
          -1.3958610845724706,
          -0.3646318727579516,
          2.6623586140809947,
          1.278239804030543,
          1.4641583069138344,
          0.5035983514007785,
          0.7702324318302155,
          -0.8562313655545203,
          -1.6274232509023714,
          0.2750944531996166,
          0.7008539862181999,
          -0.25594811836690123,
          -0.3870976188644197,
          0.5261006417232784,
          0.1964263707784994,
          -0.9263064271086378,
          -0.488261838841295,
          0.05042984968017874,
          -0.029025191398035843,
          -0.5086244551715492,
          1.5059084171875694,
          0.07076965496823794,
          -1.1942297964401056,
          0.4900120685919607,
          0.9003822829550003,
          1.5815275119640084,
          0.08230211481593441,
          -0.6789188575459397,
          -0.20955368830118065,
          1.915784863367201,
          -0.5414897639944265,
          -1.1397451918472243,
          0.06123316433440914,
          -1.5363584833492157,
          -0.44175740605136277,
          -0.4977024511722823,
          -0.8060386350670952,
          0.23217547665242766,
          0.1530029564153142,
          0.19916716055370187,
          0.9103802439546376,
          -1.1567876338494296,
          -0.4954203784646236,
          1.5395209073602434,
          0.7561972792026549,
          -0.40766834609463987,
          -1.015571750157025,
          -0.5462836010855642,
          -0.20695204841393358,
          0.5252490005255105
         ],
         "yaxis": "y7"
        },
        {
         "line": {
          "color": "rgba(128, 128, 128, 1.0)",
          "dash": "solid",
          "shape": "linear",
          "width": 1.3
         },
         "marker": {
          "size": 2,
          "symbol": "circle"
         },
         "mode": "markers",
         "name": "B",
         "text": "",
         "type": "scatter",
         "x": [
          -0.8273066630944598,
          0.27331422050012766,
          2.8562140049146745,
          -0.9693747265380284,
          -0.07974487152265997,
          0.034705546672934025,
          -0.8959673617961699,
          -0.021441187707182185,
          -0.7766654634301396,
          0.4805850173193006,
          -0.8492500635977759,
          -2.211224007918174,
          -2.250192154742491,
          -1.3741957777675389,
          -0.009093389815766564,
          2.23134516487357,
          0.8774530478783776,
          0.43450087429221995,
          -0.19812913142573804,
          0.3144369783707955,
          -0.926562871054008,
          -0.29629367882683416,
          -1.0782977138537333,
          -1.4784196401948362,
          -0.32645512090688056,
          -0.7663910567026927,
          -0.6222654249262285,
          0.7681465847596798,
          2.386706616239427,
          0.6808715117647883,
          -0.1774657419590166,
          1.218938963909932,
          -0.6134301604369194,
          0.3723545439058522,
          0.6410275817754367,
          -0.24665465091351202,
          -2.5309618098311057,
          0.7961530978475005,
          0.12923271984211596,
          1.2326280693628313,
          -0.36136774120302945,
          0.2340587782888746,
          0.6034248553535082,
          0.5066595596956776,
          -0.6925840786310593,
          -0.5003015225399018,
          0.3455475657267796,
          0.33365453981737236,
          -0.9205532192755903,
          -0.2626712170091331,
          0.45034477871932777,
          -0.041310383330957774,
          -1.1739558583460423,
          -1.0665281388804828,
          -2.1134175759655616,
          0.97188132055067,
          -0.6063522070313438,
          0.4172485067929127,
          -1.3216417994002818,
          1.3260867850521425,
          0.1832930959274856,
          0.638577123442529,
          -1.555749513295139,
          2.4281733076277385,
          0.4453425415951846,
          -1.0100675643737924,
          0.4404058004304574,
          -0.9904695340576503,
          -0.428282458149643,
          -1.3498954821167286,
          -1.478886381421938,
          0.23051706568145464,
          -0.05892182529786133,
          -0.9367016024788103,
          -0.7622085517162878,
          0.5937253381511041,
          1.1928433672473235,
          -1.7468899682777217,
          0.7171005120250424,
          0.38205912709379447,
          0.4749135262565678,
          -1.2285015929742902,
          -0.3518333442150796,
          -0.2962352378419485,
          -0.5750722232738468,
          0.2637340239710272,
          -0.8925797512777627,
          -0.2050063683956568,
          1.523407840026115,
          -1.2032613975901485,
          -0.8828685783254572,
          0.08019814530005213,
          -2.2708578569354883,
          0.20005633204668902,
          -0.09784207844466804,
          -0.3998155393024862,
          0.44365798604099627,
          -1.2507312929599415,
          -1.5205147486035204,
          1.1435873832313297
         ],
         "xaxis": "x8",
         "y": [
          1.244836717788421,
          -0.9113941741042547,
          0.24394904664371372,
          -0.3737083895924538,
          -1.0156947705953163,
          -0.25182333626234465,
          0.8025286099024215,
          -0.20904853915624613,
          -0.30335425935993415,
          -0.26015079829732535,
          -1.1652126737952444,
          -0.11601906352932617,
          0.3807298858276337,
          1.94622992408519,
          0.6918761245098521,
          0.12092987307672229,
          -0.7023721643644166,
          1.3436373835210946,
          -0.6047922436199462,
          0.05834742392095939,
          0.28252996046243645,
          0.5807192890824402,
          0.9861845276129169,
          0.5742445414696716,
          -0.3491755041321152,
          -0.03338709450851653,
          -0.42860738129677367,
          0.2814274678037998,
          -0.570275107112393,
          -1.1115427162391993,
          0.18700072674060986,
          -1.9030952679536954,
          -0.7194428719098581,
          0.5403296720195768,
          -0.24680054080514882,
          -0.5048407548451164,
          0.2939101111553618,
          1.7639202744963427,
          0.8625832635466819,
          -0.7654995595177715,
          1.6888924720096499,
          0.7020255211661659,
          -0.606354316327178,
          1.5640243081651144,
          -1.2389559497992244,
          0.9790296693868923,
          -0.888416311377553,
          -1.271624020447485,
          -0.38683782815487255,
          -0.3112174727382689,
          -1.3958610845724706,
          -0.3646318727579516,
          2.6623586140809947,
          1.278239804030543,
          1.4641583069138344,
          0.5035983514007785,
          0.7702324318302155,
          -0.8562313655545203,
          -1.6274232509023714,
          0.2750944531996166,
          0.7008539862181999,
          -0.25594811836690123,
          -0.3870976188644197,
          0.5261006417232784,
          0.1964263707784994,
          -0.9263064271086378,
          -0.488261838841295,
          0.05042984968017874,
          -0.029025191398035843,
          -0.5086244551715492,
          1.5059084171875694,
          0.07076965496823794,
          -1.1942297964401056,
          0.4900120685919607,
          0.9003822829550003,
          1.5815275119640084,
          0.08230211481593441,
          -0.6789188575459397,
          -0.20955368830118065,
          1.915784863367201,
          -0.5414897639944265,
          -1.1397451918472243,
          0.06123316433440914,
          -1.5363584833492157,
          -0.44175740605136277,
          -0.4977024511722823,
          -0.8060386350670952,
          0.23217547665242766,
          0.1530029564153142,
          0.19916716055370187,
          0.9103802439546376,
          -1.1567876338494296,
          -0.4954203784646236,
          1.5395209073602434,
          0.7561972792026549,
          -0.40766834609463987,
          -1.015571750157025,
          -0.5462836010855642,
          -0.20695204841393358,
          0.5252490005255105
         ],
         "yaxis": "y8"
        },
        {
         "line": {
          "color": "rgba(128, 128, 128, 1.0)",
          "dash": "solid",
          "shape": "linear",
          "width": 1.3
         },
         "marker": {
          "size": 2,
          "symbol": "circle"
         },
         "mode": "markers",
         "name": "C",
         "text": "",
         "type": "scatter",
         "x": [
          -2.0248994302722,
          1.1206783216849459,
          -0.14714216901426908,
          0.6670829874275235,
          -0.023376648075685052,
          0.5060352952627416,
          -0.9478339706882272,
          2.7301806156870327,
          0.1500701083538797,
          -1.629253867207095,
          0.025633123118659527,
          -1.6180567997975985,
          -0.6201539883082475,
          0.6980153432116343,
          1.3457098806675134,
          -0.4733132068550389,
          1.218327984233927,
          1.0720706177131725,
          0.7266855883867765,
          -1.1328801679679639,
          1.285011116428947,
          -1.135743951530807,
          -1.0992156651659082,
          0.804292155497312,
          2.889420935902672,
          0.913650499514228,
          -1.2359684228301904,
          2.2394880583415873,
          1.0592166701930064,
          1.0330178731064599,
          1.0204782513370658,
          0.8787309750034229,
          0.6885987819603279,
          0.5437470084021745,
          -0.13455229775785477,
          -1.5005765916391522,
          0.4021446100381902,
          -1.2098195163672532,
          -0.397151218679385,
          0.14678399705766368,
          -0.41007694139382683,
          -0.8761747336518552,
          -0.03269185454668553,
          -0.832459749750178,
          -0.373553019196941,
          0.5976385942822937,
          -2.6303076986098883,
          0.49207673349323555,
          -0.24612515085494288,
          -1.1255327396654367,
          -0.48070458660037485,
          0.12895287721669293,
          -1.4090236036807335,
          -0.47182676530688755,
          0.23063424612448724,
          1.0277807157421683,
          0.9843342322642673,
          -0.09074566210834423,
          0.6472245732614761,
          -0.9203721156635134,
          -0.1257185498876959,
          -0.08710102389783692,
          -0.27268093799410975,
          -0.1414327108596726,
          -0.4611742525389193,
          0.8261375525274487,
          1.4565299222233419,
          -0.10042343837103451,
          -0.43689372589308856,
          -1.9981308411765657,
          -0.462754228780885,
          0.12754204376341816,
          -0.3433380435620271,
          -1.1692171929398942,
          0.782475324852804,
          -0.5319658940434484,
          2.225256725090445,
          1.089115482983619,
          -1.2430161750082012,
          1.2502312241220217,
          0.7905200967038304,
          2.734169374856847,
          -0.45361764475918365,
          -2.790893563542634,
          -0.9096538705796186,
          -0.7919999287925056,
          -0.38852093632309764,
          1.2568796152307298,
          -0.7385552048964777,
          -1.1615287328500985,
          0.5144036947754764,
          -0.9145163371493532,
          -0.38025656162124044,
          -1.0580205499766269,
          0.4825574966126437,
          -1.6269134861205365,
          -0.4224550151287948,
          -0.325133894910615,
          -0.8685891545573913,
          0.6256080741969859
         ],
         "xaxis": "x9",
         "y": [
          2.3837865836348042,
          0.8337454629513709,
          -0.44035070497979484,
          0.3675640145013289,
          -1.4689105789596337,
          0.5919711719424133,
          1.1200824659503739,
          0.10709449183114861,
          -1.363205117051827,
          0.2802151197739775,
          0.22238681168946853,
          -1.3369883935832279,
          0.8795244078662957,
          -0.4682309574127068,
          2.154263439857636,
          0.5042543408665272,
          0.8380431803963164,
          2.0320004045327567,
          -0.4458730586188669,
          0.5720801773617187,
          0.5032501099442386,
          -0.04224715779108761,
          -0.5526566029076727,
          1.8765465233829777,
          0.48961407641982707,
          0.9249509675482437,
          0.5681082062181846,
          -0.17960641727452042,
          0.771128480871914,
          0.3350723329869273,
          -0.13585827442762177,
          0.005560655717367594,
          0.9820962360303911,
          0.10286779943902123,
          0.3615118069660571,
          0.4250557261317842,
          0.3477816419029761,
          -0.5219019677697857,
          0.0841551300710111,
          1.1561086796685336,
          1.4483073915162232,
          0.40737229684562326,
          0.6469833507006992,
          2.4202063822641486,
          -0.2644785558044118,
          1.9376106584922064,
          0.09665207271025082,
          -0.33423282228236395,
          -0.5305257354021574,
          0.130718683742174,
          0.46305393590723737,
          -0.4128376187788049,
          0.16217225699872154,
          0.09030729454393,
          0.8742108604957504,
          1.647032817150969,
          -0.7143668710181892,
          1.8385327810015186,
          -0.048191963038784674,
          0.5840118945787226,
          -2.688222641816865,
          -0.3553197894628702,
          -0.52404866228707,
          0.1341937465319343,
          0.3762970756553044,
          0.9934838329556147,
          0.7833557022459264,
          0.629109159974082,
          1.2276280265214414,
          -0.3495825148413494,
          0.4884121546400506,
          -2.000500517042181,
          -0.5283520269456001,
          -1.004126628466134,
          -2.584010933361183,
          0.5758503216393676,
          -0.36794037843087757,
          -0.09038686069550698,
          -0.035896792561200846,
          -0.27055291970669504,
          1.1810487492872002,
          1.329834716597255,
          0.6753533415919987,
          1.6466374430657869,
          -0.6440345419332062,
          -1.3546813179781783,
          0.6610326007324075,
          -0.7529469658037548,
          0.9108811752427859,
          0.3125883903206803,
          -0.266799345019069,
          -0.8701856397329435,
          0.22784583602906255,
          1.7901088134822656,
          -0.5651202795197222,
          -1.1550628847480657,
          0.5833194718209482,
          1.3887726399856906,
          0.16533850174549897,
          -1.3955953195610848
         ],
         "yaxis": "y9"
        },
        {
         "line": {
          "color": "rgba(128, 128, 128, 1.0)",
          "dash": "solid",
          "shape": "linear",
          "width": 1.3
         },
         "marker": {
          "size": 2,
          "symbol": "circle"
         },
         "mode": "markers",
         "name": "C",
         "text": "",
         "type": "scatter",
         "x": [
          1.244836717788421,
          -0.9113941741042547,
          0.24394904664371372,
          -0.3737083895924538,
          -1.0156947705953163,
          -0.25182333626234465,
          0.8025286099024215,
          -0.20904853915624613,
          -0.30335425935993415,
          -0.26015079829732535,
          -1.1652126737952444,
          -0.11601906352932617,
          0.3807298858276337,
          1.94622992408519,
          0.6918761245098521,
          0.12092987307672229,
          -0.7023721643644166,
          1.3436373835210946,
          -0.6047922436199462,
          0.05834742392095939,
          0.28252996046243645,
          0.5807192890824402,
          0.9861845276129169,
          0.5742445414696716,
          -0.3491755041321152,
          -0.03338709450851653,
          -0.42860738129677367,
          0.2814274678037998,
          -0.570275107112393,
          -1.1115427162391993,
          0.18700072674060986,
          -1.9030952679536954,
          -0.7194428719098581,
          0.5403296720195768,
          -0.24680054080514882,
          -0.5048407548451164,
          0.2939101111553618,
          1.7639202744963427,
          0.8625832635466819,
          -0.7654995595177715,
          1.6888924720096499,
          0.7020255211661659,
          -0.606354316327178,
          1.5640243081651144,
          -1.2389559497992244,
          0.9790296693868923,
          -0.888416311377553,
          -1.271624020447485,
          -0.38683782815487255,
          -0.3112174727382689,
          -1.3958610845724706,
          -0.3646318727579516,
          2.6623586140809947,
          1.278239804030543,
          1.4641583069138344,
          0.5035983514007785,
          0.7702324318302155,
          -0.8562313655545203,
          -1.6274232509023714,
          0.2750944531996166,
          0.7008539862181999,
          -0.25594811836690123,
          -0.3870976188644197,
          0.5261006417232784,
          0.1964263707784994,
          -0.9263064271086378,
          -0.488261838841295,
          0.05042984968017874,
          -0.029025191398035843,
          -0.5086244551715492,
          1.5059084171875694,
          0.07076965496823794,
          -1.1942297964401056,
          0.4900120685919607,
          0.9003822829550003,
          1.5815275119640084,
          0.08230211481593441,
          -0.6789188575459397,
          -0.20955368830118065,
          1.915784863367201,
          -0.5414897639944265,
          -1.1397451918472243,
          0.06123316433440914,
          -1.5363584833492157,
          -0.44175740605136277,
          -0.4977024511722823,
          -0.8060386350670952,
          0.23217547665242766,
          0.1530029564153142,
          0.19916716055370187,
          0.9103802439546376,
          -1.1567876338494296,
          -0.4954203784646236,
          1.5395209073602434,
          0.7561972792026549,
          -0.40766834609463987,
          -1.015571750157025,
          -0.5462836010855642,
          -0.20695204841393358,
          0.5252490005255105
         ],
         "xaxis": "x10",
         "y": [
          2.3837865836348042,
          0.8337454629513709,
          -0.44035070497979484,
          0.3675640145013289,
          -1.4689105789596337,
          0.5919711719424133,
          1.1200824659503739,
          0.10709449183114861,
          -1.363205117051827,
          0.2802151197739775,
          0.22238681168946853,
          -1.3369883935832279,
          0.8795244078662957,
          -0.4682309574127068,
          2.154263439857636,
          0.5042543408665272,
          0.8380431803963164,
          2.0320004045327567,
          -0.4458730586188669,
          0.5720801773617187,
          0.5032501099442386,
          -0.04224715779108761,
          -0.5526566029076727,
          1.8765465233829777,
          0.48961407641982707,
          0.9249509675482437,
          0.5681082062181846,
          -0.17960641727452042,
          0.771128480871914,
          0.3350723329869273,
          -0.13585827442762177,
          0.005560655717367594,
          0.9820962360303911,
          0.10286779943902123,
          0.3615118069660571,
          0.4250557261317842,
          0.3477816419029761,
          -0.5219019677697857,
          0.0841551300710111,
          1.1561086796685336,
          1.4483073915162232,
          0.40737229684562326,
          0.6469833507006992,
          2.4202063822641486,
          -0.2644785558044118,
          1.9376106584922064,
          0.09665207271025082,
          -0.33423282228236395,
          -0.5305257354021574,
          0.130718683742174,
          0.46305393590723737,
          -0.4128376187788049,
          0.16217225699872154,
          0.09030729454393,
          0.8742108604957504,
          1.647032817150969,
          -0.7143668710181892,
          1.8385327810015186,
          -0.048191963038784674,
          0.5840118945787226,
          -2.688222641816865,
          -0.3553197894628702,
          -0.52404866228707,
          0.1341937465319343,
          0.3762970756553044,
          0.9934838329556147,
          0.7833557022459264,
          0.629109159974082,
          1.2276280265214414,
          -0.3495825148413494,
          0.4884121546400506,
          -2.000500517042181,
          -0.5283520269456001,
          -1.004126628466134,
          -2.584010933361183,
          0.5758503216393676,
          -0.36794037843087757,
          -0.09038686069550698,
          -0.035896792561200846,
          -0.27055291970669504,
          1.1810487492872002,
          1.329834716597255,
          0.6753533415919987,
          1.6466374430657869,
          -0.6440345419332062,
          -1.3546813179781783,
          0.6610326007324075,
          -0.7529469658037548,
          0.9108811752427859,
          0.3125883903206803,
          -0.266799345019069,
          -0.8701856397329435,
          0.22784583602906255,
          1.7901088134822656,
          -0.5651202795197222,
          -1.1550628847480657,
          0.5833194718209482,
          1.3887726399856906,
          0.16533850174549897,
          -1.3955953195610848
         ],
         "yaxis": "y10"
        },
        {
         "histfunc": "count",
         "histnorm": "",
         "marker": {
          "color": "rgba(50, 171, 96, 1.0)",
          "line": {
           "color": "#4D5663",
           "width": 1.3
          }
         },
         "name": "C",
         "nbinsx": 10,
         "opacity": 0.8,
         "orientation": "v",
         "type": "histogram",
         "x": [
          2.3837865836348042,
          0.8337454629513709,
          -0.44035070497979484,
          0.3675640145013289,
          -1.4689105789596337,
          0.5919711719424133,
          1.1200824659503739,
          0.10709449183114861,
          -1.363205117051827,
          0.2802151197739775,
          0.22238681168946853,
          -1.3369883935832279,
          0.8795244078662957,
          -0.4682309574127068,
          2.154263439857636,
          0.5042543408665272,
          0.8380431803963164,
          2.0320004045327567,
          -0.4458730586188669,
          0.5720801773617187,
          0.5032501099442386,
          -0.04224715779108761,
          -0.5526566029076727,
          1.8765465233829777,
          0.48961407641982707,
          0.9249509675482437,
          0.5681082062181846,
          -0.17960641727452042,
          0.771128480871914,
          0.3350723329869273,
          -0.13585827442762177,
          0.005560655717367594,
          0.9820962360303911,
          0.10286779943902123,
          0.3615118069660571,
          0.4250557261317842,
          0.3477816419029761,
          -0.5219019677697857,
          0.0841551300710111,
          1.1561086796685336,
          1.4483073915162232,
          0.40737229684562326,
          0.6469833507006992,
          2.4202063822641486,
          -0.2644785558044118,
          1.9376106584922064,
          0.09665207271025082,
          -0.33423282228236395,
          -0.5305257354021574,
          0.130718683742174,
          0.46305393590723737,
          -0.4128376187788049,
          0.16217225699872154,
          0.09030729454393,
          0.8742108604957504,
          1.647032817150969,
          -0.7143668710181892,
          1.8385327810015186,
          -0.048191963038784674,
          0.5840118945787226,
          -2.688222641816865,
          -0.3553197894628702,
          -0.52404866228707,
          0.1341937465319343,
          0.3762970756553044,
          0.9934838329556147,
          0.7833557022459264,
          0.629109159974082,
          1.2276280265214414,
          -0.3495825148413494,
          0.4884121546400506,
          -2.000500517042181,
          -0.5283520269456001,
          -1.004126628466134,
          -2.584010933361183,
          0.5758503216393676,
          -0.36794037843087757,
          -0.09038686069550698,
          -0.035896792561200846,
          -0.27055291970669504,
          1.1810487492872002,
          1.329834716597255,
          0.6753533415919987,
          1.6466374430657869,
          -0.6440345419332062,
          -1.3546813179781783,
          0.6610326007324075,
          -0.7529469658037548,
          0.9108811752427859,
          0.3125883903206803,
          -0.266799345019069,
          -0.8701856397329435,
          0.22784583602906255,
          1.7901088134822656,
          -0.5651202795197222,
          -1.1550628847480657,
          0.5833194718209482,
          1.3887726399856906,
          0.16533850174549897,
          -1.3955953195610848
         ],
         "xaxis": "x11",
         "yaxis": "y11"
        },
        {
         "line": {
          "color": "rgba(128, 128, 128, 1.0)",
          "dash": "solid",
          "shape": "linear",
          "width": 1.3
         },
         "marker": {
          "size": 2,
          "symbol": "circle"
         },
         "mode": "markers",
         "name": "C",
         "text": "",
         "type": "scatter",
         "x": [
          -0.8273066630944598,
          0.27331422050012766,
          2.8562140049146745,
          -0.9693747265380284,
          -0.07974487152265997,
          0.034705546672934025,
          -0.8959673617961699,
          -0.021441187707182185,
          -0.7766654634301396,
          0.4805850173193006,
          -0.8492500635977759,
          -2.211224007918174,
          -2.250192154742491,
          -1.3741957777675389,
          -0.009093389815766564,
          2.23134516487357,
          0.8774530478783776,
          0.43450087429221995,
          -0.19812913142573804,
          0.3144369783707955,
          -0.926562871054008,
          -0.29629367882683416,
          -1.0782977138537333,
          -1.4784196401948362,
          -0.32645512090688056,
          -0.7663910567026927,
          -0.6222654249262285,
          0.7681465847596798,
          2.386706616239427,
          0.6808715117647883,
          -0.1774657419590166,
          1.218938963909932,
          -0.6134301604369194,
          0.3723545439058522,
          0.6410275817754367,
          -0.24665465091351202,
          -2.5309618098311057,
          0.7961530978475005,
          0.12923271984211596,
          1.2326280693628313,
          -0.36136774120302945,
          0.2340587782888746,
          0.6034248553535082,
          0.5066595596956776,
          -0.6925840786310593,
          -0.5003015225399018,
          0.3455475657267796,
          0.33365453981737236,
          -0.9205532192755903,
          -0.2626712170091331,
          0.45034477871932777,
          -0.041310383330957774,
          -1.1739558583460423,
          -1.0665281388804828,
          -2.1134175759655616,
          0.97188132055067,
          -0.6063522070313438,
          0.4172485067929127,
          -1.3216417994002818,
          1.3260867850521425,
          0.1832930959274856,
          0.638577123442529,
          -1.555749513295139,
          2.4281733076277385,
          0.4453425415951846,
          -1.0100675643737924,
          0.4404058004304574,
          -0.9904695340576503,
          -0.428282458149643,
          -1.3498954821167286,
          -1.478886381421938,
          0.23051706568145464,
          -0.05892182529786133,
          -0.9367016024788103,
          -0.7622085517162878,
          0.5937253381511041,
          1.1928433672473235,
          -1.7468899682777217,
          0.7171005120250424,
          0.38205912709379447,
          0.4749135262565678,
          -1.2285015929742902,
          -0.3518333442150796,
          -0.2962352378419485,
          -0.5750722232738468,
          0.2637340239710272,
          -0.8925797512777627,
          -0.2050063683956568,
          1.523407840026115,
          -1.2032613975901485,
          -0.8828685783254572,
          0.08019814530005213,
          -2.2708578569354883,
          0.20005633204668902,
          -0.09784207844466804,
          -0.3998155393024862,
          0.44365798604099627,
          -1.2507312929599415,
          -1.5205147486035204,
          1.1435873832313297
         ],
         "xaxis": "x12",
         "y": [
          2.3837865836348042,
          0.8337454629513709,
          -0.44035070497979484,
          0.3675640145013289,
          -1.4689105789596337,
          0.5919711719424133,
          1.1200824659503739,
          0.10709449183114861,
          -1.363205117051827,
          0.2802151197739775,
          0.22238681168946853,
          -1.3369883935832279,
          0.8795244078662957,
          -0.4682309574127068,
          2.154263439857636,
          0.5042543408665272,
          0.8380431803963164,
          2.0320004045327567,
          -0.4458730586188669,
          0.5720801773617187,
          0.5032501099442386,
          -0.04224715779108761,
          -0.5526566029076727,
          1.8765465233829777,
          0.48961407641982707,
          0.9249509675482437,
          0.5681082062181846,
          -0.17960641727452042,
          0.771128480871914,
          0.3350723329869273,
          -0.13585827442762177,
          0.005560655717367594,
          0.9820962360303911,
          0.10286779943902123,
          0.3615118069660571,
          0.4250557261317842,
          0.3477816419029761,
          -0.5219019677697857,
          0.0841551300710111,
          1.1561086796685336,
          1.4483073915162232,
          0.40737229684562326,
          0.6469833507006992,
          2.4202063822641486,
          -0.2644785558044118,
          1.9376106584922064,
          0.09665207271025082,
          -0.33423282228236395,
          -0.5305257354021574,
          0.130718683742174,
          0.46305393590723737,
          -0.4128376187788049,
          0.16217225699872154,
          0.09030729454393,
          0.8742108604957504,
          1.647032817150969,
          -0.7143668710181892,
          1.8385327810015186,
          -0.048191963038784674,
          0.5840118945787226,
          -2.688222641816865,
          -0.3553197894628702,
          -0.52404866228707,
          0.1341937465319343,
          0.3762970756553044,
          0.9934838329556147,
          0.7833557022459264,
          0.629109159974082,
          1.2276280265214414,
          -0.3495825148413494,
          0.4884121546400506,
          -2.000500517042181,
          -0.5283520269456001,
          -1.004126628466134,
          -2.584010933361183,
          0.5758503216393676,
          -0.36794037843087757,
          -0.09038686069550698,
          -0.035896792561200846,
          -0.27055291970669504,
          1.1810487492872002,
          1.329834716597255,
          0.6753533415919987,
          1.6466374430657869,
          -0.6440345419332062,
          -1.3546813179781783,
          0.6610326007324075,
          -0.7529469658037548,
          0.9108811752427859,
          0.3125883903206803,
          -0.266799345019069,
          -0.8701856397329435,
          0.22784583602906255,
          1.7901088134822656,
          -0.5651202795197222,
          -1.1550628847480657,
          0.5833194718209482,
          1.3887726399856906,
          0.16533850174549897,
          -1.3955953195610848
         ],
         "yaxis": "y12"
        },
        {
         "line": {
          "color": "rgba(128, 128, 128, 1.0)",
          "dash": "solid",
          "shape": "linear",
          "width": 1.3
         },
         "marker": {
          "size": 2,
          "symbol": "circle"
         },
         "mode": "markers",
         "name": "D",
         "text": "",
         "type": "scatter",
         "x": [
          -2.0248994302722,
          1.1206783216849459,
          -0.14714216901426908,
          0.6670829874275235,
          -0.023376648075685052,
          0.5060352952627416,
          -0.9478339706882272,
          2.7301806156870327,
          0.1500701083538797,
          -1.629253867207095,
          0.025633123118659527,
          -1.6180567997975985,
          -0.6201539883082475,
          0.6980153432116343,
          1.3457098806675134,
          -0.4733132068550389,
          1.218327984233927,
          1.0720706177131725,
          0.7266855883867765,
          -1.1328801679679639,
          1.285011116428947,
          -1.135743951530807,
          -1.0992156651659082,
          0.804292155497312,
          2.889420935902672,
          0.913650499514228,
          -1.2359684228301904,
          2.2394880583415873,
          1.0592166701930064,
          1.0330178731064599,
          1.0204782513370658,
          0.8787309750034229,
          0.6885987819603279,
          0.5437470084021745,
          -0.13455229775785477,
          -1.5005765916391522,
          0.4021446100381902,
          -1.2098195163672532,
          -0.397151218679385,
          0.14678399705766368,
          -0.41007694139382683,
          -0.8761747336518552,
          -0.03269185454668553,
          -0.832459749750178,
          -0.373553019196941,
          0.5976385942822937,
          -2.6303076986098883,
          0.49207673349323555,
          -0.24612515085494288,
          -1.1255327396654367,
          -0.48070458660037485,
          0.12895287721669293,
          -1.4090236036807335,
          -0.47182676530688755,
          0.23063424612448724,
          1.0277807157421683,
          0.9843342322642673,
          -0.09074566210834423,
          0.6472245732614761,
          -0.9203721156635134,
          -0.1257185498876959,
          -0.08710102389783692,
          -0.27268093799410975,
          -0.1414327108596726,
          -0.4611742525389193,
          0.8261375525274487,
          1.4565299222233419,
          -0.10042343837103451,
          -0.43689372589308856,
          -1.9981308411765657,
          -0.462754228780885,
          0.12754204376341816,
          -0.3433380435620271,
          -1.1692171929398942,
          0.782475324852804,
          -0.5319658940434484,
          2.225256725090445,
          1.089115482983619,
          -1.2430161750082012,
          1.2502312241220217,
          0.7905200967038304,
          2.734169374856847,
          -0.45361764475918365,
          -2.790893563542634,
          -0.9096538705796186,
          -0.7919999287925056,
          -0.38852093632309764,
          1.2568796152307298,
          -0.7385552048964777,
          -1.1615287328500985,
          0.5144036947754764,
          -0.9145163371493532,
          -0.38025656162124044,
          -1.0580205499766269,
          0.4825574966126437,
          -1.6269134861205365,
          -0.4224550151287948,
          -0.325133894910615,
          -0.8685891545573913,
          0.6256080741969859
         ],
         "xaxis": "x13",
         "y": [
          -0.8273066630944598,
          0.27331422050012766,
          2.8562140049146745,
          -0.9693747265380284,
          -0.07974487152265997,
          0.034705546672934025,
          -0.8959673617961699,
          -0.021441187707182185,
          -0.7766654634301396,
          0.4805850173193006,
          -0.8492500635977759,
          -2.211224007918174,
          -2.250192154742491,
          -1.3741957777675389,
          -0.009093389815766564,
          2.23134516487357,
          0.8774530478783776,
          0.43450087429221995,
          -0.19812913142573804,
          0.3144369783707955,
          -0.926562871054008,
          -0.29629367882683416,
          -1.0782977138537333,
          -1.4784196401948362,
          -0.32645512090688056,
          -0.7663910567026927,
          -0.6222654249262285,
          0.7681465847596798,
          2.386706616239427,
          0.6808715117647883,
          -0.1774657419590166,
          1.218938963909932,
          -0.6134301604369194,
          0.3723545439058522,
          0.6410275817754367,
          -0.24665465091351202,
          -2.5309618098311057,
          0.7961530978475005,
          0.12923271984211596,
          1.2326280693628313,
          -0.36136774120302945,
          0.2340587782888746,
          0.6034248553535082,
          0.5066595596956776,
          -0.6925840786310593,
          -0.5003015225399018,
          0.3455475657267796,
          0.33365453981737236,
          -0.9205532192755903,
          -0.2626712170091331,
          0.45034477871932777,
          -0.041310383330957774,
          -1.1739558583460423,
          -1.0665281388804828,
          -2.1134175759655616,
          0.97188132055067,
          -0.6063522070313438,
          0.4172485067929127,
          -1.3216417994002818,
          1.3260867850521425,
          0.1832930959274856,
          0.638577123442529,
          -1.555749513295139,
          2.4281733076277385,
          0.4453425415951846,
          -1.0100675643737924,
          0.4404058004304574,
          -0.9904695340576503,
          -0.428282458149643,
          -1.3498954821167286,
          -1.478886381421938,
          0.23051706568145464,
          -0.05892182529786133,
          -0.9367016024788103,
          -0.7622085517162878,
          0.5937253381511041,
          1.1928433672473235,
          -1.7468899682777217,
          0.7171005120250424,
          0.38205912709379447,
          0.4749135262565678,
          -1.2285015929742902,
          -0.3518333442150796,
          -0.2962352378419485,
          -0.5750722232738468,
          0.2637340239710272,
          -0.8925797512777627,
          -0.2050063683956568,
          1.523407840026115,
          -1.2032613975901485,
          -0.8828685783254572,
          0.08019814530005213,
          -2.2708578569354883,
          0.20005633204668902,
          -0.09784207844466804,
          -0.3998155393024862,
          0.44365798604099627,
          -1.2507312929599415,
          -1.5205147486035204,
          1.1435873832313297
         ],
         "yaxis": "y13"
        },
        {
         "line": {
          "color": "rgba(128, 128, 128, 1.0)",
          "dash": "solid",
          "shape": "linear",
          "width": 1.3
         },
         "marker": {
          "size": 2,
          "symbol": "circle"
         },
         "mode": "markers",
         "name": "D",
         "text": "",
         "type": "scatter",
         "x": [
          1.244836717788421,
          -0.9113941741042547,
          0.24394904664371372,
          -0.3737083895924538,
          -1.0156947705953163,
          -0.25182333626234465,
          0.8025286099024215,
          -0.20904853915624613,
          -0.30335425935993415,
          -0.26015079829732535,
          -1.1652126737952444,
          -0.11601906352932617,
          0.3807298858276337,
          1.94622992408519,
          0.6918761245098521,
          0.12092987307672229,
          -0.7023721643644166,
          1.3436373835210946,
          -0.6047922436199462,
          0.05834742392095939,
          0.28252996046243645,
          0.5807192890824402,
          0.9861845276129169,
          0.5742445414696716,
          -0.3491755041321152,
          -0.03338709450851653,
          -0.42860738129677367,
          0.2814274678037998,
          -0.570275107112393,
          -1.1115427162391993,
          0.18700072674060986,
          -1.9030952679536954,
          -0.7194428719098581,
          0.5403296720195768,
          -0.24680054080514882,
          -0.5048407548451164,
          0.2939101111553618,
          1.7639202744963427,
          0.8625832635466819,
          -0.7654995595177715,
          1.6888924720096499,
          0.7020255211661659,
          -0.606354316327178,
          1.5640243081651144,
          -1.2389559497992244,
          0.9790296693868923,
          -0.888416311377553,
          -1.271624020447485,
          -0.38683782815487255,
          -0.3112174727382689,
          -1.3958610845724706,
          -0.3646318727579516,
          2.6623586140809947,
          1.278239804030543,
          1.4641583069138344,
          0.5035983514007785,
          0.7702324318302155,
          -0.8562313655545203,
          -1.6274232509023714,
          0.2750944531996166,
          0.7008539862181999,
          -0.25594811836690123,
          -0.3870976188644197,
          0.5261006417232784,
          0.1964263707784994,
          -0.9263064271086378,
          -0.488261838841295,
          0.05042984968017874,
          -0.029025191398035843,
          -0.5086244551715492,
          1.5059084171875694,
          0.07076965496823794,
          -1.1942297964401056,
          0.4900120685919607,
          0.9003822829550003,
          1.5815275119640084,
          0.08230211481593441,
          -0.6789188575459397,
          -0.20955368830118065,
          1.915784863367201,
          -0.5414897639944265,
          -1.1397451918472243,
          0.06123316433440914,
          -1.5363584833492157,
          -0.44175740605136277,
          -0.4977024511722823,
          -0.8060386350670952,
          0.23217547665242766,
          0.1530029564153142,
          0.19916716055370187,
          0.9103802439546376,
          -1.1567876338494296,
          -0.4954203784646236,
          1.5395209073602434,
          0.7561972792026549,
          -0.40766834609463987,
          -1.015571750157025,
          -0.5462836010855642,
          -0.20695204841393358,
          0.5252490005255105
         ],
         "xaxis": "x14",
         "y": [
          -0.8273066630944598,
          0.27331422050012766,
          2.8562140049146745,
          -0.9693747265380284,
          -0.07974487152265997,
          0.034705546672934025,
          -0.8959673617961699,
          -0.021441187707182185,
          -0.7766654634301396,
          0.4805850173193006,
          -0.8492500635977759,
          -2.211224007918174,
          -2.250192154742491,
          -1.3741957777675389,
          -0.009093389815766564,
          2.23134516487357,
          0.8774530478783776,
          0.43450087429221995,
          -0.19812913142573804,
          0.3144369783707955,
          -0.926562871054008,
          -0.29629367882683416,
          -1.0782977138537333,
          -1.4784196401948362,
          -0.32645512090688056,
          -0.7663910567026927,
          -0.6222654249262285,
          0.7681465847596798,
          2.386706616239427,
          0.6808715117647883,
          -0.1774657419590166,
          1.218938963909932,
          -0.6134301604369194,
          0.3723545439058522,
          0.6410275817754367,
          -0.24665465091351202,
          -2.5309618098311057,
          0.7961530978475005,
          0.12923271984211596,
          1.2326280693628313,
          -0.36136774120302945,
          0.2340587782888746,
          0.6034248553535082,
          0.5066595596956776,
          -0.6925840786310593,
          -0.5003015225399018,
          0.3455475657267796,
          0.33365453981737236,
          -0.9205532192755903,
          -0.2626712170091331,
          0.45034477871932777,
          -0.041310383330957774,
          -1.1739558583460423,
          -1.0665281388804828,
          -2.1134175759655616,
          0.97188132055067,
          -0.6063522070313438,
          0.4172485067929127,
          -1.3216417994002818,
          1.3260867850521425,
          0.1832930959274856,
          0.638577123442529,
          -1.555749513295139,
          2.4281733076277385,
          0.4453425415951846,
          -1.0100675643737924,
          0.4404058004304574,
          -0.9904695340576503,
          -0.428282458149643,
          -1.3498954821167286,
          -1.478886381421938,
          0.23051706568145464,
          -0.05892182529786133,
          -0.9367016024788103,
          -0.7622085517162878,
          0.5937253381511041,
          1.1928433672473235,
          -1.7468899682777217,
          0.7171005120250424,
          0.38205912709379447,
          0.4749135262565678,
          -1.2285015929742902,
          -0.3518333442150796,
          -0.2962352378419485,
          -0.5750722232738468,
          0.2637340239710272,
          -0.8925797512777627,
          -0.2050063683956568,
          1.523407840026115,
          -1.2032613975901485,
          -0.8828685783254572,
          0.08019814530005213,
          -2.2708578569354883,
          0.20005633204668902,
          -0.09784207844466804,
          -0.3998155393024862,
          0.44365798604099627,
          -1.2507312929599415,
          -1.5205147486035204,
          1.1435873832313297
         ],
         "yaxis": "y14"
        },
        {
         "line": {
          "color": "rgba(128, 128, 128, 1.0)",
          "dash": "solid",
          "shape": "linear",
          "width": 1.3
         },
         "marker": {
          "size": 2,
          "symbol": "circle"
         },
         "mode": "markers",
         "name": "D",
         "text": "",
         "type": "scatter",
         "x": [
          2.3837865836348042,
          0.8337454629513709,
          -0.44035070497979484,
          0.3675640145013289,
          -1.4689105789596337,
          0.5919711719424133,
          1.1200824659503739,
          0.10709449183114861,
          -1.363205117051827,
          0.2802151197739775,
          0.22238681168946853,
          -1.3369883935832279,
          0.8795244078662957,
          -0.4682309574127068,
          2.154263439857636,
          0.5042543408665272,
          0.8380431803963164,
          2.0320004045327567,
          -0.4458730586188669,
          0.5720801773617187,
          0.5032501099442386,
          -0.04224715779108761,
          -0.5526566029076727,
          1.8765465233829777,
          0.48961407641982707,
          0.9249509675482437,
          0.5681082062181846,
          -0.17960641727452042,
          0.771128480871914,
          0.3350723329869273,
          -0.13585827442762177,
          0.005560655717367594,
          0.9820962360303911,
          0.10286779943902123,
          0.3615118069660571,
          0.4250557261317842,
          0.3477816419029761,
          -0.5219019677697857,
          0.0841551300710111,
          1.1561086796685336,
          1.4483073915162232,
          0.40737229684562326,
          0.6469833507006992,
          2.4202063822641486,
          -0.2644785558044118,
          1.9376106584922064,
          0.09665207271025082,
          -0.33423282228236395,
          -0.5305257354021574,
          0.130718683742174,
          0.46305393590723737,
          -0.4128376187788049,
          0.16217225699872154,
          0.09030729454393,
          0.8742108604957504,
          1.647032817150969,
          -0.7143668710181892,
          1.8385327810015186,
          -0.048191963038784674,
          0.5840118945787226,
          -2.688222641816865,
          -0.3553197894628702,
          -0.52404866228707,
          0.1341937465319343,
          0.3762970756553044,
          0.9934838329556147,
          0.7833557022459264,
          0.629109159974082,
          1.2276280265214414,
          -0.3495825148413494,
          0.4884121546400506,
          -2.000500517042181,
          -0.5283520269456001,
          -1.004126628466134,
          -2.584010933361183,
          0.5758503216393676,
          -0.36794037843087757,
          -0.09038686069550698,
          -0.035896792561200846,
          -0.27055291970669504,
          1.1810487492872002,
          1.329834716597255,
          0.6753533415919987,
          1.6466374430657869,
          -0.6440345419332062,
          -1.3546813179781783,
          0.6610326007324075,
          -0.7529469658037548,
          0.9108811752427859,
          0.3125883903206803,
          -0.266799345019069,
          -0.8701856397329435,
          0.22784583602906255,
          1.7901088134822656,
          -0.5651202795197222,
          -1.1550628847480657,
          0.5833194718209482,
          1.3887726399856906,
          0.16533850174549897,
          -1.3955953195610848
         ],
         "xaxis": "x15",
         "y": [
          -0.8273066630944598,
          0.27331422050012766,
          2.8562140049146745,
          -0.9693747265380284,
          -0.07974487152265997,
          0.034705546672934025,
          -0.8959673617961699,
          -0.021441187707182185,
          -0.7766654634301396,
          0.4805850173193006,
          -0.8492500635977759,
          -2.211224007918174,
          -2.250192154742491,
          -1.3741957777675389,
          -0.009093389815766564,
          2.23134516487357,
          0.8774530478783776,
          0.43450087429221995,
          -0.19812913142573804,
          0.3144369783707955,
          -0.926562871054008,
          -0.29629367882683416,
          -1.0782977138537333,
          -1.4784196401948362,
          -0.32645512090688056,
          -0.7663910567026927,
          -0.6222654249262285,
          0.7681465847596798,
          2.386706616239427,
          0.6808715117647883,
          -0.1774657419590166,
          1.218938963909932,
          -0.6134301604369194,
          0.3723545439058522,
          0.6410275817754367,
          -0.24665465091351202,
          -2.5309618098311057,
          0.7961530978475005,
          0.12923271984211596,
          1.2326280693628313,
          -0.36136774120302945,
          0.2340587782888746,
          0.6034248553535082,
          0.5066595596956776,
          -0.6925840786310593,
          -0.5003015225399018,
          0.3455475657267796,
          0.33365453981737236,
          -0.9205532192755903,
          -0.2626712170091331,
          0.45034477871932777,
          -0.041310383330957774,
          -1.1739558583460423,
          -1.0665281388804828,
          -2.1134175759655616,
          0.97188132055067,
          -0.6063522070313438,
          0.4172485067929127,
          -1.3216417994002818,
          1.3260867850521425,
          0.1832930959274856,
          0.638577123442529,
          -1.555749513295139,
          2.4281733076277385,
          0.4453425415951846,
          -1.0100675643737924,
          0.4404058004304574,
          -0.9904695340576503,
          -0.428282458149643,
          -1.3498954821167286,
          -1.478886381421938,
          0.23051706568145464,
          -0.05892182529786133,
          -0.9367016024788103,
          -0.7622085517162878,
          0.5937253381511041,
          1.1928433672473235,
          -1.7468899682777217,
          0.7171005120250424,
          0.38205912709379447,
          0.4749135262565678,
          -1.2285015929742902,
          -0.3518333442150796,
          -0.2962352378419485,
          -0.5750722232738468,
          0.2637340239710272,
          -0.8925797512777627,
          -0.2050063683956568,
          1.523407840026115,
          -1.2032613975901485,
          -0.8828685783254572,
          0.08019814530005213,
          -2.2708578569354883,
          0.20005633204668902,
          -0.09784207844466804,
          -0.3998155393024862,
          0.44365798604099627,
          -1.2507312929599415,
          -1.5205147486035204,
          1.1435873832313297
         ],
         "yaxis": "y15"
        },
        {
         "histfunc": "count",
         "histnorm": "",
         "marker": {
          "color": "rgba(128, 0, 128, 1.0)",
          "line": {
           "color": "#4D5663",
           "width": 1.3
          }
         },
         "name": "D",
         "nbinsx": 10,
         "opacity": 0.8,
         "orientation": "v",
         "type": "histogram",
         "x": [
          -0.8273066630944598,
          0.27331422050012766,
          2.8562140049146745,
          -0.9693747265380284,
          -0.07974487152265997,
          0.034705546672934025,
          -0.8959673617961699,
          -0.021441187707182185,
          -0.7766654634301396,
          0.4805850173193006,
          -0.8492500635977759,
          -2.211224007918174,
          -2.250192154742491,
          -1.3741957777675389,
          -0.009093389815766564,
          2.23134516487357,
          0.8774530478783776,
          0.43450087429221995,
          -0.19812913142573804,
          0.3144369783707955,
          -0.926562871054008,
          -0.29629367882683416,
          -1.0782977138537333,
          -1.4784196401948362,
          -0.32645512090688056,
          -0.7663910567026927,
          -0.6222654249262285,
          0.7681465847596798,
          2.386706616239427,
          0.6808715117647883,
          -0.1774657419590166,
          1.218938963909932,
          -0.6134301604369194,
          0.3723545439058522,
          0.6410275817754367,
          -0.24665465091351202,
          -2.5309618098311057,
          0.7961530978475005,
          0.12923271984211596,
          1.2326280693628313,
          -0.36136774120302945,
          0.2340587782888746,
          0.6034248553535082,
          0.5066595596956776,
          -0.6925840786310593,
          -0.5003015225399018,
          0.3455475657267796,
          0.33365453981737236,
          -0.9205532192755903,
          -0.2626712170091331,
          0.45034477871932777,
          -0.041310383330957774,
          -1.1739558583460423,
          -1.0665281388804828,
          -2.1134175759655616,
          0.97188132055067,
          -0.6063522070313438,
          0.4172485067929127,
          -1.3216417994002818,
          1.3260867850521425,
          0.1832930959274856,
          0.638577123442529,
          -1.555749513295139,
          2.4281733076277385,
          0.4453425415951846,
          -1.0100675643737924,
          0.4404058004304574,
          -0.9904695340576503,
          -0.428282458149643,
          -1.3498954821167286,
          -1.478886381421938,
          0.23051706568145464,
          -0.05892182529786133,
          -0.9367016024788103,
          -0.7622085517162878,
          0.5937253381511041,
          1.1928433672473235,
          -1.7468899682777217,
          0.7171005120250424,
          0.38205912709379447,
          0.4749135262565678,
          -1.2285015929742902,
          -0.3518333442150796,
          -0.2962352378419485,
          -0.5750722232738468,
          0.2637340239710272,
          -0.8925797512777627,
          -0.2050063683956568,
          1.523407840026115,
          -1.2032613975901485,
          -0.8828685783254572,
          0.08019814530005213,
          -2.2708578569354883,
          0.20005633204668902,
          -0.09784207844466804,
          -0.3998155393024862,
          0.44365798604099627,
          -1.2507312929599415,
          -1.5205147486035204,
          1.1435873832313297
         ],
         "xaxis": "x16",
         "yaxis": "y16"
        }
       ],
       "layout": {
        "bargap": 0.02,
        "legend": {
         "bgcolor": "#F5F6F9",
         "font": {
          "color": "#4D5663"
         }
        },
        "paper_bgcolor": "#F5F6F9",
        "plot_bgcolor": "#F5F6F9",
        "showlegend": false,
        "template": {
         "data": {
          "bar": [
           {
            "error_x": {
             "color": "#2a3f5f"
            },
            "error_y": {
             "color": "#2a3f5f"
            },
            "marker": {
             "line": {
              "color": "#E5ECF6",
              "width": 0.5
             },
             "pattern": {
              "fillmode": "overlay",
              "size": 10,
              "solidity": 0.2
             }
            },
            "type": "bar"
           }
          ],
          "barpolar": [
           {
            "marker": {
             "line": {
              "color": "#E5ECF6",
              "width": 0.5
             },
             "pattern": {
              "fillmode": "overlay",
              "size": 10,
              "solidity": 0.2
             }
            },
            "type": "barpolar"
           }
          ],
          "carpet": [
           {
            "aaxis": {
             "endlinecolor": "#2a3f5f",
             "gridcolor": "white",
             "linecolor": "white",
             "minorgridcolor": "white",
             "startlinecolor": "#2a3f5f"
            },
            "baxis": {
             "endlinecolor": "#2a3f5f",
             "gridcolor": "white",
             "linecolor": "white",
             "minorgridcolor": "white",
             "startlinecolor": "#2a3f5f"
            },
            "type": "carpet"
           }
          ],
          "choropleth": [
           {
            "colorbar": {
             "outlinewidth": 0,
             "ticks": ""
            },
            "type": "choropleth"
           }
          ],
          "contour": [
           {
            "colorbar": {
             "outlinewidth": 0,
             "ticks": ""
            },
            "colorscale": [
             [
              0,
              "#0d0887"
             ],
             [
              0.1111111111111111,
              "#46039f"
             ],
             [
              0.2222222222222222,
              "#7201a8"
             ],
             [
              0.3333333333333333,
              "#9c179e"
             ],
             [
              0.4444444444444444,
              "#bd3786"
             ],
             [
              0.5555555555555556,
              "#d8576b"
             ],
             [
              0.6666666666666666,
              "#ed7953"
             ],
             [
              0.7777777777777778,
              "#fb9f3a"
             ],
             [
              0.8888888888888888,
              "#fdca26"
             ],
             [
              1,
              "#f0f921"
             ]
            ],
            "type": "contour"
           }
          ],
          "contourcarpet": [
           {
            "colorbar": {
             "outlinewidth": 0,
             "ticks": ""
            },
            "type": "contourcarpet"
           }
          ],
          "heatmap": [
           {
            "colorbar": {
             "outlinewidth": 0,
             "ticks": ""
            },
            "colorscale": [
             [
              0,
              "#0d0887"
             ],
             [
              0.1111111111111111,
              "#46039f"
             ],
             [
              0.2222222222222222,
              "#7201a8"
             ],
             [
              0.3333333333333333,
              "#9c179e"
             ],
             [
              0.4444444444444444,
              "#bd3786"
             ],
             [
              0.5555555555555556,
              "#d8576b"
             ],
             [
              0.6666666666666666,
              "#ed7953"
             ],
             [
              0.7777777777777778,
              "#fb9f3a"
             ],
             [
              0.8888888888888888,
              "#fdca26"
             ],
             [
              1,
              "#f0f921"
             ]
            ],
            "type": "heatmap"
           }
          ],
          "heatmapgl": [
           {
            "colorbar": {
             "outlinewidth": 0,
             "ticks": ""
            },
            "colorscale": [
             [
              0,
              "#0d0887"
             ],
             [
              0.1111111111111111,
              "#46039f"
             ],
             [
              0.2222222222222222,
              "#7201a8"
             ],
             [
              0.3333333333333333,
              "#9c179e"
             ],
             [
              0.4444444444444444,
              "#bd3786"
             ],
             [
              0.5555555555555556,
              "#d8576b"
             ],
             [
              0.6666666666666666,
              "#ed7953"
             ],
             [
              0.7777777777777778,
              "#fb9f3a"
             ],
             [
              0.8888888888888888,
              "#fdca26"
             ],
             [
              1,
              "#f0f921"
             ]
            ],
            "type": "heatmapgl"
           }
          ],
          "histogram": [
           {
            "marker": {
             "pattern": {
              "fillmode": "overlay",
              "size": 10,
              "solidity": 0.2
             }
            },
            "type": "histogram"
           }
          ],
          "histogram2d": [
           {
            "colorbar": {
             "outlinewidth": 0,
             "ticks": ""
            },
            "colorscale": [
             [
              0,
              "#0d0887"
             ],
             [
              0.1111111111111111,
              "#46039f"
             ],
             [
              0.2222222222222222,
              "#7201a8"
             ],
             [
              0.3333333333333333,
              "#9c179e"
             ],
             [
              0.4444444444444444,
              "#bd3786"
             ],
             [
              0.5555555555555556,
              "#d8576b"
             ],
             [
              0.6666666666666666,
              "#ed7953"
             ],
             [
              0.7777777777777778,
              "#fb9f3a"
             ],
             [
              0.8888888888888888,
              "#fdca26"
             ],
             [
              1,
              "#f0f921"
             ]
            ],
            "type": "histogram2d"
           }
          ],
          "histogram2dcontour": [
           {
            "colorbar": {
             "outlinewidth": 0,
             "ticks": ""
            },
            "colorscale": [
             [
              0,
              "#0d0887"
             ],
             [
              0.1111111111111111,
              "#46039f"
             ],
             [
              0.2222222222222222,
              "#7201a8"
             ],
             [
              0.3333333333333333,
              "#9c179e"
             ],
             [
              0.4444444444444444,
              "#bd3786"
             ],
             [
              0.5555555555555556,
              "#d8576b"
             ],
             [
              0.6666666666666666,
              "#ed7953"
             ],
             [
              0.7777777777777778,
              "#fb9f3a"
             ],
             [
              0.8888888888888888,
              "#fdca26"
             ],
             [
              1,
              "#f0f921"
             ]
            ],
            "type": "histogram2dcontour"
           }
          ],
          "mesh3d": [
           {
            "colorbar": {
             "outlinewidth": 0,
             "ticks": ""
            },
            "type": "mesh3d"
           }
          ],
          "parcoords": [
           {
            "line": {
             "colorbar": {
              "outlinewidth": 0,
              "ticks": ""
             }
            },
            "type": "parcoords"
           }
          ],
          "pie": [
           {
            "automargin": true,
            "type": "pie"
           }
          ],
          "scatter": [
           {
            "fillpattern": {
             "fillmode": "overlay",
             "size": 10,
             "solidity": 0.2
            },
            "type": "scatter"
           }
          ],
          "scatter3d": [
           {
            "line": {
             "colorbar": {
              "outlinewidth": 0,
              "ticks": ""
             }
            },
            "marker": {
             "colorbar": {
              "outlinewidth": 0,
              "ticks": ""
             }
            },
            "type": "scatter3d"
           }
          ],
          "scattercarpet": [
           {
            "marker": {
             "colorbar": {
              "outlinewidth": 0,
              "ticks": ""
             }
            },
            "type": "scattercarpet"
           }
          ],
          "scattergeo": [
           {
            "marker": {
             "colorbar": {
              "outlinewidth": 0,
              "ticks": ""
             }
            },
            "type": "scattergeo"
           }
          ],
          "scattergl": [
           {
            "marker": {
             "colorbar": {
              "outlinewidth": 0,
              "ticks": ""
             }
            },
            "type": "scattergl"
           }
          ],
          "scattermapbox": [
           {
            "marker": {
             "colorbar": {
              "outlinewidth": 0,
              "ticks": ""
             }
            },
            "type": "scattermapbox"
           }
          ],
          "scatterpolar": [
           {
            "marker": {
             "colorbar": {
              "outlinewidth": 0,
              "ticks": ""
             }
            },
            "type": "scatterpolar"
           }
          ],
          "scatterpolargl": [
           {
            "marker": {
             "colorbar": {
              "outlinewidth": 0,
              "ticks": ""
             }
            },
            "type": "scatterpolargl"
           }
          ],
          "scatterternary": [
           {
            "marker": {
             "colorbar": {
              "outlinewidth": 0,
              "ticks": ""
             }
            },
            "type": "scatterternary"
           }
          ],
          "surface": [
           {
            "colorbar": {
             "outlinewidth": 0,
             "ticks": ""
            },
            "colorscale": [
             [
              0,
              "#0d0887"
             ],
             [
              0.1111111111111111,
              "#46039f"
             ],
             [
              0.2222222222222222,
              "#7201a8"
             ],
             [
              0.3333333333333333,
              "#9c179e"
             ],
             [
              0.4444444444444444,
              "#bd3786"
             ],
             [
              0.5555555555555556,
              "#d8576b"
             ],
             [
              0.6666666666666666,
              "#ed7953"
             ],
             [
              0.7777777777777778,
              "#fb9f3a"
             ],
             [
              0.8888888888888888,
              "#fdca26"
             ],
             [
              1,
              "#f0f921"
             ]
            ],
            "type": "surface"
           }
          ],
          "table": [
           {
            "cells": {
             "fill": {
              "color": "#EBF0F8"
             },
             "line": {
              "color": "white"
             }
            },
            "header": {
             "fill": {
              "color": "#C8D4E3"
             },
             "line": {
              "color": "white"
             }
            },
            "type": "table"
           }
          ]
         },
         "layout": {
          "annotationdefaults": {
           "arrowcolor": "#2a3f5f",
           "arrowhead": 0,
           "arrowwidth": 1
          },
          "autotypenumbers": "strict",
          "coloraxis": {
           "colorbar": {
            "outlinewidth": 0,
            "ticks": ""
           }
          },
          "colorscale": {
           "diverging": [
            [
             0,
             "#8e0152"
            ],
            [
             0.1,
             "#c51b7d"
            ],
            [
             0.2,
             "#de77ae"
            ],
            [
             0.3,
             "#f1b6da"
            ],
            [
             0.4,
             "#fde0ef"
            ],
            [
             0.5,
             "#f7f7f7"
            ],
            [
             0.6,
             "#e6f5d0"
            ],
            [
             0.7,
             "#b8e186"
            ],
            [
             0.8,
             "#7fbc41"
            ],
            [
             0.9,
             "#4d9221"
            ],
            [
             1,
             "#276419"
            ]
           ],
           "sequential": [
            [
             0,
             "#0d0887"
            ],
            [
             0.1111111111111111,
             "#46039f"
            ],
            [
             0.2222222222222222,
             "#7201a8"
            ],
            [
             0.3333333333333333,
             "#9c179e"
            ],
            [
             0.4444444444444444,
             "#bd3786"
            ],
            [
             0.5555555555555556,
             "#d8576b"
            ],
            [
             0.6666666666666666,
             "#ed7953"
            ],
            [
             0.7777777777777778,
             "#fb9f3a"
            ],
            [
             0.8888888888888888,
             "#fdca26"
            ],
            [
             1,
             "#f0f921"
            ]
           ],
           "sequentialminus": [
            [
             0,
             "#0d0887"
            ],
            [
             0.1111111111111111,
             "#46039f"
            ],
            [
             0.2222222222222222,
             "#7201a8"
            ],
            [
             0.3333333333333333,
             "#9c179e"
            ],
            [
             0.4444444444444444,
             "#bd3786"
            ],
            [
             0.5555555555555556,
             "#d8576b"
            ],
            [
             0.6666666666666666,
             "#ed7953"
            ],
            [
             0.7777777777777778,
             "#fb9f3a"
            ],
            [
             0.8888888888888888,
             "#fdca26"
            ],
            [
             1,
             "#f0f921"
            ]
           ]
          },
          "colorway": [
           "#636efa",
           "#EF553B",
           "#00cc96",
           "#ab63fa",
           "#FFA15A",
           "#19d3f3",
           "#FF6692",
           "#B6E880",
           "#FF97FF",
           "#FECB52"
          ],
          "font": {
           "color": "#2a3f5f"
          },
          "geo": {
           "bgcolor": "white",
           "lakecolor": "white",
           "landcolor": "#E5ECF6",
           "showlakes": true,
           "showland": true,
           "subunitcolor": "white"
          },
          "hoverlabel": {
           "align": "left"
          },
          "hovermode": "closest",
          "mapbox": {
           "style": "light"
          },
          "paper_bgcolor": "white",
          "plot_bgcolor": "#E5ECF6",
          "polar": {
           "angularaxis": {
            "gridcolor": "white",
            "linecolor": "white",
            "ticks": ""
           },
           "bgcolor": "#E5ECF6",
           "radialaxis": {
            "gridcolor": "white",
            "linecolor": "white",
            "ticks": ""
           }
          },
          "scene": {
           "xaxis": {
            "backgroundcolor": "#E5ECF6",
            "gridcolor": "white",
            "gridwidth": 2,
            "linecolor": "white",
            "showbackground": true,
            "ticks": "",
            "zerolinecolor": "white"
           },
           "yaxis": {
            "backgroundcolor": "#E5ECF6",
            "gridcolor": "white",
            "gridwidth": 2,
            "linecolor": "white",
            "showbackground": true,
            "ticks": "",
            "zerolinecolor": "white"
           },
           "zaxis": {
            "backgroundcolor": "#E5ECF6",
            "gridcolor": "white",
            "gridwidth": 2,
            "linecolor": "white",
            "showbackground": true,
            "ticks": "",
            "zerolinecolor": "white"
           }
          },
          "shapedefaults": {
           "line": {
            "color": "#2a3f5f"
           }
          },
          "ternary": {
           "aaxis": {
            "gridcolor": "white",
            "linecolor": "white",
            "ticks": ""
           },
           "baxis": {
            "gridcolor": "white",
            "linecolor": "white",
            "ticks": ""
           },
           "bgcolor": "#E5ECF6",
           "caxis": {
            "gridcolor": "white",
            "linecolor": "white",
            "ticks": ""
           }
          },
          "title": {
           "x": 0.05
          },
          "xaxis": {
           "automargin": true,
           "gridcolor": "white",
           "linecolor": "white",
           "ticks": "",
           "title": {
            "standoff": 15
           },
           "zerolinecolor": "white",
           "zerolinewidth": 2
          },
          "yaxis": {
           "automargin": true,
           "gridcolor": "white",
           "linecolor": "white",
           "ticks": "",
           "title": {
            "standoff": 15
           },
           "zerolinecolor": "white",
           "zerolinewidth": 2
          }
         }
        },
        "title": {
         "font": {
          "color": "#4D5663"
         }
        },
        "xaxis": {
         "anchor": "y",
         "domain": [
          0,
          0.2125
         ],
         "gridcolor": "#E1E5ED",
         "showgrid": false,
         "tickfont": {
          "color": "#4D5663"
         },
         "title": {
          "font": {
           "color": "#4D5663"
          },
          "text": ""
         },
         "zerolinecolor": "#E1E5ED"
        },
        "xaxis10": {
         "anchor": "y10",
         "domain": [
          0.2625,
          0.475
         ],
         "gridcolor": "#E1E5ED",
         "showgrid": false,
         "tickfont": {
          "color": "#4D5663"
         },
         "title": {
          "font": {
           "color": "#4D5663"
          },
          "text": ""
         },
         "zerolinecolor": "#E1E5ED"
        },
        "xaxis11": {
         "anchor": "y11",
         "domain": [
          0.525,
          0.7375
         ],
         "gridcolor": "#E1E5ED",
         "showgrid": false,
         "tickfont": {
          "color": "#4D5663"
         },
         "title": {
          "font": {
           "color": "#4D5663"
          },
          "text": ""
         },
         "zerolinecolor": "#E1E5ED"
        },
        "xaxis12": {
         "anchor": "y12",
         "domain": [
          0.7875,
          1
         ],
         "gridcolor": "#E1E5ED",
         "showgrid": false,
         "tickfont": {
          "color": "#4D5663"
         },
         "title": {
          "font": {
           "color": "#4D5663"
          },
          "text": ""
         },
         "zerolinecolor": "#E1E5ED"
        },
        "xaxis13": {
         "anchor": "y13",
         "domain": [
          0,
          0.2125
         ],
         "gridcolor": "#E1E5ED",
         "showgrid": false,
         "tickfont": {
          "color": "#4D5663"
         },
         "title": {
          "font": {
           "color": "#4D5663"
          },
          "text": ""
         },
         "zerolinecolor": "#E1E5ED"
        },
        "xaxis14": {
         "anchor": "y14",
         "domain": [
          0.2625,
          0.475
         ],
         "gridcolor": "#E1E5ED",
         "showgrid": false,
         "tickfont": {
          "color": "#4D5663"
         },
         "title": {
          "font": {
           "color": "#4D5663"
          },
          "text": ""
         },
         "zerolinecolor": "#E1E5ED"
        },
        "xaxis15": {
         "anchor": "y15",
         "domain": [
          0.525,
          0.7375
         ],
         "gridcolor": "#E1E5ED",
         "showgrid": false,
         "tickfont": {
          "color": "#4D5663"
         },
         "title": {
          "font": {
           "color": "#4D5663"
          },
          "text": ""
         },
         "zerolinecolor": "#E1E5ED"
        },
        "xaxis16": {
         "anchor": "y16",
         "domain": [
          0.7875,
          1
         ],
         "gridcolor": "#E1E5ED",
         "showgrid": false,
         "tickfont": {
          "color": "#4D5663"
         },
         "title": {
          "font": {
           "color": "#4D5663"
          },
          "text": ""
         },
         "zerolinecolor": "#E1E5ED"
        },
        "xaxis2": {
         "anchor": "y2",
         "domain": [
          0.2625,
          0.475
         ],
         "gridcolor": "#E1E5ED",
         "showgrid": false,
         "tickfont": {
          "color": "#4D5663"
         },
         "title": {
          "font": {
           "color": "#4D5663"
          },
          "text": ""
         },
         "zerolinecolor": "#E1E5ED"
        },
        "xaxis3": {
         "anchor": "y3",
         "domain": [
          0.525,
          0.7375
         ],
         "gridcolor": "#E1E5ED",
         "showgrid": false,
         "tickfont": {
          "color": "#4D5663"
         },
         "title": {
          "font": {
           "color": "#4D5663"
          },
          "text": ""
         },
         "zerolinecolor": "#E1E5ED"
        },
        "xaxis4": {
         "anchor": "y4",
         "domain": [
          0.7875,
          1
         ],
         "gridcolor": "#E1E5ED",
         "showgrid": false,
         "tickfont": {
          "color": "#4D5663"
         },
         "title": {
          "font": {
           "color": "#4D5663"
          },
          "text": ""
         },
         "zerolinecolor": "#E1E5ED"
        },
        "xaxis5": {
         "anchor": "y5",
         "domain": [
          0,
          0.2125
         ],
         "gridcolor": "#E1E5ED",
         "showgrid": false,
         "tickfont": {
          "color": "#4D5663"
         },
         "title": {
          "font": {
           "color": "#4D5663"
          },
          "text": ""
         },
         "zerolinecolor": "#E1E5ED"
        },
        "xaxis6": {
         "anchor": "y6",
         "domain": [
          0.2625,
          0.475
         ],
         "gridcolor": "#E1E5ED",
         "showgrid": false,
         "tickfont": {
          "color": "#4D5663"
         },
         "title": {
          "font": {
           "color": "#4D5663"
          },
          "text": ""
         },
         "zerolinecolor": "#E1E5ED"
        },
        "xaxis7": {
         "anchor": "y7",
         "domain": [
          0.525,
          0.7375
         ],
         "gridcolor": "#E1E5ED",
         "showgrid": false,
         "tickfont": {
          "color": "#4D5663"
         },
         "title": {
          "font": {
           "color": "#4D5663"
          },
          "text": ""
         },
         "zerolinecolor": "#E1E5ED"
        },
        "xaxis8": {
         "anchor": "y8",
         "domain": [
          0.7875,
          1
         ],
         "gridcolor": "#E1E5ED",
         "showgrid": false,
         "tickfont": {
          "color": "#4D5663"
         },
         "title": {
          "font": {
           "color": "#4D5663"
          },
          "text": ""
         },
         "zerolinecolor": "#E1E5ED"
        },
        "xaxis9": {
         "anchor": "y9",
         "domain": [
          0,
          0.2125
         ],
         "gridcolor": "#E1E5ED",
         "showgrid": false,
         "tickfont": {
          "color": "#4D5663"
         },
         "title": {
          "font": {
           "color": "#4D5663"
          },
          "text": ""
         },
         "zerolinecolor": "#E1E5ED"
        },
        "yaxis": {
         "anchor": "x",
         "domain": [
          0.8025,
          1
         ],
         "gridcolor": "#E1E5ED",
         "showgrid": false,
         "tickfont": {
          "color": "#4D5663"
         },
         "title": {
          "font": {
           "color": "#4D5663"
          },
          "text": ""
         },
         "zerolinecolor": "#E1E5ED"
        },
        "yaxis10": {
         "anchor": "x10",
         "domain": [
          0.2675,
          0.465
         ],
         "gridcolor": "#E1E5ED",
         "showgrid": false,
         "tickfont": {
          "color": "#4D5663"
         },
         "title": {
          "font": {
           "color": "#4D5663"
          },
          "text": ""
         },
         "zerolinecolor": "#E1E5ED"
        },
        "yaxis11": {
         "anchor": "x11",
         "domain": [
          0.2675,
          0.465
         ],
         "gridcolor": "#E1E5ED",
         "showgrid": false,
         "tickfont": {
          "color": "#4D5663"
         },
         "title": {
          "font": {
           "color": "#4D5663"
          },
          "text": ""
         },
         "zerolinecolor": "#E1E5ED"
        },
        "yaxis12": {
         "anchor": "x12",
         "domain": [
          0.2675,
          0.465
         ],
         "gridcolor": "#E1E5ED",
         "showgrid": false,
         "tickfont": {
          "color": "#4D5663"
         },
         "title": {
          "font": {
           "color": "#4D5663"
          },
          "text": ""
         },
         "zerolinecolor": "#E1E5ED"
        },
        "yaxis13": {
         "anchor": "x13",
         "domain": [
          0,
          0.1975
         ],
         "gridcolor": "#E1E5ED",
         "showgrid": false,
         "tickfont": {
          "color": "#4D5663"
         },
         "title": {
          "font": {
           "color": "#4D5663"
          },
          "text": ""
         },
         "zerolinecolor": "#E1E5ED"
        },
        "yaxis14": {
         "anchor": "x14",
         "domain": [
          0,
          0.1975
         ],
         "gridcolor": "#E1E5ED",
         "showgrid": false,
         "tickfont": {
          "color": "#4D5663"
         },
         "title": {
          "font": {
           "color": "#4D5663"
          },
          "text": ""
         },
         "zerolinecolor": "#E1E5ED"
        },
        "yaxis15": {
         "anchor": "x15",
         "domain": [
          0,
          0.1975
         ],
         "gridcolor": "#E1E5ED",
         "showgrid": false,
         "tickfont": {
          "color": "#4D5663"
         },
         "title": {
          "font": {
           "color": "#4D5663"
          },
          "text": ""
         },
         "zerolinecolor": "#E1E5ED"
        },
        "yaxis16": {
         "anchor": "x16",
         "domain": [
          0,
          0.1975
         ],
         "gridcolor": "#E1E5ED",
         "showgrid": false,
         "tickfont": {
          "color": "#4D5663"
         },
         "title": {
          "font": {
           "color": "#4D5663"
          },
          "text": ""
         },
         "zerolinecolor": "#E1E5ED"
        },
        "yaxis2": {
         "anchor": "x2",
         "domain": [
          0.8025,
          1
         ],
         "gridcolor": "#E1E5ED",
         "showgrid": false,
         "tickfont": {
          "color": "#4D5663"
         },
         "title": {
          "font": {
           "color": "#4D5663"
          },
          "text": ""
         },
         "zerolinecolor": "#E1E5ED"
        },
        "yaxis3": {
         "anchor": "x3",
         "domain": [
          0.8025,
          1
         ],
         "gridcolor": "#E1E5ED",
         "showgrid": false,
         "tickfont": {
          "color": "#4D5663"
         },
         "title": {
          "font": {
           "color": "#4D5663"
          },
          "text": ""
         },
         "zerolinecolor": "#E1E5ED"
        },
        "yaxis4": {
         "anchor": "x4",
         "domain": [
          0.8025,
          1
         ],
         "gridcolor": "#E1E5ED",
         "showgrid": false,
         "tickfont": {
          "color": "#4D5663"
         },
         "title": {
          "font": {
           "color": "#4D5663"
          },
          "text": ""
         },
         "zerolinecolor": "#E1E5ED"
        },
        "yaxis5": {
         "anchor": "x5",
         "domain": [
          0.535,
          0.7325
         ],
         "gridcolor": "#E1E5ED",
         "showgrid": false,
         "tickfont": {
          "color": "#4D5663"
         },
         "title": {
          "font": {
           "color": "#4D5663"
          },
          "text": ""
         },
         "zerolinecolor": "#E1E5ED"
        },
        "yaxis6": {
         "anchor": "x6",
         "domain": [
          0.535,
          0.7325
         ],
         "gridcolor": "#E1E5ED",
         "showgrid": false,
         "tickfont": {
          "color": "#4D5663"
         },
         "title": {
          "font": {
           "color": "#4D5663"
          },
          "text": ""
         },
         "zerolinecolor": "#E1E5ED"
        },
        "yaxis7": {
         "anchor": "x7",
         "domain": [
          0.535,
          0.7325
         ],
         "gridcolor": "#E1E5ED",
         "showgrid": false,
         "tickfont": {
          "color": "#4D5663"
         },
         "title": {
          "font": {
           "color": "#4D5663"
          },
          "text": ""
         },
         "zerolinecolor": "#E1E5ED"
        },
        "yaxis8": {
         "anchor": "x8",
         "domain": [
          0.535,
          0.7325
         ],
         "gridcolor": "#E1E5ED",
         "showgrid": false,
         "tickfont": {
          "color": "#4D5663"
         },
         "title": {
          "font": {
           "color": "#4D5663"
          },
          "text": ""
         },
         "zerolinecolor": "#E1E5ED"
        },
        "yaxis9": {
         "anchor": "x9",
         "domain": [
          0.2675,
          0.465
         ],
         "gridcolor": "#E1E5ED",
         "showgrid": false,
         "tickfont": {
          "color": "#4D5663"
         },
         "title": {
          "font": {
           "color": "#4D5663"
          },
          "text": ""
         },
         "zerolinecolor": "#E1E5ED"
        }
       }
      },
      "text/html": [
       "<div>                            <div id=\"f4d52410-5f0e-4c13-9f90-25139825e957\" class=\"plotly-graph-div\" style=\"height:525px; width:100%;\"></div>            <script type=\"text/javascript\">                require([\"plotly\"], function(Plotly) {                    window.PLOTLYENV=window.PLOTLYENV || {};\n",
       "                    window.PLOTLYENV.BASE_URL='https://plot.ly';                                    if (document.getElementById(\"f4d52410-5f0e-4c13-9f90-25139825e957\")) {                    Plotly.newPlot(                        \"f4d52410-5f0e-4c13-9f90-25139825e957\",                        [{\"histfunc\":\"count\",\"histnorm\":\"\",\"marker\":{\"color\":\"rgba(255, 153, 51, 1.0)\",\"line\":{\"color\":\"#4D5663\",\"width\":1.3}},\"name\":\"A\",\"nbinsx\":10,\"opacity\":0.8,\"orientation\":\"v\",\"x\":[-2.0248994302722,1.1206783216849459,-0.14714216901426908,0.6670829874275235,-0.023376648075685052,0.5060352952627416,-0.9478339706882272,2.7301806156870327,0.1500701083538797,-1.629253867207095,0.025633123118659527,-1.6180567997975985,-0.6201539883082475,0.6980153432116343,1.3457098806675134,-0.4733132068550389,1.218327984233927,1.0720706177131725,0.7266855883867765,-1.1328801679679639,1.285011116428947,-1.135743951530807,-1.0992156651659082,0.804292155497312,2.889420935902672,0.913650499514228,-1.2359684228301904,2.2394880583415873,1.0592166701930064,1.0330178731064599,1.0204782513370658,0.8787309750034229,0.6885987819603279,0.5437470084021745,-0.13455229775785477,-1.5005765916391522,0.4021446100381902,-1.2098195163672532,-0.397151218679385,0.14678399705766368,-0.41007694139382683,-0.8761747336518552,-0.03269185454668553,-0.832459749750178,-0.373553019196941,0.5976385942822937,-2.6303076986098883,0.49207673349323555,-0.24612515085494288,-1.1255327396654367,-0.48070458660037485,0.12895287721669293,-1.4090236036807335,-0.47182676530688755,0.23063424612448724,1.0277807157421683,0.9843342322642673,-0.09074566210834423,0.6472245732614761,-0.9203721156635134,-0.1257185498876959,-0.08710102389783692,-0.27268093799410975,-0.1414327108596726,-0.4611742525389193,0.8261375525274487,1.4565299222233419,-0.10042343837103451,-0.43689372589308856,-1.9981308411765657,-0.462754228780885,0.12754204376341816,-0.3433380435620271,-1.1692171929398942,0.782475324852804,-0.5319658940434484,2.225256725090445,1.089115482983619,-1.2430161750082012,1.2502312241220217,0.7905200967038304,2.734169374856847,-0.45361764475918365,-2.790893563542634,-0.9096538705796186,-0.7919999287925056,-0.38852093632309764,1.2568796152307298,-0.7385552048964777,-1.1615287328500985,0.5144036947754764,-0.9145163371493532,-0.38025656162124044,-1.0580205499766269,0.4825574966126437,-1.6269134861205365,-0.4224550151287948,-0.325133894910615,-0.8685891545573913,0.6256080741969859],\"xaxis\":\"x\",\"yaxis\":\"y\",\"type\":\"histogram\"},{\"line\":{\"color\":\"rgba(128, 128, 128, 1.0)\",\"dash\":\"solid\",\"shape\":\"linear\",\"width\":1.3},\"marker\":{\"size\":2,\"symbol\":\"circle\"},\"mode\":\"markers\",\"name\":\"A\",\"text\":\"\",\"x\":[1.244836717788421,-0.9113941741042547,0.24394904664371372,-0.3737083895924538,-1.0156947705953163,-0.25182333626234465,0.8025286099024215,-0.20904853915624613,-0.30335425935993415,-0.26015079829732535,-1.1652126737952444,-0.11601906352932617,0.3807298858276337,1.94622992408519,0.6918761245098521,0.12092987307672229,-0.7023721643644166,1.3436373835210946,-0.6047922436199462,0.05834742392095939,0.28252996046243645,0.5807192890824402,0.9861845276129169,0.5742445414696716,-0.3491755041321152,-0.03338709450851653,-0.42860738129677367,0.2814274678037998,-0.570275107112393,-1.1115427162391993,0.18700072674060986,-1.9030952679536954,-0.7194428719098581,0.5403296720195768,-0.24680054080514882,-0.5048407548451164,0.2939101111553618,1.7639202744963427,0.8625832635466819,-0.7654995595177715,1.6888924720096499,0.7020255211661659,-0.606354316327178,1.5640243081651144,-1.2389559497992244,0.9790296693868923,-0.888416311377553,-1.271624020447485,-0.38683782815487255,-0.3112174727382689,-1.3958610845724706,-0.3646318727579516,2.6623586140809947,1.278239804030543,1.4641583069138344,0.5035983514007785,0.7702324318302155,-0.8562313655545203,-1.6274232509023714,0.2750944531996166,0.7008539862181999,-0.25594811836690123,-0.3870976188644197,0.5261006417232784,0.1964263707784994,-0.9263064271086378,-0.488261838841295,0.05042984968017874,-0.029025191398035843,-0.5086244551715492,1.5059084171875694,0.07076965496823794,-1.1942297964401056,0.4900120685919607,0.9003822829550003,1.5815275119640084,0.08230211481593441,-0.6789188575459397,-0.20955368830118065,1.915784863367201,-0.5414897639944265,-1.1397451918472243,0.06123316433440914,-1.5363584833492157,-0.44175740605136277,-0.4977024511722823,-0.8060386350670952,0.23217547665242766,0.1530029564153142,0.19916716055370187,0.9103802439546376,-1.1567876338494296,-0.4954203784646236,1.5395209073602434,0.7561972792026549,-0.40766834609463987,-1.015571750157025,-0.5462836010855642,-0.20695204841393358,0.5252490005255105],\"xaxis\":\"x2\",\"y\":[-2.0248994302722,1.1206783216849459,-0.14714216901426908,0.6670829874275235,-0.023376648075685052,0.5060352952627416,-0.9478339706882272,2.7301806156870327,0.1500701083538797,-1.629253867207095,0.025633123118659527,-1.6180567997975985,-0.6201539883082475,0.6980153432116343,1.3457098806675134,-0.4733132068550389,1.218327984233927,1.0720706177131725,0.7266855883867765,-1.1328801679679639,1.285011116428947,-1.135743951530807,-1.0992156651659082,0.804292155497312,2.889420935902672,0.913650499514228,-1.2359684228301904,2.2394880583415873,1.0592166701930064,1.0330178731064599,1.0204782513370658,0.8787309750034229,0.6885987819603279,0.5437470084021745,-0.13455229775785477,-1.5005765916391522,0.4021446100381902,-1.2098195163672532,-0.397151218679385,0.14678399705766368,-0.41007694139382683,-0.8761747336518552,-0.03269185454668553,-0.832459749750178,-0.373553019196941,0.5976385942822937,-2.6303076986098883,0.49207673349323555,-0.24612515085494288,-1.1255327396654367,-0.48070458660037485,0.12895287721669293,-1.4090236036807335,-0.47182676530688755,0.23063424612448724,1.0277807157421683,0.9843342322642673,-0.09074566210834423,0.6472245732614761,-0.9203721156635134,-0.1257185498876959,-0.08710102389783692,-0.27268093799410975,-0.1414327108596726,-0.4611742525389193,0.8261375525274487,1.4565299222233419,-0.10042343837103451,-0.43689372589308856,-1.9981308411765657,-0.462754228780885,0.12754204376341816,-0.3433380435620271,-1.1692171929398942,0.782475324852804,-0.5319658940434484,2.225256725090445,1.089115482983619,-1.2430161750082012,1.2502312241220217,0.7905200967038304,2.734169374856847,-0.45361764475918365,-2.790893563542634,-0.9096538705796186,-0.7919999287925056,-0.38852093632309764,1.2568796152307298,-0.7385552048964777,-1.1615287328500985,0.5144036947754764,-0.9145163371493532,-0.38025656162124044,-1.0580205499766269,0.4825574966126437,-1.6269134861205365,-0.4224550151287948,-0.325133894910615,-0.8685891545573913,0.6256080741969859],\"yaxis\":\"y2\",\"type\":\"scatter\"},{\"line\":{\"color\":\"rgba(128, 128, 128, 1.0)\",\"dash\":\"solid\",\"shape\":\"linear\",\"width\":1.3},\"marker\":{\"size\":2,\"symbol\":\"circle\"},\"mode\":\"markers\",\"name\":\"A\",\"text\":\"\",\"x\":[2.3837865836348042,0.8337454629513709,-0.44035070497979484,0.3675640145013289,-1.4689105789596337,0.5919711719424133,1.1200824659503739,0.10709449183114861,-1.363205117051827,0.2802151197739775,0.22238681168946853,-1.3369883935832279,0.8795244078662957,-0.4682309574127068,2.154263439857636,0.5042543408665272,0.8380431803963164,2.0320004045327567,-0.4458730586188669,0.5720801773617187,0.5032501099442386,-0.04224715779108761,-0.5526566029076727,1.8765465233829777,0.48961407641982707,0.9249509675482437,0.5681082062181846,-0.17960641727452042,0.771128480871914,0.3350723329869273,-0.13585827442762177,0.005560655717367594,0.9820962360303911,0.10286779943902123,0.3615118069660571,0.4250557261317842,0.3477816419029761,-0.5219019677697857,0.0841551300710111,1.1561086796685336,1.4483073915162232,0.40737229684562326,0.6469833507006992,2.4202063822641486,-0.2644785558044118,1.9376106584922064,0.09665207271025082,-0.33423282228236395,-0.5305257354021574,0.130718683742174,0.46305393590723737,-0.4128376187788049,0.16217225699872154,0.09030729454393,0.8742108604957504,1.647032817150969,-0.7143668710181892,1.8385327810015186,-0.048191963038784674,0.5840118945787226,-2.688222641816865,-0.3553197894628702,-0.52404866228707,0.1341937465319343,0.3762970756553044,0.9934838329556147,0.7833557022459264,0.629109159974082,1.2276280265214414,-0.3495825148413494,0.4884121546400506,-2.000500517042181,-0.5283520269456001,-1.004126628466134,-2.584010933361183,0.5758503216393676,-0.36794037843087757,-0.09038686069550698,-0.035896792561200846,-0.27055291970669504,1.1810487492872002,1.329834716597255,0.6753533415919987,1.6466374430657869,-0.6440345419332062,-1.3546813179781783,0.6610326007324075,-0.7529469658037548,0.9108811752427859,0.3125883903206803,-0.266799345019069,-0.8701856397329435,0.22784583602906255,1.7901088134822656,-0.5651202795197222,-1.1550628847480657,0.5833194718209482,1.3887726399856906,0.16533850174549897,-1.3955953195610848],\"xaxis\":\"x3\",\"y\":[-2.0248994302722,1.1206783216849459,-0.14714216901426908,0.6670829874275235,-0.023376648075685052,0.5060352952627416,-0.9478339706882272,2.7301806156870327,0.1500701083538797,-1.629253867207095,0.025633123118659527,-1.6180567997975985,-0.6201539883082475,0.6980153432116343,1.3457098806675134,-0.4733132068550389,1.218327984233927,1.0720706177131725,0.7266855883867765,-1.1328801679679639,1.285011116428947,-1.135743951530807,-1.0992156651659082,0.804292155497312,2.889420935902672,0.913650499514228,-1.2359684228301904,2.2394880583415873,1.0592166701930064,1.0330178731064599,1.0204782513370658,0.8787309750034229,0.6885987819603279,0.5437470084021745,-0.13455229775785477,-1.5005765916391522,0.4021446100381902,-1.2098195163672532,-0.397151218679385,0.14678399705766368,-0.41007694139382683,-0.8761747336518552,-0.03269185454668553,-0.832459749750178,-0.373553019196941,0.5976385942822937,-2.6303076986098883,0.49207673349323555,-0.24612515085494288,-1.1255327396654367,-0.48070458660037485,0.12895287721669293,-1.4090236036807335,-0.47182676530688755,0.23063424612448724,1.0277807157421683,0.9843342322642673,-0.09074566210834423,0.6472245732614761,-0.9203721156635134,-0.1257185498876959,-0.08710102389783692,-0.27268093799410975,-0.1414327108596726,-0.4611742525389193,0.8261375525274487,1.4565299222233419,-0.10042343837103451,-0.43689372589308856,-1.9981308411765657,-0.462754228780885,0.12754204376341816,-0.3433380435620271,-1.1692171929398942,0.782475324852804,-0.5319658940434484,2.225256725090445,1.089115482983619,-1.2430161750082012,1.2502312241220217,0.7905200967038304,2.734169374856847,-0.45361764475918365,-2.790893563542634,-0.9096538705796186,-0.7919999287925056,-0.38852093632309764,1.2568796152307298,-0.7385552048964777,-1.1615287328500985,0.5144036947754764,-0.9145163371493532,-0.38025656162124044,-1.0580205499766269,0.4825574966126437,-1.6269134861205365,-0.4224550151287948,-0.325133894910615,-0.8685891545573913,0.6256080741969859],\"yaxis\":\"y3\",\"type\":\"scatter\"},{\"line\":{\"color\":\"rgba(128, 128, 128, 1.0)\",\"dash\":\"solid\",\"shape\":\"linear\",\"width\":1.3},\"marker\":{\"size\":2,\"symbol\":\"circle\"},\"mode\":\"markers\",\"name\":\"A\",\"text\":\"\",\"x\":[-0.8273066630944598,0.27331422050012766,2.8562140049146745,-0.9693747265380284,-0.07974487152265997,0.034705546672934025,-0.8959673617961699,-0.021441187707182185,-0.7766654634301396,0.4805850173193006,-0.8492500635977759,-2.211224007918174,-2.250192154742491,-1.3741957777675389,-0.009093389815766564,2.23134516487357,0.8774530478783776,0.43450087429221995,-0.19812913142573804,0.3144369783707955,-0.926562871054008,-0.29629367882683416,-1.0782977138537333,-1.4784196401948362,-0.32645512090688056,-0.7663910567026927,-0.6222654249262285,0.7681465847596798,2.386706616239427,0.6808715117647883,-0.1774657419590166,1.218938963909932,-0.6134301604369194,0.3723545439058522,0.6410275817754367,-0.24665465091351202,-2.5309618098311057,0.7961530978475005,0.12923271984211596,1.2326280693628313,-0.36136774120302945,0.2340587782888746,0.6034248553535082,0.5066595596956776,-0.6925840786310593,-0.5003015225399018,0.3455475657267796,0.33365453981737236,-0.9205532192755903,-0.2626712170091331,0.45034477871932777,-0.041310383330957774,-1.1739558583460423,-1.0665281388804828,-2.1134175759655616,0.97188132055067,-0.6063522070313438,0.4172485067929127,-1.3216417994002818,1.3260867850521425,0.1832930959274856,0.638577123442529,-1.555749513295139,2.4281733076277385,0.4453425415951846,-1.0100675643737924,0.4404058004304574,-0.9904695340576503,-0.428282458149643,-1.3498954821167286,-1.478886381421938,0.23051706568145464,-0.05892182529786133,-0.9367016024788103,-0.7622085517162878,0.5937253381511041,1.1928433672473235,-1.7468899682777217,0.7171005120250424,0.38205912709379447,0.4749135262565678,-1.2285015929742902,-0.3518333442150796,-0.2962352378419485,-0.5750722232738468,0.2637340239710272,-0.8925797512777627,-0.2050063683956568,1.523407840026115,-1.2032613975901485,-0.8828685783254572,0.08019814530005213,-2.2708578569354883,0.20005633204668902,-0.09784207844466804,-0.3998155393024862,0.44365798604099627,-1.2507312929599415,-1.5205147486035204,1.1435873832313297],\"xaxis\":\"x4\",\"y\":[-2.0248994302722,1.1206783216849459,-0.14714216901426908,0.6670829874275235,-0.023376648075685052,0.5060352952627416,-0.9478339706882272,2.7301806156870327,0.1500701083538797,-1.629253867207095,0.025633123118659527,-1.6180567997975985,-0.6201539883082475,0.6980153432116343,1.3457098806675134,-0.4733132068550389,1.218327984233927,1.0720706177131725,0.7266855883867765,-1.1328801679679639,1.285011116428947,-1.135743951530807,-1.0992156651659082,0.804292155497312,2.889420935902672,0.913650499514228,-1.2359684228301904,2.2394880583415873,1.0592166701930064,1.0330178731064599,1.0204782513370658,0.8787309750034229,0.6885987819603279,0.5437470084021745,-0.13455229775785477,-1.5005765916391522,0.4021446100381902,-1.2098195163672532,-0.397151218679385,0.14678399705766368,-0.41007694139382683,-0.8761747336518552,-0.03269185454668553,-0.832459749750178,-0.373553019196941,0.5976385942822937,-2.6303076986098883,0.49207673349323555,-0.24612515085494288,-1.1255327396654367,-0.48070458660037485,0.12895287721669293,-1.4090236036807335,-0.47182676530688755,0.23063424612448724,1.0277807157421683,0.9843342322642673,-0.09074566210834423,0.6472245732614761,-0.9203721156635134,-0.1257185498876959,-0.08710102389783692,-0.27268093799410975,-0.1414327108596726,-0.4611742525389193,0.8261375525274487,1.4565299222233419,-0.10042343837103451,-0.43689372589308856,-1.9981308411765657,-0.462754228780885,0.12754204376341816,-0.3433380435620271,-1.1692171929398942,0.782475324852804,-0.5319658940434484,2.225256725090445,1.089115482983619,-1.2430161750082012,1.2502312241220217,0.7905200967038304,2.734169374856847,-0.45361764475918365,-2.790893563542634,-0.9096538705796186,-0.7919999287925056,-0.38852093632309764,1.2568796152307298,-0.7385552048964777,-1.1615287328500985,0.5144036947754764,-0.9145163371493532,-0.38025656162124044,-1.0580205499766269,0.4825574966126437,-1.6269134861205365,-0.4224550151287948,-0.325133894910615,-0.8685891545573913,0.6256080741969859],\"yaxis\":\"y4\",\"type\":\"scatter\"},{\"line\":{\"color\":\"rgba(128, 128, 128, 1.0)\",\"dash\":\"solid\",\"shape\":\"linear\",\"width\":1.3},\"marker\":{\"size\":2,\"symbol\":\"circle\"},\"mode\":\"markers\",\"name\":\"B\",\"text\":\"\",\"x\":[-2.0248994302722,1.1206783216849459,-0.14714216901426908,0.6670829874275235,-0.023376648075685052,0.5060352952627416,-0.9478339706882272,2.7301806156870327,0.1500701083538797,-1.629253867207095,0.025633123118659527,-1.6180567997975985,-0.6201539883082475,0.6980153432116343,1.3457098806675134,-0.4733132068550389,1.218327984233927,1.0720706177131725,0.7266855883867765,-1.1328801679679639,1.285011116428947,-1.135743951530807,-1.0992156651659082,0.804292155497312,2.889420935902672,0.913650499514228,-1.2359684228301904,2.2394880583415873,1.0592166701930064,1.0330178731064599,1.0204782513370658,0.8787309750034229,0.6885987819603279,0.5437470084021745,-0.13455229775785477,-1.5005765916391522,0.4021446100381902,-1.2098195163672532,-0.397151218679385,0.14678399705766368,-0.41007694139382683,-0.8761747336518552,-0.03269185454668553,-0.832459749750178,-0.373553019196941,0.5976385942822937,-2.6303076986098883,0.49207673349323555,-0.24612515085494288,-1.1255327396654367,-0.48070458660037485,0.12895287721669293,-1.4090236036807335,-0.47182676530688755,0.23063424612448724,1.0277807157421683,0.9843342322642673,-0.09074566210834423,0.6472245732614761,-0.9203721156635134,-0.1257185498876959,-0.08710102389783692,-0.27268093799410975,-0.1414327108596726,-0.4611742525389193,0.8261375525274487,1.4565299222233419,-0.10042343837103451,-0.43689372589308856,-1.9981308411765657,-0.462754228780885,0.12754204376341816,-0.3433380435620271,-1.1692171929398942,0.782475324852804,-0.5319658940434484,2.225256725090445,1.089115482983619,-1.2430161750082012,1.2502312241220217,0.7905200967038304,2.734169374856847,-0.45361764475918365,-2.790893563542634,-0.9096538705796186,-0.7919999287925056,-0.38852093632309764,1.2568796152307298,-0.7385552048964777,-1.1615287328500985,0.5144036947754764,-0.9145163371493532,-0.38025656162124044,-1.0580205499766269,0.4825574966126437,-1.6269134861205365,-0.4224550151287948,-0.325133894910615,-0.8685891545573913,0.6256080741969859],\"xaxis\":\"x5\",\"y\":[1.244836717788421,-0.9113941741042547,0.24394904664371372,-0.3737083895924538,-1.0156947705953163,-0.25182333626234465,0.8025286099024215,-0.20904853915624613,-0.30335425935993415,-0.26015079829732535,-1.1652126737952444,-0.11601906352932617,0.3807298858276337,1.94622992408519,0.6918761245098521,0.12092987307672229,-0.7023721643644166,1.3436373835210946,-0.6047922436199462,0.05834742392095939,0.28252996046243645,0.5807192890824402,0.9861845276129169,0.5742445414696716,-0.3491755041321152,-0.03338709450851653,-0.42860738129677367,0.2814274678037998,-0.570275107112393,-1.1115427162391993,0.18700072674060986,-1.9030952679536954,-0.7194428719098581,0.5403296720195768,-0.24680054080514882,-0.5048407548451164,0.2939101111553618,1.7639202744963427,0.8625832635466819,-0.7654995595177715,1.6888924720096499,0.7020255211661659,-0.606354316327178,1.5640243081651144,-1.2389559497992244,0.9790296693868923,-0.888416311377553,-1.271624020447485,-0.38683782815487255,-0.3112174727382689,-1.3958610845724706,-0.3646318727579516,2.6623586140809947,1.278239804030543,1.4641583069138344,0.5035983514007785,0.7702324318302155,-0.8562313655545203,-1.6274232509023714,0.2750944531996166,0.7008539862181999,-0.25594811836690123,-0.3870976188644197,0.5261006417232784,0.1964263707784994,-0.9263064271086378,-0.488261838841295,0.05042984968017874,-0.029025191398035843,-0.5086244551715492,1.5059084171875694,0.07076965496823794,-1.1942297964401056,0.4900120685919607,0.9003822829550003,1.5815275119640084,0.08230211481593441,-0.6789188575459397,-0.20955368830118065,1.915784863367201,-0.5414897639944265,-1.1397451918472243,0.06123316433440914,-1.5363584833492157,-0.44175740605136277,-0.4977024511722823,-0.8060386350670952,0.23217547665242766,0.1530029564153142,0.19916716055370187,0.9103802439546376,-1.1567876338494296,-0.4954203784646236,1.5395209073602434,0.7561972792026549,-0.40766834609463987,-1.015571750157025,-0.5462836010855642,-0.20695204841393358,0.5252490005255105],\"yaxis\":\"y5\",\"type\":\"scatter\"},{\"histfunc\":\"count\",\"histnorm\":\"\",\"marker\":{\"color\":\"rgba(55, 128, 191, 1.0)\",\"line\":{\"color\":\"#4D5663\",\"width\":1.3}},\"name\":\"B\",\"nbinsx\":10,\"opacity\":0.8,\"orientation\":\"v\",\"x\":[1.244836717788421,-0.9113941741042547,0.24394904664371372,-0.3737083895924538,-1.0156947705953163,-0.25182333626234465,0.8025286099024215,-0.20904853915624613,-0.30335425935993415,-0.26015079829732535,-1.1652126737952444,-0.11601906352932617,0.3807298858276337,1.94622992408519,0.6918761245098521,0.12092987307672229,-0.7023721643644166,1.3436373835210946,-0.6047922436199462,0.05834742392095939,0.28252996046243645,0.5807192890824402,0.9861845276129169,0.5742445414696716,-0.3491755041321152,-0.03338709450851653,-0.42860738129677367,0.2814274678037998,-0.570275107112393,-1.1115427162391993,0.18700072674060986,-1.9030952679536954,-0.7194428719098581,0.5403296720195768,-0.24680054080514882,-0.5048407548451164,0.2939101111553618,1.7639202744963427,0.8625832635466819,-0.7654995595177715,1.6888924720096499,0.7020255211661659,-0.606354316327178,1.5640243081651144,-1.2389559497992244,0.9790296693868923,-0.888416311377553,-1.271624020447485,-0.38683782815487255,-0.3112174727382689,-1.3958610845724706,-0.3646318727579516,2.6623586140809947,1.278239804030543,1.4641583069138344,0.5035983514007785,0.7702324318302155,-0.8562313655545203,-1.6274232509023714,0.2750944531996166,0.7008539862181999,-0.25594811836690123,-0.3870976188644197,0.5261006417232784,0.1964263707784994,-0.9263064271086378,-0.488261838841295,0.05042984968017874,-0.029025191398035843,-0.5086244551715492,1.5059084171875694,0.07076965496823794,-1.1942297964401056,0.4900120685919607,0.9003822829550003,1.5815275119640084,0.08230211481593441,-0.6789188575459397,-0.20955368830118065,1.915784863367201,-0.5414897639944265,-1.1397451918472243,0.06123316433440914,-1.5363584833492157,-0.44175740605136277,-0.4977024511722823,-0.8060386350670952,0.23217547665242766,0.1530029564153142,0.19916716055370187,0.9103802439546376,-1.1567876338494296,-0.4954203784646236,1.5395209073602434,0.7561972792026549,-0.40766834609463987,-1.015571750157025,-0.5462836010855642,-0.20695204841393358,0.5252490005255105],\"xaxis\":\"x6\",\"yaxis\":\"y6\",\"type\":\"histogram\"},{\"line\":{\"color\":\"rgba(128, 128, 128, 1.0)\",\"dash\":\"solid\",\"shape\":\"linear\",\"width\":1.3},\"marker\":{\"size\":2,\"symbol\":\"circle\"},\"mode\":\"markers\",\"name\":\"B\",\"text\":\"\",\"x\":[2.3837865836348042,0.8337454629513709,-0.44035070497979484,0.3675640145013289,-1.4689105789596337,0.5919711719424133,1.1200824659503739,0.10709449183114861,-1.363205117051827,0.2802151197739775,0.22238681168946853,-1.3369883935832279,0.8795244078662957,-0.4682309574127068,2.154263439857636,0.5042543408665272,0.8380431803963164,2.0320004045327567,-0.4458730586188669,0.5720801773617187,0.5032501099442386,-0.04224715779108761,-0.5526566029076727,1.8765465233829777,0.48961407641982707,0.9249509675482437,0.5681082062181846,-0.17960641727452042,0.771128480871914,0.3350723329869273,-0.13585827442762177,0.005560655717367594,0.9820962360303911,0.10286779943902123,0.3615118069660571,0.4250557261317842,0.3477816419029761,-0.5219019677697857,0.0841551300710111,1.1561086796685336,1.4483073915162232,0.40737229684562326,0.6469833507006992,2.4202063822641486,-0.2644785558044118,1.9376106584922064,0.09665207271025082,-0.33423282228236395,-0.5305257354021574,0.130718683742174,0.46305393590723737,-0.4128376187788049,0.16217225699872154,0.09030729454393,0.8742108604957504,1.647032817150969,-0.7143668710181892,1.8385327810015186,-0.048191963038784674,0.5840118945787226,-2.688222641816865,-0.3553197894628702,-0.52404866228707,0.1341937465319343,0.3762970756553044,0.9934838329556147,0.7833557022459264,0.629109159974082,1.2276280265214414,-0.3495825148413494,0.4884121546400506,-2.000500517042181,-0.5283520269456001,-1.004126628466134,-2.584010933361183,0.5758503216393676,-0.36794037843087757,-0.09038686069550698,-0.035896792561200846,-0.27055291970669504,1.1810487492872002,1.329834716597255,0.6753533415919987,1.6466374430657869,-0.6440345419332062,-1.3546813179781783,0.6610326007324075,-0.7529469658037548,0.9108811752427859,0.3125883903206803,-0.266799345019069,-0.8701856397329435,0.22784583602906255,1.7901088134822656,-0.5651202795197222,-1.1550628847480657,0.5833194718209482,1.3887726399856906,0.16533850174549897,-1.3955953195610848],\"xaxis\":\"x7\",\"y\":[1.244836717788421,-0.9113941741042547,0.24394904664371372,-0.3737083895924538,-1.0156947705953163,-0.25182333626234465,0.8025286099024215,-0.20904853915624613,-0.30335425935993415,-0.26015079829732535,-1.1652126737952444,-0.11601906352932617,0.3807298858276337,1.94622992408519,0.6918761245098521,0.12092987307672229,-0.7023721643644166,1.3436373835210946,-0.6047922436199462,0.05834742392095939,0.28252996046243645,0.5807192890824402,0.9861845276129169,0.5742445414696716,-0.3491755041321152,-0.03338709450851653,-0.42860738129677367,0.2814274678037998,-0.570275107112393,-1.1115427162391993,0.18700072674060986,-1.9030952679536954,-0.7194428719098581,0.5403296720195768,-0.24680054080514882,-0.5048407548451164,0.2939101111553618,1.7639202744963427,0.8625832635466819,-0.7654995595177715,1.6888924720096499,0.7020255211661659,-0.606354316327178,1.5640243081651144,-1.2389559497992244,0.9790296693868923,-0.888416311377553,-1.271624020447485,-0.38683782815487255,-0.3112174727382689,-1.3958610845724706,-0.3646318727579516,2.6623586140809947,1.278239804030543,1.4641583069138344,0.5035983514007785,0.7702324318302155,-0.8562313655545203,-1.6274232509023714,0.2750944531996166,0.7008539862181999,-0.25594811836690123,-0.3870976188644197,0.5261006417232784,0.1964263707784994,-0.9263064271086378,-0.488261838841295,0.05042984968017874,-0.029025191398035843,-0.5086244551715492,1.5059084171875694,0.07076965496823794,-1.1942297964401056,0.4900120685919607,0.9003822829550003,1.5815275119640084,0.08230211481593441,-0.6789188575459397,-0.20955368830118065,1.915784863367201,-0.5414897639944265,-1.1397451918472243,0.06123316433440914,-1.5363584833492157,-0.44175740605136277,-0.4977024511722823,-0.8060386350670952,0.23217547665242766,0.1530029564153142,0.19916716055370187,0.9103802439546376,-1.1567876338494296,-0.4954203784646236,1.5395209073602434,0.7561972792026549,-0.40766834609463987,-1.015571750157025,-0.5462836010855642,-0.20695204841393358,0.5252490005255105],\"yaxis\":\"y7\",\"type\":\"scatter\"},{\"line\":{\"color\":\"rgba(128, 128, 128, 1.0)\",\"dash\":\"solid\",\"shape\":\"linear\",\"width\":1.3},\"marker\":{\"size\":2,\"symbol\":\"circle\"},\"mode\":\"markers\",\"name\":\"B\",\"text\":\"\",\"x\":[-0.8273066630944598,0.27331422050012766,2.8562140049146745,-0.9693747265380284,-0.07974487152265997,0.034705546672934025,-0.8959673617961699,-0.021441187707182185,-0.7766654634301396,0.4805850173193006,-0.8492500635977759,-2.211224007918174,-2.250192154742491,-1.3741957777675389,-0.009093389815766564,2.23134516487357,0.8774530478783776,0.43450087429221995,-0.19812913142573804,0.3144369783707955,-0.926562871054008,-0.29629367882683416,-1.0782977138537333,-1.4784196401948362,-0.32645512090688056,-0.7663910567026927,-0.6222654249262285,0.7681465847596798,2.386706616239427,0.6808715117647883,-0.1774657419590166,1.218938963909932,-0.6134301604369194,0.3723545439058522,0.6410275817754367,-0.24665465091351202,-2.5309618098311057,0.7961530978475005,0.12923271984211596,1.2326280693628313,-0.36136774120302945,0.2340587782888746,0.6034248553535082,0.5066595596956776,-0.6925840786310593,-0.5003015225399018,0.3455475657267796,0.33365453981737236,-0.9205532192755903,-0.2626712170091331,0.45034477871932777,-0.041310383330957774,-1.1739558583460423,-1.0665281388804828,-2.1134175759655616,0.97188132055067,-0.6063522070313438,0.4172485067929127,-1.3216417994002818,1.3260867850521425,0.1832930959274856,0.638577123442529,-1.555749513295139,2.4281733076277385,0.4453425415951846,-1.0100675643737924,0.4404058004304574,-0.9904695340576503,-0.428282458149643,-1.3498954821167286,-1.478886381421938,0.23051706568145464,-0.05892182529786133,-0.9367016024788103,-0.7622085517162878,0.5937253381511041,1.1928433672473235,-1.7468899682777217,0.7171005120250424,0.38205912709379447,0.4749135262565678,-1.2285015929742902,-0.3518333442150796,-0.2962352378419485,-0.5750722232738468,0.2637340239710272,-0.8925797512777627,-0.2050063683956568,1.523407840026115,-1.2032613975901485,-0.8828685783254572,0.08019814530005213,-2.2708578569354883,0.20005633204668902,-0.09784207844466804,-0.3998155393024862,0.44365798604099627,-1.2507312929599415,-1.5205147486035204,1.1435873832313297],\"xaxis\":\"x8\",\"y\":[1.244836717788421,-0.9113941741042547,0.24394904664371372,-0.3737083895924538,-1.0156947705953163,-0.25182333626234465,0.8025286099024215,-0.20904853915624613,-0.30335425935993415,-0.26015079829732535,-1.1652126737952444,-0.11601906352932617,0.3807298858276337,1.94622992408519,0.6918761245098521,0.12092987307672229,-0.7023721643644166,1.3436373835210946,-0.6047922436199462,0.05834742392095939,0.28252996046243645,0.5807192890824402,0.9861845276129169,0.5742445414696716,-0.3491755041321152,-0.03338709450851653,-0.42860738129677367,0.2814274678037998,-0.570275107112393,-1.1115427162391993,0.18700072674060986,-1.9030952679536954,-0.7194428719098581,0.5403296720195768,-0.24680054080514882,-0.5048407548451164,0.2939101111553618,1.7639202744963427,0.8625832635466819,-0.7654995595177715,1.6888924720096499,0.7020255211661659,-0.606354316327178,1.5640243081651144,-1.2389559497992244,0.9790296693868923,-0.888416311377553,-1.271624020447485,-0.38683782815487255,-0.3112174727382689,-1.3958610845724706,-0.3646318727579516,2.6623586140809947,1.278239804030543,1.4641583069138344,0.5035983514007785,0.7702324318302155,-0.8562313655545203,-1.6274232509023714,0.2750944531996166,0.7008539862181999,-0.25594811836690123,-0.3870976188644197,0.5261006417232784,0.1964263707784994,-0.9263064271086378,-0.488261838841295,0.05042984968017874,-0.029025191398035843,-0.5086244551715492,1.5059084171875694,0.07076965496823794,-1.1942297964401056,0.4900120685919607,0.9003822829550003,1.5815275119640084,0.08230211481593441,-0.6789188575459397,-0.20955368830118065,1.915784863367201,-0.5414897639944265,-1.1397451918472243,0.06123316433440914,-1.5363584833492157,-0.44175740605136277,-0.4977024511722823,-0.8060386350670952,0.23217547665242766,0.1530029564153142,0.19916716055370187,0.9103802439546376,-1.1567876338494296,-0.4954203784646236,1.5395209073602434,0.7561972792026549,-0.40766834609463987,-1.015571750157025,-0.5462836010855642,-0.20695204841393358,0.5252490005255105],\"yaxis\":\"y8\",\"type\":\"scatter\"},{\"line\":{\"color\":\"rgba(128, 128, 128, 1.0)\",\"dash\":\"solid\",\"shape\":\"linear\",\"width\":1.3},\"marker\":{\"size\":2,\"symbol\":\"circle\"},\"mode\":\"markers\",\"name\":\"C\",\"text\":\"\",\"x\":[-2.0248994302722,1.1206783216849459,-0.14714216901426908,0.6670829874275235,-0.023376648075685052,0.5060352952627416,-0.9478339706882272,2.7301806156870327,0.1500701083538797,-1.629253867207095,0.025633123118659527,-1.6180567997975985,-0.6201539883082475,0.6980153432116343,1.3457098806675134,-0.4733132068550389,1.218327984233927,1.0720706177131725,0.7266855883867765,-1.1328801679679639,1.285011116428947,-1.135743951530807,-1.0992156651659082,0.804292155497312,2.889420935902672,0.913650499514228,-1.2359684228301904,2.2394880583415873,1.0592166701930064,1.0330178731064599,1.0204782513370658,0.8787309750034229,0.6885987819603279,0.5437470084021745,-0.13455229775785477,-1.5005765916391522,0.4021446100381902,-1.2098195163672532,-0.397151218679385,0.14678399705766368,-0.41007694139382683,-0.8761747336518552,-0.03269185454668553,-0.832459749750178,-0.373553019196941,0.5976385942822937,-2.6303076986098883,0.49207673349323555,-0.24612515085494288,-1.1255327396654367,-0.48070458660037485,0.12895287721669293,-1.4090236036807335,-0.47182676530688755,0.23063424612448724,1.0277807157421683,0.9843342322642673,-0.09074566210834423,0.6472245732614761,-0.9203721156635134,-0.1257185498876959,-0.08710102389783692,-0.27268093799410975,-0.1414327108596726,-0.4611742525389193,0.8261375525274487,1.4565299222233419,-0.10042343837103451,-0.43689372589308856,-1.9981308411765657,-0.462754228780885,0.12754204376341816,-0.3433380435620271,-1.1692171929398942,0.782475324852804,-0.5319658940434484,2.225256725090445,1.089115482983619,-1.2430161750082012,1.2502312241220217,0.7905200967038304,2.734169374856847,-0.45361764475918365,-2.790893563542634,-0.9096538705796186,-0.7919999287925056,-0.38852093632309764,1.2568796152307298,-0.7385552048964777,-1.1615287328500985,0.5144036947754764,-0.9145163371493532,-0.38025656162124044,-1.0580205499766269,0.4825574966126437,-1.6269134861205365,-0.4224550151287948,-0.325133894910615,-0.8685891545573913,0.6256080741969859],\"xaxis\":\"x9\",\"y\":[2.3837865836348042,0.8337454629513709,-0.44035070497979484,0.3675640145013289,-1.4689105789596337,0.5919711719424133,1.1200824659503739,0.10709449183114861,-1.363205117051827,0.2802151197739775,0.22238681168946853,-1.3369883935832279,0.8795244078662957,-0.4682309574127068,2.154263439857636,0.5042543408665272,0.8380431803963164,2.0320004045327567,-0.4458730586188669,0.5720801773617187,0.5032501099442386,-0.04224715779108761,-0.5526566029076727,1.8765465233829777,0.48961407641982707,0.9249509675482437,0.5681082062181846,-0.17960641727452042,0.771128480871914,0.3350723329869273,-0.13585827442762177,0.005560655717367594,0.9820962360303911,0.10286779943902123,0.3615118069660571,0.4250557261317842,0.3477816419029761,-0.5219019677697857,0.0841551300710111,1.1561086796685336,1.4483073915162232,0.40737229684562326,0.6469833507006992,2.4202063822641486,-0.2644785558044118,1.9376106584922064,0.09665207271025082,-0.33423282228236395,-0.5305257354021574,0.130718683742174,0.46305393590723737,-0.4128376187788049,0.16217225699872154,0.09030729454393,0.8742108604957504,1.647032817150969,-0.7143668710181892,1.8385327810015186,-0.048191963038784674,0.5840118945787226,-2.688222641816865,-0.3553197894628702,-0.52404866228707,0.1341937465319343,0.3762970756553044,0.9934838329556147,0.7833557022459264,0.629109159974082,1.2276280265214414,-0.3495825148413494,0.4884121546400506,-2.000500517042181,-0.5283520269456001,-1.004126628466134,-2.584010933361183,0.5758503216393676,-0.36794037843087757,-0.09038686069550698,-0.035896792561200846,-0.27055291970669504,1.1810487492872002,1.329834716597255,0.6753533415919987,1.6466374430657869,-0.6440345419332062,-1.3546813179781783,0.6610326007324075,-0.7529469658037548,0.9108811752427859,0.3125883903206803,-0.266799345019069,-0.8701856397329435,0.22784583602906255,1.7901088134822656,-0.5651202795197222,-1.1550628847480657,0.5833194718209482,1.3887726399856906,0.16533850174549897,-1.3955953195610848],\"yaxis\":\"y9\",\"type\":\"scatter\"},{\"line\":{\"color\":\"rgba(128, 128, 128, 1.0)\",\"dash\":\"solid\",\"shape\":\"linear\",\"width\":1.3},\"marker\":{\"size\":2,\"symbol\":\"circle\"},\"mode\":\"markers\",\"name\":\"C\",\"text\":\"\",\"x\":[1.244836717788421,-0.9113941741042547,0.24394904664371372,-0.3737083895924538,-1.0156947705953163,-0.25182333626234465,0.8025286099024215,-0.20904853915624613,-0.30335425935993415,-0.26015079829732535,-1.1652126737952444,-0.11601906352932617,0.3807298858276337,1.94622992408519,0.6918761245098521,0.12092987307672229,-0.7023721643644166,1.3436373835210946,-0.6047922436199462,0.05834742392095939,0.28252996046243645,0.5807192890824402,0.9861845276129169,0.5742445414696716,-0.3491755041321152,-0.03338709450851653,-0.42860738129677367,0.2814274678037998,-0.570275107112393,-1.1115427162391993,0.18700072674060986,-1.9030952679536954,-0.7194428719098581,0.5403296720195768,-0.24680054080514882,-0.5048407548451164,0.2939101111553618,1.7639202744963427,0.8625832635466819,-0.7654995595177715,1.6888924720096499,0.7020255211661659,-0.606354316327178,1.5640243081651144,-1.2389559497992244,0.9790296693868923,-0.888416311377553,-1.271624020447485,-0.38683782815487255,-0.3112174727382689,-1.3958610845724706,-0.3646318727579516,2.6623586140809947,1.278239804030543,1.4641583069138344,0.5035983514007785,0.7702324318302155,-0.8562313655545203,-1.6274232509023714,0.2750944531996166,0.7008539862181999,-0.25594811836690123,-0.3870976188644197,0.5261006417232784,0.1964263707784994,-0.9263064271086378,-0.488261838841295,0.05042984968017874,-0.029025191398035843,-0.5086244551715492,1.5059084171875694,0.07076965496823794,-1.1942297964401056,0.4900120685919607,0.9003822829550003,1.5815275119640084,0.08230211481593441,-0.6789188575459397,-0.20955368830118065,1.915784863367201,-0.5414897639944265,-1.1397451918472243,0.06123316433440914,-1.5363584833492157,-0.44175740605136277,-0.4977024511722823,-0.8060386350670952,0.23217547665242766,0.1530029564153142,0.19916716055370187,0.9103802439546376,-1.1567876338494296,-0.4954203784646236,1.5395209073602434,0.7561972792026549,-0.40766834609463987,-1.015571750157025,-0.5462836010855642,-0.20695204841393358,0.5252490005255105],\"xaxis\":\"x10\",\"y\":[2.3837865836348042,0.8337454629513709,-0.44035070497979484,0.3675640145013289,-1.4689105789596337,0.5919711719424133,1.1200824659503739,0.10709449183114861,-1.363205117051827,0.2802151197739775,0.22238681168946853,-1.3369883935832279,0.8795244078662957,-0.4682309574127068,2.154263439857636,0.5042543408665272,0.8380431803963164,2.0320004045327567,-0.4458730586188669,0.5720801773617187,0.5032501099442386,-0.04224715779108761,-0.5526566029076727,1.8765465233829777,0.48961407641982707,0.9249509675482437,0.5681082062181846,-0.17960641727452042,0.771128480871914,0.3350723329869273,-0.13585827442762177,0.005560655717367594,0.9820962360303911,0.10286779943902123,0.3615118069660571,0.4250557261317842,0.3477816419029761,-0.5219019677697857,0.0841551300710111,1.1561086796685336,1.4483073915162232,0.40737229684562326,0.6469833507006992,2.4202063822641486,-0.2644785558044118,1.9376106584922064,0.09665207271025082,-0.33423282228236395,-0.5305257354021574,0.130718683742174,0.46305393590723737,-0.4128376187788049,0.16217225699872154,0.09030729454393,0.8742108604957504,1.647032817150969,-0.7143668710181892,1.8385327810015186,-0.048191963038784674,0.5840118945787226,-2.688222641816865,-0.3553197894628702,-0.52404866228707,0.1341937465319343,0.3762970756553044,0.9934838329556147,0.7833557022459264,0.629109159974082,1.2276280265214414,-0.3495825148413494,0.4884121546400506,-2.000500517042181,-0.5283520269456001,-1.004126628466134,-2.584010933361183,0.5758503216393676,-0.36794037843087757,-0.09038686069550698,-0.035896792561200846,-0.27055291970669504,1.1810487492872002,1.329834716597255,0.6753533415919987,1.6466374430657869,-0.6440345419332062,-1.3546813179781783,0.6610326007324075,-0.7529469658037548,0.9108811752427859,0.3125883903206803,-0.266799345019069,-0.8701856397329435,0.22784583602906255,1.7901088134822656,-0.5651202795197222,-1.1550628847480657,0.5833194718209482,1.3887726399856906,0.16533850174549897,-1.3955953195610848],\"yaxis\":\"y10\",\"type\":\"scatter\"},{\"histfunc\":\"count\",\"histnorm\":\"\",\"marker\":{\"color\":\"rgba(50, 171, 96, 1.0)\",\"line\":{\"color\":\"#4D5663\",\"width\":1.3}},\"name\":\"C\",\"nbinsx\":10,\"opacity\":0.8,\"orientation\":\"v\",\"x\":[2.3837865836348042,0.8337454629513709,-0.44035070497979484,0.3675640145013289,-1.4689105789596337,0.5919711719424133,1.1200824659503739,0.10709449183114861,-1.363205117051827,0.2802151197739775,0.22238681168946853,-1.3369883935832279,0.8795244078662957,-0.4682309574127068,2.154263439857636,0.5042543408665272,0.8380431803963164,2.0320004045327567,-0.4458730586188669,0.5720801773617187,0.5032501099442386,-0.04224715779108761,-0.5526566029076727,1.8765465233829777,0.48961407641982707,0.9249509675482437,0.5681082062181846,-0.17960641727452042,0.771128480871914,0.3350723329869273,-0.13585827442762177,0.005560655717367594,0.9820962360303911,0.10286779943902123,0.3615118069660571,0.4250557261317842,0.3477816419029761,-0.5219019677697857,0.0841551300710111,1.1561086796685336,1.4483073915162232,0.40737229684562326,0.6469833507006992,2.4202063822641486,-0.2644785558044118,1.9376106584922064,0.09665207271025082,-0.33423282228236395,-0.5305257354021574,0.130718683742174,0.46305393590723737,-0.4128376187788049,0.16217225699872154,0.09030729454393,0.8742108604957504,1.647032817150969,-0.7143668710181892,1.8385327810015186,-0.048191963038784674,0.5840118945787226,-2.688222641816865,-0.3553197894628702,-0.52404866228707,0.1341937465319343,0.3762970756553044,0.9934838329556147,0.7833557022459264,0.629109159974082,1.2276280265214414,-0.3495825148413494,0.4884121546400506,-2.000500517042181,-0.5283520269456001,-1.004126628466134,-2.584010933361183,0.5758503216393676,-0.36794037843087757,-0.09038686069550698,-0.035896792561200846,-0.27055291970669504,1.1810487492872002,1.329834716597255,0.6753533415919987,1.6466374430657869,-0.6440345419332062,-1.3546813179781783,0.6610326007324075,-0.7529469658037548,0.9108811752427859,0.3125883903206803,-0.266799345019069,-0.8701856397329435,0.22784583602906255,1.7901088134822656,-0.5651202795197222,-1.1550628847480657,0.5833194718209482,1.3887726399856906,0.16533850174549897,-1.3955953195610848],\"xaxis\":\"x11\",\"yaxis\":\"y11\",\"type\":\"histogram\"},{\"line\":{\"color\":\"rgba(128, 128, 128, 1.0)\",\"dash\":\"solid\",\"shape\":\"linear\",\"width\":1.3},\"marker\":{\"size\":2,\"symbol\":\"circle\"},\"mode\":\"markers\",\"name\":\"C\",\"text\":\"\",\"x\":[-0.8273066630944598,0.27331422050012766,2.8562140049146745,-0.9693747265380284,-0.07974487152265997,0.034705546672934025,-0.8959673617961699,-0.021441187707182185,-0.7766654634301396,0.4805850173193006,-0.8492500635977759,-2.211224007918174,-2.250192154742491,-1.3741957777675389,-0.009093389815766564,2.23134516487357,0.8774530478783776,0.43450087429221995,-0.19812913142573804,0.3144369783707955,-0.926562871054008,-0.29629367882683416,-1.0782977138537333,-1.4784196401948362,-0.32645512090688056,-0.7663910567026927,-0.6222654249262285,0.7681465847596798,2.386706616239427,0.6808715117647883,-0.1774657419590166,1.218938963909932,-0.6134301604369194,0.3723545439058522,0.6410275817754367,-0.24665465091351202,-2.5309618098311057,0.7961530978475005,0.12923271984211596,1.2326280693628313,-0.36136774120302945,0.2340587782888746,0.6034248553535082,0.5066595596956776,-0.6925840786310593,-0.5003015225399018,0.3455475657267796,0.33365453981737236,-0.9205532192755903,-0.2626712170091331,0.45034477871932777,-0.041310383330957774,-1.1739558583460423,-1.0665281388804828,-2.1134175759655616,0.97188132055067,-0.6063522070313438,0.4172485067929127,-1.3216417994002818,1.3260867850521425,0.1832930959274856,0.638577123442529,-1.555749513295139,2.4281733076277385,0.4453425415951846,-1.0100675643737924,0.4404058004304574,-0.9904695340576503,-0.428282458149643,-1.3498954821167286,-1.478886381421938,0.23051706568145464,-0.05892182529786133,-0.9367016024788103,-0.7622085517162878,0.5937253381511041,1.1928433672473235,-1.7468899682777217,0.7171005120250424,0.38205912709379447,0.4749135262565678,-1.2285015929742902,-0.3518333442150796,-0.2962352378419485,-0.5750722232738468,0.2637340239710272,-0.8925797512777627,-0.2050063683956568,1.523407840026115,-1.2032613975901485,-0.8828685783254572,0.08019814530005213,-2.2708578569354883,0.20005633204668902,-0.09784207844466804,-0.3998155393024862,0.44365798604099627,-1.2507312929599415,-1.5205147486035204,1.1435873832313297],\"xaxis\":\"x12\",\"y\":[2.3837865836348042,0.8337454629513709,-0.44035070497979484,0.3675640145013289,-1.4689105789596337,0.5919711719424133,1.1200824659503739,0.10709449183114861,-1.363205117051827,0.2802151197739775,0.22238681168946853,-1.3369883935832279,0.8795244078662957,-0.4682309574127068,2.154263439857636,0.5042543408665272,0.8380431803963164,2.0320004045327567,-0.4458730586188669,0.5720801773617187,0.5032501099442386,-0.04224715779108761,-0.5526566029076727,1.8765465233829777,0.48961407641982707,0.9249509675482437,0.5681082062181846,-0.17960641727452042,0.771128480871914,0.3350723329869273,-0.13585827442762177,0.005560655717367594,0.9820962360303911,0.10286779943902123,0.3615118069660571,0.4250557261317842,0.3477816419029761,-0.5219019677697857,0.0841551300710111,1.1561086796685336,1.4483073915162232,0.40737229684562326,0.6469833507006992,2.4202063822641486,-0.2644785558044118,1.9376106584922064,0.09665207271025082,-0.33423282228236395,-0.5305257354021574,0.130718683742174,0.46305393590723737,-0.4128376187788049,0.16217225699872154,0.09030729454393,0.8742108604957504,1.647032817150969,-0.7143668710181892,1.8385327810015186,-0.048191963038784674,0.5840118945787226,-2.688222641816865,-0.3553197894628702,-0.52404866228707,0.1341937465319343,0.3762970756553044,0.9934838329556147,0.7833557022459264,0.629109159974082,1.2276280265214414,-0.3495825148413494,0.4884121546400506,-2.000500517042181,-0.5283520269456001,-1.004126628466134,-2.584010933361183,0.5758503216393676,-0.36794037843087757,-0.09038686069550698,-0.035896792561200846,-0.27055291970669504,1.1810487492872002,1.329834716597255,0.6753533415919987,1.6466374430657869,-0.6440345419332062,-1.3546813179781783,0.6610326007324075,-0.7529469658037548,0.9108811752427859,0.3125883903206803,-0.266799345019069,-0.8701856397329435,0.22784583602906255,1.7901088134822656,-0.5651202795197222,-1.1550628847480657,0.5833194718209482,1.3887726399856906,0.16533850174549897,-1.3955953195610848],\"yaxis\":\"y12\",\"type\":\"scatter\"},{\"line\":{\"color\":\"rgba(128, 128, 128, 1.0)\",\"dash\":\"solid\",\"shape\":\"linear\",\"width\":1.3},\"marker\":{\"size\":2,\"symbol\":\"circle\"},\"mode\":\"markers\",\"name\":\"D\",\"text\":\"\",\"x\":[-2.0248994302722,1.1206783216849459,-0.14714216901426908,0.6670829874275235,-0.023376648075685052,0.5060352952627416,-0.9478339706882272,2.7301806156870327,0.1500701083538797,-1.629253867207095,0.025633123118659527,-1.6180567997975985,-0.6201539883082475,0.6980153432116343,1.3457098806675134,-0.4733132068550389,1.218327984233927,1.0720706177131725,0.7266855883867765,-1.1328801679679639,1.285011116428947,-1.135743951530807,-1.0992156651659082,0.804292155497312,2.889420935902672,0.913650499514228,-1.2359684228301904,2.2394880583415873,1.0592166701930064,1.0330178731064599,1.0204782513370658,0.8787309750034229,0.6885987819603279,0.5437470084021745,-0.13455229775785477,-1.5005765916391522,0.4021446100381902,-1.2098195163672532,-0.397151218679385,0.14678399705766368,-0.41007694139382683,-0.8761747336518552,-0.03269185454668553,-0.832459749750178,-0.373553019196941,0.5976385942822937,-2.6303076986098883,0.49207673349323555,-0.24612515085494288,-1.1255327396654367,-0.48070458660037485,0.12895287721669293,-1.4090236036807335,-0.47182676530688755,0.23063424612448724,1.0277807157421683,0.9843342322642673,-0.09074566210834423,0.6472245732614761,-0.9203721156635134,-0.1257185498876959,-0.08710102389783692,-0.27268093799410975,-0.1414327108596726,-0.4611742525389193,0.8261375525274487,1.4565299222233419,-0.10042343837103451,-0.43689372589308856,-1.9981308411765657,-0.462754228780885,0.12754204376341816,-0.3433380435620271,-1.1692171929398942,0.782475324852804,-0.5319658940434484,2.225256725090445,1.089115482983619,-1.2430161750082012,1.2502312241220217,0.7905200967038304,2.734169374856847,-0.45361764475918365,-2.790893563542634,-0.9096538705796186,-0.7919999287925056,-0.38852093632309764,1.2568796152307298,-0.7385552048964777,-1.1615287328500985,0.5144036947754764,-0.9145163371493532,-0.38025656162124044,-1.0580205499766269,0.4825574966126437,-1.6269134861205365,-0.4224550151287948,-0.325133894910615,-0.8685891545573913,0.6256080741969859],\"xaxis\":\"x13\",\"y\":[-0.8273066630944598,0.27331422050012766,2.8562140049146745,-0.9693747265380284,-0.07974487152265997,0.034705546672934025,-0.8959673617961699,-0.021441187707182185,-0.7766654634301396,0.4805850173193006,-0.8492500635977759,-2.211224007918174,-2.250192154742491,-1.3741957777675389,-0.009093389815766564,2.23134516487357,0.8774530478783776,0.43450087429221995,-0.19812913142573804,0.3144369783707955,-0.926562871054008,-0.29629367882683416,-1.0782977138537333,-1.4784196401948362,-0.32645512090688056,-0.7663910567026927,-0.6222654249262285,0.7681465847596798,2.386706616239427,0.6808715117647883,-0.1774657419590166,1.218938963909932,-0.6134301604369194,0.3723545439058522,0.6410275817754367,-0.24665465091351202,-2.5309618098311057,0.7961530978475005,0.12923271984211596,1.2326280693628313,-0.36136774120302945,0.2340587782888746,0.6034248553535082,0.5066595596956776,-0.6925840786310593,-0.5003015225399018,0.3455475657267796,0.33365453981737236,-0.9205532192755903,-0.2626712170091331,0.45034477871932777,-0.041310383330957774,-1.1739558583460423,-1.0665281388804828,-2.1134175759655616,0.97188132055067,-0.6063522070313438,0.4172485067929127,-1.3216417994002818,1.3260867850521425,0.1832930959274856,0.638577123442529,-1.555749513295139,2.4281733076277385,0.4453425415951846,-1.0100675643737924,0.4404058004304574,-0.9904695340576503,-0.428282458149643,-1.3498954821167286,-1.478886381421938,0.23051706568145464,-0.05892182529786133,-0.9367016024788103,-0.7622085517162878,0.5937253381511041,1.1928433672473235,-1.7468899682777217,0.7171005120250424,0.38205912709379447,0.4749135262565678,-1.2285015929742902,-0.3518333442150796,-0.2962352378419485,-0.5750722232738468,0.2637340239710272,-0.8925797512777627,-0.2050063683956568,1.523407840026115,-1.2032613975901485,-0.8828685783254572,0.08019814530005213,-2.2708578569354883,0.20005633204668902,-0.09784207844466804,-0.3998155393024862,0.44365798604099627,-1.2507312929599415,-1.5205147486035204,1.1435873832313297],\"yaxis\":\"y13\",\"type\":\"scatter\"},{\"line\":{\"color\":\"rgba(128, 128, 128, 1.0)\",\"dash\":\"solid\",\"shape\":\"linear\",\"width\":1.3},\"marker\":{\"size\":2,\"symbol\":\"circle\"},\"mode\":\"markers\",\"name\":\"D\",\"text\":\"\",\"x\":[1.244836717788421,-0.9113941741042547,0.24394904664371372,-0.3737083895924538,-1.0156947705953163,-0.25182333626234465,0.8025286099024215,-0.20904853915624613,-0.30335425935993415,-0.26015079829732535,-1.1652126737952444,-0.11601906352932617,0.3807298858276337,1.94622992408519,0.6918761245098521,0.12092987307672229,-0.7023721643644166,1.3436373835210946,-0.6047922436199462,0.05834742392095939,0.28252996046243645,0.5807192890824402,0.9861845276129169,0.5742445414696716,-0.3491755041321152,-0.03338709450851653,-0.42860738129677367,0.2814274678037998,-0.570275107112393,-1.1115427162391993,0.18700072674060986,-1.9030952679536954,-0.7194428719098581,0.5403296720195768,-0.24680054080514882,-0.5048407548451164,0.2939101111553618,1.7639202744963427,0.8625832635466819,-0.7654995595177715,1.6888924720096499,0.7020255211661659,-0.606354316327178,1.5640243081651144,-1.2389559497992244,0.9790296693868923,-0.888416311377553,-1.271624020447485,-0.38683782815487255,-0.3112174727382689,-1.3958610845724706,-0.3646318727579516,2.6623586140809947,1.278239804030543,1.4641583069138344,0.5035983514007785,0.7702324318302155,-0.8562313655545203,-1.6274232509023714,0.2750944531996166,0.7008539862181999,-0.25594811836690123,-0.3870976188644197,0.5261006417232784,0.1964263707784994,-0.9263064271086378,-0.488261838841295,0.05042984968017874,-0.029025191398035843,-0.5086244551715492,1.5059084171875694,0.07076965496823794,-1.1942297964401056,0.4900120685919607,0.9003822829550003,1.5815275119640084,0.08230211481593441,-0.6789188575459397,-0.20955368830118065,1.915784863367201,-0.5414897639944265,-1.1397451918472243,0.06123316433440914,-1.5363584833492157,-0.44175740605136277,-0.4977024511722823,-0.8060386350670952,0.23217547665242766,0.1530029564153142,0.19916716055370187,0.9103802439546376,-1.1567876338494296,-0.4954203784646236,1.5395209073602434,0.7561972792026549,-0.40766834609463987,-1.015571750157025,-0.5462836010855642,-0.20695204841393358,0.5252490005255105],\"xaxis\":\"x14\",\"y\":[-0.8273066630944598,0.27331422050012766,2.8562140049146745,-0.9693747265380284,-0.07974487152265997,0.034705546672934025,-0.8959673617961699,-0.021441187707182185,-0.7766654634301396,0.4805850173193006,-0.8492500635977759,-2.211224007918174,-2.250192154742491,-1.3741957777675389,-0.009093389815766564,2.23134516487357,0.8774530478783776,0.43450087429221995,-0.19812913142573804,0.3144369783707955,-0.926562871054008,-0.29629367882683416,-1.0782977138537333,-1.4784196401948362,-0.32645512090688056,-0.7663910567026927,-0.6222654249262285,0.7681465847596798,2.386706616239427,0.6808715117647883,-0.1774657419590166,1.218938963909932,-0.6134301604369194,0.3723545439058522,0.6410275817754367,-0.24665465091351202,-2.5309618098311057,0.7961530978475005,0.12923271984211596,1.2326280693628313,-0.36136774120302945,0.2340587782888746,0.6034248553535082,0.5066595596956776,-0.6925840786310593,-0.5003015225399018,0.3455475657267796,0.33365453981737236,-0.9205532192755903,-0.2626712170091331,0.45034477871932777,-0.041310383330957774,-1.1739558583460423,-1.0665281388804828,-2.1134175759655616,0.97188132055067,-0.6063522070313438,0.4172485067929127,-1.3216417994002818,1.3260867850521425,0.1832930959274856,0.638577123442529,-1.555749513295139,2.4281733076277385,0.4453425415951846,-1.0100675643737924,0.4404058004304574,-0.9904695340576503,-0.428282458149643,-1.3498954821167286,-1.478886381421938,0.23051706568145464,-0.05892182529786133,-0.9367016024788103,-0.7622085517162878,0.5937253381511041,1.1928433672473235,-1.7468899682777217,0.7171005120250424,0.38205912709379447,0.4749135262565678,-1.2285015929742902,-0.3518333442150796,-0.2962352378419485,-0.5750722232738468,0.2637340239710272,-0.8925797512777627,-0.2050063683956568,1.523407840026115,-1.2032613975901485,-0.8828685783254572,0.08019814530005213,-2.2708578569354883,0.20005633204668902,-0.09784207844466804,-0.3998155393024862,0.44365798604099627,-1.2507312929599415,-1.5205147486035204,1.1435873832313297],\"yaxis\":\"y14\",\"type\":\"scatter\"},{\"line\":{\"color\":\"rgba(128, 128, 128, 1.0)\",\"dash\":\"solid\",\"shape\":\"linear\",\"width\":1.3},\"marker\":{\"size\":2,\"symbol\":\"circle\"},\"mode\":\"markers\",\"name\":\"D\",\"text\":\"\",\"x\":[2.3837865836348042,0.8337454629513709,-0.44035070497979484,0.3675640145013289,-1.4689105789596337,0.5919711719424133,1.1200824659503739,0.10709449183114861,-1.363205117051827,0.2802151197739775,0.22238681168946853,-1.3369883935832279,0.8795244078662957,-0.4682309574127068,2.154263439857636,0.5042543408665272,0.8380431803963164,2.0320004045327567,-0.4458730586188669,0.5720801773617187,0.5032501099442386,-0.04224715779108761,-0.5526566029076727,1.8765465233829777,0.48961407641982707,0.9249509675482437,0.5681082062181846,-0.17960641727452042,0.771128480871914,0.3350723329869273,-0.13585827442762177,0.005560655717367594,0.9820962360303911,0.10286779943902123,0.3615118069660571,0.4250557261317842,0.3477816419029761,-0.5219019677697857,0.0841551300710111,1.1561086796685336,1.4483073915162232,0.40737229684562326,0.6469833507006992,2.4202063822641486,-0.2644785558044118,1.9376106584922064,0.09665207271025082,-0.33423282228236395,-0.5305257354021574,0.130718683742174,0.46305393590723737,-0.4128376187788049,0.16217225699872154,0.09030729454393,0.8742108604957504,1.647032817150969,-0.7143668710181892,1.8385327810015186,-0.048191963038784674,0.5840118945787226,-2.688222641816865,-0.3553197894628702,-0.52404866228707,0.1341937465319343,0.3762970756553044,0.9934838329556147,0.7833557022459264,0.629109159974082,1.2276280265214414,-0.3495825148413494,0.4884121546400506,-2.000500517042181,-0.5283520269456001,-1.004126628466134,-2.584010933361183,0.5758503216393676,-0.36794037843087757,-0.09038686069550698,-0.035896792561200846,-0.27055291970669504,1.1810487492872002,1.329834716597255,0.6753533415919987,1.6466374430657869,-0.6440345419332062,-1.3546813179781783,0.6610326007324075,-0.7529469658037548,0.9108811752427859,0.3125883903206803,-0.266799345019069,-0.8701856397329435,0.22784583602906255,1.7901088134822656,-0.5651202795197222,-1.1550628847480657,0.5833194718209482,1.3887726399856906,0.16533850174549897,-1.3955953195610848],\"xaxis\":\"x15\",\"y\":[-0.8273066630944598,0.27331422050012766,2.8562140049146745,-0.9693747265380284,-0.07974487152265997,0.034705546672934025,-0.8959673617961699,-0.021441187707182185,-0.7766654634301396,0.4805850173193006,-0.8492500635977759,-2.211224007918174,-2.250192154742491,-1.3741957777675389,-0.009093389815766564,2.23134516487357,0.8774530478783776,0.43450087429221995,-0.19812913142573804,0.3144369783707955,-0.926562871054008,-0.29629367882683416,-1.0782977138537333,-1.4784196401948362,-0.32645512090688056,-0.7663910567026927,-0.6222654249262285,0.7681465847596798,2.386706616239427,0.6808715117647883,-0.1774657419590166,1.218938963909932,-0.6134301604369194,0.3723545439058522,0.6410275817754367,-0.24665465091351202,-2.5309618098311057,0.7961530978475005,0.12923271984211596,1.2326280693628313,-0.36136774120302945,0.2340587782888746,0.6034248553535082,0.5066595596956776,-0.6925840786310593,-0.5003015225399018,0.3455475657267796,0.33365453981737236,-0.9205532192755903,-0.2626712170091331,0.45034477871932777,-0.041310383330957774,-1.1739558583460423,-1.0665281388804828,-2.1134175759655616,0.97188132055067,-0.6063522070313438,0.4172485067929127,-1.3216417994002818,1.3260867850521425,0.1832930959274856,0.638577123442529,-1.555749513295139,2.4281733076277385,0.4453425415951846,-1.0100675643737924,0.4404058004304574,-0.9904695340576503,-0.428282458149643,-1.3498954821167286,-1.478886381421938,0.23051706568145464,-0.05892182529786133,-0.9367016024788103,-0.7622085517162878,0.5937253381511041,1.1928433672473235,-1.7468899682777217,0.7171005120250424,0.38205912709379447,0.4749135262565678,-1.2285015929742902,-0.3518333442150796,-0.2962352378419485,-0.5750722232738468,0.2637340239710272,-0.8925797512777627,-0.2050063683956568,1.523407840026115,-1.2032613975901485,-0.8828685783254572,0.08019814530005213,-2.2708578569354883,0.20005633204668902,-0.09784207844466804,-0.3998155393024862,0.44365798604099627,-1.2507312929599415,-1.5205147486035204,1.1435873832313297],\"yaxis\":\"y15\",\"type\":\"scatter\"},{\"histfunc\":\"count\",\"histnorm\":\"\",\"marker\":{\"color\":\"rgba(128, 0, 128, 1.0)\",\"line\":{\"color\":\"#4D5663\",\"width\":1.3}},\"name\":\"D\",\"nbinsx\":10,\"opacity\":0.8,\"orientation\":\"v\",\"x\":[-0.8273066630944598,0.27331422050012766,2.8562140049146745,-0.9693747265380284,-0.07974487152265997,0.034705546672934025,-0.8959673617961699,-0.021441187707182185,-0.7766654634301396,0.4805850173193006,-0.8492500635977759,-2.211224007918174,-2.250192154742491,-1.3741957777675389,-0.009093389815766564,2.23134516487357,0.8774530478783776,0.43450087429221995,-0.19812913142573804,0.3144369783707955,-0.926562871054008,-0.29629367882683416,-1.0782977138537333,-1.4784196401948362,-0.32645512090688056,-0.7663910567026927,-0.6222654249262285,0.7681465847596798,2.386706616239427,0.6808715117647883,-0.1774657419590166,1.218938963909932,-0.6134301604369194,0.3723545439058522,0.6410275817754367,-0.24665465091351202,-2.5309618098311057,0.7961530978475005,0.12923271984211596,1.2326280693628313,-0.36136774120302945,0.2340587782888746,0.6034248553535082,0.5066595596956776,-0.6925840786310593,-0.5003015225399018,0.3455475657267796,0.33365453981737236,-0.9205532192755903,-0.2626712170091331,0.45034477871932777,-0.041310383330957774,-1.1739558583460423,-1.0665281388804828,-2.1134175759655616,0.97188132055067,-0.6063522070313438,0.4172485067929127,-1.3216417994002818,1.3260867850521425,0.1832930959274856,0.638577123442529,-1.555749513295139,2.4281733076277385,0.4453425415951846,-1.0100675643737924,0.4404058004304574,-0.9904695340576503,-0.428282458149643,-1.3498954821167286,-1.478886381421938,0.23051706568145464,-0.05892182529786133,-0.9367016024788103,-0.7622085517162878,0.5937253381511041,1.1928433672473235,-1.7468899682777217,0.7171005120250424,0.38205912709379447,0.4749135262565678,-1.2285015929742902,-0.3518333442150796,-0.2962352378419485,-0.5750722232738468,0.2637340239710272,-0.8925797512777627,-0.2050063683956568,1.523407840026115,-1.2032613975901485,-0.8828685783254572,0.08019814530005213,-2.2708578569354883,0.20005633204668902,-0.09784207844466804,-0.3998155393024862,0.44365798604099627,-1.2507312929599415,-1.5205147486035204,1.1435873832313297],\"xaxis\":\"x16\",\"yaxis\":\"y16\",\"type\":\"histogram\"}],                        {\"bargap\":0.02,\"legend\":{\"bgcolor\":\"#F5F6F9\",\"font\":{\"color\":\"#4D5663\"}},\"paper_bgcolor\":\"#F5F6F9\",\"plot_bgcolor\":\"#F5F6F9\",\"showlegend\":false,\"template\":{\"data\":{\"barpolar\":[{\"marker\":{\"line\":{\"color\":\"#E5ECF6\",\"width\":0.5},\"pattern\":{\"fillmode\":\"overlay\",\"size\":10,\"solidity\":0.2}},\"type\":\"barpolar\"}],\"bar\":[{\"error_x\":{\"color\":\"#2a3f5f\"},\"error_y\":{\"color\":\"#2a3f5f\"},\"marker\":{\"line\":{\"color\":\"#E5ECF6\",\"width\":0.5},\"pattern\":{\"fillmode\":\"overlay\",\"size\":10,\"solidity\":0.2}},\"type\":\"bar\"}],\"carpet\":[{\"aaxis\":{\"endlinecolor\":\"#2a3f5f\",\"gridcolor\":\"white\",\"linecolor\":\"white\",\"minorgridcolor\":\"white\",\"startlinecolor\":\"#2a3f5f\"},\"baxis\":{\"endlinecolor\":\"#2a3f5f\",\"gridcolor\":\"white\",\"linecolor\":\"white\",\"minorgridcolor\":\"white\",\"startlinecolor\":\"#2a3f5f\"},\"type\":\"carpet\"}],\"choropleth\":[{\"colorbar\":{\"outlinewidth\":0,\"ticks\":\"\"},\"type\":\"choropleth\"}],\"contourcarpet\":[{\"colorbar\":{\"outlinewidth\":0,\"ticks\":\"\"},\"type\":\"contourcarpet\"}],\"contour\":[{\"colorbar\":{\"outlinewidth\":0,\"ticks\":\"\"},\"colorscale\":[[0.0,\"#0d0887\"],[0.1111111111111111,\"#46039f\"],[0.2222222222222222,\"#7201a8\"],[0.3333333333333333,\"#9c179e\"],[0.4444444444444444,\"#bd3786\"],[0.5555555555555556,\"#d8576b\"],[0.6666666666666666,\"#ed7953\"],[0.7777777777777778,\"#fb9f3a\"],[0.8888888888888888,\"#fdca26\"],[1.0,\"#f0f921\"]],\"type\":\"contour\"}],\"heatmapgl\":[{\"colorbar\":{\"outlinewidth\":0,\"ticks\":\"\"},\"colorscale\":[[0.0,\"#0d0887\"],[0.1111111111111111,\"#46039f\"],[0.2222222222222222,\"#7201a8\"],[0.3333333333333333,\"#9c179e\"],[0.4444444444444444,\"#bd3786\"],[0.5555555555555556,\"#d8576b\"],[0.6666666666666666,\"#ed7953\"],[0.7777777777777778,\"#fb9f3a\"],[0.8888888888888888,\"#fdca26\"],[1.0,\"#f0f921\"]],\"type\":\"heatmapgl\"}],\"heatmap\":[{\"colorbar\":{\"outlinewidth\":0,\"ticks\":\"\"},\"colorscale\":[[0.0,\"#0d0887\"],[0.1111111111111111,\"#46039f\"],[0.2222222222222222,\"#7201a8\"],[0.3333333333333333,\"#9c179e\"],[0.4444444444444444,\"#bd3786\"],[0.5555555555555556,\"#d8576b\"],[0.6666666666666666,\"#ed7953\"],[0.7777777777777778,\"#fb9f3a\"],[0.8888888888888888,\"#fdca26\"],[1.0,\"#f0f921\"]],\"type\":\"heatmap\"}],\"histogram2dcontour\":[{\"colorbar\":{\"outlinewidth\":0,\"ticks\":\"\"},\"colorscale\":[[0.0,\"#0d0887\"],[0.1111111111111111,\"#46039f\"],[0.2222222222222222,\"#7201a8\"],[0.3333333333333333,\"#9c179e\"],[0.4444444444444444,\"#bd3786\"],[0.5555555555555556,\"#d8576b\"],[0.6666666666666666,\"#ed7953\"],[0.7777777777777778,\"#fb9f3a\"],[0.8888888888888888,\"#fdca26\"],[1.0,\"#f0f921\"]],\"type\":\"histogram2dcontour\"}],\"histogram2d\":[{\"colorbar\":{\"outlinewidth\":0,\"ticks\":\"\"},\"colorscale\":[[0.0,\"#0d0887\"],[0.1111111111111111,\"#46039f\"],[0.2222222222222222,\"#7201a8\"],[0.3333333333333333,\"#9c179e\"],[0.4444444444444444,\"#bd3786\"],[0.5555555555555556,\"#d8576b\"],[0.6666666666666666,\"#ed7953\"],[0.7777777777777778,\"#fb9f3a\"],[0.8888888888888888,\"#fdca26\"],[1.0,\"#f0f921\"]],\"type\":\"histogram2d\"}],\"histogram\":[{\"marker\":{\"pattern\":{\"fillmode\":\"overlay\",\"size\":10,\"solidity\":0.2}},\"type\":\"histogram\"}],\"mesh3d\":[{\"colorbar\":{\"outlinewidth\":0,\"ticks\":\"\"},\"type\":\"mesh3d\"}],\"parcoords\":[{\"line\":{\"colorbar\":{\"outlinewidth\":0,\"ticks\":\"\"}},\"type\":\"parcoords\"}],\"pie\":[{\"automargin\":true,\"type\":\"pie\"}],\"scatter3d\":[{\"line\":{\"colorbar\":{\"outlinewidth\":0,\"ticks\":\"\"}},\"marker\":{\"colorbar\":{\"outlinewidth\":0,\"ticks\":\"\"}},\"type\":\"scatter3d\"}],\"scattercarpet\":[{\"marker\":{\"colorbar\":{\"outlinewidth\":0,\"ticks\":\"\"}},\"type\":\"scattercarpet\"}],\"scattergeo\":[{\"marker\":{\"colorbar\":{\"outlinewidth\":0,\"ticks\":\"\"}},\"type\":\"scattergeo\"}],\"scattergl\":[{\"marker\":{\"colorbar\":{\"outlinewidth\":0,\"ticks\":\"\"}},\"type\":\"scattergl\"}],\"scattermapbox\":[{\"marker\":{\"colorbar\":{\"outlinewidth\":0,\"ticks\":\"\"}},\"type\":\"scattermapbox\"}],\"scatterpolargl\":[{\"marker\":{\"colorbar\":{\"outlinewidth\":0,\"ticks\":\"\"}},\"type\":\"scatterpolargl\"}],\"scatterpolar\":[{\"marker\":{\"colorbar\":{\"outlinewidth\":0,\"ticks\":\"\"}},\"type\":\"scatterpolar\"}],\"scatter\":[{\"fillpattern\":{\"fillmode\":\"overlay\",\"size\":10,\"solidity\":0.2},\"type\":\"scatter\"}],\"scatterternary\":[{\"marker\":{\"colorbar\":{\"outlinewidth\":0,\"ticks\":\"\"}},\"type\":\"scatterternary\"}],\"surface\":[{\"colorbar\":{\"outlinewidth\":0,\"ticks\":\"\"},\"colorscale\":[[0.0,\"#0d0887\"],[0.1111111111111111,\"#46039f\"],[0.2222222222222222,\"#7201a8\"],[0.3333333333333333,\"#9c179e\"],[0.4444444444444444,\"#bd3786\"],[0.5555555555555556,\"#d8576b\"],[0.6666666666666666,\"#ed7953\"],[0.7777777777777778,\"#fb9f3a\"],[0.8888888888888888,\"#fdca26\"],[1.0,\"#f0f921\"]],\"type\":\"surface\"}],\"table\":[{\"cells\":{\"fill\":{\"color\":\"#EBF0F8\"},\"line\":{\"color\":\"white\"}},\"header\":{\"fill\":{\"color\":\"#C8D4E3\"},\"line\":{\"color\":\"white\"}},\"type\":\"table\"}]},\"layout\":{\"annotationdefaults\":{\"arrowcolor\":\"#2a3f5f\",\"arrowhead\":0,\"arrowwidth\":1},\"autotypenumbers\":\"strict\",\"coloraxis\":{\"colorbar\":{\"outlinewidth\":0,\"ticks\":\"\"}},\"colorscale\":{\"diverging\":[[0,\"#8e0152\"],[0.1,\"#c51b7d\"],[0.2,\"#de77ae\"],[0.3,\"#f1b6da\"],[0.4,\"#fde0ef\"],[0.5,\"#f7f7f7\"],[0.6,\"#e6f5d0\"],[0.7,\"#b8e186\"],[0.8,\"#7fbc41\"],[0.9,\"#4d9221\"],[1,\"#276419\"]],\"sequential\":[[0.0,\"#0d0887\"],[0.1111111111111111,\"#46039f\"],[0.2222222222222222,\"#7201a8\"],[0.3333333333333333,\"#9c179e\"],[0.4444444444444444,\"#bd3786\"],[0.5555555555555556,\"#d8576b\"],[0.6666666666666666,\"#ed7953\"],[0.7777777777777778,\"#fb9f3a\"],[0.8888888888888888,\"#fdca26\"],[1.0,\"#f0f921\"]],\"sequentialminus\":[[0.0,\"#0d0887\"],[0.1111111111111111,\"#46039f\"],[0.2222222222222222,\"#7201a8\"],[0.3333333333333333,\"#9c179e\"],[0.4444444444444444,\"#bd3786\"],[0.5555555555555556,\"#d8576b\"],[0.6666666666666666,\"#ed7953\"],[0.7777777777777778,\"#fb9f3a\"],[0.8888888888888888,\"#fdca26\"],[1.0,\"#f0f921\"]]},\"colorway\":[\"#636efa\",\"#EF553B\",\"#00cc96\",\"#ab63fa\",\"#FFA15A\",\"#19d3f3\",\"#FF6692\",\"#B6E880\",\"#FF97FF\",\"#FECB52\"],\"font\":{\"color\":\"#2a3f5f\"},\"geo\":{\"bgcolor\":\"white\",\"lakecolor\":\"white\",\"landcolor\":\"#E5ECF6\",\"showlakes\":true,\"showland\":true,\"subunitcolor\":\"white\"},\"hoverlabel\":{\"align\":\"left\"},\"hovermode\":\"closest\",\"mapbox\":{\"style\":\"light\"},\"paper_bgcolor\":\"white\",\"plot_bgcolor\":\"#E5ECF6\",\"polar\":{\"angularaxis\":{\"gridcolor\":\"white\",\"linecolor\":\"white\",\"ticks\":\"\"},\"bgcolor\":\"#E5ECF6\",\"radialaxis\":{\"gridcolor\":\"white\",\"linecolor\":\"white\",\"ticks\":\"\"}},\"scene\":{\"xaxis\":{\"backgroundcolor\":\"#E5ECF6\",\"gridcolor\":\"white\",\"gridwidth\":2,\"linecolor\":\"white\",\"showbackground\":true,\"ticks\":\"\",\"zerolinecolor\":\"white\"},\"yaxis\":{\"backgroundcolor\":\"#E5ECF6\",\"gridcolor\":\"white\",\"gridwidth\":2,\"linecolor\":\"white\",\"showbackground\":true,\"ticks\":\"\",\"zerolinecolor\":\"white\"},\"zaxis\":{\"backgroundcolor\":\"#E5ECF6\",\"gridcolor\":\"white\",\"gridwidth\":2,\"linecolor\":\"white\",\"showbackground\":true,\"ticks\":\"\",\"zerolinecolor\":\"white\"}},\"shapedefaults\":{\"line\":{\"color\":\"#2a3f5f\"}},\"ternary\":{\"aaxis\":{\"gridcolor\":\"white\",\"linecolor\":\"white\",\"ticks\":\"\"},\"baxis\":{\"gridcolor\":\"white\",\"linecolor\":\"white\",\"ticks\":\"\"},\"bgcolor\":\"#E5ECF6\",\"caxis\":{\"gridcolor\":\"white\",\"linecolor\":\"white\",\"ticks\":\"\"}},\"title\":{\"x\":0.05},\"xaxis\":{\"automargin\":true,\"gridcolor\":\"white\",\"linecolor\":\"white\",\"ticks\":\"\",\"title\":{\"standoff\":15},\"zerolinecolor\":\"white\",\"zerolinewidth\":2},\"yaxis\":{\"automargin\":true,\"gridcolor\":\"white\",\"linecolor\":\"white\",\"ticks\":\"\",\"title\":{\"standoff\":15},\"zerolinecolor\":\"white\",\"zerolinewidth\":2}}},\"title\":{\"font\":{\"color\":\"#4D5663\"}},\"xaxis\":{\"anchor\":\"y\",\"domain\":[0.0,0.2125],\"gridcolor\":\"#E1E5ED\",\"showgrid\":false,\"tickfont\":{\"color\":\"#4D5663\"},\"title\":{\"font\":{\"color\":\"#4D5663\"},\"text\":\"\"},\"zerolinecolor\":\"#E1E5ED\"},\"yaxis\":{\"anchor\":\"x\",\"domain\":[0.8025,1.0],\"gridcolor\":\"#E1E5ED\",\"showgrid\":false,\"tickfont\":{\"color\":\"#4D5663\"},\"title\":{\"font\":{\"color\":\"#4D5663\"},\"text\":\"\"},\"zerolinecolor\":\"#E1E5ED\"},\"xaxis2\":{\"anchor\":\"y2\",\"domain\":[0.2625,0.475],\"gridcolor\":\"#E1E5ED\",\"showgrid\":false,\"tickfont\":{\"color\":\"#4D5663\"},\"title\":{\"font\":{\"color\":\"#4D5663\"},\"text\":\"\"},\"zerolinecolor\":\"#E1E5ED\"},\"yaxis2\":{\"anchor\":\"x2\",\"domain\":[0.8025,1.0],\"gridcolor\":\"#E1E5ED\",\"showgrid\":false,\"tickfont\":{\"color\":\"#4D5663\"},\"title\":{\"font\":{\"color\":\"#4D5663\"},\"text\":\"\"},\"zerolinecolor\":\"#E1E5ED\"},\"xaxis3\":{\"anchor\":\"y3\",\"domain\":[0.525,0.7375],\"gridcolor\":\"#E1E5ED\",\"showgrid\":false,\"tickfont\":{\"color\":\"#4D5663\"},\"title\":{\"font\":{\"color\":\"#4D5663\"},\"text\":\"\"},\"zerolinecolor\":\"#E1E5ED\"},\"yaxis3\":{\"anchor\":\"x3\",\"domain\":[0.8025,1.0],\"gridcolor\":\"#E1E5ED\",\"showgrid\":false,\"tickfont\":{\"color\":\"#4D5663\"},\"title\":{\"font\":{\"color\":\"#4D5663\"},\"text\":\"\"},\"zerolinecolor\":\"#E1E5ED\"},\"xaxis4\":{\"anchor\":\"y4\",\"domain\":[0.7875,1.0],\"gridcolor\":\"#E1E5ED\",\"showgrid\":false,\"tickfont\":{\"color\":\"#4D5663\"},\"title\":{\"font\":{\"color\":\"#4D5663\"},\"text\":\"\"},\"zerolinecolor\":\"#E1E5ED\"},\"yaxis4\":{\"anchor\":\"x4\",\"domain\":[0.8025,1.0],\"gridcolor\":\"#E1E5ED\",\"showgrid\":false,\"tickfont\":{\"color\":\"#4D5663\"},\"title\":{\"font\":{\"color\":\"#4D5663\"},\"text\":\"\"},\"zerolinecolor\":\"#E1E5ED\"},\"xaxis5\":{\"anchor\":\"y5\",\"domain\":[0.0,0.2125],\"gridcolor\":\"#E1E5ED\",\"showgrid\":false,\"tickfont\":{\"color\":\"#4D5663\"},\"title\":{\"font\":{\"color\":\"#4D5663\"},\"text\":\"\"},\"zerolinecolor\":\"#E1E5ED\"},\"yaxis5\":{\"anchor\":\"x5\",\"domain\":[0.535,0.7325],\"gridcolor\":\"#E1E5ED\",\"showgrid\":false,\"tickfont\":{\"color\":\"#4D5663\"},\"title\":{\"font\":{\"color\":\"#4D5663\"},\"text\":\"\"},\"zerolinecolor\":\"#E1E5ED\"},\"xaxis6\":{\"anchor\":\"y6\",\"domain\":[0.2625,0.475],\"gridcolor\":\"#E1E5ED\",\"showgrid\":false,\"tickfont\":{\"color\":\"#4D5663\"},\"title\":{\"font\":{\"color\":\"#4D5663\"},\"text\":\"\"},\"zerolinecolor\":\"#E1E5ED\"},\"yaxis6\":{\"anchor\":\"x6\",\"domain\":[0.535,0.7325],\"gridcolor\":\"#E1E5ED\",\"showgrid\":false,\"tickfont\":{\"color\":\"#4D5663\"},\"title\":{\"font\":{\"color\":\"#4D5663\"},\"text\":\"\"},\"zerolinecolor\":\"#E1E5ED\"},\"xaxis7\":{\"anchor\":\"y7\",\"domain\":[0.525,0.7375],\"gridcolor\":\"#E1E5ED\",\"showgrid\":false,\"tickfont\":{\"color\":\"#4D5663\"},\"title\":{\"font\":{\"color\":\"#4D5663\"},\"text\":\"\"},\"zerolinecolor\":\"#E1E5ED\"},\"yaxis7\":{\"anchor\":\"x7\",\"domain\":[0.535,0.7325],\"gridcolor\":\"#E1E5ED\",\"showgrid\":false,\"tickfont\":{\"color\":\"#4D5663\"},\"title\":{\"font\":{\"color\":\"#4D5663\"},\"text\":\"\"},\"zerolinecolor\":\"#E1E5ED\"},\"xaxis8\":{\"anchor\":\"y8\",\"domain\":[0.7875,1.0],\"gridcolor\":\"#E1E5ED\",\"showgrid\":false,\"tickfont\":{\"color\":\"#4D5663\"},\"title\":{\"font\":{\"color\":\"#4D5663\"},\"text\":\"\"},\"zerolinecolor\":\"#E1E5ED\"},\"yaxis8\":{\"anchor\":\"x8\",\"domain\":[0.535,0.7325],\"gridcolor\":\"#E1E5ED\",\"showgrid\":false,\"tickfont\":{\"color\":\"#4D5663\"},\"title\":{\"font\":{\"color\":\"#4D5663\"},\"text\":\"\"},\"zerolinecolor\":\"#E1E5ED\"},\"xaxis9\":{\"anchor\":\"y9\",\"domain\":[0.0,0.2125],\"gridcolor\":\"#E1E5ED\",\"showgrid\":false,\"tickfont\":{\"color\":\"#4D5663\"},\"title\":{\"font\":{\"color\":\"#4D5663\"},\"text\":\"\"},\"zerolinecolor\":\"#E1E5ED\"},\"yaxis9\":{\"anchor\":\"x9\",\"domain\":[0.2675,0.465],\"gridcolor\":\"#E1E5ED\",\"showgrid\":false,\"tickfont\":{\"color\":\"#4D5663\"},\"title\":{\"font\":{\"color\":\"#4D5663\"},\"text\":\"\"},\"zerolinecolor\":\"#E1E5ED\"},\"xaxis10\":{\"anchor\":\"y10\",\"domain\":[0.2625,0.475],\"gridcolor\":\"#E1E5ED\",\"showgrid\":false,\"tickfont\":{\"color\":\"#4D5663\"},\"title\":{\"font\":{\"color\":\"#4D5663\"},\"text\":\"\"},\"zerolinecolor\":\"#E1E5ED\"},\"yaxis10\":{\"anchor\":\"x10\",\"domain\":[0.2675,0.465],\"gridcolor\":\"#E1E5ED\",\"showgrid\":false,\"tickfont\":{\"color\":\"#4D5663\"},\"title\":{\"font\":{\"color\":\"#4D5663\"},\"text\":\"\"},\"zerolinecolor\":\"#E1E5ED\"},\"xaxis11\":{\"anchor\":\"y11\",\"domain\":[0.525,0.7375],\"gridcolor\":\"#E1E5ED\",\"showgrid\":false,\"tickfont\":{\"color\":\"#4D5663\"},\"title\":{\"font\":{\"color\":\"#4D5663\"},\"text\":\"\"},\"zerolinecolor\":\"#E1E5ED\"},\"yaxis11\":{\"anchor\":\"x11\",\"domain\":[0.2675,0.465],\"gridcolor\":\"#E1E5ED\",\"showgrid\":false,\"tickfont\":{\"color\":\"#4D5663\"},\"title\":{\"font\":{\"color\":\"#4D5663\"},\"text\":\"\"},\"zerolinecolor\":\"#E1E5ED\"},\"xaxis12\":{\"anchor\":\"y12\",\"domain\":[0.7875,1.0],\"gridcolor\":\"#E1E5ED\",\"showgrid\":false,\"tickfont\":{\"color\":\"#4D5663\"},\"title\":{\"font\":{\"color\":\"#4D5663\"},\"text\":\"\"},\"zerolinecolor\":\"#E1E5ED\"},\"yaxis12\":{\"anchor\":\"x12\",\"domain\":[0.2675,0.465],\"gridcolor\":\"#E1E5ED\",\"showgrid\":false,\"tickfont\":{\"color\":\"#4D5663\"},\"title\":{\"font\":{\"color\":\"#4D5663\"},\"text\":\"\"},\"zerolinecolor\":\"#E1E5ED\"},\"xaxis13\":{\"anchor\":\"y13\",\"domain\":[0.0,0.2125],\"gridcolor\":\"#E1E5ED\",\"showgrid\":false,\"tickfont\":{\"color\":\"#4D5663\"},\"title\":{\"font\":{\"color\":\"#4D5663\"},\"text\":\"\"},\"zerolinecolor\":\"#E1E5ED\"},\"yaxis13\":{\"anchor\":\"x13\",\"domain\":[0.0,0.1975],\"gridcolor\":\"#E1E5ED\",\"showgrid\":false,\"tickfont\":{\"color\":\"#4D5663\"},\"title\":{\"font\":{\"color\":\"#4D5663\"},\"text\":\"\"},\"zerolinecolor\":\"#E1E5ED\"},\"xaxis14\":{\"anchor\":\"y14\",\"domain\":[0.2625,0.475],\"gridcolor\":\"#E1E5ED\",\"showgrid\":false,\"tickfont\":{\"color\":\"#4D5663\"},\"title\":{\"font\":{\"color\":\"#4D5663\"},\"text\":\"\"},\"zerolinecolor\":\"#E1E5ED\"},\"yaxis14\":{\"anchor\":\"x14\",\"domain\":[0.0,0.1975],\"gridcolor\":\"#E1E5ED\",\"showgrid\":false,\"tickfont\":{\"color\":\"#4D5663\"},\"title\":{\"font\":{\"color\":\"#4D5663\"},\"text\":\"\"},\"zerolinecolor\":\"#E1E5ED\"},\"xaxis15\":{\"anchor\":\"y15\",\"domain\":[0.525,0.7375],\"gridcolor\":\"#E1E5ED\",\"showgrid\":false,\"tickfont\":{\"color\":\"#4D5663\"},\"title\":{\"font\":{\"color\":\"#4D5663\"},\"text\":\"\"},\"zerolinecolor\":\"#E1E5ED\"},\"yaxis15\":{\"anchor\":\"x15\",\"domain\":[0.0,0.1975],\"gridcolor\":\"#E1E5ED\",\"showgrid\":false,\"tickfont\":{\"color\":\"#4D5663\"},\"title\":{\"font\":{\"color\":\"#4D5663\"},\"text\":\"\"},\"zerolinecolor\":\"#E1E5ED\"},\"xaxis16\":{\"anchor\":\"y16\",\"domain\":[0.7875,1.0],\"gridcolor\":\"#E1E5ED\",\"showgrid\":false,\"tickfont\":{\"color\":\"#4D5663\"},\"title\":{\"font\":{\"color\":\"#4D5663\"},\"text\":\"\"},\"zerolinecolor\":\"#E1E5ED\"},\"yaxis16\":{\"anchor\":\"x16\",\"domain\":[0.0,0.1975],\"gridcolor\":\"#E1E5ED\",\"showgrid\":false,\"tickfont\":{\"color\":\"#4D5663\"},\"title\":{\"font\":{\"color\":\"#4D5663\"},\"text\":\"\"},\"zerolinecolor\":\"#E1E5ED\"}},                        {\"showLink\": true, \"linkText\": \"Export to plot.ly\", \"plotlyServerURL\": \"https://plot.ly\", \"responsive\": true}                    ).then(function(){\n",
       "                            \n",
       "var gd = document.getElementById('f4d52410-5f0e-4c13-9f90-25139825e957');\n",
       "var x = new MutationObserver(function (mutations, observer) {{\n",
       "        var display = window.getComputedStyle(gd).display;\n",
       "        if (!display || display === 'none') {{\n",
       "            console.log([gd, 'removed!']);\n",
       "            Plotly.purge(gd);\n",
       "            observer.disconnect();\n",
       "        }}\n",
       "}});\n",
       "\n",
       "// Listen for the removal of the full notebook cells\n",
       "var notebookContainer = gd.closest('#notebook-container');\n",
       "if (notebookContainer) {{\n",
       "    x.observe(notebookContainer, {childList: true});\n",
       "}}\n",
       "\n",
       "// Listen for the clearing of the current output cell\n",
       "var outputEl = gd.closest('.output');\n",
       "if (outputEl) {{\n",
       "    x.observe(outputEl, {childList: true});\n",
       "}}\n",
       "\n",
       "                        })                };                });            </script>        </div>"
      ]
     },
     "metadata": {},
     "output_type": "display_data"
    }
   ],
   "source": [
    "df.scatter_matrix()"
   ]
  },
  {
   "cell_type": "code",
   "execution_count": null,
   "id": "ef54196a",
   "metadata": {},
   "outputs": [],
   "source": []
  }
 ],
 "metadata": {
  "kernelspec": {
   "display_name": "Python 3 (ipykernel)",
   "language": "python",
   "name": "python3"
  },
  "language_info": {
   "codemirror_mode": {
    "name": "ipython",
    "version": 3
   },
   "file_extension": ".py",
   "mimetype": "text/x-python",
   "name": "python",
   "nbconvert_exporter": "python",
   "pygments_lexer": "ipython3",
   "version": "3.9.7"
  }
 },
 "nbformat": 4,
 "nbformat_minor": 5
}
