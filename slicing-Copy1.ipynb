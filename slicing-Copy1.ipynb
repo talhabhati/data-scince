{
 "cells": [
  {
   "cell_type": "code",
   "execution_count": 1,
   "id": "37aef77d",
   "metadata": {},
   "outputs": [
    {
     "name": "stdout",
     "output_type": "stream",
     "text": [
      "talha\n"
     ]
    }
   ],
   "source": [
    "print('talha')"
   ]
  },
  {
   "cell_type": "code",
   "execution_count": 2,
   "id": "f4d6b584",
   "metadata": {},
   "outputs": [
    {
     "data": {
      "text/plain": [
       "'thi \\nis \\na bok\\n'"
      ]
     },
     "execution_count": 2,
     "metadata": {},
     "output_type": "execute_result"
    }
   ],
   "source": [
    "'''thi \n",
    "is \n",
    "a bok\n",
    "'''"
   ]
  },
  {
   "cell_type": "code",
   "execution_count": 3,
   "id": "de010e3a",
   "metadata": {},
   "outputs": [
    {
     "name": "stdout",
     "output_type": "stream",
     "text": [
      "ksdds\n",
      "\n",
      "utd\n",
      "\n"
     ]
    }
   ],
   "source": [
    "print('ksdds\\n')      #next line ma lana k liye \\n ha\n",
    "print('utd\\n')"
   ]
  },
  {
   "cell_type": "code",
   "execution_count": 5,
   "id": "3adec2b8",
   "metadata": {},
   "outputs": [
    {
     "data": {
      "text/plain": [
       "'sdfjf\\n \\nakljdjad\\n\\nsdfsdf'"
      ]
     },
     "execution_count": 5,
     "metadata": {},
     "output_type": "execute_result"
    }
   ],
   "source": [
    "'''sdfjf\\n \n",
    "akljdjad\\n\n",
    "sdfsdf'''"
   ]
  },
  {
   "cell_type": "code",
   "execution_count": 6,
   "id": "b2bf8f9e",
   "metadata": {},
   "outputs": [
    {
     "name": "stdout",
     "output_type": "stream",
     "text": [
      "0\n"
     ]
    }
   ],
   "source": [
    "print(3%3)"
   ]
  },
  {
   "cell_type": "code",
   "execution_count": 13,
   "id": "9036bc48",
   "metadata": {},
   "outputs": [
    {
     "data": {
      "text/plain": [
       "1"
      ]
     },
     "execution_count": 13,
     "metadata": {},
     "output_type": "execute_result"
    }
   ],
   "source": [
    "name='mustansar'\n",
    "name.count('m')\n"
   ]
  },
  {
   "cell_type": "code",
   "execution_count": 16,
   "id": "592ebf69",
   "metadata": {},
   "outputs": [
    {
     "data": {
      "text/plain": [
       "2"
      ]
     },
     "execution_count": 16,
     "metadata": {},
     "output_type": "execute_result"
    }
   ],
   "source": [
    "name.find('s')"
   ]
  },
  {
   "cell_type": "code",
   "execution_count": 21,
   "id": "96bcd615",
   "metadata": {},
   "outputs": [
    {
     "data": {
      "text/plain": [
       "'utna'"
      ]
     },
     "execution_count": 21,
     "metadata": {},
     "output_type": "execute_result"
    }
   ],
   "source": [
    "name[1:8:2]    #list ka programe"
   ]
  },
  {
   "cell_type": "code",
   "execution_count": 24,
   "id": "460e1c92",
   "metadata": {},
   "outputs": [
    {
     "data": {
      "text/plain": [
       "9"
      ]
     },
     "execution_count": 24,
     "metadata": {},
     "output_type": "execute_result"
    }
   ],
   "source": [
    "len(name)"
   ]
  },
  {
   "cell_type": "code",
   "execution_count": 25,
   "id": "4e7db723",
   "metadata": {},
   "outputs": [
    {
     "data": {
      "text/plain": [
       "'mugtangar'"
      ]
     },
     "execution_count": 25,
     "metadata": {},
     "output_type": "execute_result"
    }
   ],
   "source": [
    "name.replace('s','g')"
   ]
  },
  {
   "cell_type": "code",
   "execution_count": 30,
   "id": "225d0eb3",
   "metadata": {},
   "outputs": [
    {
     "data": {
      "text/plain": [
       "['orange', 4, True]"
      ]
     },
     "execution_count": 30,
     "metadata": {},
     "output_type": "execute_result"
    }
   ],
   "source": [
    "dummy=['apple','orange',4,True]\n",
    "dummy[1:4]\n"
   ]
  },
  {
   "cell_type": "code",
   "execution_count": 29,
   "id": "23d1fbdf",
   "metadata": {},
   "outputs": [
    {
     "data": {
      "text/plain": [
       "[4, True]"
      ]
     },
     "execution_count": 29,
     "metadata": {},
     "output_type": "execute_result"
    }
   ],
   "source": [
    "dummy[2:]   #"
   ]
  },
  {
   "cell_type": "code",
   "execution_count": 64,
   "id": "45a7509b",
   "metadata": {},
   "outputs": [
    {
     "data": {
      "text/plain": [
       "[1, 2, 3, 4, 5, 6]"
      ]
     },
     "execution_count": 64,
     "metadata": {},
     "output_type": "execute_result"
    }
   ],
   "source": [
    "l1=[1,3,5,2,4,6]    #irregular array \n",
    "l1.sort()        #sort usko arrange karega\n",
    "l1"
   ]
  },
  {
   "cell_type": "code",
   "execution_count": 65,
   "id": "39d22b23",
   "metadata": {},
   "outputs": [
    {
     "data": {
      "text/plain": [
       "[1, 2, 3, 4, 9, 5, 6]"
      ]
     },
     "execution_count": 65,
     "metadata": {},
     "output_type": "execute_result"
    }
   ],
   "source": [
    "l1.insert(4,9)     #4 index pe 9 layega\n",
    "l1"
   ]
  },
  {
   "cell_type": "code",
   "execution_count": 66,
   "id": "8e43b7bb",
   "metadata": {},
   "outputs": [
    {
     "data": {
      "text/plain": [
       "[1, 2, 3, 4, 9, 5]"
      ]
     },
     "execution_count": 66,
     "metadata": {},
     "output_type": "execute_result"
    }
   ],
   "source": [
    "l1.pop()     #last element nikalaga list ka\n",
    "l1"
   ]
  },
  {
   "cell_type": "code",
   "execution_count": 67,
   "id": "0f5897ad",
   "metadata": {},
   "outputs": [
    {
     "data": {
      "text/plain": [
       "[1, 2, 3, 4, 9]"
      ]
     },
     "execution_count": 67,
     "metadata": {},
     "output_type": "execute_result"
    }
   ],
   "source": [
    "l1.remove(5)     # 5 agar hoa tu remove karega na hoa tu error dega\n",
    "l1"
   ]
  },
  {
   "cell_type": "code",
   "execution_count": 69,
   "id": "00090a15",
   "metadata": {},
   "outputs": [
    {
     "data": {
      "text/plain": [
       "4"
      ]
     },
     "execution_count": 69,
     "metadata": {},
     "output_type": "execute_result"
    }
   ],
   "source": [
    "l1.index(9)     #index 4 pe konsa elemnt ha btaiga"
   ]
  },
  {
   "cell_type": "code",
   "execution_count": 53,
   "id": "1972fe1b",
   "metadata": {},
   "outputs": [
    {
     "data": {
      "text/plain": [
       "1"
      ]
     },
     "execution_count": 53,
     "metadata": {},
     "output_type": "execute_result"
    }
   ],
   "source": [
    "#tuple ka programme\n",
    "#tuple immutable ha edit nhi hoga\n",
    "#baqi is per .count   aur .inex  k programe laga kar bus dekh sate ha\n",
    "t1=(1,2,3)\n",
    "t1.count(3)"
   ]
  },
  {
   "cell_type": "code",
   "execution_count": 57,
   "id": "2cabf7c8",
   "metadata": {},
   "outputs": [
    {
     "data": {
      "text/plain": [
       "2"
      ]
     },
     "execution_count": 57,
     "metadata": {},
     "output_type": "execute_result"
    }
   ],
   "source": [
    "#kisi bhi element ki location maloom karna k liya\n",
    "t1.index(3)  # index 1 se shoro hoga is ma "
   ]
  },
  {
   "cell_type": "code",
   "execution_count": 82,
   "id": "e9a85dab",
   "metadata": {},
   "outputs": [
    {
     "data": {
      "text/plain": [
       "32"
      ]
     },
     "execution_count": 82,
     "metadata": {},
     "output_type": "execute_result"
    }
   ],
   "source": [
    "#dictioinary and object\n",
    "# yha key ko '' k ander hi likhna ha\n",
    "dict={'key' :'value',\n",
    "      'gender' : 'male',\n",
    "      'mark' : 32,\n",
    "     'list' : [1,2,3]}\n",
    "\n",
    "dict['mark']    #jo bhi key likho ga uski value ayegi"
   ]
  },
  {
   "cell_type": "code",
   "execution_count": 86,
   "id": "da535a3d",
   "metadata": {},
   "outputs": [
    {
     "data": {
      "text/plain": [
       "dict_items([('key', 'value'), ('gender', 'male'), ('mark', 32), ('list', [1, 2, 3])])"
      ]
     },
     "execution_count": 86,
     "metadata": {},
     "output_type": "execute_result"
    }
   ],
   "source": [
    "dict.items()    #sari items means key with values dega\n"
   ]
  },
  {
   "cell_type": "code",
   "execution_count": 85,
   "id": "37f24c10",
   "metadata": {},
   "outputs": [
    {
     "data": {
      "text/plain": [
       "dict_keys(['key', 'gender', 'mark', 'list'])"
      ]
     },
     "execution_count": 85,
     "metadata": {},
     "output_type": "execute_result"
    }
   ],
   "source": [
    "dict.keys()     #sirf keys dega dictionary ki"
   ]
  },
  {
   "cell_type": "code",
   "execution_count": 88,
   "id": "521cd1c4",
   "metadata": {},
   "outputs": [
    {
     "data": {
      "text/plain": [
       "dict_values(['value', 'male', 32, [1, 2, 3]])"
      ]
     },
     "execution_count": 88,
     "metadata": {},
     "output_type": "execute_result"
    }
   ],
   "source": [
    "dict.values()    #dictionary ki sari values dega"
   ]
  },
  {
   "cell_type": "code",
   "execution_count": 94,
   "id": "dc54cc6f",
   "metadata": {},
   "outputs": [
    {
     "data": {
      "text/plain": [
       "{'key': 'value',\n",
       " 'gender': 'male',\n",
       " 'mark': 32,\n",
       " 'list': [1, 2, 3],\n",
       " 'name': 'ali'}"
      ]
     },
     "execution_count": 94,
     "metadata": {},
     "output_type": "execute_result"
    }
   ],
   "source": [
    "dict.update({'name':'ali'})  #new item add karega dictionary ma\n",
    "dict"
   ]
  },
  {
   "cell_type": "code",
   "execution_count": 95,
   "id": "61b663e6",
   "metadata": {},
   "outputs": [
    {
     "data": {
      "text/plain": [
       "'ali'"
      ]
     },
     "execution_count": 95,
     "metadata": {},
     "output_type": "execute_result"
    }
   ],
   "source": [
    "dict.get('name')     # key dekar uski value lega"
   ]
  },
  {
   "cell_type": "code",
   "execution_count": 98,
   "id": "b06cd992",
   "metadata": {},
   "outputs": [
    {
     "data": {
      "text/plain": [
       "1"
      ]
     },
     "execution_count": 98,
     "metadata": {},
     "output_type": "execute_result"
    }
   ],
   "source": [
    "#sets programme\n",
    "s={1,2,3,4}\n",
    "s.pop()       #reove 1st element of set"
   ]
  },
  {
   "cell_type": "code",
   "execution_count": 99,
   "id": "d07b8da7",
   "metadata": {},
   "outputs": [
    {
     "data": {
      "text/plain": [
       "{2, 3}"
      ]
     },
     "execution_count": 99,
     "metadata": {},
     "output_type": "execute_result"
    }
   ],
   "source": [
    "s.remove(4)   # remove 4 from set\n",
    "s"
   ]
  },
  {
   "cell_type": "code",
   "execution_count": 100,
   "id": "2e84ff9e",
   "metadata": {},
   "outputs": [
    {
     "data": {
      "text/plain": [
       "{2, 3, 34, 78}"
      ]
     },
     "execution_count": 100,
     "metadata": {},
     "output_type": "execute_result"
    }
   ],
   "source": [
    "s.union({78,34})   # s set ki new set se union karega"
   ]
  },
  {
   "cell_type": "code",
   "execution_count": 103,
   "id": "4248f327",
   "metadata": {},
   "outputs": [
    {
     "data": {
      "text/plain": [
       "{2, 3}"
      ]
     },
     "execution_count": 103,
     "metadata": {},
     "output_type": "execute_result"
    }
   ],
   "source": [
    "set1={2,3,4,5,6}\n",
    "s.intersection(set1)    # set1 ki s se intersection kaerwayega common element dega"
   ]
  },
  {
   "cell_type": "code",
   "execution_count": null,
   "id": "c74350b9",
   "metadata": {},
   "outputs": [],
   "source": []
  },
  {
   "cell_type": "code",
   "execution_count": null,
   "id": "edd18f2a",
   "metadata": {},
   "outputs": [],
   "source": []
  },
  {
   "cell_type": "code",
   "execution_count": null,
   "id": "e4e80315",
   "metadata": {},
   "outputs": [],
   "source": []
  }
 ],
 "metadata": {
  "kernelspec": {
   "display_name": "Python 3 (ipykernel)",
   "language": "python",
   "name": "python3"
  },
  "language_info": {
   "codemirror_mode": {
    "name": "ipython",
    "version": 3
   },
   "file_extension": ".py",
   "mimetype": "text/x-python",
   "name": "python",
   "nbconvert_exporter": "python",
   "pygments_lexer": "ipython3",
   "version": "3.9.7"
  }
 },
 "nbformat": 4,
 "nbformat_minor": 5
}
